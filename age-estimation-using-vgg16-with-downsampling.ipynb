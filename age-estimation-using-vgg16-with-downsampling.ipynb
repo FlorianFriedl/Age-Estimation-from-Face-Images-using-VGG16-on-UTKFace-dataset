{
 "cells": [
  {
   "cell_type": "markdown",
   "id": "61651b9d",
   "metadata": {
    "papermill": {
     "duration": 0.013076,
     "end_time": "2022-10-12T19:07:25.924349",
     "exception": false,
     "start_time": "2022-10-12T19:07:25.911273",
     "status": "completed"
    },
    "tags": []
   },
   "source": [
    "# Age Estimation using VGG16 with downsampling"
   ]
  },
  {
   "cell_type": "code",
   "execution_count": 1,
   "id": "6c2b816d",
   "metadata": {
    "execution": {
     "iopub.execute_input": "2022-10-12T19:07:25.943331Z",
     "iopub.status.busy": "2022-10-12T19:07:25.942953Z",
     "iopub.status.idle": "2022-10-12T19:07:31.294069Z",
     "shell.execute_reply": "2022-10-12T19:07:31.293062Z"
    },
    "id": "Ow9CX6i9bF7s",
    "papermill": {
     "duration": 5.363413,
     "end_time": "2022-10-12T19:07:31.296616",
     "exception": false,
     "start_time": "2022-10-12T19:07:25.933203",
     "status": "completed"
    },
    "tags": []
   },
   "outputs": [],
   "source": [
    "from keras.layers import Input, Lambda, Dense, Flatten\n",
    "from keras.models import Model\n",
    "from keras.applications.vgg16 import VGG16\n",
    "from keras.applications.vgg16 import preprocess_input\n",
    "from keras.preprocessing import image\n",
    "from keras.preprocessing.image import ImageDataGenerator\n",
    "from keras.models import Sequential\n",
    "from tensorflow.keras.models import load_model\n",
    "import numpy as np\n",
    "from glob import glob\n",
    "import matplotlib.pyplot as plt\n",
    "import tensorflow as tf\n",
    "from collections import Counter\n",
    "import warnings\n",
    "warnings.filterwarnings(\"ignore\", category=FutureWarning)\n",
    "from sklearn.utils import shuffle\n",
    "\n",
    "import pandas as pd\n",
    "import os\n",
    "import matplotlib.pyplot as plt\n",
    "import seaborn as sns\n",
    "\n",
    "from tqdm.notebook import tqdm\n",
    "\n",
    "%matplotlib inline\n",
    "\n",
    "from PIL import Image\n",
    "import shutil"
   ]
  },
  {
   "cell_type": "markdown",
   "id": "59b2deb2",
   "metadata": {
    "papermill": {
     "duration": 0.015101,
     "end_time": "2022-10-12T19:07:31.325772",
     "exception": false,
     "start_time": "2022-10-12T19:07:31.310671",
     "status": "completed"
    },
    "tags": []
   },
   "source": [
    "## Age estimation in age groups"
   ]
  },
  {
   "cell_type": "markdown",
   "id": "999bc18d",
   "metadata": {
    "papermill": {
     "duration": 0.012258,
     "end_time": "2022-10-12T19:07:31.351061",
     "exception": false,
     "start_time": "2022-10-12T19:07:31.338803",
     "status": "completed"
    },
    "tags": []
   },
   "source": [
    "### Set image size and variables "
   ]
  },
  {
   "cell_type": "code",
   "execution_count": 2,
   "id": "4400e1bd",
   "metadata": {
    "execution": {
     "iopub.execute_input": "2022-10-12T19:07:31.377517Z",
     "iopub.status.busy": "2022-10-12T19:07:31.376911Z",
     "iopub.status.idle": "2022-10-12T19:07:31.381697Z",
     "shell.execute_reply": "2022-10-12T19:07:31.380886Z"
    },
    "id": "Cq39lS9tcKIC",
    "papermill": {
     "duration": 0.022003,
     "end_time": "2022-10-12T19:07:31.385490",
     "exception": false,
     "start_time": "2022-10-12T19:07:31.363487",
     "status": "completed"
    },
    "tags": []
   },
   "outputs": [],
   "source": [
    "IMAGE_SIZE = [224,224]\n",
    "TRAIN_TEST_SPLIT = 0.3\n",
    "BASE_DIR = '../input/utkface-new/UTKFace/'\n",
    "NR_EPOCHS = 60"
   ]
  },
  {
   "cell_type": "markdown",
   "id": "8e4a58cd",
   "metadata": {
    "papermill": {
     "duration": 0.012448,
     "end_time": "2022-10-12T19:07:31.410333",
     "exception": false,
     "start_time": "2022-10-12T19:07:31.397885",
     "status": "completed"
    },
    "tags": []
   },
   "source": [
    "### Define methods map direct age to classes"
   ]
  },
  {
   "cell_type": "code",
   "execution_count": 3,
   "id": "0490f430",
   "metadata": {
    "execution": {
     "iopub.execute_input": "2022-10-12T19:07:31.436559Z",
     "iopub.status.busy": "2022-10-12T19:07:31.436246Z",
     "iopub.status.idle": "2022-10-12T19:07:31.444362Z",
     "shell.execute_reply": "2022-10-12T19:07:31.443595Z"
    },
    "papermill": {
     "duration": 0.023923,
     "end_time": "2022-10-12T19:07:31.446763",
     "exception": false,
     "start_time": "2022-10-12T19:07:31.422840",
     "status": "completed"
    },
    "tags": []
   },
   "outputs": [],
   "source": [
    "def age_to_class( age ):\n",
    "  age_class = None\n",
    "  # 0 (0-20)\n",
    "  if 0 <= age <= 20:\n",
    "    age_class = 0\n",
    "  # 1 (20-40)\n",
    "  if 20 < age <= 40:\n",
    "    age_class = 1\n",
    "  # 2 (40-60)\n",
    "  if 40 < age <= 60:\n",
    "    age_class = 2\n",
    "  # 3 (40-60)\n",
    "  if 60 < age <= 80:\n",
    "    age_class = 3\n",
    "  # 3 (80+)\n",
    "  if age > 80:\n",
    "    age_class = 4\n",
    "  return age_class\n",
    "\n",
    "# map age classes for age gaps\n",
    "age_dict = {0:'0-20', 1:'20-40',2:'40-60', 3:'60-80', 4:'80+'}\n",
    "\n",
    "def decode_age_label(age_id):\n",
    "  return age_dict[int(age_id)]"
   ]
  },
  {
   "cell_type": "markdown",
   "id": "2ac15b83",
   "metadata": {
    "papermill": {
     "duration": 0.012103,
     "end_time": "2022-10-12T19:07:31.471211",
     "exception": false,
     "start_time": "2022-10-12T19:07:31.459108",
     "status": "completed"
    },
    "tags": []
   },
   "source": [
    "### Read input dataset"
   ]
  },
  {
   "cell_type": "code",
   "execution_count": 4,
   "id": "a4f69a0b",
   "metadata": {
    "execution": {
     "iopub.execute_input": "2022-10-12T19:07:31.497491Z",
     "iopub.status.busy": "2022-10-12T19:07:31.497195Z",
     "iopub.status.idle": "2022-10-12T19:07:32.036804Z",
     "shell.execute_reply": "2022-10-12T19:07:32.035471Z"
    },
    "papermill": {
     "duration": 0.554929,
     "end_time": "2022-10-12T19:07:32.038934",
     "exception": false,
     "start_time": "2022-10-12T19:07:31.484005",
     "status": "completed"
    },
    "tags": []
   },
   "outputs": [
    {
     "data": {
      "application/vnd.jupyter.widget-view+json": {
       "model_id": "4c1cf7dbaaf049289cbcf93eef7b3d23",
       "version_major": 2,
       "version_minor": 0
      },
      "text/plain": [
       "  0%|          | 0/23708 [00:00<?, ?it/s]"
      ]
     },
     "metadata": {},
     "output_type": "display_data"
    },
    {
     "name": "stdout",
     "output_type": "stream",
     "text": [
      "Counter({'20-40': 12123, '0-20': 4877, '40-60': 4311, '60-80': 1857, '80+': 540})\n"
     ]
    }
   ],
   "source": [
    "# read labels of image age, gender\n",
    "image_paths = []\n",
    "age_labels = []\n",
    "gender_labels =[]\n",
    "age_class = []\n",
    "\n",
    "for filename in tqdm(os.listdir(BASE_DIR)):\n",
    "  #read image path\n",
    "  image_path = os.path.join(BASE_DIR, filename)\n",
    "  #split filename to extract labels\n",
    "  temp= filename.split('_')\n",
    "  age = int(temp[0])\n",
    "  gender = int(temp[1])\n",
    "  image_paths.append(image_path)\n",
    "  age_labels.append(age)\n",
    "  gender_labels.append(gender)\n",
    "  age_class.append(age_to_class(age))\n",
    "\n",
    "# extract name of file \n",
    "names = []\n",
    "for path in image_paths:\n",
    "  temp = path.split('/')\n",
    "  names.append(temp[4])\n",
    "\n",
    "#convert to dataframe\n",
    "df = pd.DataFrame()\n",
    "df['image'], df['age'], df['gender'], df['age_class'], df['name'] = image_paths, age_labels, gender_labels, age_class, names\n",
    "df.head()\n",
    "df\n",
    "\n",
    "# get and print the number of images in dataframe\n",
    "age_verbose = [age_dict[int(age)] for age in df['age_class']]\n",
    "\n",
    "print(Counter(age_verbose))\n",
    "\n"
   ]
  },
  {
   "cell_type": "markdown",
   "id": "4b2b9c2e",
   "metadata": {
    "papermill": {
     "duration": 0.008916,
     "end_time": "2022-10-12T19:07:32.057453",
     "exception": false,
     "start_time": "2022-10-12T19:07:32.048537",
     "status": "completed"
    },
    "tags": []
   },
   "source": [
    "### Shuffle and downsample dataset"
   ]
  },
  {
   "cell_type": "code",
   "execution_count": 5,
   "id": "fed28fcd",
   "metadata": {
    "execution": {
     "iopub.execute_input": "2022-10-12T19:07:32.077375Z",
     "iopub.status.busy": "2022-10-12T19:07:32.076417Z",
     "iopub.status.idle": "2022-10-12T19:07:32.086932Z",
     "shell.execute_reply": "2022-10-12T19:07:32.086073Z"
    },
    "papermill": {
     "duration": 0.022532,
     "end_time": "2022-10-12T19:07:32.088990",
     "exception": false,
     "start_time": "2022-10-12T19:07:32.066458",
     "status": "completed"
    },
    "tags": []
   },
   "outputs": [],
   "source": [
    "# shuffle dataset for downsampling\n",
    "df = shuffle(df)"
   ]
  },
  {
   "cell_type": "code",
   "execution_count": 6,
   "id": "3a86bc17",
   "metadata": {
    "execution": {
     "iopub.execute_input": "2022-10-12T19:07:32.108888Z",
     "iopub.status.busy": "2022-10-12T19:07:32.108582Z",
     "iopub.status.idle": "2022-10-12T19:07:32.122417Z",
     "shell.execute_reply": "2022-10-12T19:07:32.120872Z"
    },
    "papermill": {
     "duration": 0.027527,
     "end_time": "2022-10-12T19:07:32.125587",
     "exception": false,
     "start_time": "2022-10-12T19:07:32.098060",
     "status": "completed"
    },
    "tags": []
   },
   "outputs": [
    {
     "name": "stdout",
     "output_type": "stream",
     "text": [
      "Counter({'20-40': 540, '40-60': 540, '0-20': 540, '80+': 540, '60-80': 540})\n"
     ]
    }
   ],
   "source": [
    "# downsampling \n",
    "n = df['age_class'].value_counts().min()\n",
    "\n",
    "df = df.groupby('age_class').head(n)\n",
    "age_verbose_n = [age_dict[int(age)] for age in df['age_class']]\n",
    "\n",
    "\n",
    "print(Counter(age_verbose_n))"
   ]
  },
  {
   "cell_type": "code",
   "execution_count": 7,
   "id": "c122ba69",
   "metadata": {
    "execution": {
     "iopub.execute_input": "2022-10-12T19:07:32.146723Z",
     "iopub.status.busy": "2022-10-12T19:07:32.145844Z",
     "iopub.status.idle": "2022-10-12T19:07:32.162637Z",
     "shell.execute_reply": "2022-10-12T19:07:32.161622Z"
    },
    "papermill": {
     "duration": 0.029228,
     "end_time": "2022-10-12T19:07:32.165116",
     "exception": false,
     "start_time": "2022-10-12T19:07:32.135888",
     "status": "completed"
    },
    "tags": []
   },
   "outputs": [
    {
     "data": {
      "text/html": [
       "<div>\n",
       "<style scoped>\n",
       "    .dataframe tbody tr th:only-of-type {\n",
       "        vertical-align: middle;\n",
       "    }\n",
       "\n",
       "    .dataframe tbody tr th {\n",
       "        vertical-align: top;\n",
       "    }\n",
       "\n",
       "    .dataframe thead th {\n",
       "        text-align: right;\n",
       "    }\n",
       "</style>\n",
       "<table border=\"1\" class=\"dataframe\">\n",
       "  <thead>\n",
       "    <tr style=\"text-align: right;\">\n",
       "      <th></th>\n",
       "      <th>image</th>\n",
       "      <th>age</th>\n",
       "      <th>gender</th>\n",
       "      <th>age_class</th>\n",
       "      <th>name</th>\n",
       "    </tr>\n",
       "  </thead>\n",
       "  <tbody>\n",
       "    <tr>\n",
       "      <th>12205</th>\n",
       "      <td>../input/utkface-new/UTKFace/32_0_4_2017010417...</td>\n",
       "      <td>32</td>\n",
       "      <td>0</td>\n",
       "      <td>1</td>\n",
       "      <td>32_0_4_20170104170351168.jpg.chip.jpg</td>\n",
       "    </tr>\n",
       "    <tr>\n",
       "      <th>10508</th>\n",
       "      <td>../input/utkface-new/UTKFace/45_1_0_2017011014...</td>\n",
       "      <td>45</td>\n",
       "      <td>1</td>\n",
       "      <td>2</td>\n",
       "      <td>45_1_0_20170110140908362.jpg.chip.jpg</td>\n",
       "    </tr>\n",
       "    <tr>\n",
       "      <th>16990</th>\n",
       "      <td>../input/utkface-new/UTKFace/21_1_1_2017011300...</td>\n",
       "      <td>21</td>\n",
       "      <td>1</td>\n",
       "      <td>1</td>\n",
       "      <td>21_1_1_20170113005845999.jpg.chip.jpg</td>\n",
       "    </tr>\n",
       "    <tr>\n",
       "      <th>940</th>\n",
       "      <td>../input/utkface-new/UTKFace/36_1_1_2017011300...</td>\n",
       "      <td>36</td>\n",
       "      <td>1</td>\n",
       "      <td>1</td>\n",
       "      <td>36_1_1_20170113000218202.jpg.chip.jpg</td>\n",
       "    </tr>\n",
       "    <tr>\n",
       "      <th>19326</th>\n",
       "      <td>../input/utkface-new/UTKFace/36_0_1_2017011221...</td>\n",
       "      <td>36</td>\n",
       "      <td>0</td>\n",
       "      <td>1</td>\n",
       "      <td>36_0_1_20170112213546077.jpg.chip.jpg</td>\n",
       "    </tr>\n",
       "    <tr>\n",
       "      <th>...</th>\n",
       "      <td>...</td>\n",
       "      <td>...</td>\n",
       "      <td>...</td>\n",
       "      <td>...</td>\n",
       "      <td>...</td>\n",
       "    </tr>\n",
       "    <tr>\n",
       "      <th>10103</th>\n",
       "      <td>../input/utkface-new/UTKFace/85_1_0_2017011018...</td>\n",
       "      <td>85</td>\n",
       "      <td>1</td>\n",
       "      <td>4</td>\n",
       "      <td>85_1_0_20170110183546496.jpg.chip.jpg</td>\n",
       "    </tr>\n",
       "    <tr>\n",
       "      <th>7886</th>\n",
       "      <td>../input/utkface-new/UTKFace/86_1_0_2017011018...</td>\n",
       "      <td>86</td>\n",
       "      <td>1</td>\n",
       "      <td>4</td>\n",
       "      <td>86_1_0_20170110183609068.jpg.chip.jpg</td>\n",
       "    </tr>\n",
       "    <tr>\n",
       "      <th>2386</th>\n",
       "      <td>../input/utkface-new/UTKFace/82_0_0_2017011121...</td>\n",
       "      <td>82</td>\n",
       "      <td>0</td>\n",
       "      <td>4</td>\n",
       "      <td>82_0_0_20170111210901892.jpg.chip.jpg</td>\n",
       "    </tr>\n",
       "    <tr>\n",
       "      <th>7632</th>\n",
       "      <td>../input/utkface-new/UTKFace/86_0_0_2017011121...</td>\n",
       "      <td>86</td>\n",
       "      <td>0</td>\n",
       "      <td>4</td>\n",
       "      <td>86_0_0_20170111210513628.jpg.chip.jpg</td>\n",
       "    </tr>\n",
       "    <tr>\n",
       "      <th>19195</th>\n",
       "      <td>../input/utkface-new/UTKFace/85_1_0_2017011018...</td>\n",
       "      <td>85</td>\n",
       "      <td>1</td>\n",
       "      <td>4</td>\n",
       "      <td>85_1_0_20170110184114479.jpg.chip.jpg</td>\n",
       "    </tr>\n",
       "  </tbody>\n",
       "</table>\n",
       "<p>2700 rows × 5 columns</p>\n",
       "</div>"
      ],
      "text/plain": [
       "                                                   image  age  gender  \\\n",
       "12205  ../input/utkface-new/UTKFace/32_0_4_2017010417...   32       0   \n",
       "10508  ../input/utkface-new/UTKFace/45_1_0_2017011014...   45       1   \n",
       "16990  ../input/utkface-new/UTKFace/21_1_1_2017011300...   21       1   \n",
       "940    ../input/utkface-new/UTKFace/36_1_1_2017011300...   36       1   \n",
       "19326  ../input/utkface-new/UTKFace/36_0_1_2017011221...   36       0   \n",
       "...                                                  ...  ...     ...   \n",
       "10103  ../input/utkface-new/UTKFace/85_1_0_2017011018...   85       1   \n",
       "7886   ../input/utkface-new/UTKFace/86_1_0_2017011018...   86       1   \n",
       "2386   ../input/utkface-new/UTKFace/82_0_0_2017011121...   82       0   \n",
       "7632   ../input/utkface-new/UTKFace/86_0_0_2017011121...   86       0   \n",
       "19195  ../input/utkface-new/UTKFace/85_1_0_2017011018...   85       1   \n",
       "\n",
       "       age_class                                   name  \n",
       "12205          1  32_0_4_20170104170351168.jpg.chip.jpg  \n",
       "10508          2  45_1_0_20170110140908362.jpg.chip.jpg  \n",
       "16990          1  21_1_1_20170113005845999.jpg.chip.jpg  \n",
       "940            1  36_1_1_20170113000218202.jpg.chip.jpg  \n",
       "19326          1  36_0_1_20170112213546077.jpg.chip.jpg  \n",
       "...          ...                                    ...  \n",
       "10103          4  85_1_0_20170110183546496.jpg.chip.jpg  \n",
       "7886           4  86_1_0_20170110183609068.jpg.chip.jpg  \n",
       "2386           4  82_0_0_20170111210901892.jpg.chip.jpg  \n",
       "7632           4  86_0_0_20170111210513628.jpg.chip.jpg  \n",
       "19195          4  85_1_0_20170110184114479.jpg.chip.jpg  \n",
       "\n",
       "[2700 rows x 5 columns]"
      ]
     },
     "execution_count": 7,
     "metadata": {},
     "output_type": "execute_result"
    }
   ],
   "source": [
    "# check dataframe\n",
    "df "
   ]
  },
  {
   "cell_type": "code",
   "execution_count": 8,
   "id": "ef4a84b2",
   "metadata": {
    "execution": {
     "iopub.execute_input": "2022-10-12T19:07:32.184919Z",
     "iopub.status.busy": "2022-10-12T19:07:32.184632Z",
     "iopub.status.idle": "2022-10-12T19:07:32.189458Z",
     "shell.execute_reply": "2022-10-12T19:07:32.188543Z"
    },
    "papermill": {
     "duration": 0.017042,
     "end_time": "2022-10-12T19:07:32.191502",
     "exception": false,
     "start_time": "2022-10-12T19:07:32.174460",
     "status": "completed"
    },
    "tags": []
   },
   "outputs": [],
   "source": [
    "os.makedirs('./ds')"
   ]
  },
  {
   "cell_type": "code",
   "execution_count": 9,
   "id": "53f8cfac",
   "metadata": {
    "execution": {
     "iopub.execute_input": "2022-10-12T19:07:32.211071Z",
     "iopub.status.busy": "2022-10-12T19:07:32.210816Z",
     "iopub.status.idle": "2022-10-12T19:07:48.560544Z",
     "shell.execute_reply": "2022-10-12T19:07:48.559076Z"
    },
    "papermill": {
     "duration": 16.362654,
     "end_time": "2022-10-12T19:07:48.563368",
     "exception": false,
     "start_time": "2022-10-12T19:07:32.200714",
     "status": "completed"
    },
    "tags": []
   },
   "outputs": [
    {
     "name": "stdout",
     "output_type": "stream",
     "text": [
      "finished copying images\n"
     ]
    }
   ],
   "source": [
    "# copy all images of the downsampled df\n",
    "image_list = df['image']\n",
    "name_list = df['name']\n",
    "source = '../input/utkface-new/'\n",
    "#dest =  '../ds/'\n",
    "dest = './ds/'\n",
    "\n",
    "for key, val in df.iterrows():\n",
    "    shutil.copyfile(val['image'], dest+val['name'])\n",
    "\n",
    "print(\"finished copying images\")"
   ]
  },
  {
   "cell_type": "code",
   "execution_count": 10,
   "id": "cee6c63a",
   "metadata": {
    "execution": {
     "iopub.execute_input": "2022-10-12T19:07:48.583703Z",
     "iopub.status.busy": "2022-10-12T19:07:48.583404Z",
     "iopub.status.idle": "2022-10-12T19:07:49.350994Z",
     "shell.execute_reply": "2022-10-12T19:07:49.349841Z"
    },
    "papermill": {
     "duration": 0.780679,
     "end_time": "2022-10-12T19:07:49.353946",
     "exception": false,
     "start_time": "2022-10-12T19:07:48.573267",
     "status": "completed"
    },
    "tags": []
   },
   "outputs": [
    {
     "data": {
      "text/plain": [
       "'/kaggle/working/new_ds.zip'"
      ]
     },
     "execution_count": 10,
     "metadata": {},
     "output_type": "execute_result"
    }
   ],
   "source": [
    "#zip for better download\n",
    "shutil.make_archive('new_ds', 'zip', dest)"
   ]
  },
  {
   "cell_type": "markdown",
   "id": "b581f491",
   "metadata": {
    "papermill": {
     "duration": 0.009158,
     "end_time": "2022-10-12T19:07:49.372563",
     "exception": false,
     "start_time": "2022-10-12T19:07:49.363405",
     "status": "completed"
    },
    "tags": []
   },
   "source": [
    "### Split Dataset into validation and test set  "
   ]
  },
  {
   "cell_type": "code",
   "execution_count": 11,
   "id": "67963aeb",
   "metadata": {
    "execution": {
     "iopub.execute_input": "2022-10-12T19:07:49.392204Z",
     "iopub.status.busy": "2022-10-12T19:07:49.391929Z",
     "iopub.status.idle": "2022-10-12T19:07:49.401667Z",
     "shell.execute_reply": "2022-10-12T19:07:49.400671Z"
    },
    "papermill": {
     "duration": 0.022289,
     "end_time": "2022-10-12T19:07:49.404119",
     "exception": false,
     "start_time": "2022-10-12T19:07:49.381830",
     "status": "completed"
    },
    "tags": []
   },
   "outputs": [
    {
     "name": "stdout",
     "output_type": "stream",
     "text": [
      "No. of training examples: 2160\n",
      "No. of training examples: 378\n",
      "No. of testing examples: 162\n"
     ]
    }
   ],
   "source": [
    "training_data = df.sample(frac=0.8, random_state=25)\n",
    "temp = df.drop(training_data.index)\n",
    "\n",
    "\n",
    "val_data =  temp.sample(frac=0.7, random_state=25)\n",
    "testing_data = temp.drop(val_data.index)\n",
    "\n",
    " \n",
    "print(f\"No. of training examples: {training_data.shape[0]}\")\n",
    "print(f\"No. of training examples: {val_data.shape[0]}\")\n",
    "print(f\"No. of testing examples: {testing_data.shape[0]}\")\n"
   ]
  },
  {
   "cell_type": "code",
   "execution_count": 12,
   "id": "cc05d0af",
   "metadata": {
    "execution": {
     "iopub.execute_input": "2022-10-12T19:07:49.424767Z",
     "iopub.status.busy": "2022-10-12T19:07:49.424504Z",
     "iopub.status.idle": "2022-10-12T19:07:50.168446Z",
     "shell.execute_reply": "2022-10-12T19:07:50.167346Z"
    },
    "papermill": {
     "duration": 0.757073,
     "end_time": "2022-10-12T19:07:50.171178",
     "exception": false,
     "start_time": "2022-10-12T19:07:49.414105",
     "status": "completed"
    },
    "tags": []
   },
   "outputs": [
    {
     "name": "stdout",
     "output_type": "stream",
     "text": [
      "Found 2160 validated image filenames.\n",
      "Found 378 validated image filenames.\n",
      "Found 162 validated image filenames.\n"
     ]
    }
   ],
   "source": [
    "from tensorflow.keras.preprocessing.image import ImageDataGenerator\n",
    "\n",
    "\n",
    "train_datagen = ImageDataGenerator(rescale=1./255,\n",
    "                               preprocessing_function=preprocess_input)\n",
    "\n",
    "val_datagen = ImageDataGenerator(rescale=1./255,\n",
    "                                preprocessing_function=preprocess_input)\n",
    "\n",
    "\n",
    "CLASS_MODE = 'raw'\n",
    "BATCH_SIZE = 64\n",
    "BASE_DIR = '../input/utkface-new/UTKFace'\n",
    "\n",
    "train_generator = train_datagen.flow_from_dataframe(dataframe=training_data, \n",
    "                                                directory=BASE_DIR, \n",
    "                                                x_col='name', \n",
    "                                                y_col='age_class', \n",
    "                                                class_mode=CLASS_MODE,\n",
    "                                                batch_size=BATCH_SIZE, \n",
    "                                                shuffle=True, \n",
    "                                                target_size=IMAGE_SIZE)\n",
    "\n",
    "\n",
    "\n",
    "val_generator = val_datagen.flow_from_dataframe(dataframe=val_data, \n",
    "                                              directory=BASE_DIR, \n",
    "                                              x_col='name', \n",
    "                                              y_col='age_class', \n",
    "                                              class_mode=CLASS_MODE, \n",
    "                                              batch_size=BATCH_SIZE,\n",
    "                                              shuffle=False, \n",
    "                                              target_size=IMAGE_SIZE)\n",
    "\n",
    "test_generator = val_datagen.flow_from_dataframe(dataframe=testing_data, \n",
    "                                              directory=BASE_DIR, \n",
    "                                              x_col='name', \n",
    "                                              y_col='age_class', \n",
    "                                              class_mode=CLASS_MODE, \n",
    "                                              batch_size=BATCH_SIZE,\n",
    "                                              shuffle=False, \n",
    "                                              target_size=IMAGE_SIZE)\n"
   ]
  },
  {
   "cell_type": "code",
   "execution_count": 13,
   "id": "486dddd0",
   "metadata": {
    "execution": {
     "iopub.execute_input": "2022-10-12T19:07:50.192891Z",
     "iopub.status.busy": "2022-10-12T19:07:50.191362Z",
     "iopub.status.idle": "2022-10-12T19:07:50.391111Z",
     "shell.execute_reply": "2022-10-12T19:07:50.390001Z"
    },
    "papermill": {
     "duration": 0.212383,
     "end_time": "2022-10-12T19:07:50.393261",
     "exception": false,
     "start_time": "2022-10-12T19:07:50.180878",
     "status": "completed"
    },
    "tags": []
   },
   "outputs": [
    {
     "name": "stderr",
     "output_type": "stream",
     "text": [
      "2022-10-12 19:07:50.198151: I tensorflow/core/profiler/lib/profiler_session.cc:131] Profiler session initializing.\n",
      "2022-10-12 19:07:50.198189: I tensorflow/core/profiler/lib/profiler_session.cc:146] Profiler session started.\n",
      "2022-10-12 19:07:50.251690: I tensorflow/core/profiler/internal/gpu/cupti_tracer.cc:1614] Profiler found 1 GPUs\n",
      "2022-10-12 19:07:50.284564: I tensorflow/core/profiler/lib/profiler_session.cc:164] Profiler session tear down.\n",
      "2022-10-12 19:07:50.284732: I tensorflow/core/profiler/internal/gpu/cupti_tracer.cc:1748] CUPTI activity buffer flushed\n"
     ]
    }
   ],
   "source": [
    "from pathlib import Path\n",
    "path = Path(\"./models\")\n",
    "path.mkdir(exist_ok=True)\n",
    "\n",
    "\n",
    "MODEL_PATH = \"./models/age_best_model.h5\"\n",
    "\n",
    "\n",
    "checkpoint = tf.keras.callbacks.ModelCheckpoint(MODEL_PATH, \n",
    "                                                monitor='val_sparse_categorical_accuracy', \n",
    "                                                verbose=1, \n",
    "                                                save_best_only=True, \n",
    "                                                mode='max')\n",
    "\n",
    "import datetime\n",
    "log_dir = '../tblogs/age_model_' + datetime.datetime.now().strftime('%y-%m-%d_%H-%M')\n",
    "tensorboard_callback = tf.keras.callbacks.TensorBoard(log_dir=log_dir, histogram_freq=0)\n",
    "\n"
   ]
  },
  {
   "cell_type": "markdown",
   "id": "3c843566",
   "metadata": {
    "papermill": {
     "duration": 0.009285,
     "end_time": "2022-10-12T19:07:50.412409",
     "exception": false,
     "start_time": "2022-10-12T19:07:50.403124",
     "status": "completed"
    },
    "tags": []
   },
   "source": [
    "### Build and load Model"
   ]
  },
  {
   "cell_type": "code",
   "execution_count": 14,
   "id": "df8df34e",
   "metadata": {
    "execution": {
     "iopub.execute_input": "2022-10-12T19:07:50.433272Z",
     "iopub.status.busy": "2022-10-12T19:07:50.432359Z",
     "iopub.status.idle": "2022-10-12T19:07:50.436931Z",
     "shell.execute_reply": "2022-10-12T19:07:50.436083Z"
    },
    "papermill": {
     "duration": 0.016961,
     "end_time": "2022-10-12T19:07:50.438773",
     "exception": false,
     "start_time": "2022-10-12T19:07:50.421812",
     "status": "completed"
    },
    "tags": []
   },
   "outputs": [],
   "source": [
    "# # detect and init the TPU\n",
    "# tpu = tf.distribute.cluster_resolver.TPUClusterResolver.connect()\n",
    "\n",
    "# # instantiate a distribution strategy\n",
    "# tpu_strategy = tf.distribute.experimental.TPUStrategy(tpu)"
   ]
  },
  {
   "cell_type": "code",
   "execution_count": 15,
   "id": "ca378239",
   "metadata": {
    "execution": {
     "iopub.execute_input": "2022-10-12T19:07:50.459224Z",
     "iopub.status.busy": "2022-10-12T19:07:50.458371Z",
     "iopub.status.idle": "2022-10-12T19:07:53.806533Z",
     "shell.execute_reply": "2022-10-12T19:07:53.805532Z"
    },
    "papermill": {
     "duration": 3.360475,
     "end_time": "2022-10-12T19:07:53.808633",
     "exception": false,
     "start_time": "2022-10-12T19:07:50.448158",
     "status": "completed"
    },
    "tags": []
   },
   "outputs": [
    {
     "name": "stderr",
     "output_type": "stream",
     "text": [
      "2022-10-12 19:07:50.496838: I tensorflow/stream_executor/cuda/cuda_gpu_executor.cc:937] successful NUMA node read from SysFS had negative value (-1), but there must be at least one NUMA node, so returning NUMA node zero\n",
      "2022-10-12 19:07:50.583687: I tensorflow/stream_executor/cuda/cuda_gpu_executor.cc:937] successful NUMA node read from SysFS had negative value (-1), but there must be at least one NUMA node, so returning NUMA node zero\n",
      "2022-10-12 19:07:50.584471: I tensorflow/stream_executor/cuda/cuda_gpu_executor.cc:937] successful NUMA node read from SysFS had negative value (-1), but there must be at least one NUMA node, so returning NUMA node zero\n",
      "2022-10-12 19:07:50.585406: I tensorflow/core/platform/cpu_feature_guard.cc:142] This TensorFlow binary is optimized with oneAPI Deep Neural Network Library (oneDNN) to use the following CPU instructions in performance-critical operations:  AVX2 AVX512F FMA\n",
      "To enable them in other operations, rebuild TensorFlow with the appropriate compiler flags.\n",
      "2022-10-12 19:07:50.585740: I tensorflow/stream_executor/cuda/cuda_gpu_executor.cc:937] successful NUMA node read from SysFS had negative value (-1), but there must be at least one NUMA node, so returning NUMA node zero\n",
      "2022-10-12 19:07:50.586431: I tensorflow/stream_executor/cuda/cuda_gpu_executor.cc:937] successful NUMA node read from SysFS had negative value (-1), but there must be at least one NUMA node, so returning NUMA node zero\n",
      "2022-10-12 19:07:50.587073: I tensorflow/stream_executor/cuda/cuda_gpu_executor.cc:937] successful NUMA node read from SysFS had negative value (-1), but there must be at least one NUMA node, so returning NUMA node zero\n",
      "2022-10-12 19:07:52.461794: I tensorflow/stream_executor/cuda/cuda_gpu_executor.cc:937] successful NUMA node read from SysFS had negative value (-1), but there must be at least one NUMA node, so returning NUMA node zero\n",
      "2022-10-12 19:07:52.462617: I tensorflow/stream_executor/cuda/cuda_gpu_executor.cc:937] successful NUMA node read from SysFS had negative value (-1), but there must be at least one NUMA node, so returning NUMA node zero\n",
      "2022-10-12 19:07:52.463305: I tensorflow/stream_executor/cuda/cuda_gpu_executor.cc:937] successful NUMA node read from SysFS had negative value (-1), but there must be at least one NUMA node, so returning NUMA node zero\n",
      "2022-10-12 19:07:52.463966: I tensorflow/core/common_runtime/gpu/gpu_device.cc:1510] Created device /job:localhost/replica:0/task:0/device:GPU:0 with 15401 MB memory:  -> device: 0, name: Tesla P100-PCIE-16GB, pci bus id: 0000:00:04.0, compute capability: 6.0\n"
     ]
    },
    {
     "name": "stdout",
     "output_type": "stream",
     "text": [
      "Downloading data from https://storage.googleapis.com/tensorflow/keras-applications/vgg16/vgg16_weights_tf_dim_ordering_tf_kernels_notop.h5\n",
      "58892288/58889256 [==============================] - 0s 0us/step\n",
      "58900480/58889256 [==============================] - 0s 0us/step\n"
     ]
    },
    {
     "data": {
      "text/plain": [
       "[<KerasTensor: shape=(None, 224, 224, 3) dtype=float32 (created by layer 'input_1')>]"
      ]
     },
     "execution_count": 15,
     "metadata": {},
     "output_type": "execute_result"
    }
   ],
   "source": [
    "# load VGG16 without the last 3 Dense layers, in order to train these new\n",
    "vgg = VGG16(input_shape=IMAGE_SIZE + [3], weights='imagenet', include_top=False)\n",
    "\n",
    "# check if input type is correct\n",
    "vgg.inputs"
   ]
  },
  {
   "cell_type": "code",
   "execution_count": 16,
   "id": "6b373531",
   "metadata": {
    "execution": {
     "iopub.execute_input": "2022-10-12T19:07:53.831796Z",
     "iopub.status.busy": "2022-10-12T19:07:53.830714Z",
     "iopub.status.idle": "2022-10-12T19:07:54.916958Z",
     "shell.execute_reply": "2022-10-12T19:07:54.907739Z"
    },
    "papermill": {
     "duration": 1.101628,
     "end_time": "2022-10-12T19:07:54.920976",
     "exception": false,
     "start_time": "2022-10-12T19:07:53.819348",
     "status": "completed"
    },
    "tags": []
   },
   "outputs": [
    {
     "name": "stdout",
     "output_type": "stream",
     "text": [
      "Model: \"model\"\n",
      "_________________________________________________________________\n",
      "Layer (type)                 Output Shape              Param #   \n",
      "=================================================================\n",
      "input_1 (InputLayer)         [(None, 224, 224, 3)]     0         \n",
      "_________________________________________________________________\n",
      "block1_conv1 (Conv2D)        (None, 224, 224, 64)      1792      \n",
      "_________________________________________________________________\n",
      "block1_conv2 (Conv2D)        (None, 224, 224, 64)      36928     \n",
      "_________________________________________________________________\n",
      "block1_pool (MaxPooling2D)   (None, 112, 112, 64)      0         \n",
      "_________________________________________________________________\n",
      "block2_conv1 (Conv2D)        (None, 112, 112, 128)     73856     \n",
      "_________________________________________________________________\n",
      "block2_conv2 (Conv2D)        (None, 112, 112, 128)     147584    \n",
      "_________________________________________________________________\n",
      "block2_pool (MaxPooling2D)   (None, 56, 56, 128)       0         \n",
      "_________________________________________________________________\n",
      "block3_conv1 (Conv2D)        (None, 56, 56, 256)       295168    \n",
      "_________________________________________________________________\n",
      "block3_conv2 (Conv2D)        (None, 56, 56, 256)       590080    \n",
      "_________________________________________________________________\n",
      "block3_conv3 (Conv2D)        (None, 56, 56, 256)       590080    \n",
      "_________________________________________________________________\n",
      "block3_pool (MaxPooling2D)   (None, 28, 28, 256)       0         \n",
      "_________________________________________________________________\n",
      "block4_conv1 (Conv2D)        (None, 28, 28, 512)       1180160   \n",
      "_________________________________________________________________\n",
      "block4_conv2 (Conv2D)        (None, 28, 28, 512)       2359808   \n",
      "_________________________________________________________________\n",
      "block4_conv3 (Conv2D)        (None, 28, 28, 512)       2359808   \n",
      "_________________________________________________________________\n",
      "block4_pool (MaxPooling2D)   (None, 14, 14, 512)       0         \n",
      "_________________________________________________________________\n",
      "block5_conv1 (Conv2D)        (None, 14, 14, 512)       2359808   \n",
      "_________________________________________________________________\n",
      "block5_conv2 (Conv2D)        (None, 14, 14, 512)       2359808   \n",
      "_________________________________________________________________\n",
      "block5_conv3 (Conv2D)        (None, 14, 14, 512)       2359808   \n",
      "_________________________________________________________________\n",
      "block5_pool (MaxPooling2D)   (None, 7, 7, 512)         0         \n",
      "_________________________________________________________________\n",
      "flatten (Flatten)            (None, 25088)             0         \n",
      "_________________________________________________________________\n",
      "dense (Dense)                (None, 4096)              102764544 \n",
      "_________________________________________________________________\n",
      "dense_1 (Dense)              (None, 4096)              16781312  \n",
      "_________________________________________________________________\n",
      "dense_2 (Dense)              (None, 5)                 20485     \n",
      "=================================================================\n",
      "Total params: 134,281,029\n",
      "Trainable params: 119,566,341\n",
      "Non-trainable params: 14,714,688\n",
      "_________________________________________________________________\n"
     ]
    },
    {
     "data": {
      "image/png": "[encoded data removed]",
      "text/plain": [
       "<IPython.core.display.Image object>"
      ]
     },
     "execution_count": 16,
     "metadata": {},
     "output_type": "execute_result"
    }
   ],
   "source": [
    "# all layers before are locked\n",
    "for layer in vgg.layers:\n",
    "  layer.trainable = False\n",
    "\n",
    "\n",
    "x = Flatten()(vgg.output)\n",
    "x = Dense(4096, activation='relu')(x)\n",
    "x = Dense(4096, activation='relu')(x)\n",
    "prediction = Dense(5, activation='softmax')(x)\n",
    "model = Model(inputs=vgg.input, outputs=prediction)\n",
    "    \n",
    "model.compile(optimizer=tf.keras.optimizers.Adam(learning_rate=0.001),\n",
    "              loss=tf.keras.losses.SparseCategoricalCrossentropy(),\n",
    "              metrics=[tf.keras.metrics.SparseCategoricalAccuracy()])\n",
    "\n",
    "model.summary()\n",
    "tf.keras.utils.plot_model( model , to_file='architecture.png' )\n",
    "\n",
    "\n",
    "\n",
    "# with tpu_strategy.scope():\n",
    "#     x = Flatten()(vgg.output)\n",
    "#     x = Dense(4096, activation='relu')(x)\n",
    "#     x = Dense(4096, activation='relu')(x)\n",
    "#     prediction = Dense(5, activation='softmax')(x)\n",
    "#     model = Model(inputs=vgg.input, outputs=prediction)\n",
    "    \n",
    "#     model.compile(optimizer=tf.keras.optimizers.Adam(learning_rate=0.001),\n",
    "#               loss=tf.keras.losses.SparseCategoricalCrossentropy(),\n",
    "#               metrics=[tf.keras.metrics.SparseCategoricalAccuracy()])"
   ]
  },
  {
   "cell_type": "code",
   "execution_count": 17,
   "id": "cb8b5059",
   "metadata": {
    "execution": {
     "iopub.execute_input": "2022-10-12T19:07:54.957540Z",
     "iopub.status.busy": "2022-10-12T19:07:54.957053Z",
     "iopub.status.idle": "2022-10-12T19:18:18.640532Z",
     "shell.execute_reply": "2022-10-12T19:18:18.639552Z"
    },
    "papermill": {
     "duration": 623.703848,
     "end_time": "2022-10-12T19:18:18.642625",
     "exception": false,
     "start_time": "2022-10-12T19:07:54.938777",
     "status": "completed"
    },
    "tags": []
   },
   "outputs": [
    {
     "name": "stderr",
     "output_type": "stream",
     "text": [
      "2022-10-12 19:07:55.271488: I tensorflow/compiler/mlir/mlir_graph_optimization_pass.cc:185] None of the MLIR Optimization Passes are enabled (registered 2)\n"
     ]
    },
    {
     "name": "stdout",
     "output_type": "stream",
     "text": [
      "Epoch 1/60\n"
     ]
    },
    {
     "name": "stderr",
     "output_type": "stream",
     "text": [
      "2022-10-12 19:07:56.866506: I tensorflow/stream_executor/cuda/cuda_dnn.cc:369] Loaded cuDNN version 8005\n"
     ]
    },
    {
     "name": "stdout",
     "output_type": "stream",
     "text": [
      " 1/34 [..............................] - ETA: 6:20 - loss: 1.6600 - sparse_categorical_accuracy: 0.2188"
     ]
    },
    {
     "name": "stderr",
     "output_type": "stream",
     "text": [
      "2022-10-12 19:08:06.846565: I tensorflow/core/profiler/lib/profiler_session.cc:131] Profiler session initializing.\n",
      "2022-10-12 19:08:06.846610: I tensorflow/core/profiler/lib/profiler_session.cc:146] Profiler session started.\n"
     ]
    },
    {
     "name": "stdout",
     "output_type": "stream",
     "text": [
      " 2/34 [>.............................] - ETA: 16s - loss: 31.9564 - sparse_categorical_accuracy: 0.2266"
     ]
    },
    {
     "name": "stderr",
     "output_type": "stream",
     "text": [
      "2022-10-12 19:08:07.332910: I tensorflow/core/profiler/lib/profiler_session.cc:66] Profiler session collecting data.\n",
      "2022-10-12 19:08:07.333637: I tensorflow/core/profiler/internal/gpu/cupti_tracer.cc:1748] CUPTI activity buffer flushed\n",
      "2022-10-12 19:08:07.474051: I tensorflow/core/profiler/internal/gpu/cupti_collector.cc:673]  GpuTracer has collected 145 callback api events and 142 activity events. \n",
      "2022-10-12 19:08:07.480194: I tensorflow/core/profiler/lib/profiler_session.cc:164] Profiler session tear down.\n",
      "2022-10-12 19:08:07.496901: I tensorflow/core/profiler/rpc/client/save_profile.cc:136] Creating directory: ../tblogs/age_model_22-10-12_19-07/train/plugins/profile/2022_10_12_19_08_07\n",
      "\n",
      "2022-10-12 19:08:07.500724: I tensorflow/core/profiler/rpc/client/save_profile.cc:142] Dumped gzipped tool data for trace.json.gz to ../tblogs/age_model_22-10-12_19-07/train/plugins/profile/2022_10_12_19_08_07/6d51040cc574.trace.json.gz\n",
      "2022-10-12 19:08:07.517787: I tensorflow/core/profiler/rpc/client/save_profile.cc:136] Creating directory: ../tblogs/age_model_22-10-12_19-07/train/plugins/profile/2022_10_12_19_08_07\n",
      "\n",
      "2022-10-12 19:08:07.519367: I tensorflow/core/profiler/rpc/client/save_profile.cc:142] Dumped gzipped tool data for memory_profile.json.gz to ../tblogs/age_model_22-10-12_19-07/train/plugins/profile/2022_10_12_19_08_07/6d51040cc574.memory_profile.json.gz\n",
      "2022-10-12 19:08:07.520068: I tensorflow/core/profiler/rpc/client/capture_profile.cc:251] Creating directory: ../tblogs/age_model_22-10-12_19-07/train/plugins/profile/2022_10_12_19_08_07\n",
      "Dumped tool data for xplane.pb to ../tblogs/age_model_22-10-12_19-07/train/plugins/profile/2022_10_12_19_08_07/6d51040cc574.xplane.pb\n",
      "Dumped tool data for overview_page.pb to ../tblogs/age_model_22-10-12_19-07/train/plugins/profile/2022_10_12_19_08_07/6d51040cc574.overview_page.pb\n",
      "Dumped tool data for input_pipeline.pb to ../tblogs/age_model_22-10-12_19-07/train/plugins/profile/2022_10_12_19_08_07/6d51040cc574.input_pipeline.pb\n",
      "Dumped tool data for tensorflow_stats.pb to ../tblogs/age_model_22-10-12_19-07/train/plugins/profile/2022_10_12_19_08_07/6d51040cc574.tensorflow_stats.pb\n",
      "Dumped tool data for kernel_stats.pb to ../tblogs/age_model_22-10-12_19-07/train/plugins/profile/2022_10_12_19_08_07/6d51040cc574.kernel_stats.pb\n",
      "\n"
     ]
    },
    {
     "name": "stdout",
     "output_type": "stream",
     "text": [
      "34/34 [==============================] - 30s 546ms/step - loss: 6.3417 - sparse_categorical_accuracy: 0.3907 - val_loss: 0.9918 - val_sparse_categorical_accuracy: 0.5820\n",
      "\n",
      "Epoch 00001: val_sparse_categorical_accuracy improved from -inf to 0.58201, saving model to ./models/age_best_model.h5\n",
      "Epoch 2/60\n",
      "34/34 [==============================] - 10s 276ms/step - loss: 0.8522 - sparse_categorical_accuracy: 0.6259 - val_loss: 1.0243 - val_sparse_categorical_accuracy: 0.5688\n",
      "\n",
      "Epoch 00002: val_sparse_categorical_accuracy did not improve from 0.58201\n",
      "Epoch 3/60\n",
      "34/34 [==============================] - 8s 247ms/step - loss: 0.6684 - sparse_categorical_accuracy: 0.7111 - val_loss: 0.8930 - val_sparse_categorical_accuracy: 0.6217\n",
      "\n",
      "Epoch 00003: val_sparse_categorical_accuracy improved from 0.58201 to 0.62169, saving model to ./models/age_best_model.h5\n",
      "Epoch 4/60\n",
      "34/34 [==============================] - 10s 283ms/step - loss: 0.5167 - sparse_categorical_accuracy: 0.7889 - val_loss: 1.2014 - val_sparse_categorical_accuracy: 0.5635\n",
      "\n",
      "Epoch 00004: val_sparse_categorical_accuracy did not improve from 0.62169\n",
      "Epoch 5/60\n",
      "34/34 [==============================] - 9s 273ms/step - loss: 0.3784 - sparse_categorical_accuracy: 0.8523 - val_loss: 1.2265 - val_sparse_categorical_accuracy: 0.6085\n",
      "\n",
      "Epoch 00005: val_sparse_categorical_accuracy did not improve from 0.62169\n",
      "Epoch 6/60\n",
      "34/34 [==============================] - 9s 272ms/step - loss: 0.3091 - sparse_categorical_accuracy: 0.8759 - val_loss: 1.2284 - val_sparse_categorical_accuracy: 0.6243\n",
      "\n",
      "Epoch 00006: val_sparse_categorical_accuracy improved from 0.62169 to 0.62434, saving model to ./models/age_best_model.h5\n",
      "Epoch 7/60\n",
      "34/34 [==============================] - 10s 289ms/step - loss: 0.1861 - sparse_categorical_accuracy: 0.9319 - val_loss: 1.4374 - val_sparse_categorical_accuracy: 0.6032\n",
      "\n",
      "Epoch 00007: val_sparse_categorical_accuracy did not improve from 0.62434\n",
      "Epoch 8/60\n",
      "34/34 [==============================] - 9s 274ms/step - loss: 0.2155 - sparse_categorical_accuracy: 0.9171 - val_loss: 1.3574 - val_sparse_categorical_accuracy: 0.6270\n",
      "\n",
      "Epoch 00008: val_sparse_categorical_accuracy improved from 0.62434 to 0.62698, saving model to ./models/age_best_model.h5\n",
      "Epoch 9/60\n",
      "34/34 [==============================] - 10s 281ms/step - loss: 0.1203 - sparse_categorical_accuracy: 0.9560 - val_loss: 1.7947 - val_sparse_categorical_accuracy: 0.5899\n",
      "\n",
      "Epoch 00009: val_sparse_categorical_accuracy did not improve from 0.62698\n",
      "Epoch 10/60\n",
      "34/34 [==============================] - 10s 281ms/step - loss: 0.1099 - sparse_categorical_accuracy: 0.9579 - val_loss: 1.6159 - val_sparse_categorical_accuracy: 0.5926\n",
      "\n",
      "Epoch 00010: val_sparse_categorical_accuracy did not improve from 0.62698\n",
      "Epoch 11/60\n",
      "34/34 [==============================] - 9s 249ms/step - loss: 0.0721 - sparse_categorical_accuracy: 0.9750 - val_loss: 1.9208 - val_sparse_categorical_accuracy: 0.5979\n",
      "\n",
      "Epoch 00011: val_sparse_categorical_accuracy did not improve from 0.62698\n",
      "Epoch 12/60\n",
      "34/34 [==============================] - 9s 274ms/step - loss: 0.0244 - sparse_categorical_accuracy: 0.9949 - val_loss: 2.1059 - val_sparse_categorical_accuracy: 0.5794\n",
      "\n",
      "Epoch 00012: val_sparse_categorical_accuracy did not improve from 0.62698\n",
      "Epoch 13/60\n",
      "34/34 [==============================] - 10s 278ms/step - loss: 0.3804 - sparse_categorical_accuracy: 0.8787 - val_loss: 1.6769 - val_sparse_categorical_accuracy: 0.6005\n",
      "\n",
      "Epoch 00013: val_sparse_categorical_accuracy did not improve from 0.62698\n",
      "Epoch 14/60\n",
      "34/34 [==============================] - 10s 289ms/step - loss: 0.3534 - sparse_categorical_accuracy: 0.8694 - val_loss: 1.4425 - val_sparse_categorical_accuracy: 0.6111\n",
      "\n",
      "Epoch 00014: val_sparse_categorical_accuracy did not improve from 0.62698\n",
      "Epoch 15/60\n",
      "34/34 [==============================] - 10s 279ms/step - loss: 0.1156 - sparse_categorical_accuracy: 0.9593 - val_loss: 1.6185 - val_sparse_categorical_accuracy: 0.6111\n",
      "\n",
      "Epoch 00015: val_sparse_categorical_accuracy did not improve from 0.62698\n",
      "Epoch 16/60\n",
      "34/34 [==============================] - 10s 283ms/step - loss: 0.0283 - sparse_categorical_accuracy: 0.9963 - val_loss: 1.6868 - val_sparse_categorical_accuracy: 0.6296\n",
      "\n",
      "Epoch 00016: val_sparse_categorical_accuracy improved from 0.62698 to 0.62963, saving model to ./models/age_best_model.h5\n",
      "Epoch 17/60\n",
      "34/34 [==============================] - 10s 287ms/step - loss: 0.0122 - sparse_categorical_accuracy: 0.9981 - val_loss: 1.8773 - val_sparse_categorical_accuracy: 0.6058\n",
      "\n",
      "Epoch 00017: val_sparse_categorical_accuracy did not improve from 0.62963\n",
      "Epoch 18/60\n",
      "34/34 [==============================] - 9s 272ms/step - loss: 0.0083 - sparse_categorical_accuracy: 1.0000 - val_loss: 1.9376 - val_sparse_categorical_accuracy: 0.6111\n",
      "\n",
      "Epoch 00018: val_sparse_categorical_accuracy did not improve from 0.62963\n",
      "Epoch 19/60\n",
      "34/34 [==============================] - 9s 252ms/step - loss: 0.0040 - sparse_categorical_accuracy: 1.0000 - val_loss: 1.9422 - val_sparse_categorical_accuracy: 0.6217\n",
      "\n",
      "Epoch 00019: val_sparse_categorical_accuracy did not improve from 0.62963\n",
      "Epoch 20/60\n",
      "34/34 [==============================] - 10s 306ms/step - loss: 0.0027 - sparse_categorical_accuracy: 1.0000 - val_loss: 2.0327 - val_sparse_categorical_accuracy: 0.6243\n",
      "\n",
      "Epoch 00020: val_sparse_categorical_accuracy did not improve from 0.62963\n",
      "Epoch 21/60\n",
      "34/34 [==============================] - 10s 281ms/step - loss: 0.0020 - sparse_categorical_accuracy: 1.0000 - val_loss: 2.0758 - val_sparse_categorical_accuracy: 0.6296\n",
      "\n",
      "Epoch 00021: val_sparse_categorical_accuracy did not improve from 0.62963\n",
      "Epoch 22/60\n",
      "34/34 [==============================] - 10s 282ms/step - loss: 0.0017 - sparse_categorical_accuracy: 1.0000 - val_loss: 2.1321 - val_sparse_categorical_accuracy: 0.6190\n",
      "\n",
      "Epoch 00022: val_sparse_categorical_accuracy did not improve from 0.62963\n",
      "Epoch 23/60\n",
      "34/34 [==============================] - 9s 274ms/step - loss: 0.0014 - sparse_categorical_accuracy: 1.0000 - val_loss: 2.1378 - val_sparse_categorical_accuracy: 0.6111\n",
      "\n",
      "Epoch 00023: val_sparse_categorical_accuracy did not improve from 0.62963\n",
      "Epoch 24/60\n",
      "34/34 [==============================] - 10s 307ms/step - loss: 0.0012 - sparse_categorical_accuracy: 1.0000 - val_loss: 2.1696 - val_sparse_categorical_accuracy: 0.6217\n",
      "\n",
      "Epoch 00024: val_sparse_categorical_accuracy did not improve from 0.62963\n",
      "Epoch 25/60\n",
      "34/34 [==============================] - 10s 281ms/step - loss: 0.0010 - sparse_categorical_accuracy: 1.0000 - val_loss: 2.2221 - val_sparse_categorical_accuracy: 0.6296\n",
      "\n",
      "Epoch 00025: val_sparse_categorical_accuracy did not improve from 0.62963\n",
      "Epoch 26/60\n",
      "34/34 [==============================] - 9s 275ms/step - loss: 8.6442e-04 - sparse_categorical_accuracy: 1.0000 - val_loss: 2.2444 - val_sparse_categorical_accuracy: 0.6217\n",
      "\n",
      "Epoch 00026: val_sparse_categorical_accuracy did not improve from 0.62963\n",
      "Epoch 27/60\n",
      "34/34 [==============================] - 9s 256ms/step - loss: 8.4834e-04 - sparse_categorical_accuracy: 1.0000 - val_loss: 2.2679 - val_sparse_categorical_accuracy: 0.6296\n",
      "\n",
      "Epoch 00027: val_sparse_categorical_accuracy did not improve from 0.62963\n",
      "Epoch 28/60\n",
      "34/34 [==============================] - 9s 269ms/step - loss: 7.3038e-04 - sparse_categorical_accuracy: 1.0000 - val_loss: 2.3071 - val_sparse_categorical_accuracy: 0.6243\n",
      "\n",
      "Epoch 00028: val_sparse_categorical_accuracy did not improve from 0.62963\n",
      "Epoch 29/60\n",
      "34/34 [==============================] - 10s 288ms/step - loss: 6.2672e-04 - sparse_categorical_accuracy: 1.0000 - val_loss: 2.3304 - val_sparse_categorical_accuracy: 0.6190\n",
      "\n",
      "Epoch 00029: val_sparse_categorical_accuracy did not improve from 0.62963\n",
      "Epoch 30/60\n",
      "34/34 [==============================] - 10s 279ms/step - loss: 5.6166e-04 - sparse_categorical_accuracy: 1.0000 - val_loss: 2.3786 - val_sparse_categorical_accuracy: 0.6190\n",
      "\n",
      "Epoch 00030: val_sparse_categorical_accuracy did not improve from 0.62963\n",
      "Epoch 31/60\n",
      "34/34 [==============================] - 9s 273ms/step - loss: 5.2077e-04 - sparse_categorical_accuracy: 1.0000 - val_loss: 2.3737 - val_sparse_categorical_accuracy: 0.6270\n",
      "\n",
      "Epoch 00031: val_sparse_categorical_accuracy did not improve from 0.62963\n",
      "Epoch 32/60\n",
      "34/34 [==============================] - 10s 289ms/step - loss: 4.5586e-04 - sparse_categorical_accuracy: 1.0000 - val_loss: 2.4185 - val_sparse_categorical_accuracy: 0.6296\n",
      "\n",
      "Epoch 00032: val_sparse_categorical_accuracy did not improve from 0.62963\n",
      "Epoch 33/60\n",
      "34/34 [==============================] - 9s 272ms/step - loss: 4.1963e-04 - sparse_categorical_accuracy: 1.0000 - val_loss: 2.4160 - val_sparse_categorical_accuracy: 0.6323\n",
      "\n",
      "Epoch 00033: val_sparse_categorical_accuracy improved from 0.62963 to 0.63228, saving model to ./models/age_best_model.h5\n",
      "Epoch 34/60\n",
      "34/34 [==============================] - 10s 280ms/step - loss: 3.7898e-04 - sparse_categorical_accuracy: 1.0000 - val_loss: 2.4491 - val_sparse_categorical_accuracy: 0.6217\n",
      "\n",
      "Epoch 00034: val_sparse_categorical_accuracy did not improve from 0.63228\n",
      "Epoch 35/60\n",
      "34/34 [==============================] - 9s 268ms/step - loss: 3.5275e-04 - sparse_categorical_accuracy: 1.0000 - val_loss: 2.4660 - val_sparse_categorical_accuracy: 0.6217\n",
      "\n",
      "Epoch 00035: val_sparse_categorical_accuracy did not improve from 0.63228\n",
      "Epoch 36/60\n",
      "34/34 [==============================] - 10s 302ms/step - loss: 3.2353e-04 - sparse_categorical_accuracy: 1.0000 - val_loss: 2.4988 - val_sparse_categorical_accuracy: 0.6164\n",
      "\n",
      "Epoch 00036: val_sparse_categorical_accuracy did not improve from 0.63228\n",
      "Epoch 37/60\n",
      "34/34 [==============================] - 10s 298ms/step - loss: 3.0611e-04 - sparse_categorical_accuracy: 1.0000 - val_loss: 2.5117 - val_sparse_categorical_accuracy: 0.6190\n",
      "\n",
      "Epoch 00037: val_sparse_categorical_accuracy did not improve from 0.63228\n",
      "Epoch 38/60\n",
      "34/34 [==============================] - 10s 306ms/step - loss: 2.7656e-04 - sparse_categorical_accuracy: 1.0000 - val_loss: 2.5327 - val_sparse_categorical_accuracy: 0.6164\n",
      "\n",
      "Epoch 00038: val_sparse_categorical_accuracy did not improve from 0.63228\n",
      "Epoch 39/60\n",
      "34/34 [==============================] - 9s 270ms/step - loss: 2.5832e-04 - sparse_categorical_accuracy: 1.0000 - val_loss: 2.5388 - val_sparse_categorical_accuracy: 0.6243\n",
      "\n",
      "Epoch 00039: val_sparse_categorical_accuracy did not improve from 0.63228\n",
      "Epoch 40/60\n",
      "34/34 [==============================] - 9s 273ms/step - loss: 2.4285e-04 - sparse_categorical_accuracy: 1.0000 - val_loss: 2.5714 - val_sparse_categorical_accuracy: 0.6164\n",
      "\n",
      "Epoch 00040: val_sparse_categorical_accuracy did not improve from 0.63228\n",
      "Epoch 41/60\n",
      "34/34 [==============================] - 9s 273ms/step - loss: 2.2566e-04 - sparse_categorical_accuracy: 1.0000 - val_loss: 2.5865 - val_sparse_categorical_accuracy: 0.6217\n",
      "\n",
      "Epoch 00041: val_sparse_categorical_accuracy did not improve from 0.63228\n",
      "Epoch 42/60\n",
      "34/34 [==============================] - 10s 282ms/step - loss: 2.0675e-04 - sparse_categorical_accuracy: 1.0000 - val_loss: 2.5852 - val_sparse_categorical_accuracy: 0.6243\n",
      "\n",
      "Epoch 00042: val_sparse_categorical_accuracy did not improve from 0.63228\n",
      "Epoch 43/60\n",
      "34/34 [==============================] - 8s 237ms/step - loss: 1.9650e-04 - sparse_categorical_accuracy: 1.0000 - val_loss: 2.6114 - val_sparse_categorical_accuracy: 0.6296\n",
      "\n",
      "Epoch 00043: val_sparse_categorical_accuracy did not improve from 0.63228\n",
      "Epoch 44/60\n",
      "34/34 [==============================] - 9s 277ms/step - loss: 1.8121e-04 - sparse_categorical_accuracy: 1.0000 - val_loss: 2.6354 - val_sparse_categorical_accuracy: 0.6217\n",
      "\n",
      "Epoch 00044: val_sparse_categorical_accuracy did not improve from 0.63228\n",
      "Epoch 45/60\n",
      "34/34 [==============================] - 10s 279ms/step - loss: 1.7438e-04 - sparse_categorical_accuracy: 1.0000 - val_loss: 2.6497 - val_sparse_categorical_accuracy: 0.6217\n",
      "\n",
      "Epoch 00045: val_sparse_categorical_accuracy did not improve from 0.63228\n",
      "Epoch 46/60\n",
      "34/34 [==============================] - 9s 256ms/step - loss: 1.5965e-04 - sparse_categorical_accuracy: 1.0000 - val_loss: 2.6698 - val_sparse_categorical_accuracy: 0.6217\n",
      "\n",
      "Epoch 00046: val_sparse_categorical_accuracy did not improve from 0.63228\n",
      "Epoch 47/60\n",
      "34/34 [==============================] - 9s 267ms/step - loss: 1.5110e-04 - sparse_categorical_accuracy: 1.0000 - val_loss: 2.6773 - val_sparse_categorical_accuracy: 0.6243\n",
      "\n",
      "Epoch 00047: val_sparse_categorical_accuracy did not improve from 0.63228\n",
      "Epoch 48/60\n",
      "34/34 [==============================] - 10s 279ms/step - loss: 1.4263e-04 - sparse_categorical_accuracy: 1.0000 - val_loss: 2.7039 - val_sparse_categorical_accuracy: 0.6243\n",
      "\n",
      "Epoch 00048: val_sparse_categorical_accuracy did not improve from 0.63228\n",
      "Epoch 49/60\n",
      "34/34 [==============================] - 10s 282ms/step - loss: 1.3475e-04 - sparse_categorical_accuracy: 1.0000 - val_loss: 2.7177 - val_sparse_categorical_accuracy: 0.6217\n",
      "\n",
      "Epoch 00049: val_sparse_categorical_accuracy did not improve from 0.63228\n",
      "Epoch 50/60\n",
      "34/34 [==============================] - 9s 277ms/step - loss: 1.2684e-04 - sparse_categorical_accuracy: 1.0000 - val_loss: 2.7331 - val_sparse_categorical_accuracy: 0.6217\n",
      "\n",
      "Epoch 00050: val_sparse_categorical_accuracy did not improve from 0.63228\n",
      "Epoch 51/60\n",
      "34/34 [==============================] - 10s 279ms/step - loss: 1.2112e-04 - sparse_categorical_accuracy: 1.0000 - val_loss: 2.7452 - val_sparse_categorical_accuracy: 0.6243\n",
      "\n",
      "Epoch 00051: val_sparse_categorical_accuracy did not improve from 0.63228\n",
      "Epoch 52/60\n",
      "34/34 [==============================] - 10s 281ms/step - loss: 1.1153e-04 - sparse_categorical_accuracy: 1.0000 - val_loss: 2.7605 - val_sparse_categorical_accuracy: 0.6270\n",
      "\n",
      "Epoch 00052: val_sparse_categorical_accuracy did not improve from 0.63228\n",
      "Epoch 53/60\n",
      "34/34 [==============================] - 9s 276ms/step - loss: 1.0548e-04 - sparse_categorical_accuracy: 1.0000 - val_loss: 2.7711 - val_sparse_categorical_accuracy: 0.6243\n",
      "\n",
      "Epoch 00053: val_sparse_categorical_accuracy did not improve from 0.63228\n",
      "Epoch 54/60\n",
      "34/34 [==============================] - 8s 242ms/step - loss: 9.8614e-05 - sparse_categorical_accuracy: 1.0000 - val_loss: 2.7878 - val_sparse_categorical_accuracy: 0.6270\n",
      "\n",
      "Epoch 00054: val_sparse_categorical_accuracy did not improve from 0.63228\n",
      "Epoch 55/60\n",
      "34/34 [==============================] - 10s 280ms/step - loss: 9.5084e-05 - sparse_categorical_accuracy: 1.0000 - val_loss: 2.7943 - val_sparse_categorical_accuracy: 0.6217\n",
      "\n",
      "Epoch 00055: val_sparse_categorical_accuracy did not improve from 0.63228\n",
      "Epoch 56/60\n",
      "34/34 [==============================] - 10s 284ms/step - loss: 9.0796e-05 - sparse_categorical_accuracy: 1.0000 - val_loss: 2.8265 - val_sparse_categorical_accuracy: 0.6243\n",
      "\n",
      "Epoch 00056: val_sparse_categorical_accuracy did not improve from 0.63228\n",
      "Epoch 57/60\n",
      "34/34 [==============================] - 10s 281ms/step - loss: 8.5858e-05 - sparse_categorical_accuracy: 1.0000 - val_loss: 2.8259 - val_sparse_categorical_accuracy: 0.6270\n",
      "\n",
      "Epoch 00057: val_sparse_categorical_accuracy did not improve from 0.63228\n",
      "Epoch 58/60\n",
      "34/34 [==============================] - 10s 279ms/step - loss: 8.0816e-05 - sparse_categorical_accuracy: 1.0000 - val_loss: 2.8378 - val_sparse_categorical_accuracy: 0.6296\n",
      "\n",
      "Epoch 00058: val_sparse_categorical_accuracy did not improve from 0.63228\n",
      "Epoch 59/60\n",
      "34/34 [==============================] - 10s 287ms/step - loss: 7.7805e-05 - sparse_categorical_accuracy: 1.0000 - val_loss: 2.8586 - val_sparse_categorical_accuracy: 0.6217\n",
      "\n",
      "Epoch 00059: val_sparse_categorical_accuracy did not improve from 0.63228\n",
      "Epoch 60/60\n",
      "34/34 [==============================] - 10s 278ms/step - loss: 7.3355e-05 - sparse_categorical_accuracy: 1.0000 - val_loss: 2.8731 - val_sparse_categorical_accuracy: 0.6243\n",
      "\n",
      "Epoch 00060: val_sparse_categorical_accuracy did not improve from 0.63228\n"
     ]
    }
   ],
   "source": [
    "from keras import callbacks\n",
    "\n",
    "earlystopping = callbacks.EarlyStopping(monitor =\"val_loss\", \n",
    "                                        mode =\"min\", patience = 5, \n",
    "                                        restore_best_weights = True)\n",
    "\n",
    "history = model.fit(train_generator,\n",
    "                    epochs=NR_EPOCHS,\n",
    "                    validation_data=val_generator,\n",
    "                    callbacks = [tensorboard_callback, checkpoint]\n",
    "                    )\n"
   ]
  },
  {
   "cell_type": "markdown",
   "id": "8ac97bd3",
   "metadata": {
    "papermill": {
     "duration": 0.120934,
     "end_time": "2022-10-12T19:18:18.884408",
     "exception": false,
     "start_time": "2022-10-12T19:18:18.763474",
     "status": "completed"
    },
    "tags": []
   },
   "source": [
    "### Plot Training and Validation Loss"
   ]
  },
  {
   "cell_type": "code",
   "execution_count": 18,
   "id": "5745c7f8",
   "metadata": {
    "execution": {
     "iopub.execute_input": "2022-10-12T19:18:19.147192Z",
     "iopub.status.busy": "2022-10-12T19:18:19.146755Z",
     "iopub.status.idle": "2022-10-12T19:18:19.161162Z",
     "shell.execute_reply": "2022-10-12T19:18:19.159712Z"
    },
    "papermill": {
     "duration": 0.160624,
     "end_time": "2022-10-12T19:18:19.164815",
     "exception": false,
     "start_time": "2022-10-12T19:18:19.004191",
     "status": "completed"
    },
    "tags": []
   },
   "outputs": [
    {
     "data": {
      "text/plain": [
       "dict_keys(['loss', 'sparse_categorical_accuracy', 'val_loss', 'val_sparse_categorical_accuracy'])"
      ]
     },
     "execution_count": 18,
     "metadata": {},
     "output_type": "execute_result"
    }
   ],
   "source": [
    "# print keys \n",
    "history.history.keys()"
   ]
  },
  {
   "cell_type": "code",
   "execution_count": 19,
   "id": "592c4329",
   "metadata": {
    "execution": {
     "iopub.execute_input": "2022-10-12T19:18:19.454540Z",
     "iopub.status.busy": "2022-10-12T19:18:19.454190Z",
     "iopub.status.idle": "2022-10-12T19:18:19.686242Z",
     "shell.execute_reply": "2022-10-12T19:18:19.685317Z"
    },
    "papermill": {
     "duration": 0.36586,
     "end_time": "2022-10-12T19:18:19.688258",
     "exception": false,
     "start_time": "2022-10-12T19:18:19.322398",
     "status": "completed"
    },
    "tags": []
   },
   "outputs": [
    {
     "data": {
      "image/png": "[encoded data removed]",
      "text/plain": [
       "<Figure size 432x288 with 1 Axes>"
      ]
     },
     "metadata": {
      "needs_background": "light"
     },
     "output_type": "display_data"
    }
   ],
   "source": [
    "NR_EPOCHS = len(history.history['loss'])\n",
    "loss_train = history.history['loss']\n",
    "loss_val = history.history['val_loss']\n",
    "epochs = range(NR_EPOCHS)\n",
    "plt.plot(epochs, loss_train, 'g', label='Training loss')\n",
    "plt.plot(epochs, loss_val, 'b', label='Validation loss')\n",
    "plt.title('Training and validation loss')\n",
    "plt.xlabel('Epochs')\n",
    "plt.ylabel('Loss')\n",
    "plt.legend()\n",
    "plt.show()"
   ]
  },
  {
   "cell_type": "code",
   "execution_count": 20,
   "id": "2cdbc1a7",
   "metadata": {
    "execution": {
     "iopub.execute_input": "2022-10-12T19:18:19.932190Z",
     "iopub.status.busy": "2022-10-12T19:18:19.931218Z",
     "iopub.status.idle": "2022-10-12T19:18:20.143088Z",
     "shell.execute_reply": "2022-10-12T19:18:20.141447Z"
    },
    "papermill": {
     "duration": 0.341631,
     "end_time": "2022-10-12T19:18:20.152225",
     "exception": false,
     "start_time": "2022-10-12T19:18:19.810594",
     "status": "completed"
    },
    "tags": []
   },
   "outputs": [
    {
     "data": {
      "image/png": "[encoded data removed]",
      "text/plain": [
       "<Figure size 432x288 with 1 Axes>"
      ]
     },
     "metadata": {
      "needs_background": "light"
     },
     "output_type": "display_data"
    }
   ],
   "source": [
    "accuracy_train = history.history['sparse_categorical_accuracy']\n",
    "accuracy_val = history.history['val_sparse_categorical_accuracy']\n",
    "epochs = range(NR_EPOCHS)\n",
    "plt.plot(epochs, accuracy_train, 'g', label='Training accuracy')\n",
    "plt.plot(epochs, accuracy_val, 'b', label='Validation accuracy')\n",
    "plt.title('Training and validation accuracy')\n",
    "plt.xlabel('Epochs')\n",
    "plt.ylabel('Accuracy')\n",
    "plt.legend()\n",
    "plt.show()"
   ]
  },
  {
   "cell_type": "markdown",
   "id": "5645fef0",
   "metadata": {
    "papermill": {
     "duration": 0.180938,
     "end_time": "2022-10-12T19:18:20.579175",
     "exception": false,
     "start_time": "2022-10-12T19:18:20.398237",
     "status": "completed"
    },
    "tags": []
   },
   "source": [
    "### Load model and validate"
   ]
  },
  {
   "cell_type": "code",
   "execution_count": 21,
   "id": "1d7d7805",
   "metadata": {
    "execution": {
     "iopub.execute_input": "2022-10-12T19:18:20.884801Z",
     "iopub.status.busy": "2022-10-12T19:18:20.884395Z",
     "iopub.status.idle": "2022-10-12T19:18:29.534058Z",
     "shell.execute_reply": "2022-10-12T19:18:29.532953Z"
    },
    "papermill": {
     "duration": 8.779014,
     "end_time": "2022-10-12T19:18:29.536800",
     "exception": false,
     "start_time": "2022-10-12T19:18:20.757786",
     "status": "completed"
    },
    "tags": []
   },
   "outputs": [
    {
     "name": "stdout",
     "output_type": "stream",
     "text": [
      "3/3 [==============================] - 4s 2s/step - loss: 2.0991 - sparse_categorical_accuracy: 0.6296\n",
      "2.0990796089172363 0.6296296119689941\n"
     ]
    }
   ],
   "source": [
    "model_age = load_model(\"./models/age_best_model.h5\")\n",
    "loss, acc = model_age.evaluate(test_generator)\n",
    "print (loss, acc)"
   ]
  },
  {
   "cell_type": "markdown",
   "id": "dfc26524",
   "metadata": {
    "papermill": {
     "duration": 0.126309,
     "end_time": "2022-10-12T19:18:29.783980",
     "exception": false,
     "start_time": "2022-10-12T19:18:29.657671",
     "status": "completed"
    },
    "tags": []
   },
   "source": [
    "### Show sample results"
   ]
  },
  {
   "cell_type": "code",
   "execution_count": 22,
   "id": "dbb1d86a",
   "metadata": {
    "execution": {
     "iopub.execute_input": "2022-10-12T19:18:30.069208Z",
     "iopub.status.busy": "2022-10-12T19:18:30.068516Z",
     "iopub.status.idle": "2022-10-12T19:18:34.861514Z",
     "shell.execute_reply": "2022-10-12T19:18:34.860712Z"
    },
    "papermill": {
     "duration": 4.919085,
     "end_time": "2022-10-12T19:18:34.865815",
     "exception": false,
     "start_time": "2022-10-12T19:18:29.946730",
     "status": "completed"
    },
    "tags": []
   },
   "outputs": [
    {
     "data": {
      "image/png": "[encoded data removed]",
      "text/plain": [
       "<Figure size 720x720 with 16 Axes>"
      ]
     },
     "metadata": {
      "needs_background": "light"
     },
     "output_type": "display_data"
    }
   ],
   "source": [
    "def show_faces(images, age=None, pred_age=None):\n",
    "    plt.figure(figsize=(10,10))\n",
    "    labels = {\"Age\": [pred_age, age]}\n",
    "    for i in range(16):\n",
    "        plt.subplot(4,4, i+1)\n",
    "        plt.axis('off')\n",
    "        #plt.xticks([])\n",
    "        #plt.yticks([])\n",
    "        #plt.grid(False)\n",
    "        plt.imshow(images[i])\n",
    "        \n",
    "        if pred_age[i] is None:\n",
    "            continue\n",
    "           \n",
    "            \n",
    "        real_age = int(age[i])\n",
    "        predicted_age = np.argmax(predicted[i])\n",
    "                \n",
    "                \n",
    "        plt.title(f\"Age Class: {age_dict[real_age]}\\n Predicted Age Class: {age_dict[predicted_age]}\", fontsize=8)\n",
    "            \n",
    "        plt.subplots_adjust(wspace=0.3)\n",
    "\n",
    "sample_validation_images, sample_validation_labels = next(test_generator)\n",
    "predicted = model_age.predict(sample_validation_images)\n",
    "show_faces(sample_validation_images, age=sample_validation_labels, pred_age=predicted)"
   ]
  },
  {
   "cell_type": "markdown",
   "id": "36c0d16c",
   "metadata": {
    "papermill": {
     "duration": 0.125502,
     "end_time": "2022-10-12T19:18:35.116141",
     "exception": false,
     "start_time": "2022-10-12T19:18:34.990639",
     "status": "completed"
    },
    "tags": []
   },
   "source": [
    "## Direct Age Estimation"
   ]
  },
  {
   "cell_type": "markdown",
   "id": "fa6ffd09",
   "metadata": {
    "papermill": {
     "duration": 0.122973,
     "end_time": "2022-10-12T19:18:35.361703",
     "exception": false,
     "start_time": "2022-10-12T19:18:35.238730",
     "status": "completed"
    },
    "tags": []
   },
   "source": [
    "### read and decode image"
   ]
  },
  {
   "cell_type": "code",
   "execution_count": 23,
   "id": "e419a0ff",
   "metadata": {
    "execution": {
     "iopub.execute_input": "2022-10-12T19:18:35.608689Z",
     "iopub.status.busy": "2022-10-12T19:18:35.607701Z",
     "iopub.status.idle": "2022-10-12T19:18:35.612587Z",
     "shell.execute_reply": "2022-10-12T19:18:35.611635Z"
    },
    "papermill": {
     "duration": 0.130609,
     "end_time": "2022-10-12T19:18:35.614702",
     "exception": false,
     "start_time": "2022-10-12T19:18:35.484093",
     "status": "completed"
    },
    "tags": []
   },
   "outputs": [],
   "source": [
    "NR_EPOCHS = 60"
   ]
  },
  {
   "cell_type": "code",
   "execution_count": 24,
   "id": "0178d4c5",
   "metadata": {
    "execution": {
     "iopub.execute_input": "2022-10-12T19:18:35.861951Z",
     "iopub.status.busy": "2022-10-12T19:18:35.861630Z",
     "iopub.status.idle": "2022-10-12T19:18:35.867194Z",
     "shell.execute_reply": "2022-10-12T19:18:35.866192Z"
    },
    "papermill": {
     "duration": 0.132298,
     "end_time": "2022-10-12T19:18:35.869244",
     "exception": false,
     "start_time": "2022-10-12T19:18:35.736946",
     "status": "completed"
    },
    "tags": []
   },
   "outputs": [],
   "source": [
    "# reads image_path and returns decoded img \n",
    "def process_path(file_path, label):\n",
    "    #read file path\n",
    "    img = tf.io.read_file(file_path)\n",
    "    img = tf.image.decode_jpeg(img, channels=3)\n",
    "    #convert the values from 0-1\n",
    "    img = tf.image.convert_image_dtype(img, tf.float32)\n",
    "    # preprocess image for VGG16\n",
    "    img = preprocess_input(img)\n",
    "    img = tf.image.resize(img, IMAGE_SIZE)\n",
    "    return img, label\n"
   ]
  },
  {
   "cell_type": "markdown",
   "id": "8bb31210",
   "metadata": {
    "papermill": {
     "duration": 0.122091,
     "end_time": "2022-10-12T19:18:36.112532",
     "exception": false,
     "start_time": "2022-10-12T19:18:35.990441",
     "status": "completed"
    },
    "tags": []
   },
   "source": [
    "### Split Dataset in Train, Validation and Test Dataset"
   ]
  },
  {
   "cell_type": "code",
   "execution_count": 25,
   "id": "6eea1995",
   "metadata": {
    "execution": {
     "iopub.execute_input": "2022-10-12T19:18:36.357740Z",
     "iopub.status.busy": "2022-10-12T19:18:36.357402Z",
     "iopub.status.idle": "2022-10-12T19:18:36.364274Z",
     "shell.execute_reply": "2022-10-12T19:18:36.363427Z"
    },
    "papermill": {
     "duration": 0.131197,
     "end_time": "2022-10-12T19:18:36.366314",
     "exception": false,
     "start_time": "2022-10-12T19:18:36.235117",
     "status": "completed"
    },
    "tags": []
   },
   "outputs": [],
   "source": [
    "labels_train =  tf.keras.utils.to_categorical(training_data['age'], num_classes=117)\n",
    "labels_val =  tf.keras.utils.to_categorical(val_data['age'], num_classes=117)\n",
    "labels_test =  tf.keras.utils.to_categorical(testing_data['age'], num_classes=117) "
   ]
  },
  {
   "cell_type": "code",
   "execution_count": 26,
   "id": "ccb96fee",
   "metadata": {
    "execution": {
     "iopub.execute_input": "2022-10-12T19:18:36.611370Z",
     "iopub.status.busy": "2022-10-12T19:18:36.610539Z",
     "iopub.status.idle": "2022-10-12T19:18:36.729023Z",
     "shell.execute_reply": "2022-10-12T19:18:36.728189Z"
    },
    "papermill": {
     "duration": 0.24339,
     "end_time": "2022-10-12T19:18:36.731231",
     "exception": false,
     "start_time": "2022-10-12T19:18:36.487841",
     "status": "completed"
    },
    "tags": []
   },
   "outputs": [],
   "source": [
    "train_dataset = tf.data.Dataset.from_tensor_slices((training_data['image'],labels_train))\n",
    "train_dataset = train_dataset.shuffle(len(training_data))\n",
    "train_dataset = train_dataset.map(process_path, num_parallel_calls=4)\n",
    "train_dataset = train_dataset.batch(64)\n",
    "\n",
    "\n",
    "val_dataset = tf.data.Dataset.from_tensor_slices((val_data['image'],labels_val))\n",
    "val_dataset = val_dataset.shuffle(len(val_data))\n",
    "val_dataset = val_dataset.map(process_path, num_parallel_calls=4)\n",
    "val_dataset = val_dataset.batch(64)\n",
    "\n",
    "test_dataset = tf.data.Dataset.from_tensor_slices((testing_data['image'],labels_test))\n",
    "test_dataset = test_dataset.shuffle(len(testing_data))\n",
    "test_dataset = test_dataset.map(process_path, num_parallel_calls=4)\n",
    "test_dataset = test_dataset.batch(64)"
   ]
  },
  {
   "cell_type": "markdown",
   "id": "52370ca4",
   "metadata": {
    "papermill": {
     "duration": 0.162695,
     "end_time": "2022-10-12T19:18:37.016130",
     "exception": false,
     "start_time": "2022-10-12T19:18:36.853435",
     "status": "completed"
    },
    "tags": []
   },
   "source": [
    "### Load and build model"
   ]
  },
  {
   "cell_type": "code",
   "execution_count": 27,
   "id": "d7cd7566",
   "metadata": {
    "execution": {
     "iopub.execute_input": "2022-10-12T19:18:37.263035Z",
     "iopub.status.busy": "2022-10-12T19:18:37.262360Z",
     "iopub.status.idle": "2022-10-12T19:18:37.670038Z",
     "shell.execute_reply": "2022-10-12T19:18:37.669052Z"
    },
    "papermill": {
     "duration": 0.533548,
     "end_time": "2022-10-12T19:18:37.672429",
     "exception": false,
     "start_time": "2022-10-12T19:18:37.138881",
     "status": "completed"
    },
    "tags": []
   },
   "outputs": [],
   "source": [
    "model2 = VGG16(input_shape=IMAGE_SIZE + [3],weights='imagenet', include_top=False)\n",
    "\n",
    "for layer in model2.layers:\n",
    "    layer.trainable=False"
   ]
  },
  {
   "cell_type": "code",
   "execution_count": 28,
   "id": "4f9fc437",
   "metadata": {
    "execution": {
     "iopub.execute_input": "2022-10-12T19:18:37.920936Z",
     "iopub.status.busy": "2022-10-12T19:18:37.920564Z",
     "iopub.status.idle": "2022-10-12T19:18:37.954783Z",
     "shell.execute_reply": "2022-10-12T19:18:37.952712Z"
    },
    "papermill": {
     "duration": 0.161096,
     "end_time": "2022-10-12T19:18:37.957442",
     "exception": false,
     "start_time": "2022-10-12T19:18:37.796346",
     "status": "completed"
    },
    "tags": []
   },
   "outputs": [
    {
     "name": "stdout",
     "output_type": "stream",
     "text": [
      "Model: \"model_1\"\n",
      "_________________________________________________________________\n",
      "Layer (type)                 Output Shape              Param #   \n",
      "=================================================================\n",
      "input_2 (InputLayer)         [(None, 224, 224, 3)]     0         \n",
      "_________________________________________________________________\n",
      "block1_conv1 (Conv2D)        (None, 224, 224, 64)      1792      \n",
      "_________________________________________________________________\n",
      "block1_conv2 (Conv2D)        (None, 224, 224, 64)      36928     \n",
      "_________________________________________________________________\n",
      "block1_pool (MaxPooling2D)   (None, 112, 112, 64)      0         \n",
      "_________________________________________________________________\n",
      "block2_conv1 (Conv2D)        (None, 112, 112, 128)     73856     \n",
      "_________________________________________________________________\n",
      "block2_conv2 (Conv2D)        (None, 112, 112, 128)     147584    \n",
      "_________________________________________________________________\n",
      "block2_pool (MaxPooling2D)   (None, 56, 56, 128)       0         \n",
      "_________________________________________________________________\n",
      "block3_conv1 (Conv2D)        (None, 56, 56, 256)       295168    \n",
      "_________________________________________________________________\n",
      "block3_conv2 (Conv2D)        (None, 56, 56, 256)       590080    \n",
      "_________________________________________________________________\n",
      "block3_conv3 (Conv2D)        (None, 56, 56, 256)       590080    \n",
      "_________________________________________________________________\n",
      "block3_pool (MaxPooling2D)   (None, 28, 28, 256)       0         \n",
      "_________________________________________________________________\n",
      "block4_conv1 (Conv2D)        (None, 28, 28, 512)       1180160   \n",
      "_________________________________________________________________\n",
      "block4_conv2 (Conv2D)        (None, 28, 28, 512)       2359808   \n",
      "_________________________________________________________________\n",
      "block4_conv3 (Conv2D)        (None, 28, 28, 512)       2359808   \n",
      "_________________________________________________________________\n",
      "block4_pool (MaxPooling2D)   (None, 14, 14, 512)       0         \n",
      "_________________________________________________________________\n",
      "block5_conv1 (Conv2D)        (None, 14, 14, 512)       2359808   \n",
      "_________________________________________________________________\n",
      "block5_conv2 (Conv2D)        (None, 14, 14, 512)       2359808   \n",
      "_________________________________________________________________\n",
      "block5_conv3 (Conv2D)        (None, 14, 14, 512)       2359808   \n",
      "_________________________________________________________________\n",
      "block5_pool (MaxPooling2D)   (None, 7, 7, 512)         0         \n",
      "_________________________________________________________________\n",
      "flatten_1 (Flatten)          (None, 25088)             0         \n",
      "_________________________________________________________________\n",
      "dense_3 (Dense)              (None, 4096)              102764544 \n",
      "_________________________________________________________________\n",
      "dense_4 (Dense)              (None, 4096)              16781312  \n",
      "_________________________________________________________________\n",
      "dense_5 (Dense)              (None, 117)               479349    \n",
      "=================================================================\n",
      "Total params: 134,739,893\n",
      "Trainable params: 120,025,205\n",
      "Non-trainable params: 14,714,688\n",
      "_________________________________________________________________\n"
     ]
    }
   ],
   "source": [
    "x2 = Flatten()(model2.output)\n",
    "x2 = Dense(4096, activation='relu')(x2)\n",
    "x2 = Dense(4096, activation='relu')(x2)\n",
    "prediction2 = Dense(117, activation='softmax')(x2)\n",
    "model_direct = Model(inputs=model2.input, outputs=prediction2)\n",
    "model_direct.summary()\n",
    "\n"
   ]
  },
  {
   "cell_type": "code",
   "execution_count": 29,
   "id": "b1620416",
   "metadata": {
    "execution": {
     "iopub.execute_input": "2022-10-12T19:18:38.203554Z",
     "iopub.status.busy": "2022-10-12T19:18:38.203248Z",
     "iopub.status.idle": "2022-10-12T19:18:38.214398Z",
     "shell.execute_reply": "2022-10-12T19:18:38.213587Z"
    },
    "papermill": {
     "duration": 0.136718,
     "end_time": "2022-10-12T19:18:38.216355",
     "exception": false,
     "start_time": "2022-10-12T19:18:38.079637",
     "status": "completed"
    },
    "tags": []
   },
   "outputs": [],
   "source": [
    "\n",
    "model_direct.compile(optimizer=tf.keras.optimizers.Adam(learning_rate=0.001),\n",
    "              loss=tf.keras.losses.CategoricalCrossentropy(),\n",
    "              metrics=['accuracy'])\n",
    "\n",
    "# opt = tf.keras.optimizers.Adam(learning_rate=0.001)\n",
    "# model_direct.compile(loss='categorical_crossentropy',\n",
    "#               optimizer=opt,\n",
    "#               metrics=['accuracy'])"
   ]
  },
  {
   "cell_type": "code",
   "execution_count": 30,
   "id": "0f95c329",
   "metadata": {
    "execution": {
     "iopub.execute_input": "2022-10-12T19:18:38.460981Z",
     "iopub.status.busy": "2022-10-12T19:18:38.460412Z",
     "iopub.status.idle": "2022-10-12T19:18:38.783170Z",
     "shell.execute_reply": "2022-10-12T19:18:38.781677Z"
    },
    "papermill": {
     "duration": 0.451398,
     "end_time": "2022-10-12T19:18:38.789624",
     "exception": false,
     "start_time": "2022-10-12T19:18:38.338226",
     "status": "completed"
    },
    "tags": []
   },
   "outputs": [
    {
     "name": "stderr",
     "output_type": "stream",
     "text": [
      "2022-10-12 19:18:38.464546: I tensorflow/core/profiler/lib/profiler_session.cc:131] Profiler session initializing.\n",
      "2022-10-12 19:18:38.464588: I tensorflow/core/profiler/lib/profiler_session.cc:146] Profiler session started.\n",
      "2022-10-12 19:18:38.649161: I tensorflow/core/profiler/lib/profiler_session.cc:164] Profiler session tear down.\n",
      "2022-10-12 19:18:38.649353: I tensorflow/core/profiler/internal/gpu/cupti_tracer.cc:1748] CUPTI activity buffer flushed\n"
     ]
    },
    {
     "data": {
      "text/plain": [
       "'../tblogs/direct_age_model22-10-12_19-18'"
      ]
     },
     "execution_count": 30,
     "metadata": {},
     "output_type": "execute_result"
    }
   ],
   "source": [
    "\n",
    "DIRECT_PATH = \"./models/direct_age_best_model.h5\"\n",
    "\n",
    "\n",
    "checkpoint = tf.keras.callbacks.ModelCheckpoint(DIRECT_PATH, \n",
    "                                                monitor='val_accuracy', \n",
    "                                                verbose=1, \n",
    "                                                save_best_only=True, \n",
    "                                                mode='max')\n",
    "\n",
    "import datetime\n",
    "log_dir = '../tblogs/direct_age_model' + datetime.datetime.now().strftime('%y-%m-%d_%H-%M')\n",
    "tensorboard_callback = tf.keras.callbacks.TensorBoard(log_dir=log_dir, histogram_freq=0)\n",
    "\n",
    "log_dir"
   ]
  },
  {
   "cell_type": "code",
   "execution_count": 31,
   "id": "431d9291",
   "metadata": {
    "execution": {
     "iopub.execute_input": "2022-10-12T19:18:39.037774Z",
     "iopub.status.busy": "2022-10-12T19:18:39.037421Z",
     "iopub.status.idle": "2022-10-12T19:27:03.924130Z",
     "shell.execute_reply": "2022-10-12T19:27:03.923142Z"
    },
    "papermill": {
     "duration": 505.012191,
     "end_time": "2022-10-12T19:27:03.926681",
     "exception": false,
     "start_time": "2022-10-12T19:18:38.914490",
     "status": "completed"
    },
    "tags": []
   },
   "outputs": [
    {
     "name": "stdout",
     "output_type": "stream",
     "text": [
      "Epoch 1/60\n",
      " 1/34 [..............................] - ETA: 27s - loss: 6.1049 - accuracy: 0.0000e+00"
     ]
    },
    {
     "name": "stderr",
     "output_type": "stream",
     "text": [
      "2022-10-12 19:18:39.966396: I tensorflow/core/profiler/lib/profiler_session.cc:131] Profiler session initializing.\n",
      "2022-10-12 19:18:39.967031: I tensorflow/core/profiler/lib/profiler_session.cc:146] Profiler session started.\n"
     ]
    },
    {
     "name": "stdout",
     "output_type": "stream",
     "text": [
      " 2/34 [>.............................] - ETA: 15s - loss: 36.8030 - accuracy: 0.0469   "
     ]
    },
    {
     "name": "stderr",
     "output_type": "stream",
     "text": [
      "2022-10-12 19:18:40.518230: I tensorflow/core/profiler/lib/profiler_session.cc:66] Profiler session collecting data.\n",
      "2022-10-12 19:18:40.518925: I tensorflow/core/profiler/internal/gpu/cupti_tracer.cc:1748] CUPTI activity buffer flushed\n",
      "2022-10-12 19:18:40.651346: I tensorflow/core/profiler/internal/gpu/cupti_collector.cc:673]  GpuTracer has collected 144 callback api events and 141 activity events. \n",
      "2022-10-12 19:18:40.658734: I tensorflow/core/profiler/lib/profiler_session.cc:164] Profiler session tear down.\n",
      "2022-10-12 19:18:40.671621: I tensorflow/core/profiler/rpc/client/save_profile.cc:136] Creating directory: ../tblogs/direct_age_model22-10-12_19-18/train/plugins/profile/2022_10_12_19_18_40\n",
      "\n",
      "2022-10-12 19:18:40.680906: I tensorflow/core/profiler/rpc/client/save_profile.cc:142] Dumped gzipped tool data for trace.json.gz to ../tblogs/direct_age_model22-10-12_19-18/train/plugins/profile/2022_10_12_19_18_40/6d51040cc574.trace.json.gz\n",
      "2022-10-12 19:18:40.690771: I tensorflow/core/profiler/rpc/client/save_profile.cc:136] Creating directory: ../tblogs/direct_age_model22-10-12_19-18/train/plugins/profile/2022_10_12_19_18_40\n",
      "\n",
      "2022-10-12 19:18:40.692438: I tensorflow/core/profiler/rpc/client/save_profile.cc:142] Dumped gzipped tool data for memory_profile.json.gz to ../tblogs/direct_age_model22-10-12_19-18/train/plugins/profile/2022_10_12_19_18_40/6d51040cc574.memory_profile.json.gz\n",
      "2022-10-12 19:18:40.693142: I tensorflow/core/profiler/rpc/client/capture_profile.cc:251] Creating directory: ../tblogs/direct_age_model22-10-12_19-18/train/plugins/profile/2022_10_12_19_18_40\n",
      "Dumped tool data for xplane.pb to ../tblogs/direct_age_model22-10-12_19-18/train/plugins/profile/2022_10_12_19_18_40/6d51040cc574.xplane.pb\n",
      "Dumped tool data for overview_page.pb to ../tblogs/direct_age_model22-10-12_19-18/train/plugins/profile/2022_10_12_19_18_40/6d51040cc574.overview_page.pb\n",
      "Dumped tool data for input_pipeline.pb to ../tblogs/direct_age_model22-10-12_19-18/train/plugins/profile/2022_10_12_19_18_40/6d51040cc574.input_pipeline.pb\n",
      "Dumped tool data for tensorflow_stats.pb to ../tblogs/direct_age_model22-10-12_19-18/train/plugins/profile/2022_10_12_19_18_40/6d51040cc574.tensorflow_stats.pb\n",
      "Dumped tool data for kernel_stats.pb to ../tblogs/direct_age_model22-10-12_19-18/train/plugins/profile/2022_10_12_19_18_40/6d51040cc574.kernel_stats.pb\n",
      "\n"
     ]
    },
    {
     "name": "stdout",
     "output_type": "stream",
     "text": [
      "34/34 [==============================] - 8s 202ms/step - loss: 8.6789 - accuracy: 0.0412 - val_loss: 4.4659 - val_accuracy: 0.0476\n",
      "\n",
      "Epoch 00001: val_accuracy improved from -inf to 0.04762, saving model to ./models/direct_age_best_model.h5\n",
      "Epoch 2/60\n",
      "34/34 [==============================] - 7s 189ms/step - loss: 4.3974 - accuracy: 0.0528 - val_loss: 4.4476 - val_accuracy: 0.0476\n",
      "\n",
      "Epoch 00002: val_accuracy did not improve from 0.04762\n",
      "Epoch 3/60\n",
      "34/34 [==============================] - 6s 185ms/step - loss: 4.3956 - accuracy: 0.0569 - val_loss: 4.4362 - val_accuracy: 0.0476\n",
      "\n",
      "Epoch 00003: val_accuracy did not improve from 0.04762\n",
      "Epoch 4/60\n",
      "34/34 [==============================] - 6s 170ms/step - loss: 4.3746 - accuracy: 0.0597 - val_loss: 4.4385 - val_accuracy: 0.0476\n",
      "\n",
      "Epoch 00004: val_accuracy did not improve from 0.04762\n",
      "Epoch 5/60\n",
      "34/34 [==============================] - 6s 172ms/step - loss: 4.3814 - accuracy: 0.0597 - val_loss: 4.4453 - val_accuracy: 0.0476\n",
      "\n",
      "Epoch 00005: val_accuracy did not improve from 0.04762\n",
      "Epoch 6/60\n",
      "34/34 [==============================] - 6s 175ms/step - loss: 4.3751 - accuracy: 0.0597 - val_loss: 4.4362 - val_accuracy: 0.0476\n",
      "\n",
      "Epoch 00006: val_accuracy did not improve from 0.04762\n",
      "Epoch 7/60\n",
      "34/34 [==============================] - 6s 183ms/step - loss: 4.3753 - accuracy: 0.0597 - val_loss: 4.4399 - val_accuracy: 0.0476\n",
      "\n",
      "Epoch 00007: val_accuracy did not improve from 0.04762\n",
      "Epoch 8/60\n",
      "34/34 [==============================] - 6s 168ms/step - loss: 4.3706 - accuracy: 0.0597 - val_loss: 4.4533 - val_accuracy: 0.0476\n",
      "\n",
      "Epoch 00008: val_accuracy did not improve from 0.04762\n",
      "Epoch 9/60\n",
      "34/34 [==============================] - 6s 188ms/step - loss: 4.3647 - accuracy: 0.0514 - val_loss: 4.4537 - val_accuracy: 0.0476\n",
      "\n",
      "Epoch 00009: val_accuracy did not improve from 0.04762\n",
      "Epoch 10/60\n",
      "34/34 [==============================] - 6s 174ms/step - loss: 4.3690 - accuracy: 0.0597 - val_loss: 4.4359 - val_accuracy: 0.0476\n",
      "\n",
      "Epoch 00010: val_accuracy did not improve from 0.04762\n",
      "Epoch 11/60\n",
      "34/34 [==============================] - 6s 171ms/step - loss: 4.3677 - accuracy: 0.0597 - val_loss: 4.4401 - val_accuracy: 0.0476\n",
      "\n",
      "Epoch 00011: val_accuracy did not improve from 0.04762\n",
      "Epoch 12/60\n",
      "34/34 [==============================] - 6s 173ms/step - loss: 4.3644 - accuracy: 0.0597 - val_loss: 4.4420 - val_accuracy: 0.0476\n",
      "\n",
      "Epoch 00012: val_accuracy did not improve from 0.04762\n",
      "Epoch 13/60\n",
      "34/34 [==============================] - 6s 166ms/step - loss: 4.3612 - accuracy: 0.0597 - val_loss: 4.4689 - val_accuracy: 0.0476\n",
      "\n",
      "Epoch 00013: val_accuracy did not improve from 0.04762\n",
      "Epoch 14/60\n",
      "34/34 [==============================] - 6s 165ms/step - loss: 4.3701 - accuracy: 0.0597 - val_loss: 4.4681 - val_accuracy: 0.0476\n",
      "\n",
      "Epoch 00014: val_accuracy did not improve from 0.04762\n",
      "Epoch 15/60\n",
      "34/34 [==============================] - 6s 168ms/step - loss: 4.3610 - accuracy: 0.0597 - val_loss: 4.4405 - val_accuracy: 0.0476\n",
      "\n",
      "Epoch 00015: val_accuracy did not improve from 0.04762\n",
      "Epoch 16/60\n",
      "34/34 [==============================] - 6s 181ms/step - loss: 4.3561 - accuracy: 0.0597 - val_loss: 4.4314 - val_accuracy: 0.0476\n",
      "\n",
      "Epoch 00016: val_accuracy did not improve from 0.04762\n",
      "Epoch 17/60\n",
      "34/34 [==============================] - 6s 172ms/step - loss: 4.3608 - accuracy: 0.0597 - val_loss: 4.4468 - val_accuracy: 0.0476\n",
      "\n",
      "Epoch 00017: val_accuracy did not improve from 0.04762\n",
      "Epoch 18/60\n",
      "34/34 [==============================] - 6s 173ms/step - loss: 4.3564 - accuracy: 0.0597 - val_loss: 4.4363 - val_accuracy: 0.0476\n",
      "\n",
      "Epoch 00018: val_accuracy did not improve from 0.04762\n",
      "Epoch 19/60\n",
      "34/34 [==============================] - 6s 171ms/step - loss: 4.3597 - accuracy: 0.0597 - val_loss: 4.4529 - val_accuracy: 0.0476\n",
      "\n",
      "Epoch 00019: val_accuracy did not improve from 0.04762\n",
      "Epoch 20/60\n",
      "34/34 [==============================] - 6s 161ms/step - loss: 4.3520 - accuracy: 0.0597 - val_loss: 4.4433 - val_accuracy: 0.0476\n",
      "\n",
      "Epoch 00020: val_accuracy did not improve from 0.04762\n",
      "Epoch 21/60\n",
      "34/34 [==============================] - 6s 185ms/step - loss: 4.3526 - accuracy: 0.0597 - val_loss: 4.4418 - val_accuracy: 0.0476\n",
      "\n",
      "Epoch 00021: val_accuracy did not improve from 0.04762\n",
      "Epoch 22/60\n",
      "34/34 [==============================] - 6s 170ms/step - loss: 4.3534 - accuracy: 0.0597 - val_loss: 4.4382 - val_accuracy: 0.0476\n",
      "\n",
      "Epoch 00022: val_accuracy did not improve from 0.04762\n",
      "Epoch 23/60\n",
      "34/34 [==============================] - 6s 161ms/step - loss: 4.3552 - accuracy: 0.0597 - val_loss: 4.4370 - val_accuracy: 0.0476\n",
      "\n",
      "Epoch 00023: val_accuracy did not improve from 0.04762\n",
      "Epoch 24/60\n",
      "34/34 [==============================] - 6s 184ms/step - loss: 4.3517 - accuracy: 0.0597 - val_loss: 4.4362 - val_accuracy: 0.0476\n",
      "\n",
      "Epoch 00024: val_accuracy did not improve from 0.04762\n",
      "Epoch 25/60\n",
      "34/34 [==============================] - 6s 160ms/step - loss: 4.3503 - accuracy: 0.0597 - val_loss: 4.4407 - val_accuracy: 0.0476\n",
      "\n",
      "Epoch 00025: val_accuracy did not improve from 0.04762\n",
      "Epoch 26/60\n",
      "34/34 [==============================] - 6s 176ms/step - loss: 4.3504 - accuracy: 0.0597 - val_loss: 4.4420 - val_accuracy: 0.0476\n",
      "\n",
      "Epoch 00026: val_accuracy did not improve from 0.04762\n",
      "Epoch 27/60\n",
      "34/34 [==============================] - 6s 186ms/step - loss: 4.3510 - accuracy: 0.0597 - val_loss: 4.4359 - val_accuracy: 0.0476\n",
      "\n",
      "Epoch 00027: val_accuracy did not improve from 0.04762\n",
      "Epoch 28/60\n",
      "34/34 [==============================] - 6s 176ms/step - loss: 4.3484 - accuracy: 0.0597 - val_loss: 4.4511 - val_accuracy: 0.0476\n",
      "\n",
      "Epoch 00028: val_accuracy did not improve from 0.04762\n",
      "Epoch 29/60\n",
      "34/34 [==============================] - 6s 163ms/step - loss: 4.3522 - accuracy: 0.0597 - val_loss: 4.4366 - val_accuracy: 0.0476\n",
      "\n",
      "Epoch 00029: val_accuracy did not improve from 0.04762\n",
      "Epoch 30/60\n",
      "34/34 [==============================] - 6s 170ms/step - loss: 4.3524 - accuracy: 0.0597 - val_loss: 4.4372 - val_accuracy: 0.0476\n",
      "\n",
      "Epoch 00030: val_accuracy did not improve from 0.04762\n",
      "Epoch 31/60\n",
      "34/34 [==============================] - 6s 173ms/step - loss: 4.3505 - accuracy: 0.0597 - val_loss: 4.4401 - val_accuracy: 0.0476\n",
      "\n",
      "Epoch 00031: val_accuracy did not improve from 0.04762\n",
      "Epoch 32/60\n",
      "34/34 [==============================] - 6s 184ms/step - loss: 4.3474 - accuracy: 0.0597 - val_loss: 4.4792 - val_accuracy: 0.0476\n",
      "\n",
      "Epoch 00032: val_accuracy did not improve from 0.04762\n",
      "Epoch 33/60\n",
      "34/34 [==============================] - 6s 170ms/step - loss: 4.3486 - accuracy: 0.0597 - val_loss: 4.4373 - val_accuracy: 0.0476\n",
      "\n",
      "Epoch 00033: val_accuracy did not improve from 0.04762\n",
      "Epoch 34/60\n",
      "34/34 [==============================] - 6s 181ms/step - loss: 4.3468 - accuracy: 0.0597 - val_loss: 4.4391 - val_accuracy: 0.0476\n",
      "\n",
      "Epoch 00034: val_accuracy did not improve from 0.04762\n",
      "Epoch 35/60\n",
      "34/34 [==============================] - 6s 172ms/step - loss: 4.3448 - accuracy: 0.0597 - val_loss: 4.4541 - val_accuracy: 0.0476\n",
      "\n",
      "Epoch 00035: val_accuracy did not improve from 0.04762\n",
      "Epoch 36/60\n",
      "34/34 [==============================] - 6s 173ms/step - loss: 4.3484 - accuracy: 0.0597 - val_loss: 4.4415 - val_accuracy: 0.0476\n",
      "\n",
      "Epoch 00036: val_accuracy did not improve from 0.04762\n",
      "Epoch 37/60\n",
      "34/34 [==============================] - 6s 164ms/step - loss: 4.3507 - accuracy: 0.0597 - val_loss: 4.4455 - val_accuracy: 0.0476\n",
      "\n",
      "Epoch 00037: val_accuracy did not improve from 0.04762\n",
      "Epoch 38/60\n",
      "34/34 [==============================] - 6s 165ms/step - loss: 4.3477 - accuracy: 0.0597 - val_loss: 4.4410 - val_accuracy: 0.0476\n",
      "\n",
      "Epoch 00038: val_accuracy did not improve from 0.04762\n",
      "Epoch 39/60\n",
      "34/34 [==============================] - 6s 173ms/step - loss: 4.3476 - accuracy: 0.0597 - val_loss: 4.4451 - val_accuracy: 0.0476\n",
      "\n",
      "Epoch 00039: val_accuracy did not improve from 0.04762\n",
      "Epoch 40/60\n",
      "34/34 [==============================] - 6s 174ms/step - loss: 4.3473 - accuracy: 0.0597 - val_loss: 4.4401 - val_accuracy: 0.0476\n",
      "\n",
      "Epoch 00040: val_accuracy did not improve from 0.04762\n",
      "Epoch 41/60\n",
      "34/34 [==============================] - 6s 181ms/step - loss: 4.3468 - accuracy: 0.0597 - val_loss: 4.4459 - val_accuracy: 0.0476\n",
      "\n",
      "Epoch 00041: val_accuracy did not improve from 0.04762\n",
      "Epoch 42/60\n",
      "34/34 [==============================] - 6s 178ms/step - loss: 4.3468 - accuracy: 0.0597 - val_loss: 4.4424 - val_accuracy: 0.0476\n",
      "\n",
      "Epoch 00042: val_accuracy did not improve from 0.04762\n",
      "Epoch 43/60\n",
      "34/34 [==============================] - 6s 175ms/step - loss: 4.3474 - accuracy: 0.0597 - val_loss: 4.4472 - val_accuracy: 0.0476\n",
      "\n",
      "Epoch 00043: val_accuracy did not improve from 0.04762\n",
      "Epoch 44/60\n",
      "34/34 [==============================] - 6s 171ms/step - loss: 4.3442 - accuracy: 0.0597 - val_loss: 4.4456 - val_accuracy: 0.0476\n",
      "\n",
      "Epoch 00044: val_accuracy did not improve from 0.04762\n",
      "Epoch 45/60\n",
      "34/34 [==============================] - 6s 176ms/step - loss: 4.3461 - accuracy: 0.0597 - val_loss: 4.4442 - val_accuracy: 0.0476\n",
      "\n",
      "Epoch 00045: val_accuracy did not improve from 0.04762\n",
      "Epoch 46/60\n",
      "34/34 [==============================] - 7s 190ms/step - loss: 4.3452 - accuracy: 0.0597 - val_loss: 4.4433 - val_accuracy: 0.0476\n",
      "\n",
      "Epoch 00046: val_accuracy did not improve from 0.04762\n",
      "Epoch 47/60\n",
      "34/34 [==============================] - 6s 180ms/step - loss: 4.3454 - accuracy: 0.0597 - val_loss: 4.4462 - val_accuracy: 0.0476\n",
      "\n",
      "Epoch 00047: val_accuracy did not improve from 0.04762\n",
      "Epoch 48/60\n",
      "34/34 [==============================] - 6s 164ms/step - loss: 4.3461 - accuracy: 0.0597 - val_loss: 4.4406 - val_accuracy: 0.0476\n",
      "\n",
      "Epoch 00048: val_accuracy did not improve from 0.04762\n",
      "Epoch 49/60\n",
      "34/34 [==============================] - 6s 174ms/step - loss: 4.3462 - accuracy: 0.0597 - val_loss: 4.4423 - val_accuracy: 0.0476\n",
      "\n",
      "Epoch 00049: val_accuracy did not improve from 0.04762\n",
      "Epoch 50/60\n",
      "34/34 [==============================] - 6s 177ms/step - loss: 4.3461 - accuracy: 0.0597 - val_loss: 4.4451 - val_accuracy: 0.0476\n",
      "\n",
      "Epoch 00050: val_accuracy did not improve from 0.04762\n",
      "Epoch 51/60\n",
      "34/34 [==============================] - 6s 163ms/step - loss: 4.3457 - accuracy: 0.0597 - val_loss: 4.4455 - val_accuracy: 0.0476\n",
      "\n",
      "Epoch 00051: val_accuracy did not improve from 0.04762\n",
      "Epoch 52/60\n",
      "34/34 [==============================] - 5s 158ms/step - loss: 4.3448 - accuracy: 0.0597 - val_loss: 4.4446 - val_accuracy: 0.0476\n",
      "\n",
      "Epoch 00052: val_accuracy did not improve from 0.04762\n",
      "Epoch 53/60\n",
      "34/34 [==============================] - 7s 188ms/step - loss: 4.3442 - accuracy: 0.0597 - val_loss: 4.4441 - val_accuracy: 0.0476\n",
      "\n",
      "Epoch 00053: val_accuracy did not improve from 0.04762\n",
      "Epoch 54/60\n",
      "34/34 [==============================] - 6s 190ms/step - loss: 4.3452 - accuracy: 0.0597 - val_loss: 4.4404 - val_accuracy: 0.0476\n",
      "\n",
      "Epoch 00054: val_accuracy did not improve from 0.04762\n",
      "Epoch 55/60\n",
      "34/34 [==============================] - 6s 173ms/step - loss: 4.3456 - accuracy: 0.0597 - val_loss: 4.4449 - val_accuracy: 0.0476\n",
      "\n",
      "Epoch 00055: val_accuracy did not improve from 0.04762\n",
      "Epoch 56/60\n",
      "34/34 [==============================] - 6s 180ms/step - loss: 4.3460 - accuracy: 0.0597 - val_loss: 4.4431 - val_accuracy: 0.0476\n",
      "\n",
      "Epoch 00056: val_accuracy did not improve from 0.04762\n",
      "Epoch 57/60\n",
      "34/34 [==============================] - 6s 185ms/step - loss: 4.3459 - accuracy: 0.0597 - val_loss: 4.4451 - val_accuracy: 0.0476\n",
      "\n",
      "Epoch 00057: val_accuracy did not improve from 0.04762\n",
      "Epoch 58/60\n",
      "34/34 [==============================] - 6s 183ms/step - loss: 4.3453 - accuracy: 0.0597 - val_loss: 4.4426 - val_accuracy: 0.0476\n",
      "\n",
      "Epoch 00058: val_accuracy did not improve from 0.04762\n",
      "Epoch 59/60\n",
      "34/34 [==============================] - 6s 180ms/step - loss: 4.3450 - accuracy: 0.0597 - val_loss: 4.4422 - val_accuracy: 0.0476\n",
      "\n",
      "Epoch 00059: val_accuracy did not improve from 0.04762\n",
      "Epoch 60/60\n",
      "34/34 [==============================] - 6s 188ms/step - loss: 4.3462 - accuracy: 0.0597 - val_loss: 4.4425 - val_accuracy: 0.0476\n",
      "\n",
      "Epoch 00060: val_accuracy did not improve from 0.04762\n"
     ]
    }
   ],
   "source": [
    "from keras import callbacks\n",
    "\n",
    "earlystopping = callbacks.EarlyStopping(monitor =\"val_loss\", \n",
    "                                        mode =\"min\", patience = 5, \n",
    "                                        restore_best_weights = True)\n",
    "\n",
    "history_direct = model_direct.fit(train_dataset,\n",
    "                    epochs=NR_EPOCHS,\n",
    "                    batch_size = 64,\n",
    "                    validation_data=val_dataset,\n",
    "                    callbacks = [tensorboard_callback, checkpoint]\n",
    "                    )\n"
   ]
  },
  {
   "cell_type": "markdown",
   "id": "27766394",
   "metadata": {
    "papermill": {
     "duration": 0.265089,
     "end_time": "2022-10-12T19:27:04.432720",
     "exception": false,
     "start_time": "2022-10-12T19:27:04.167631",
     "status": "completed"
    },
    "tags": []
   },
   "source": [
    "### Plot Training and Validation Loss"
   ]
  },
  {
   "cell_type": "code",
   "execution_count": 32,
   "id": "c315b32b",
   "metadata": {
    "execution": {
     "iopub.execute_input": "2022-10-12T19:27:04.958992Z",
     "iopub.status.busy": "2022-10-12T19:27:04.958612Z",
     "iopub.status.idle": "2022-10-12T19:27:04.964566Z",
     "shell.execute_reply": "2022-10-12T19:27:04.963712Z"
    },
    "papermill": {
     "duration": 0.246214,
     "end_time": "2022-10-12T19:27:04.966490",
     "exception": false,
     "start_time": "2022-10-12T19:27:04.720276",
     "status": "completed"
    },
    "tags": []
   },
   "outputs": [
    {
     "data": {
      "text/plain": [
       "dict_keys(['loss', 'accuracy', 'val_loss', 'val_accuracy'])"
      ]
     },
     "execution_count": 32,
     "metadata": {},
     "output_type": "execute_result"
    }
   ],
   "source": [
    "history_direct.history.keys()"
   ]
  },
  {
   "cell_type": "code",
   "execution_count": 33,
   "id": "28c6403d",
   "metadata": {
    "execution": {
     "iopub.execute_input": "2022-10-12T19:27:05.448567Z",
     "iopub.status.busy": "2022-10-12T19:27:05.448199Z",
     "iopub.status.idle": "2022-10-12T19:27:05.645578Z",
     "shell.execute_reply": "2022-10-12T19:27:05.644563Z"
    },
    "papermill": {
     "duration": 0.440132,
     "end_time": "2022-10-12T19:27:05.647791",
     "exception": false,
     "start_time": "2022-10-12T19:27:05.207659",
     "status": "completed"
    },
    "tags": []
   },
   "outputs": [
    {
     "data": {
      "image/png": "[encoded data removed]",
      "text/plain": [
       "<Figure size 432x288 with 1 Axes>"
      ]
     },
     "metadata": {
      "needs_background": "light"
     },
     "output_type": "display_data"
    }
   ],
   "source": [
    "NR_EPOCHS = len(history_direct.history['loss'])\n",
    "loss_train_direct = history_direct.history['loss']\n",
    "loss_val_direct = history_direct.history['val_loss']\n",
    "epochs = range(NR_EPOCHS)\n",
    "plt.plot(epochs, loss_train_direct, 'g', label='Training loss')\n",
    "plt.plot(epochs, loss_val_direct, 'b', label='Validation loss')\n",
    "plt.title('Training and validation loss')\n",
    "plt.xlabel('Epochs')\n",
    "plt.ylabel('Loss')\n",
    "plt.legend()\n",
    "plt.show()"
   ]
  },
  {
   "cell_type": "code",
   "execution_count": 34,
   "id": "8fb472a8",
   "metadata": {
    "execution": {
     "iopub.execute_input": "2022-10-12T19:27:06.125041Z",
     "iopub.status.busy": "2022-10-12T19:27:06.124670Z",
     "iopub.status.idle": "2022-10-12T19:27:06.337699Z",
     "shell.execute_reply": "2022-10-12T19:27:06.336637Z"
    },
    "papermill": {
     "duration": 0.454452,
     "end_time": "2022-10-12T19:27:06.339794",
     "exception": false,
     "start_time": "2022-10-12T19:27:05.885342",
     "status": "completed"
    },
    "tags": []
   },
   "outputs": [
    {
     "data": {
      "image/png": "[encoded data removed]",
      "text/plain": [
       "<Figure size 432x288 with 1 Axes>"
      ]
     },
     "metadata": {
      "needs_background": "light"
     },
     "output_type": "display_data"
    }
   ],
   "source": [
    "accuracy_direct = history_direct.history['accuracy']\n",
    "accuracy_val_direct = history_direct.history['val_accuracy']\n",
    "epochs = range(NR_EPOCHS)\n",
    "plt.plot(epochs, accuracy_direct, 'g', label='Training accuracy')\n",
    "plt.plot(epochs, accuracy_val_direct, 'b', label='Validation accuracy')\n",
    "plt.title('Training and validation accuracy')\n",
    "plt.xlabel('Epochs')\n",
    "plt.ylabel('Accuracy')\n",
    "plt.legend()\n",
    "plt.show()"
   ]
  },
  {
   "cell_type": "code",
   "execution_count": 35,
   "id": "e66d3383",
   "metadata": {
    "execution": {
     "iopub.execute_input": "2022-10-12T19:27:06.863843Z",
     "iopub.status.busy": "2022-10-12T19:27:06.862898Z",
     "iopub.status.idle": "2022-10-12T19:27:11.716755Z",
     "shell.execute_reply": "2022-10-12T19:27:11.714883Z"
    },
    "papermill": {
     "duration": 5.095515,
     "end_time": "2022-10-12T19:27:11.719415",
     "exception": false,
     "start_time": "2022-10-12T19:27:06.623900",
     "status": "completed"
    },
    "tags": []
   },
   "outputs": [
    {
     "name": "stdout",
     "output_type": "stream",
     "text": [
      "3/3 [==============================] - 1s 111ms/step - loss: 4.4962 - accuracy: 0.0494\n",
      "4.496212482452393 0.04938271641731262\n"
     ]
    }
   ],
   "source": [
    "model_age_direct = load_model(\"./models/direct_age_best_model.h5\")\n",
    "loss, acc = model_age_direct.evaluate(test_dataset)\n",
    "print(loss, acc)"
   ]
  }
 ],
 "metadata": {
  "kernelspec": {
   "display_name": "Python 3",
   "language": "python",
   "name": "python3"
  },
  "language_info": {
   "codemirror_mode": {
    "name": "ipython",
    "version": 3
   },
   "file_extension": ".py",
   "mimetype": "text/x-python",
   "name": "python",
   "nbconvert_exporter": "python",
   "pygments_lexer": "ipython3",
   "version": "3.7.12"
  },
  "papermill": {
   "default_parameters": {},
   "duration": 1196.883482,
   "end_time": "2022-10-12T19:27:15.166755",
   "environment_variables": {},
   "exception": null,
   "input_path": "__notebook__.ipynb",
   "output_path": "__notebook__.ipynb",
   "parameters": {},
   "start_time": "2022-10-12T19:07:18.283273",
   "version": "2.3.4"
  },
  "widgets": {
   "application/vnd.jupyter.widget-state+json": {
    "state": {
     "0bed8ee6bcde4db8af3585f8ea73d91c": {
      "model_module": "@jupyter-widgets/base",
      "model_module_version": "1.2.0",
      "model_name": "LayoutModel",
      "state": {
       "_model_module": "@jupyter-widgets/base",
       "_model_module_version": "1.2.0",
       "_model_name": "LayoutModel",
       "_view_count": null,
       "_view_module": "@jupyter-widgets/base",
       "_view_module_version": "1.2.0",
       "_view_name": "LayoutView",
       "align_content": null,
       "align_items": null,
       "align_self": null,
       "border": null,
       "bottom": null,
       "display": null,
       "flex": null,
       "flex_flow": null,
       "grid_area": null,
       "grid_auto_columns": null,
       "grid_auto_flow": null,
       "grid_auto_rows": null,
       "grid_column": null,
       "grid_gap": null,
       "grid_row": null,
       "grid_template_areas": null,
       "grid_template_columns": null,
       "grid_template_rows": null,
       "height": null,
       "justify_content": null,
       "justify_items": null,
       "left": null,
       "margin": null,
       "max_height": null,
       "max_width": null,
       "min_height": null,
       "min_width": null,
       "object_fit": null,
       "object_position": null,
       "order": null,
       "overflow": null,
       "overflow_x": null,
       "overflow_y": null,
       "padding": null,
       "right": null,
       "top": null,
       "visibility": null,
       "width": null
      }
     },
     "211e6a3e622b4c7c91c1fcd540b95aee": {
      "model_module": "@jupyter-widgets/base",
      "model_module_version": "1.2.0",
      "model_name": "LayoutModel",
      "state": {
       "_model_module": "@jupyter-widgets/base",
       "_model_module_version": "1.2.0",
       "_model_name": "LayoutModel",
       "_view_count": null,
       "_view_module": "@jupyter-widgets/base",
       "_view_module_version": "1.2.0",
       "_view_name": "LayoutView",
       "align_content": null,
       "align_items": null,
       "align_self": null,
       "border": null,
       "bottom": null,
       "display": null,
       "flex": null,
       "flex_flow": null,
       "grid_area": null,
       "grid_auto_columns": null,
       "grid_auto_flow": null,
       "grid_auto_rows": null,
       "grid_column": null,
       "grid_gap": null,
       "grid_row": null,
       "grid_template_areas": null,
       "grid_template_columns": null,
       "grid_template_rows": null,
       "height": null,
       "justify_content": null,
       "justify_items": null,
       "left": null,
       "margin": null,
       "max_height": null,
       "max_width": null,
       "min_height": null,
       "min_width": null,
       "object_fit": null,
       "object_position": null,
       "order": null,
       "overflow": null,
       "overflow_x": null,
       "overflow_y": null,
       "padding": null,
       "right": null,
       "top": null,
       "visibility": null,
       "width": null
      }
     },
     "4c1cf7dbaaf049289cbcf93eef7b3d23": {
      "model_module": "@jupyter-widgets/controls",
      "model_module_version": "1.5.0",
      "model_name": "HBoxModel",
      "state": {
       "_dom_classes": [],
       "_model_module": "@jupyter-widgets/controls",
       "_model_module_version": "1.5.0",
       "_model_name": "HBoxModel",
       "_view_count": null,
       "_view_module": "@jupyter-widgets/controls",
       "_view_module_version": "1.5.0",
       "_view_name": "HBoxView",
       "box_style": "",
       "children": [
        "IPY_MODEL_cf9fed5dd29a4168af55b866e5232b4e",
        "IPY_MODEL_7a8b0fe147854fc8b63e3f6e1f8742a8",
        "IPY_MODEL_7575fbe6e7f444f3b8fd7105d5016730"
       ],
       "layout": "IPY_MODEL_fafe9dcf6bc44e95a75c2b3e93957614"
      }
     },
     "7575fbe6e7f444f3b8fd7105d5016730": {
      "model_module": "@jupyter-widgets/controls",
      "model_module_version": "1.5.0",
      "model_name": "HTMLModel",
      "state": {
       "_dom_classes": [],
       "_model_module": "@jupyter-widgets/controls",
       "_model_module_version": "1.5.0",
       "_model_name": "HTMLModel",
       "_view_count": null,
       "_view_module": "@jupyter-widgets/controls",
       "_view_module_version": "1.5.0",
       "_view_name": "HTMLView",
       "description": "",
       "description_tooltip": null,
       "layout": "IPY_MODEL_0bed8ee6bcde4db8af3585f8ea73d91c",
       "placeholder": "​",
       "style": "IPY_MODEL_d7c5c8da5b1b4d84a45533a366077f54",
       "value": " 23708/23708 [00:00&lt;00:00, 181429.84it/s]"
      }
     },
     "7a8b0fe147854fc8b63e3f6e1f8742a8": {
      "model_module": "@jupyter-widgets/controls",
      "model_module_version": "1.5.0",
      "model_name": "FloatProgressModel",
      "state": {
       "_dom_classes": [],
       "_model_module": "@jupyter-widgets/controls",
       "_model_module_version": "1.5.0",
       "_model_name": "FloatProgressModel",
       "_view_count": null,
       "_view_module": "@jupyter-widgets/controls",
       "_view_module_version": "1.5.0",
       "_view_name": "ProgressView",
       "bar_style": "success",
       "description": "",
       "description_tooltip": null,
       "layout": "IPY_MODEL_bb603009755c4814827e20f8a96d84af",
       "max": 23708.0,
       "min": 0.0,
       "orientation": "horizontal",
       "style": "IPY_MODEL_c20f433941d740d78f28ee5ddad54efe",
       "value": 23708.0
      }
     },
     "90a1d00553504126938c20affbdff12a": {
      "model_module": "@jupyter-widgets/controls",
      "model_module_version": "1.5.0",
      "model_name": "DescriptionStyleModel",
      "state": {
       "_model_module": "@jupyter-widgets/controls",
       "_model_module_version": "1.5.0",
       "_model_name": "DescriptionStyleModel",
       "_view_count": null,
       "_view_module": "@jupyter-widgets/base",
       "_view_module_version": "1.2.0",
       "_view_name": "StyleView",
       "description_width": ""
      }
     },
     "bb603009755c4814827e20f8a96d84af": {
      "model_module": "@jupyter-widgets/base",
      "model_module_version": "1.2.0",
      "model_name": "LayoutModel",
      "state": {
       "_model_module": "@jupyter-widgets/base",
       "_model_module_version": "1.2.0",
       "_model_name": "LayoutModel",
       "_view_count": null,
       "_view_module": "@jupyter-widgets/base",
       "_view_module_version": "1.2.0",
       "_view_name": "LayoutView",
       "align_content": null,
       "align_items": null,
       "align_self": null,
       "border": null,
       "bottom": null,
       "display": null,
       "flex": null,
       "flex_flow": null,
       "grid_area": null,
       "grid_auto_columns": null,
       "grid_auto_flow": null,
       "grid_auto_rows": null,
       "grid_column": null,
       "grid_gap": null,
       "grid_row": null,
       "grid_template_areas": null,
       "grid_template_columns": null,
       "grid_template_rows": null,
       "height": null,
       "justify_content": null,
       "justify_items": null,
       "left": null,
       "margin": null,
       "max_height": null,
       "max_width": null,
       "min_height": null,
       "min_width": null,
       "object_fit": null,
       "object_position": null,
       "order": null,
       "overflow": null,
       "overflow_x": null,
       "overflow_y": null,
       "padding": null,
       "right": null,
       "top": null,
       "visibility": null,
       "width": null
      }
     },
     "c20f433941d740d78f28ee5ddad54efe": {
      "model_module": "@jupyter-widgets/controls",
      "model_module_version": "1.5.0",
      "model_name": "ProgressStyleModel",
      "state": {
       "_model_module": "@jupyter-widgets/controls",
       "_model_module_version": "1.5.0",
       "_model_name": "ProgressStyleModel",
       "_view_count": null,
       "_view_module": "@jupyter-widgets/base",
       "_view_module_version": "1.2.0",
       "_view_name": "StyleView",
       "bar_color": null,
       "description_width": ""
      }
     },
     "cf9fed5dd29a4168af55b866e5232b4e": {
      "model_module": "@jupyter-widgets/controls",
      "model_module_version": "1.5.0",
      "model_name": "HTMLModel",
      "state": {
       "_dom_classes": [],
       "_model_module": "@jupyter-widgets/controls",
       "_model_module_version": "1.5.0",
       "_model_name": "HTMLModel",
       "_view_count": null,
       "_view_module": "@jupyter-widgets/controls",
       "_view_module_version": "1.5.0",
       "_view_name": "HTMLView",
       "description": "",
       "description_tooltip": null,
       "layout": "IPY_MODEL_211e6a3e622b4c7c91c1fcd540b95aee",
       "placeholder": "​",
       "style": "IPY_MODEL_90a1d00553504126938c20affbdff12a",
       "value": "100%"
      }
     },
     "d7c5c8da5b1b4d84a45533a366077f54": {
      "model_module": "@jupyter-widgets/controls",
      "model_module_version": "1.5.0",
      "model_name": "DescriptionStyleModel",
      "state": {
       "_model_module": "@jupyter-widgets/controls",
       "_model_module_version": "1.5.0",
       "_model_name": "DescriptionStyleModel",
       "_view_count": null,
       "_view_module": "@jupyter-widgets/base",
       "_view_module_version": "1.2.0",
       "_view_name": "StyleView",
       "description_width": ""
      }
     },
     "fafe9dcf6bc44e95a75c2b3e93957614": {
      "model_module": "@jupyter-widgets/base",
      "model_module_version": "1.2.0",
      "model_name": "LayoutModel",
      "state": {
       "_model_module": "@jupyter-widgets/base",
       "_model_module_version": "1.2.0",
       "_model_name": "LayoutModel",
       "_view_count": null,
       "_view_module": "@jupyter-widgets/base",
       "_view_module_version": "1.2.0",
       "_view_name": "LayoutView",
       "align_content": null,
       "align_items": null,
       "align_self": null,
       "border": null,
       "bottom": null,
       "display": null,
       "flex": null,
       "flex_flow": null,
       "grid_area": null,
       "grid_auto_columns": null,
       "grid_auto_flow": null,
       "grid_auto_rows": null,
       "grid_column": null,
       "grid_gap": null,
       "grid_row": null,
       "grid_template_areas": null,
       "grid_template_columns": null,
       "grid_template_rows": null,
       "height": null,
       "justify_content": null,
       "justify_items": null,
       "left": null,
       "margin": null,
       "max_height": null,
       "max_width": null,
       "min_height": null,
       "min_width": null,
       "object_fit": null,
       "object_position": null,
       "order": null,
       "overflow": null,
       "overflow_x": null,
       "overflow_y": null,
       "padding": null,
       "right": null,
       "top": null,
       "visibility": null,
       "width": null
      }
     }
    },
    "version_major": 2,
    "version_minor": 0
   }
  }
 },
 "nbformat": 4,
 "nbformat_minor": 5
}
