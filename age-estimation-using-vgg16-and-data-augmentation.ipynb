{
 "cells": [
  {
   "cell_type": "markdown",
   "id": "3536894c",
   "metadata": {
    "papermill": {
     "duration": 0.010995,
     "end_time": "2022-09-12T13:15:35.208643",
     "exception": false,
     "start_time": "2022-09-12T13:15:35.197648",
     "status": "completed"
    },
    "tags": []
   },
   "source": [
    "# Age Estimation using VGG16 and Data Augmentation with Oversampling"
   ]
  },
  {
   "cell_type": "code",
   "execution_count": 1,
   "id": "c8ea76a7",
   "metadata": {
    "execution": {
     "iopub.execute_input": "2022-09-12T13:15:35.230896Z",
     "iopub.status.busy": "2022-09-12T13:15:35.230029Z",
     "iopub.status.idle": "2022-09-12T13:15:41.499020Z",
     "shell.execute_reply": "2022-09-12T13:15:41.498022Z"
    },
    "id": "Ow9CX6i9bF7s",
    "papermill": {
     "duration": 6.282888,
     "end_time": "2022-09-12T13:15:41.501501",
     "exception": false,
     "start_time": "2022-09-12T13:15:35.218613",
     "status": "completed"
    },
    "tags": []
   },
   "outputs": [],
   "source": [
    "from keras.layers import Input, Lambda, Dense, Flatten\n",
    "from keras.models import Model\n",
    "from keras.applications.vgg16 import VGG16\n",
    "from keras.applications.vgg16 import preprocess_input\n",
    "from keras.preprocessing import image\n",
    "from keras.preprocessing.image import ImageDataGenerator\n",
    "from keras.models import Sequential\n",
    "from tensorflow.keras.models import load_model\n",
    "import numpy as np\n",
    "from glob import glob\n",
    "import matplotlib.pyplot as plt\n",
    "import tensorflow as tf\n",
    "from collections import Counter\n",
    "import warnings\n",
    "warnings.filterwarnings(\"ignore\", category=FutureWarning)\n",
    "from sklearn.utils import shuffle\n",
    "\n",
    "import pandas as pd\n",
    "import os\n",
    "import matplotlib.pyplot as plt\n",
    "import seaborn as sns\n",
    "\n",
    "from tqdm.notebook import tqdm\n",
    "\n",
    "%matplotlib inline\n",
    "\n",
    "from PIL import Image\n",
    "import shutil"
   ]
  },
  {
   "cell_type": "markdown",
   "id": "5e58c52e",
   "metadata": {
    "papermill": {
     "duration": 0.011981,
     "end_time": "2022-09-12T13:15:41.524102",
     "exception": false,
     "start_time": "2022-09-12T13:15:41.512121",
     "status": "completed"
    },
    "tags": []
   },
   "source": [
    "## Age estimation in age groups"
   ]
  },
  {
   "cell_type": "markdown",
   "id": "d74611ff",
   "metadata": {
    "papermill": {
     "duration": 0.009517,
     "end_time": "2022-09-12T13:15:41.543382",
     "exception": false,
     "start_time": "2022-09-12T13:15:41.533865",
     "status": "completed"
    },
    "tags": []
   },
   "source": [
    "### Set image size and variables "
   ]
  },
  {
   "cell_type": "code",
   "execution_count": 2,
   "id": "e40c66a6",
   "metadata": {
    "execution": {
     "iopub.execute_input": "2022-09-12T13:15:41.564731Z",
     "iopub.status.busy": "2022-09-12T13:15:41.564206Z",
     "iopub.status.idle": "2022-09-12T13:15:41.569006Z",
     "shell.execute_reply": "2022-09-12T13:15:41.568015Z"
    },
    "id": "Cq39lS9tcKIC",
    "papermill": {
     "duration": 0.017332,
     "end_time": "2022-09-12T13:15:41.570946",
     "exception": false,
     "start_time": "2022-09-12T13:15:41.553614",
     "status": "completed"
    },
    "tags": []
   },
   "outputs": [],
   "source": [
    "IMAGE_SIZE = [224,224]\n",
    "TRAIN_TEST_SPLIT = 0.3\n",
    "BASE_DIR = '../input/utkface-new/UTKFace/'\n",
    "NR_EPOCHS = 200"
   ]
  },
  {
   "cell_type": "markdown",
   "id": "adade106",
   "metadata": {
    "papermill": {
     "duration": 0.009873,
     "end_time": "2022-09-12T13:15:41.590412",
     "exception": false,
     "start_time": "2022-09-12T13:15:41.580539",
     "status": "completed"
    },
    "tags": []
   },
   "source": [
    "### Define methods map direct age to classes"
   ]
  },
  {
   "cell_type": "code",
   "execution_count": 3,
   "id": "0718f786",
   "metadata": {
    "execution": {
     "iopub.execute_input": "2022-09-12T13:15:41.610819Z",
     "iopub.status.busy": "2022-09-12T13:15:41.610541Z",
     "iopub.status.idle": "2022-09-12T13:15:41.616537Z",
     "shell.execute_reply": "2022-09-12T13:15:41.615630Z"
    },
    "papermill": {
     "duration": 0.01842,
     "end_time": "2022-09-12T13:15:41.618504",
     "exception": false,
     "start_time": "2022-09-12T13:15:41.600084",
     "status": "completed"
    },
    "tags": []
   },
   "outputs": [],
   "source": [
    "def age_to_class( age ):\n",
    "  age_class = None\n",
    "  # 0 (0-20)\n",
    "  if 0 <= age <= 20:\n",
    "    age_class = 0\n",
    "  # 1 (20-40)\n",
    "  if 20 < age <= 40:\n",
    "    age_class = 1\n",
    "  # 2 (40-60)\n",
    "  if 40 < age <= 60:\n",
    "    age_class = 2\n",
    "  # 3 (40-60)\n",
    "  if 60 < age <= 80:\n",
    "    age_class = 3\n",
    "  # 3 (80+)\n",
    "  if age > 80:\n",
    "    age_class = 4\n",
    "  return age_class\n",
    "\n",
    "# map age classes for age gaps\n",
    "age_dict = {0:'0-20', 1:'20-40',2:'40-60', 3:'60-80', 4:'80+'}\n",
    "\n",
    "def decode_age_label(age_id):\n",
    "  return age_dict[int(age_id)]"
   ]
  },
  {
   "cell_type": "markdown",
   "id": "772a35aa",
   "metadata": {
    "papermill": {
     "duration": 0.009476,
     "end_time": "2022-09-12T13:15:41.637627",
     "exception": false,
     "start_time": "2022-09-12T13:15:41.628151",
     "status": "completed"
    },
    "tags": []
   },
   "source": [
    "### Read input dataset"
   ]
  },
  {
   "cell_type": "code",
   "execution_count": 4,
   "id": "cdc565cb",
   "metadata": {
    "execution": {
     "iopub.execute_input": "2022-09-12T13:15:41.658689Z",
     "iopub.status.busy": "2022-09-12T13:15:41.657811Z",
     "iopub.status.idle": "2022-09-12T13:15:42.315659Z",
     "shell.execute_reply": "2022-09-12T13:15:42.314099Z"
    },
    "papermill": {
     "duration": 0.670607,
     "end_time": "2022-09-12T13:15:42.317847",
     "exception": false,
     "start_time": "2022-09-12T13:15:41.647240",
     "status": "completed"
    },
    "tags": []
   },
   "outputs": [
    {
     "data": {
      "application/vnd.jupyter.widget-view+json": {
       "model_id": "005f19b0631d4f368da58ca5a27b2ae7",
       "version_major": 2,
       "version_minor": 0
      },
      "text/plain": [
       "  0%|          | 0/23708 [00:00<?, ?it/s]"
      ]
     },
     "metadata": {},
     "output_type": "display_data"
    },
    {
     "name": "stdout",
     "output_type": "stream",
     "text": [
      "Counter({'20-40': 12123, '0-20': 4877, '40-60': 4311, '60-80': 1857, '80+': 540})\n"
     ]
    }
   ],
   "source": [
    "# read labels of image age, gender\n",
    "image_paths = []\n",
    "age_labels = []\n",
    "gender_labels =[]\n",
    "age_class = []\n",
    "\n",
    "for filename in tqdm(os.listdir(BASE_DIR)):\n",
    "  #read image path\n",
    "  image_path = os.path.join(BASE_DIR, filename)\n",
    "  #split filename to extract labels\n",
    "  temp= filename.split('_')\n",
    "  age = int(temp[0])\n",
    "  gender = int(temp[1])\n",
    "  image_paths.append(image_path)\n",
    "  age_labels.append(age)\n",
    "  gender_labels.append(gender)\n",
    "  age_class.append(age_to_class(age))\n",
    "\n",
    "# extract name of file \n",
    "names = []\n",
    "for path in image_paths:\n",
    "  temp = path.split('/')\n",
    "  names.append(temp[4])\n",
    "\n",
    "#convert to dataframe\n",
    "df = pd.DataFrame()\n",
    "df['image'], df['age'], df['gender'], df['age_class'], df['name'] = image_paths, age_labels, gender_labels, age_class, names\n",
    "df.head()\n",
    "df\n",
    "\n",
    "# get and print the number of images in dataframe\n",
    "age_verbose = [age_dict[int(age)] for age in df['age_class']]\n",
    "\n",
    "print(Counter(age_verbose))\n",
    "\n"
   ]
  },
  {
   "cell_type": "markdown",
   "id": "8cdd4c55",
   "metadata": {
    "papermill": {
     "duration": 0.009755,
     "end_time": "2022-09-12T13:15:42.337839",
     "exception": false,
     "start_time": "2022-09-12T13:15:42.328084",
     "status": "completed"
    },
    "tags": []
   },
   "source": [
    "### Shuffle and downsample dataset"
   ]
  },
  {
   "cell_type": "code",
   "execution_count": 5,
   "id": "a3c00d58",
   "metadata": {
    "execution": {
     "iopub.execute_input": "2022-09-12T13:15:42.358793Z",
     "iopub.status.busy": "2022-09-12T13:15:42.358495Z",
     "iopub.status.idle": "2022-09-12T13:15:42.369197Z",
     "shell.execute_reply": "2022-09-12T13:15:42.368324Z"
    },
    "papermill": {
     "duration": 0.023692,
     "end_time": "2022-09-12T13:15:42.371416",
     "exception": false,
     "start_time": "2022-09-12T13:15:42.347724",
     "status": "completed"
    },
    "tags": []
   },
   "outputs": [],
   "source": [
    "# shuffle dataset for downsampling\n",
    "df = shuffle(df)"
   ]
  },
  {
   "cell_type": "code",
   "execution_count": 6,
   "id": "018d0caf",
   "metadata": {
    "execution": {
     "iopub.execute_input": "2022-09-12T13:15:42.393230Z",
     "iopub.status.busy": "2022-09-12T13:15:42.392420Z",
     "iopub.status.idle": "2022-09-12T13:15:42.405249Z",
     "shell.execute_reply": "2022-09-12T13:15:42.404012Z"
    },
    "papermill": {
     "duration": 0.026357,
     "end_time": "2022-09-12T13:15:42.407755",
     "exception": false,
     "start_time": "2022-09-12T13:15:42.381398",
     "status": "completed"
    },
    "tags": []
   },
   "outputs": [
    {
     "name": "stdout",
     "output_type": "stream",
     "text": [
      "Counter({'40-60': 540, '0-20': 540, '20-40': 540, '60-80': 540, '80+': 540})\n"
     ]
    }
   ],
   "source": [
    "# downsampling \n",
    "n = df['age_class'].value_counts().min()\n",
    "\n",
    "df = df.groupby('age_class').head(n)\n",
    "age_verbose_n = [age_dict[int(age)] for age in df['age_class']]\n",
    "\n",
    "\n",
    "print(Counter(age_verbose_n))"
   ]
  },
  {
   "cell_type": "code",
   "execution_count": 7,
   "id": "f9535db8",
   "metadata": {
    "execution": {
     "iopub.execute_input": "2022-09-12T13:15:42.430266Z",
     "iopub.status.busy": "2022-09-12T13:15:42.429680Z",
     "iopub.status.idle": "2022-09-12T13:15:42.447765Z",
     "shell.execute_reply": "2022-09-12T13:15:42.446751Z"
    },
    "papermill": {
     "duration": 0.031876,
     "end_time": "2022-09-12T13:15:42.450458",
     "exception": false,
     "start_time": "2022-09-12T13:15:42.418582",
     "status": "completed"
    },
    "tags": []
   },
   "outputs": [
    {
     "data": {
      "text/html": [
       "<div>\n",
       "<style scoped>\n",
       "    .dataframe tbody tr th:only-of-type {\n",
       "        vertical-align: middle;\n",
       "    }\n",
       "\n",
       "    .dataframe tbody tr th {\n",
       "        vertical-align: top;\n",
       "    }\n",
       "\n",
       "    .dataframe thead th {\n",
       "        text-align: right;\n",
       "    }\n",
       "</style>\n",
       "<table border=\"1\" class=\"dataframe\">\n",
       "  <thead>\n",
       "    <tr style=\"text-align: right;\">\n",
       "      <th></th>\n",
       "      <th>image</th>\n",
       "      <th>age</th>\n",
       "      <th>gender</th>\n",
       "      <th>age_class</th>\n",
       "      <th>name</th>\n",
       "    </tr>\n",
       "  </thead>\n",
       "  <tbody>\n",
       "    <tr>\n",
       "      <th>15902</th>\n",
       "      <td>../input/utkface-new/UTKFace/46_0_3_2017011920...</td>\n",
       "      <td>46</td>\n",
       "      <td>0</td>\n",
       "      <td>2</td>\n",
       "      <td>46_0_3_20170119201157876.jpg.chip.jpg</td>\n",
       "    </tr>\n",
       "    <tr>\n",
       "      <th>16938</th>\n",
       "      <td>../input/utkface-new/UTKFace/13_1_0_2017010920...</td>\n",
       "      <td>13</td>\n",
       "      <td>1</td>\n",
       "      <td>0</td>\n",
       "      <td>13_1_0_20170109204325267.jpg.chip.jpg</td>\n",
       "    </tr>\n",
       "    <tr>\n",
       "      <th>9264</th>\n",
       "      <td>../input/utkface-new/UTKFace/56_1_1_2017011616...</td>\n",
       "      <td>56</td>\n",
       "      <td>1</td>\n",
       "      <td>2</td>\n",
       "      <td>56_1_1_20170116161657239.jpg.chip.jpg</td>\n",
       "    </tr>\n",
       "    <tr>\n",
       "      <th>7567</th>\n",
       "      <td>../input/utkface-new/UTKFace/30_0_0_2017011313...</td>\n",
       "      <td>30</td>\n",
       "      <td>0</td>\n",
       "      <td>1</td>\n",
       "      <td>30_0_0_20170113133232626.jpg.chip.jpg</td>\n",
       "    </tr>\n",
       "    <tr>\n",
       "      <th>1009</th>\n",
       "      <td>../input/utkface-new/UTKFace/35_0_0_2017011719...</td>\n",
       "      <td>35</td>\n",
       "      <td>0</td>\n",
       "      <td>1</td>\n",
       "      <td>35_0_0_20170117190124521.jpg.chip.jpg</td>\n",
       "    </tr>\n",
       "    <tr>\n",
       "      <th>...</th>\n",
       "      <td>...</td>\n",
       "      <td>...</td>\n",
       "      <td>...</td>\n",
       "      <td>...</td>\n",
       "      <td>...</td>\n",
       "    </tr>\n",
       "    <tr>\n",
       "      <th>10333</th>\n",
       "      <td>../input/utkface-new/UTKFace/85_1_0_2017011018...</td>\n",
       "      <td>85</td>\n",
       "      <td>1</td>\n",
       "      <td>4</td>\n",
       "      <td>85_1_0_20170110183935393.jpg.chip.jpg</td>\n",
       "    </tr>\n",
       "    <tr>\n",
       "      <th>14783</th>\n",
       "      <td>../input/utkface-new/UTKFace/82_0_0_2017011122...</td>\n",
       "      <td>82</td>\n",
       "      <td>0</td>\n",
       "      <td>4</td>\n",
       "      <td>82_0_0_20170111223913094.jpg.chip.jpg</td>\n",
       "    </tr>\n",
       "    <tr>\n",
       "      <th>16370</th>\n",
       "      <td>../input/utkface-new/UTKFace/82_0_0_2017011121...</td>\n",
       "      <td>82</td>\n",
       "      <td>0</td>\n",
       "      <td>4</td>\n",
       "      <td>82_0_0_20170111210717906.jpg.chip.jpg</td>\n",
       "    </tr>\n",
       "    <tr>\n",
       "      <th>2158</th>\n",
       "      <td>../input/utkface-new/UTKFace/83_1_0_2017011016...</td>\n",
       "      <td>83</td>\n",
       "      <td>1</td>\n",
       "      <td>4</td>\n",
       "      <td>83_1_0_20170110160644142.jpg.chip.jpg</td>\n",
       "    </tr>\n",
       "    <tr>\n",
       "      <th>6641</th>\n",
       "      <td>../input/utkface-new/UTKFace/85_0_0_2017011121...</td>\n",
       "      <td>85</td>\n",
       "      <td>0</td>\n",
       "      <td>4</td>\n",
       "      <td>85_0_0_20170111210559755.jpg.chip.jpg</td>\n",
       "    </tr>\n",
       "  </tbody>\n",
       "</table>\n",
       "<p>2700 rows × 5 columns</p>\n",
       "</div>"
      ],
      "text/plain": [
       "                                                   image  age  gender  \\\n",
       "15902  ../input/utkface-new/UTKFace/46_0_3_2017011920...   46       0   \n",
       "16938  ../input/utkface-new/UTKFace/13_1_0_2017010920...   13       1   \n",
       "9264   ../input/utkface-new/UTKFace/56_1_1_2017011616...   56       1   \n",
       "7567   ../input/utkface-new/UTKFace/30_0_0_2017011313...   30       0   \n",
       "1009   ../input/utkface-new/UTKFace/35_0_0_2017011719...   35       0   \n",
       "...                                                  ...  ...     ...   \n",
       "10333  ../input/utkface-new/UTKFace/85_1_0_2017011018...   85       1   \n",
       "14783  ../input/utkface-new/UTKFace/82_0_0_2017011122...   82       0   \n",
       "16370  ../input/utkface-new/UTKFace/82_0_0_2017011121...   82       0   \n",
       "2158   ../input/utkface-new/UTKFace/83_1_0_2017011016...   83       1   \n",
       "6641   ../input/utkface-new/UTKFace/85_0_0_2017011121...   85       0   \n",
       "\n",
       "       age_class                                   name  \n",
       "15902          2  46_0_3_20170119201157876.jpg.chip.jpg  \n",
       "16938          0  13_1_0_20170109204325267.jpg.chip.jpg  \n",
       "9264           2  56_1_1_20170116161657239.jpg.chip.jpg  \n",
       "7567           1  30_0_0_20170113133232626.jpg.chip.jpg  \n",
       "1009           1  35_0_0_20170117190124521.jpg.chip.jpg  \n",
       "...          ...                                    ...  \n",
       "10333          4  85_1_0_20170110183935393.jpg.chip.jpg  \n",
       "14783          4  82_0_0_20170111223913094.jpg.chip.jpg  \n",
       "16370          4  82_0_0_20170111210717906.jpg.chip.jpg  \n",
       "2158           4  83_1_0_20170110160644142.jpg.chip.jpg  \n",
       "6641           4  85_0_0_20170111210559755.jpg.chip.jpg  \n",
       "\n",
       "[2700 rows x 5 columns]"
      ]
     },
     "execution_count": 7,
     "metadata": {},
     "output_type": "execute_result"
    }
   ],
   "source": [
    "# check dataframe\n",
    "df "
   ]
  },
  {
   "cell_type": "markdown",
   "id": "12c8a290",
   "metadata": {
    "papermill": {
     "duration": 0.010009,
     "end_time": "2022-09-12T13:15:42.470778",
     "exception": false,
     "start_time": "2022-09-12T13:15:42.460769",
     "status": "completed"
    },
    "tags": []
   },
   "source": [
    "### Data Augmentation"
   ]
  },
  {
   "cell_type": "code",
   "execution_count": 8,
   "id": "aec9e8b1",
   "metadata": {
    "execution": {
     "iopub.execute_input": "2022-09-12T13:15:42.492551Z",
     "iopub.status.busy": "2022-09-12T13:15:42.491784Z",
     "iopub.status.idle": "2022-09-12T13:15:42.496526Z",
     "shell.execute_reply": "2022-09-12T13:15:42.495690Z"
    },
    "papermill": {
     "duration": 0.017651,
     "end_time": "2022-09-12T13:15:42.498532",
     "exception": false,
     "start_time": "2022-09-12T13:15:42.480881",
     "status": "completed"
    },
    "tags": []
   },
   "outputs": [],
   "source": [
    "# create new folder for Data Augmentation\n",
    "os.mkdir('./ds')"
   ]
  },
  {
   "cell_type": "code",
   "execution_count": 9,
   "id": "dd9c6480",
   "metadata": {
    "execution": {
     "iopub.execute_input": "2022-09-12T13:15:42.520716Z",
     "iopub.status.busy": "2022-09-12T13:15:42.520459Z",
     "iopub.status.idle": "2022-09-12T13:15:53.469245Z",
     "shell.execute_reply": "2022-09-12T13:15:53.468257Z"
    },
    "papermill": {
     "duration": 10.962753,
     "end_time": "2022-09-12T13:15:53.471430",
     "exception": false,
     "start_time": "2022-09-12T13:15:42.508677",
     "status": "completed"
    },
    "tags": []
   },
   "outputs": [
    {
     "name": "stdout",
     "output_type": "stream",
     "text": [
      "finished copying images\n"
     ]
    }
   ],
   "source": [
    "# copy all images of the downsampled df\n",
    "image_list = df['image']\n",
    "name_list = df['name']\n",
    "source = '../input/utkface-new/'\n",
    "#dest =  '../ds/'\n",
    "dest = './ds/'\n",
    "\n",
    "for key, val in df.iterrows():\n",
    "    shutil.copyfile(val['image'], dest+val['name'])\n",
    "\n",
    "print(\"finished copying images\")"
   ]
  },
  {
   "cell_type": "code",
   "execution_count": 10,
   "id": "531d033f",
   "metadata": {
    "execution": {
     "iopub.execute_input": "2022-09-12T13:15:53.494633Z",
     "iopub.status.busy": "2022-09-12T13:15:53.493661Z",
     "iopub.status.idle": "2022-09-12T13:15:53.498127Z",
     "shell.execute_reply": "2022-09-12T13:15:53.497299Z"
    },
    "papermill": {
     "duration": 0.017793,
     "end_time": "2022-09-12T13:15:53.500057",
     "exception": false,
     "start_time": "2022-09-12T13:15:53.482264",
     "status": "completed"
    },
    "tags": []
   },
   "outputs": [],
   "source": [
    "#zip for better download\n",
    "#shutil.make_archive('new_ds', 'zip', dest)"
   ]
  },
  {
   "cell_type": "code",
   "execution_count": 11,
   "id": "7185669e",
   "metadata": {
    "execution": {
     "iopub.execute_input": "2022-09-12T13:15:53.521665Z",
     "iopub.status.busy": "2022-09-12T13:15:53.521404Z",
     "iopub.status.idle": "2022-09-12T13:15:53.525096Z",
     "shell.execute_reply": "2022-09-12T13:15:53.524069Z"
    },
    "papermill": {
     "duration": 0.016886,
     "end_time": "2022-09-12T13:15:53.527106",
     "exception": false,
     "start_time": "2022-09-12T13:15:53.510220",
     "status": "completed"
    },
    "tags": []
   },
   "outputs": [],
   "source": [
    "# remove folder for new run\n",
    "#shutil.rmtree('./ds/output/')"
   ]
  },
  {
   "cell_type": "code",
   "execution_count": 12,
   "id": "43922b4e",
   "metadata": {
    "execution": {
     "iopub.execute_input": "2022-09-12T13:15:53.549226Z",
     "iopub.status.busy": "2022-09-12T13:15:53.548399Z",
     "iopub.status.idle": "2022-09-12T13:18:45.546022Z",
     "shell.execute_reply": "2022-09-12T13:18:45.545057Z"
    },
    "papermill": {
     "duration": 172.399054,
     "end_time": "2022-09-12T13:18:45.936626",
     "exception": false,
     "start_time": "2022-09-12T13:15:53.537572",
     "status": "completed"
    },
    "tags": []
   },
   "outputs": [
    {
     "name": "stdout",
     "output_type": "stream",
     "text": [
      "Collecting Augmentor\r\n",
      "  Downloading Augmentor-0.2.10-py2.py3-none-any.whl (38 kB)\r\n",
      "Requirement already satisfied: numpy>=1.11.0 in /opt/conda/lib/python3.7/site-packages (from Augmentor) (1.21.6)\r\n",
      "Requirement already satisfied: future>=0.16.0 in /opt/conda/lib/python3.7/site-packages (from Augmentor) (0.18.2)\r\n",
      "Requirement already satisfied: Pillow>=5.2.0 in /opt/conda/lib/python3.7/site-packages (from Augmentor) (9.1.1)\r\n",
      "Requirement already satisfied: tqdm>=4.9.0 in /opt/conda/lib/python3.7/site-packages (from Augmentor) (4.64.0)\r\n",
      "Installing collected packages: Augmentor\r\n",
      "Successfully installed Augmentor-0.2.10\r\n",
      "\u001b[33mWARNING: Running pip as the 'root' user can result in broken permissions and conflicting behaviour with the system package manager. It is recommended to use a virtual environment instead: https://pip.pypa.io/warnings/venv\u001b[0m\u001b[33m\r\n",
      "\u001b[0mInitialised with 2700 image(s) found.\n",
      "Output directory set to ./ds/output."
     ]
    },
    {
     "name": "stderr",
     "output_type": "stream",
     "text": [
      "Processing <PIL.Image.Image image mode=RGB size=224x224 at 0x7FC1C6ED70D0>: 100%|██████████| 16000/16000 [02:39<00:00, 100.03 Samples/s]\n"
     ]
    }
   ],
   "source": [
    "# use augmentor to increase the number of images\n",
    "!pip install Augmentor\n",
    "import Augmentor as aug\n",
    "\n",
    "p = aug.Pipeline(\"./ds\")\n",
    "p.resize(1, 224, 224, resample_filter=\"ANTIALIAS\")\n",
    "p.flip_left_right(0.5)\n",
    "p.rotate(probability=0.8, max_left_rotation=5, max_right_rotation=10)\n",
    "p.zoom(.2, 0.9, 1.25)\n",
    "p.shear(0.1, 0.01, 0.01)\n",
    "p.sample(16000)"
   ]
  },
  {
   "cell_type": "code",
   "execution_count": 13,
   "id": "c5ab7939",
   "metadata": {
    "execution": {
     "iopub.execute_input": "2022-09-12T13:18:47.843854Z",
     "iopub.status.busy": "2022-09-12T13:18:47.843275Z",
     "iopub.status.idle": "2022-09-12T13:18:53.664563Z",
     "shell.execute_reply": "2022-09-12T13:18:53.663655Z"
    },
    "papermill": {
     "duration": 6.775488,
     "end_time": "2022-09-12T13:18:53.667033",
     "exception": false,
     "start_time": "2022-09-12T13:18:46.891545",
     "status": "completed"
    },
    "tags": []
   },
   "outputs": [
    {
     "data": {
      "text/plain": [
       "'/kaggle/working/new_ds.zip'"
      ]
     },
     "execution_count": 13,
     "metadata": {},
     "output_type": "execute_result"
    }
   ],
   "source": [
    "#zip for better download\n",
    "shutil.make_archive('new_ds', 'zip', dest)"
   ]
  },
  {
   "cell_type": "markdown",
   "id": "46046f93",
   "metadata": {
    "papermill": {
     "duration": 1.190262,
     "end_time": "2022-09-12T13:18:55.753819",
     "exception": false,
     "start_time": "2022-09-12T13:18:54.563557",
     "status": "completed"
    },
    "tags": []
   },
   "source": [
    "### Split Dataset into validation and test set  "
   ]
  },
  {
   "cell_type": "code",
   "execution_count": 14,
   "id": "e354fc85",
   "metadata": {
    "execution": {
     "iopub.execute_input": "2022-09-12T13:18:57.593817Z",
     "iopub.status.busy": "2022-09-12T13:18:57.593432Z",
     "iopub.status.idle": "2022-09-12T13:18:57.608461Z",
     "shell.execute_reply": "2022-09-12T13:18:57.607069Z"
    },
    "papermill": {
     "duration": 0.910859,
     "end_time": "2022-09-12T13:18:57.610774",
     "exception": false,
     "start_time": "2022-09-12T13:18:56.699915",
     "status": "completed"
    },
    "tags": []
   },
   "outputs": [
    {
     "name": "stdout",
     "output_type": "stream",
     "text": [
      "No. of training examples: 2160\n",
      "No. of testing examples: 540\n"
     ]
    }
   ],
   "source": [
    "val_data = df.sample(frac=0.8, random_state=25)\n",
    "testing_data = df.drop(val_data.index)\n",
    "\n",
    " \n",
    "print(f\"No. of training examples: {val_data.shape[0]}\")\n",
    "print(f\"No. of testing examples: {testing_data.shape[0]}\")\n",
    "\n",
    "#X = extract_features(training_data['image'])"
   ]
  },
  {
   "cell_type": "code",
   "execution_count": 15,
   "id": "392d866e",
   "metadata": {
    "execution": {
     "iopub.execute_input": "2022-09-12T13:18:59.490568Z",
     "iopub.status.busy": "2022-09-12T13:18:59.490196Z",
     "iopub.status.idle": "2022-09-12T13:19:00.733943Z",
     "shell.execute_reply": "2022-09-12T13:19:00.732493Z"
    },
    "papermill": {
     "duration": 2.184618,
     "end_time": "2022-09-12T13:19:00.736247",
     "exception": false,
     "start_time": "2022-09-12T13:18:58.551629",
     "status": "completed"
    },
    "tags": []
   },
   "outputs": [
    {
     "name": "stdout",
     "output_type": "stream",
     "text": [
      "Found 2700 validated image filenames.\n",
      "Found 2160 validated image filenames.\n",
      "Found 540 validated image filenames.\n"
     ]
    }
   ],
   "source": [
    "from tensorflow.keras.preprocessing.image import ImageDataGenerator\n",
    "\n",
    "\n",
    "train_datagen = ImageDataGenerator(rescale=1./255,\n",
    "                               preprocessing_function=preprocess_input,\n",
    "                               rotation_range=15,\n",
    "                               width_shift_range=0.1,\n",
    "                               height_shift_range=0.1,\n",
    "                               shear_range=0.01,\n",
    "                               zoom_range=[0.9, 1.25],\n",
    "                               horizontal_flip=True,\n",
    "                               vertical_flip=False,\n",
    "                               fill_mode='reflect',\n",
    "                               data_format='channels_last',\n",
    "                               brightness_range=[0.5, 1.5])\n",
    "\n",
    "val_datagen = ImageDataGenerator(rescale=1./255,\n",
    "                                preprocessing_function=preprocess_input)\n",
    "\n",
    "\n",
    "CLASS_MODE = 'raw'\n",
    "BATCH_SIZE = 64\n",
    "BASE_DIR = '../input/utkface-new/UTKFace'\n",
    "\n",
    "train_generator = train_datagen.flow_from_dataframe(dataframe=df, \n",
    "                                                directory=BASE_DIR, \n",
    "                                                x_col='name', \n",
    "                                                y_col='age_class', \n",
    "                                                class_mode=CLASS_MODE,\n",
    "                                                batch_size=BATCH_SIZE, \n",
    "                                                shuffle=True, \n",
    "                                                target_size=IMAGE_SIZE)\n",
    "\n",
    "\n",
    "\n",
    "val_generator = val_datagen.flow_from_dataframe(dataframe=val_data, \n",
    "                                              directory=BASE_DIR, \n",
    "                                              x_col='name', \n",
    "                                              y_col='age_class', \n",
    "                                              class_mode=CLASS_MODE, \n",
    "                                              batch_size=BATCH_SIZE,\n",
    "                                              shuffle=False, \n",
    "                                              target_size=IMAGE_SIZE)\n",
    "\n",
    "test_generator = val_datagen.flow_from_dataframe(dataframe=testing_data, \n",
    "                                              directory=BASE_DIR, \n",
    "                                              x_col='name', \n",
    "                                              y_col='age_class', \n",
    "                                              class_mode=CLASS_MODE, \n",
    "                                              batch_size=BATCH_SIZE,\n",
    "                                              shuffle=False, \n",
    "                                              target_size=IMAGE_SIZE)\n"
   ]
  },
  {
   "cell_type": "code",
   "execution_count": 16,
   "id": "8793368d",
   "metadata": {
    "execution": {
     "iopub.execute_input": "2022-09-12T13:19:02.583318Z",
     "iopub.status.busy": "2022-09-12T13:19:02.582129Z",
     "iopub.status.idle": "2022-09-12T13:19:02.800192Z",
     "shell.execute_reply": "2022-09-12T13:19:02.799044Z"
    },
    "papermill": {
     "duration": 1.110713,
     "end_time": "2022-09-12T13:19:02.802334",
     "exception": false,
     "start_time": "2022-09-12T13:19:01.691621",
     "status": "completed"
    },
    "tags": []
   },
   "outputs": [
    {
     "name": "stderr",
     "output_type": "stream",
     "text": [
      "2022-09-12 13:19:02.592177: I tensorflow/core/profiler/lib/profiler_session.cc:131] Profiler session initializing.\n",
      "2022-09-12 13:19:02.592234: I tensorflow/core/profiler/lib/profiler_session.cc:146] Profiler session started.\n",
      "2022-09-12 13:19:02.654659: I tensorflow/core/profiler/internal/gpu/cupti_tracer.cc:1614] Profiler found 1 GPUs\n",
      "2022-09-12 13:19:02.693519: I tensorflow/core/profiler/lib/profiler_session.cc:164] Profiler session tear down.\n",
      "2022-09-12 13:19:02.693669: I tensorflow/core/profiler/internal/gpu/cupti_tracer.cc:1748] CUPTI activity buffer flushed\n"
     ]
    }
   ],
   "source": [
    "from pathlib import Path\n",
    "path = Path(\"./models\")\n",
    "path.mkdir(exist_ok=True)\n",
    "\n",
    "\n",
    "MODEL_PATH = \"./models/age_best_model.h5\"\n",
    "\n",
    "\n",
    "checkpoint = tf.keras.callbacks.ModelCheckpoint(MODEL_PATH, \n",
    "                                                monitor='val_sparse_categorical_accuracy', \n",
    "                                                verbose=1, \n",
    "                                                save_best_only=True, \n",
    "                                                mode='max')\n",
    "\n",
    "import datetime\n",
    "log_dir = '../tblogs/age_model_' + datetime.datetime.now().strftime('%y-%m-%d_%H-%M')\n",
    "tensorboard_callback = tf.keras.callbacks.TensorBoard(log_dir=log_dir, histogram_freq=0)\n",
    "\n"
   ]
  },
  {
   "cell_type": "markdown",
   "id": "7588c468",
   "metadata": {
    "papermill": {
     "duration": 0.951576,
     "end_time": "2022-09-12T13:19:04.702145",
     "exception": false,
     "start_time": "2022-09-12T13:19:03.750569",
     "status": "completed"
    },
    "tags": []
   },
   "source": [
    "### Build and load Model"
   ]
  },
  {
   "cell_type": "code",
   "execution_count": 17,
   "id": "d01dd2b2",
   "metadata": {
    "execution": {
     "iopub.execute_input": "2022-09-12T13:19:07.175420Z",
     "iopub.status.busy": "2022-09-12T13:19:07.174849Z",
     "iopub.status.idle": "2022-09-12T13:19:07.179809Z",
     "shell.execute_reply": "2022-09-12T13:19:07.178796Z"
    },
    "papermill": {
     "duration": 1.50504,
     "end_time": "2022-09-12T13:19:07.184228",
     "exception": false,
     "start_time": "2022-09-12T13:19:05.679188",
     "status": "completed"
    },
    "tags": []
   },
   "outputs": [],
   "source": [
    "# # detect and init the TPU\n",
    "# tpu = tf.distribute.cluster_resolver.TPUClusterResolver.connect()\n",
    "\n",
    "# # instantiate a distribution strategy\n",
    "# tpu_strategy = tf.distribute.experimental.TPUStrategy(tpu)"
   ]
  },
  {
   "cell_type": "code",
   "execution_count": 18,
   "id": "56ebfae3",
   "metadata": {
    "execution": {
     "iopub.execute_input": "2022-09-12T13:19:09.288874Z",
     "iopub.status.busy": "2022-09-12T13:19:09.288480Z",
     "iopub.status.idle": "2022-09-12T13:19:12.635424Z",
     "shell.execute_reply": "2022-09-12T13:19:12.634322Z"
    },
    "papermill": {
     "duration": 4.319008,
     "end_time": "2022-09-12T13:19:12.637534",
     "exception": false,
     "start_time": "2022-09-12T13:19:08.318526",
     "status": "completed"
    },
    "tags": []
   },
   "outputs": [
    {
     "name": "stderr",
     "output_type": "stream",
     "text": [
      "2022-09-12 13:19:09.333627: I tensorflow/stream_executor/cuda/cuda_gpu_executor.cc:937] successful NUMA node read from SysFS had negative value (-1), but there must be at least one NUMA node, so returning NUMA node zero\n"
     ]
    },
    {
     "name": "stdout",
     "output_type": "stream",
     "text": [
      "Downloading data from https://storage.googleapis.com/tensorflow/keras-applications/vgg16/vgg16_weights_tf_dim_ordering_tf_kernels_notop.h5\n",
      "   16384/58889256 [..............................] - ETA: 0s"
     ]
    },
    {
     "name": "stderr",
     "output_type": "stream",
     "text": [
      "2022-09-12 13:19:09.490078: I tensorflow/stream_executor/cuda/cuda_gpu_executor.cc:937] successful NUMA node read from SysFS had negative value (-1), but there must be at least one NUMA node, so returning NUMA node zero\n",
      "2022-09-12 13:19:09.490950: I tensorflow/stream_executor/cuda/cuda_gpu_executor.cc:937] successful NUMA node read from SysFS had negative value (-1), but there must be at least one NUMA node, so returning NUMA node zero\n",
      "2022-09-12 13:19:09.492167: I tensorflow/core/platform/cpu_feature_guard.cc:142] This TensorFlow binary is optimized with oneAPI Deep Neural Network Library (oneDNN) to use the following CPU instructions in performance-critical operations:  AVX2 AVX512F FMA\n",
      "To enable them in other operations, rebuild TensorFlow with the appropriate compiler flags.\n",
      "2022-09-12 13:19:09.492456: I tensorflow/stream_executor/cuda/cuda_gpu_executor.cc:937] successful NUMA node read from SysFS had negative value (-1), but there must be at least one NUMA node, so returning NUMA node zero\n",
      "2022-09-12 13:19:09.493151: I tensorflow/stream_executor/cuda/cuda_gpu_executor.cc:937] successful NUMA node read from SysFS had negative value (-1), but there must be at least one NUMA node, so returning NUMA node zero\n",
      "2022-09-12 13:19:09.493857: I tensorflow/stream_executor/cuda/cuda_gpu_executor.cc:937] successful NUMA node read from SysFS had negative value (-1), but there must be at least one NUMA node, so returning NUMA node zero\n",
      "2022-09-12 13:19:11.708196: I tensorflow/stream_executor/cuda/cuda_gpu_executor.cc:937] successful NUMA node read from SysFS had negative value (-1), but there must be at least one NUMA node, so returning NUMA node zero\n",
      "2022-09-12 13:19:11.709102: I tensorflow/stream_executor/cuda/cuda_gpu_executor.cc:937] successful NUMA node read from SysFS had negative value (-1), but there must be at least one NUMA node, so returning NUMA node zero\n",
      "2022-09-12 13:19:11.709777: I tensorflow/stream_executor/cuda/cuda_gpu_executor.cc:937] successful NUMA node read from SysFS had negative value (-1), but there must be at least one NUMA node, so returning NUMA node zero\n",
      "2022-09-12 13:19:11.710380: I tensorflow/core/common_runtime/gpu/gpu_device.cc:1510] Created device /job:localhost/replica:0/task:0/device:GPU:0 with 15401 MB memory:  -> device: 0, name: Tesla P100-PCIE-16GB, pci bus id: 0000:00:04.0, compute capability: 6.0\n"
     ]
    },
    {
     "name": "stdout",
     "output_type": "stream",
     "text": [
      "58892288/58889256 [==============================] - 0s 0us/step\n",
      "58900480/58889256 [==============================] - 0s 0us/step\n"
     ]
    },
    {
     "data": {
      "text/plain": [
       "[<KerasTensor: shape=(None, 224, 224, 3) dtype=float32 (created by layer 'input_1')>]"
      ]
     },
     "execution_count": 18,
     "metadata": {},
     "output_type": "execute_result"
    }
   ],
   "source": [
    "# load VGG16 without the last 3 Dense layers, in order to train these new\n",
    "vgg = VGG16(input_shape=IMAGE_SIZE + [3], weights='imagenet', include_top=False)\n",
    "\n",
    "# check if input type is correct\n",
    "vgg.inputs"
   ]
  },
  {
   "cell_type": "code",
   "execution_count": 19,
   "id": "9905376b",
   "metadata": {
    "execution": {
     "iopub.execute_input": "2022-09-12T13:19:14.558728Z",
     "iopub.status.busy": "2022-09-12T13:19:14.558236Z",
     "iopub.status.idle": "2022-09-12T13:19:14.605396Z",
     "shell.execute_reply": "2022-09-12T13:19:14.604486Z"
    },
    "papermill": {
     "duration": 1.013811,
     "end_time": "2022-09-12T13:19:14.607715",
     "exception": false,
     "start_time": "2022-09-12T13:19:13.593904",
     "status": "completed"
    },
    "tags": []
   },
   "outputs": [],
   "source": [
    "# all layers before are locked\n",
    "for layer in vgg.layers:\n",
    "  layer.trainable = False\n",
    "\n",
    "\n",
    "x = Flatten()(vgg.output)\n",
    "x = Dense(4096, activation='sigmoid')(x)\n",
    "x = Dense(4096, activation='sigmoid')(x)\n",
    "prediction = Dense(5, activation='softmax')(x)\n",
    "model = Model(inputs=vgg.input, outputs=prediction)\n",
    "    \n",
    "model.compile(optimizer=tf.keras.optimizers.Adam(learning_rate=0.001),\n",
    "              loss=tf.keras.losses.SparseCategoricalCrossentropy(),\n",
    "              metrics=[tf.keras.metrics.SparseCategoricalAccuracy()])\n",
    "\n",
    "# model.summary()\n",
    "#tf.keras.utils.plot_model( model , to_file='architecture.png' )\n",
    "\n",
    "\n",
    "\n",
    "# with tpu_strategy.scope():\n",
    "#     x = Flatten()(vgg.output)\n",
    "#     x = Dense(4096, activation='sigmoid')(x)\n",
    "#     x = Dense(4096, activation='sigmoid')(x)\n",
    "#     prediction = Dense(5, activation='softmax')(x)\n",
    "#     model = Model(inputs=vgg.input, outputs=prediction)\n",
    "    \n",
    "#     model.compile(optimizer=tf.keras.optimizers.Adam(learning_rate=0.001),\n",
    "#               loss=tf.keras.losses.SparseCategoricalCrossentropy(),\n",
    "#               metrics=[tf.keras.metrics.SparseCategoricalAccuracy()])"
   ]
  },
  {
   "cell_type": "code",
   "execution_count": 20,
   "id": "909d8a41",
   "metadata": {
    "execution": {
     "iopub.execute_input": "2022-09-12T13:19:16.594758Z",
     "iopub.status.busy": "2022-09-12T13:19:16.594150Z",
     "iopub.status.idle": "2022-09-12T16:32:11.028325Z",
     "shell.execute_reply": "2022-09-12T16:32:11.026896Z"
    },
    "papermill": {
     "duration": 11575.424299,
     "end_time": "2022-09-12T16:32:11.035422",
     "exception": false,
     "start_time": "2022-09-12T13:19:15.611123",
     "status": "completed"
    },
    "tags": []
   },
   "outputs": [
    {
     "name": "stderr",
     "output_type": "stream",
     "text": [
      "2022-09-12 13:19:17.909174: I tensorflow/compiler/mlir/mlir_graph_optimization_pass.cc:185] None of the MLIR Optimization Passes are enabled (registered 2)\n"
     ]
    },
    {
     "name": "stdout",
     "output_type": "stream",
     "text": [
      "Epoch 1/200\n"
     ]
    },
    {
     "name": "stderr",
     "output_type": "stream",
     "text": [
      "2022-09-12 13:19:20.511442: I tensorflow/stream_executor/cuda/cuda_dnn.cc:369] Loaded cuDNN version 8005\n"
     ]
    },
    {
     "name": "stdout",
     "output_type": "stream",
     "text": [
      " 1/43 [..............................] - ETA: 9:05 - loss: 1.8244 - sparse_categorical_accuracy: 0.2031"
     ]
    },
    {
     "name": "stderr",
     "output_type": "stream",
     "text": [
      "2022-09-12 13:19:30.957146: I tensorflow/core/profiler/lib/profiler_session.cc:131] Profiler session initializing.\n",
      "2022-09-12 13:19:30.957190: I tensorflow/core/profiler/lib/profiler_session.cc:146] Profiler session started.\n"
     ]
    },
    {
     "name": "stdout",
     "output_type": "stream",
     "text": [
      " 2/43 [>.............................] - ETA: 20s - loss: 9.3348 - sparse_categorical_accuracy: 0.2344 "
     ]
    },
    {
     "name": "stderr",
     "output_type": "stream",
     "text": [
      "2022-09-12 13:19:31.439985: I tensorflow/core/profiler/lib/profiler_session.cc:66] Profiler session collecting data.\n",
      "2022-09-12 13:19:31.440834: I tensorflow/core/profiler/internal/gpu/cupti_tracer.cc:1748] CUPTI activity buffer flushed\n",
      "2022-09-12 13:19:31.586301: I tensorflow/core/profiler/internal/gpu/cupti_collector.cc:673]  GpuTracer has collected 145 callback api events and 142 activity events. \n",
      "2022-09-12 13:19:31.595354: I tensorflow/core/profiler/lib/profiler_session.cc:164] Profiler session tear down.\n",
      "2022-09-12 13:19:31.615420: I tensorflow/core/profiler/rpc/client/save_profile.cc:136] Creating directory: ../tblogs/age_model_22-09-12_13-19/train/plugins/profile/2022_09_12_13_19_31\n",
      "\n",
      "2022-09-12 13:19:31.619850: I tensorflow/core/profiler/rpc/client/save_profile.cc:142] Dumped gzipped tool data for trace.json.gz to ../tblogs/age_model_22-09-12_13-19/train/plugins/profile/2022_09_12_13_19_31/cbad18baf338.trace.json.gz\n",
      "2022-09-12 13:19:31.643191: I tensorflow/core/profiler/rpc/client/save_profile.cc:136] Creating directory: ../tblogs/age_model_22-09-12_13-19/train/plugins/profile/2022_09_12_13_19_31\n",
      "\n",
      "2022-09-12 13:19:31.645896: I tensorflow/core/profiler/rpc/client/save_profile.cc:142] Dumped gzipped tool data for memory_profile.json.gz to ../tblogs/age_model_22-09-12_13-19/train/plugins/profile/2022_09_12_13_19_31/cbad18baf338.memory_profile.json.gz\n",
      "2022-09-12 13:19:31.646736: I tensorflow/core/profiler/rpc/client/capture_profile.cc:251] Creating directory: ../tblogs/age_model_22-09-12_13-19/train/plugins/profile/2022_09_12_13_19_31\n",
      "Dumped tool data for xplane.pb to ../tblogs/age_model_22-09-12_13-19/train/plugins/profile/2022_09_12_13_19_31/cbad18baf338.xplane.pb\n",
      "Dumped tool data for overview_page.pb to ../tblogs/age_model_22-09-12_13-19/train/plugins/profile/2022_09_12_13_19_31/cbad18baf338.overview_page.pb\n",
      "Dumped tool data for input_pipeline.pb to ../tblogs/age_model_22-09-12_13-19/train/plugins/profile/2022_09_12_13_19_31/cbad18baf338.input_pipeline.pb\n",
      "Dumped tool data for tensorflow_stats.pb to ../tblogs/age_model_22-09-12_13-19/train/plugins/profile/2022_09_12_13_19_31/cbad18baf338.tensorflow_stats.pb\n",
      "Dumped tool data for kernel_stats.pb to ../tblogs/age_model_22-09-12_13-19/train/plugins/profile/2022_09_12_13_19_31/cbad18baf338.kernel_stats.pb\n",
      "\n"
     ]
    },
    {
     "name": "stdout",
     "output_type": "stream",
     "text": [
      "43/43 [==============================] - 68s 1s/step - loss: 3.7753 - sparse_categorical_accuracy: 0.2304 - val_loss: 1.5721 - val_sparse_categorical_accuracy: 0.3782\n",
      "\n",
      "Epoch 00001: val_sparse_categorical_accuracy improved from -inf to 0.37824, saving model to ./models/age_best_model.h5\n",
      "Epoch 2/200\n",
      "43/43 [==============================] - 52s 1s/step - loss: 1.3864 - sparse_categorical_accuracy: 0.3963 - val_loss: 1.1392 - val_sparse_categorical_accuracy: 0.5046\n",
      "\n",
      "Epoch 00002: val_sparse_categorical_accuracy improved from 0.37824 to 0.50463, saving model to ./models/age_best_model.h5\n",
      "Epoch 3/200\n",
      "43/43 [==============================] - 52s 1s/step - loss: 1.1587 - sparse_categorical_accuracy: 0.4796 - val_loss: 1.0230 - val_sparse_categorical_accuracy: 0.5222\n",
      "\n",
      "Epoch 00003: val_sparse_categorical_accuracy improved from 0.50463 to 0.52222, saving model to ./models/age_best_model.h5\n",
      "Epoch 4/200\n",
      "43/43 [==============================] - 51s 1s/step - loss: 1.0432 - sparse_categorical_accuracy: 0.5367 - val_loss: 0.9439 - val_sparse_categorical_accuracy: 0.5954\n",
      "\n",
      "Epoch 00004: val_sparse_categorical_accuracy improved from 0.52222 to 0.59537, saving model to ./models/age_best_model.h5\n",
      "Epoch 5/200\n",
      "43/43 [==============================] - 50s 1s/step - loss: 1.0001 - sparse_categorical_accuracy: 0.5656 - val_loss: 0.8878 - val_sparse_categorical_accuracy: 0.6148\n",
      "\n",
      "Epoch 00005: val_sparse_categorical_accuracy improved from 0.59537 to 0.61481, saving model to ./models/age_best_model.h5\n",
      "Epoch 6/200\n",
      "43/43 [==============================] - 52s 1s/step - loss: 0.9822 - sparse_categorical_accuracy: 0.5804 - val_loss: 0.8389 - val_sparse_categorical_accuracy: 0.6495\n",
      "\n",
      "Epoch 00006: val_sparse_categorical_accuracy improved from 0.61481 to 0.64954, saving model to ./models/age_best_model.h5\n",
      "Epoch 7/200\n",
      "43/43 [==============================] - 52s 1s/step - loss: 0.9498 - sparse_categorical_accuracy: 0.5893 - val_loss: 0.8069 - val_sparse_categorical_accuracy: 0.6509\n",
      "\n",
      "Epoch 00007: val_sparse_categorical_accuracy improved from 0.64954 to 0.65093, saving model to ./models/age_best_model.h5\n",
      "Epoch 8/200\n",
      "43/43 [==============================] - 52s 1s/step - loss: 0.9344 - sparse_categorical_accuracy: 0.5837 - val_loss: 0.8137 - val_sparse_categorical_accuracy: 0.6403\n",
      "\n",
      "Epoch 00008: val_sparse_categorical_accuracy did not improve from 0.65093\n",
      "Epoch 9/200\n",
      "43/43 [==============================] - 51s 1s/step - loss: 0.9477 - sparse_categorical_accuracy: 0.5915 - val_loss: 0.7910 - val_sparse_categorical_accuracy: 0.6681\n",
      "\n",
      "Epoch 00009: val_sparse_categorical_accuracy improved from 0.65093 to 0.66806, saving model to ./models/age_best_model.h5\n",
      "Epoch 10/200\n",
      "43/43 [==============================] - 52s 1s/step - loss: 0.8706 - sparse_categorical_accuracy: 0.6215 - val_loss: 0.7844 - val_sparse_categorical_accuracy: 0.6639\n",
      "\n",
      "Epoch 00010: val_sparse_categorical_accuracy did not improve from 0.66806\n",
      "Epoch 11/200\n",
      "43/43 [==============================] - 51s 1s/step - loss: 0.9202 - sparse_categorical_accuracy: 0.5981 - val_loss: 0.8622 - val_sparse_categorical_accuracy: 0.5889\n",
      "\n",
      "Epoch 00011: val_sparse_categorical_accuracy did not improve from 0.66806\n",
      "Epoch 12/200\n",
      "43/43 [==============================] - 50s 1s/step - loss: 0.8662 - sparse_categorical_accuracy: 0.6259 - val_loss: 0.7944 - val_sparse_categorical_accuracy: 0.6574\n",
      "\n",
      "Epoch 00012: val_sparse_categorical_accuracy did not improve from 0.66806\n",
      "Epoch 13/200\n",
      "43/43 [==============================] - 50s 1s/step - loss: 0.8678 - sparse_categorical_accuracy: 0.6337 - val_loss: 0.7463 - val_sparse_categorical_accuracy: 0.6801\n",
      "\n",
      "Epoch 00013: val_sparse_categorical_accuracy improved from 0.66806 to 0.68009, saving model to ./models/age_best_model.h5\n",
      "Epoch 14/200\n",
      "43/43 [==============================] - 51s 1s/step - loss: 0.8601 - sparse_categorical_accuracy: 0.6315 - val_loss: 0.9086 - val_sparse_categorical_accuracy: 0.6222\n",
      "\n",
      "Epoch 00014: val_sparse_categorical_accuracy did not improve from 0.68009\n",
      "Epoch 15/200\n",
      "43/43 [==============================] - 50s 1s/step - loss: 0.8718 - sparse_categorical_accuracy: 0.6196 - val_loss: 1.1650 - val_sparse_categorical_accuracy: 0.5162\n",
      "\n",
      "Epoch 00015: val_sparse_categorical_accuracy did not improve from 0.68009\n",
      "Epoch 16/200\n",
      "43/43 [==============================] - 52s 1s/step - loss: 0.8898 - sparse_categorical_accuracy: 0.6170 - val_loss: 0.6996 - val_sparse_categorical_accuracy: 0.6889\n",
      "\n",
      "Epoch 00016: val_sparse_categorical_accuracy improved from 0.68009 to 0.68889, saving model to ./models/age_best_model.h5\n",
      "Epoch 17/200\n",
      "43/43 [==============================] - 51s 1s/step - loss: 0.8491 - sparse_categorical_accuracy: 0.6185 - val_loss: 0.6806 - val_sparse_categorical_accuracy: 0.7236\n",
      "\n",
      "Epoch 00017: val_sparse_categorical_accuracy improved from 0.68889 to 0.72361, saving model to ./models/age_best_model.h5\n",
      "Epoch 18/200\n",
      "43/43 [==============================] - 53s 1s/step - loss: 0.8210 - sparse_categorical_accuracy: 0.6478 - val_loss: 0.7868 - val_sparse_categorical_accuracy: 0.6662\n",
      "\n",
      "Epoch 00018: val_sparse_categorical_accuracy did not improve from 0.72361\n",
      "Epoch 19/200\n",
      "43/43 [==============================] - 52s 1s/step - loss: 0.9232 - sparse_categorical_accuracy: 0.6133 - val_loss: 0.7128 - val_sparse_categorical_accuracy: 0.7171\n",
      "\n",
      "Epoch 00019: val_sparse_categorical_accuracy did not improve from 0.72361\n",
      "Epoch 20/200\n",
      "43/43 [==============================] - 49s 1s/step - loss: 0.8204 - sparse_categorical_accuracy: 0.6511 - val_loss: 0.7315 - val_sparse_categorical_accuracy: 0.6759\n",
      "\n",
      "Epoch 00020: val_sparse_categorical_accuracy did not improve from 0.72361\n",
      "Epoch 21/200\n",
      "43/43 [==============================] - 50s 1s/step - loss: 0.7999 - sparse_categorical_accuracy: 0.6674 - val_loss: 0.6628 - val_sparse_categorical_accuracy: 0.7204\n",
      "\n",
      "Epoch 00021: val_sparse_categorical_accuracy did not improve from 0.72361\n",
      "Epoch 22/200\n",
      "43/43 [==============================] - 51s 1s/step - loss: 0.7924 - sparse_categorical_accuracy: 0.6656 - val_loss: 0.6918 - val_sparse_categorical_accuracy: 0.7213\n",
      "\n",
      "Epoch 00022: val_sparse_categorical_accuracy did not improve from 0.72361\n",
      "Epoch 23/200\n",
      "43/43 [==============================] - 50s 1s/step - loss: 0.8702 - sparse_categorical_accuracy: 0.6370 - val_loss: 0.6726 - val_sparse_categorical_accuracy: 0.7153\n",
      "\n",
      "Epoch 00023: val_sparse_categorical_accuracy did not improve from 0.72361\n",
      "Epoch 24/200\n",
      "43/43 [==============================] - 49s 1s/step - loss: 0.7990 - sparse_categorical_accuracy: 0.6630 - val_loss: 0.6128 - val_sparse_categorical_accuracy: 0.7528\n",
      "\n",
      "Epoch 00024: val_sparse_categorical_accuracy improved from 0.72361 to 0.75278, saving model to ./models/age_best_model.h5\n",
      "Epoch 25/200\n",
      "43/43 [==============================] - 51s 1s/step - loss: 0.7661 - sparse_categorical_accuracy: 0.6719 - val_loss: 0.6718 - val_sparse_categorical_accuracy: 0.7236\n",
      "\n",
      "Epoch 00025: val_sparse_categorical_accuracy did not improve from 0.75278\n",
      "Epoch 26/200\n",
      "43/43 [==============================] - 51s 1s/step - loss: 0.8195 - sparse_categorical_accuracy: 0.6493 - val_loss: 0.6139 - val_sparse_categorical_accuracy: 0.7588\n",
      "\n",
      "Epoch 00026: val_sparse_categorical_accuracy improved from 0.75278 to 0.75880, saving model to ./models/age_best_model.h5\n",
      "Epoch 27/200\n",
      "43/43 [==============================] - 53s 1s/step - loss: 0.7887 - sparse_categorical_accuracy: 0.6626 - val_loss: 0.6156 - val_sparse_categorical_accuracy: 0.7486\n",
      "\n",
      "Epoch 00027: val_sparse_categorical_accuracy did not improve from 0.75880\n",
      "Epoch 28/200\n",
      "43/43 [==============================] - 52s 1s/step - loss: 0.8007 - sparse_categorical_accuracy: 0.6604 - val_loss: 0.6927 - val_sparse_categorical_accuracy: 0.6995\n",
      "\n",
      "Epoch 00028: val_sparse_categorical_accuracy did not improve from 0.75880\n",
      "Epoch 29/200\n",
      "43/43 [==============================] - 51s 1s/step - loss: 0.8590 - sparse_categorical_accuracy: 0.6333 - val_loss: 0.6362 - val_sparse_categorical_accuracy: 0.7491\n",
      "\n",
      "Epoch 00029: val_sparse_categorical_accuracy did not improve from 0.75880\n",
      "Epoch 30/200\n",
      "43/43 [==============================] - 51s 1s/step - loss: 0.7433 - sparse_categorical_accuracy: 0.6822 - val_loss: 0.6132 - val_sparse_categorical_accuracy: 0.7394\n",
      "\n",
      "Epoch 00030: val_sparse_categorical_accuracy did not improve from 0.75880\n",
      "Epoch 31/200\n",
      "43/43 [==============================] - 50s 1s/step - loss: 0.7314 - sparse_categorical_accuracy: 0.6870 - val_loss: 0.6832 - val_sparse_categorical_accuracy: 0.7032\n",
      "\n",
      "Epoch 00031: val_sparse_categorical_accuracy did not improve from 0.75880\n",
      "Epoch 32/200\n",
      "43/43 [==============================] - 49s 1s/step - loss: 0.7831 - sparse_categorical_accuracy: 0.6567 - val_loss: 0.6212 - val_sparse_categorical_accuracy: 0.7380\n",
      "\n",
      "Epoch 00032: val_sparse_categorical_accuracy did not improve from 0.75880\n",
      "Epoch 33/200\n",
      "43/43 [==============================] - 50s 1s/step - loss: 0.8340 - sparse_categorical_accuracy: 0.6448 - val_loss: 0.6302 - val_sparse_categorical_accuracy: 0.7352\n",
      "\n",
      "Epoch 00033: val_sparse_categorical_accuracy did not improve from 0.75880\n",
      "Epoch 34/200\n",
      "43/43 [==============================] - 51s 1s/step - loss: 0.8425 - sparse_categorical_accuracy: 0.6274 - val_loss: 0.6532 - val_sparse_categorical_accuracy: 0.7278\n",
      "\n",
      "Epoch 00034: val_sparse_categorical_accuracy did not improve from 0.75880\n",
      "Epoch 35/200\n",
      "43/43 [==============================] - 50s 1s/step - loss: 0.7406 - sparse_categorical_accuracy: 0.6867 - val_loss: 0.6152 - val_sparse_categorical_accuracy: 0.7338\n",
      "\n",
      "Epoch 00035: val_sparse_categorical_accuracy did not improve from 0.75880\n",
      "Epoch 36/200\n",
      "43/43 [==============================] - 51s 1s/step - loss: 0.7893 - sparse_categorical_accuracy: 0.6719 - val_loss: 0.6109 - val_sparse_categorical_accuracy: 0.7514\n",
      "\n",
      "Epoch 00036: val_sparse_categorical_accuracy did not improve from 0.75880\n",
      "Epoch 37/200\n",
      "43/43 [==============================] - 50s 1s/step - loss: 0.7328 - sparse_categorical_accuracy: 0.6974 - val_loss: 0.6109 - val_sparse_categorical_accuracy: 0.7384\n",
      "\n",
      "Epoch 00037: val_sparse_categorical_accuracy did not improve from 0.75880\n",
      "Epoch 38/200\n",
      "43/43 [==============================] - 52s 1s/step - loss: 0.7255 - sparse_categorical_accuracy: 0.6937 - val_loss: 0.5686 - val_sparse_categorical_accuracy: 0.7745\n",
      "\n",
      "Epoch 00038: val_sparse_categorical_accuracy improved from 0.75880 to 0.77454, saving model to ./models/age_best_model.h5\n",
      "Epoch 39/200\n",
      "43/43 [==============================] - 51s 1s/step - loss: 0.7578 - sparse_categorical_accuracy: 0.6896 - val_loss: 0.7027 - val_sparse_categorical_accuracy: 0.6847\n",
      "\n",
      "Epoch 00039: val_sparse_categorical_accuracy did not improve from 0.77454\n",
      "Epoch 40/200\n",
      "43/43 [==============================] - 48s 1s/step - loss: 0.7505 - sparse_categorical_accuracy: 0.6852 - val_loss: 0.6451 - val_sparse_categorical_accuracy: 0.7259\n",
      "\n",
      "Epoch 00040: val_sparse_categorical_accuracy did not improve from 0.77454\n",
      "Epoch 41/200\n",
      "43/43 [==============================] - 51s 1s/step - loss: 0.7789 - sparse_categorical_accuracy: 0.6711 - val_loss: 0.6232 - val_sparse_categorical_accuracy: 0.7306\n",
      "\n",
      "Epoch 00041: val_sparse_categorical_accuracy did not improve from 0.77454\n",
      "Epoch 42/200\n",
      "43/43 [==============================] - 50s 1s/step - loss: 0.7509 - sparse_categorical_accuracy: 0.6793 - val_loss: 0.5546 - val_sparse_categorical_accuracy: 0.7769\n",
      "\n",
      "Epoch 00042: val_sparse_categorical_accuracy improved from 0.77454 to 0.77685, saving model to ./models/age_best_model.h5\n",
      "Epoch 43/200\n",
      "43/43 [==============================] - 51s 1s/step - loss: 0.7408 - sparse_categorical_accuracy: 0.6837 - val_loss: 0.5633 - val_sparse_categorical_accuracy: 0.7588\n",
      "\n",
      "Epoch 00043: val_sparse_categorical_accuracy did not improve from 0.77685\n",
      "Epoch 44/200\n",
      "43/43 [==============================] - 52s 1s/step - loss: 0.7442 - sparse_categorical_accuracy: 0.6907 - val_loss: 0.6080 - val_sparse_categorical_accuracy: 0.7421\n",
      "\n",
      "Epoch 00044: val_sparse_categorical_accuracy did not improve from 0.77685\n",
      "Epoch 45/200\n",
      "43/43 [==============================] - 53s 1s/step - loss: 0.6898 - sparse_categorical_accuracy: 0.7137 - val_loss: 0.5855 - val_sparse_categorical_accuracy: 0.7639\n",
      "\n",
      "Epoch 00045: val_sparse_categorical_accuracy did not improve from 0.77685\n",
      "Epoch 46/200\n",
      "43/43 [==============================] - 51s 1s/step - loss: 0.7729 - sparse_categorical_accuracy: 0.6678 - val_loss: 0.5667 - val_sparse_categorical_accuracy: 0.7681\n",
      "\n",
      "Epoch 00046: val_sparse_categorical_accuracy did not improve from 0.77685\n",
      "Epoch 47/200\n",
      "43/43 [==============================] - 51s 1s/step - loss: 0.7446 - sparse_categorical_accuracy: 0.6978 - val_loss: 0.5607 - val_sparse_categorical_accuracy: 0.7653\n",
      "\n",
      "Epoch 00047: val_sparse_categorical_accuracy did not improve from 0.77685\n",
      "Epoch 48/200\n",
      "43/43 [==============================] - 51s 1s/step - loss: 0.7295 - sparse_categorical_accuracy: 0.6885 - val_loss: 0.6970 - val_sparse_categorical_accuracy: 0.6944\n",
      "\n",
      "Epoch 00048: val_sparse_categorical_accuracy did not improve from 0.77685\n",
      "Epoch 49/200\n",
      "43/43 [==============================] - 51s 1s/step - loss: 0.7395 - sparse_categorical_accuracy: 0.6837 - val_loss: 0.6126 - val_sparse_categorical_accuracy: 0.7551\n",
      "\n",
      "Epoch 00049: val_sparse_categorical_accuracy did not improve from 0.77685\n",
      "Epoch 50/200\n",
      "43/43 [==============================] - 50s 1s/step - loss: 0.7407 - sparse_categorical_accuracy: 0.6944 - val_loss: 0.6124 - val_sparse_categorical_accuracy: 0.7389\n",
      "\n",
      "Epoch 00050: val_sparse_categorical_accuracy did not improve from 0.77685\n",
      "Epoch 51/200\n",
      "43/43 [==============================] - 49s 1s/step - loss: 0.7686 - sparse_categorical_accuracy: 0.6730 - val_loss: 0.6930 - val_sparse_categorical_accuracy: 0.7046\n",
      "\n",
      "Epoch 00051: val_sparse_categorical_accuracy did not improve from 0.77685\n",
      "Epoch 52/200\n",
      "43/43 [==============================] - 51s 1s/step - loss: 0.7472 - sparse_categorical_accuracy: 0.6956 - val_loss: 0.6970 - val_sparse_categorical_accuracy: 0.7032\n",
      "\n",
      "Epoch 00052: val_sparse_categorical_accuracy did not improve from 0.77685\n",
      "Epoch 53/200\n",
      "43/43 [==============================] - 49s 1s/step - loss: 0.6928 - sparse_categorical_accuracy: 0.7144 - val_loss: 0.5694 - val_sparse_categorical_accuracy: 0.7685\n",
      "\n",
      "Epoch 00053: val_sparse_categorical_accuracy did not improve from 0.77685\n",
      "Epoch 54/200\n",
      "43/43 [==============================] - 51s 1s/step - loss: 0.7440 - sparse_categorical_accuracy: 0.6907 - val_loss: 0.5686 - val_sparse_categorical_accuracy: 0.7898\n",
      "\n",
      "Epoch 00054: val_sparse_categorical_accuracy improved from 0.77685 to 0.78981, saving model to ./models/age_best_model.h5\n",
      "Epoch 55/200\n",
      "43/43 [==============================] - 52s 1s/step - loss: 0.6384 - sparse_categorical_accuracy: 0.7367 - val_loss: 0.6809 - val_sparse_categorical_accuracy: 0.7046\n",
      "\n",
      "Epoch 00055: val_sparse_categorical_accuracy did not improve from 0.78981\n",
      "Epoch 56/200\n",
      "43/43 [==============================] - 49s 1s/step - loss: 0.7599 - sparse_categorical_accuracy: 0.6733 - val_loss: 0.5995 - val_sparse_categorical_accuracy: 0.7287\n",
      "\n",
      "Epoch 00056: val_sparse_categorical_accuracy did not improve from 0.78981\n",
      "Epoch 57/200\n",
      "43/43 [==============================] - 51s 1s/step - loss: 0.7022 - sparse_categorical_accuracy: 0.7096 - val_loss: 0.5474 - val_sparse_categorical_accuracy: 0.7889\n",
      "\n",
      "Epoch 00057: val_sparse_categorical_accuracy did not improve from 0.78981\n",
      "Epoch 58/200\n",
      "43/43 [==============================] - 49s 1s/step - loss: 0.6751 - sparse_categorical_accuracy: 0.7115 - val_loss: 0.5170 - val_sparse_categorical_accuracy: 0.7880\n",
      "\n",
      "Epoch 00058: val_sparse_categorical_accuracy did not improve from 0.78981\n",
      "Epoch 59/200\n",
      "43/43 [==============================] - 50s 1s/step - loss: 0.6791 - sparse_categorical_accuracy: 0.7215 - val_loss: 0.5154 - val_sparse_categorical_accuracy: 0.7926\n",
      "\n",
      "Epoch 00059: val_sparse_categorical_accuracy improved from 0.78981 to 0.79259, saving model to ./models/age_best_model.h5\n",
      "Epoch 60/200\n",
      "43/43 [==============================] - 51s 1s/step - loss: 0.6483 - sparse_categorical_accuracy: 0.7311 - val_loss: 0.4859 - val_sparse_categorical_accuracy: 0.8069\n",
      "\n",
      "Epoch 00060: val_sparse_categorical_accuracy improved from 0.79259 to 0.80694, saving model to ./models/age_best_model.h5\n",
      "Epoch 61/200\n",
      "43/43 [==============================] - 50s 1s/step - loss: 0.7005 - sparse_categorical_accuracy: 0.6967 - val_loss: 0.5344 - val_sparse_categorical_accuracy: 0.7806\n",
      "\n",
      "Epoch 00061: val_sparse_categorical_accuracy did not improve from 0.80694\n",
      "Epoch 62/200\n",
      "43/43 [==============================] - 51s 1s/step - loss: 0.6713 - sparse_categorical_accuracy: 0.7144 - val_loss: 0.6090 - val_sparse_categorical_accuracy: 0.7394\n",
      "\n",
      "Epoch 00062: val_sparse_categorical_accuracy did not improve from 0.80694\n",
      "Epoch 63/200\n",
      "43/43 [==============================] - 51s 1s/step - loss: 0.6611 - sparse_categorical_accuracy: 0.7256 - val_loss: 0.5269 - val_sparse_categorical_accuracy: 0.7875\n",
      "\n",
      "Epoch 00063: val_sparse_categorical_accuracy did not improve from 0.80694\n",
      "Epoch 64/200\n",
      "43/43 [==============================] - 51s 1s/step - loss: 0.7191 - sparse_categorical_accuracy: 0.7007 - val_loss: 0.6377 - val_sparse_categorical_accuracy: 0.7167\n",
      "\n",
      "Epoch 00064: val_sparse_categorical_accuracy did not improve from 0.80694\n",
      "Epoch 65/200\n",
      "43/43 [==============================] - 50s 1s/step - loss: 0.6682 - sparse_categorical_accuracy: 0.7215 - val_loss: 0.5184 - val_sparse_categorical_accuracy: 0.7912\n",
      "\n",
      "Epoch 00065: val_sparse_categorical_accuracy did not improve from 0.80694\n",
      "Epoch 66/200\n",
      "43/43 [==============================] - 51s 1s/step - loss: 0.7176 - sparse_categorical_accuracy: 0.7022 - val_loss: 0.6466 - val_sparse_categorical_accuracy: 0.7282\n",
      "\n",
      "Epoch 00066: val_sparse_categorical_accuracy did not improve from 0.80694\n",
      "Epoch 67/200\n",
      "43/43 [==============================] - 53s 1s/step - loss: 0.6733 - sparse_categorical_accuracy: 0.7193 - val_loss: 0.5281 - val_sparse_categorical_accuracy: 0.7963\n",
      "\n",
      "Epoch 00067: val_sparse_categorical_accuracy did not improve from 0.80694\n",
      "Epoch 68/200\n",
      "43/43 [==============================] - 51s 1s/step - loss: 0.6319 - sparse_categorical_accuracy: 0.7433 - val_loss: 0.4692 - val_sparse_categorical_accuracy: 0.8125\n",
      "\n",
      "Epoch 00068: val_sparse_categorical_accuracy improved from 0.80694 to 0.81250, saving model to ./models/age_best_model.h5\n",
      "Epoch 69/200\n",
      "43/43 [==============================] - 50s 1s/step - loss: 0.6312 - sparse_categorical_accuracy: 0.7415 - val_loss: 0.4688 - val_sparse_categorical_accuracy: 0.8130\n",
      "\n",
      "Epoch 00069: val_sparse_categorical_accuracy improved from 0.81250 to 0.81296, saving model to ./models/age_best_model.h5\n",
      "Epoch 70/200\n",
      "43/43 [==============================] - 52s 1s/step - loss: 0.6854 - sparse_categorical_accuracy: 0.7219 - val_loss: 0.6008 - val_sparse_categorical_accuracy: 0.7481\n",
      "\n",
      "Epoch 00070: val_sparse_categorical_accuracy did not improve from 0.81296\n",
      "Epoch 71/200\n",
      "43/43 [==============================] - 50s 1s/step - loss: 0.6347 - sparse_categorical_accuracy: 0.7474 - val_loss: 0.5779 - val_sparse_categorical_accuracy: 0.7676\n",
      "\n",
      "Epoch 00071: val_sparse_categorical_accuracy did not improve from 0.81296\n",
      "Epoch 72/200\n",
      "43/43 [==============================] - 51s 1s/step - loss: 0.6428 - sparse_categorical_accuracy: 0.7293 - val_loss: 0.6705 - val_sparse_categorical_accuracy: 0.7046\n",
      "\n",
      "Epoch 00072: val_sparse_categorical_accuracy did not improve from 0.81296\n",
      "Epoch 73/200\n",
      "43/43 [==============================] - 51s 1s/step - loss: 0.6979 - sparse_categorical_accuracy: 0.7089 - val_loss: 0.4952 - val_sparse_categorical_accuracy: 0.8056\n",
      "\n",
      "Epoch 00073: val_sparse_categorical_accuracy did not improve from 0.81296\n",
      "Epoch 74/200\n",
      "43/43 [==============================] - 52s 1s/step - loss: 0.6849 - sparse_categorical_accuracy: 0.7219 - val_loss: 0.5337 - val_sparse_categorical_accuracy: 0.7935\n",
      "\n",
      "Epoch 00074: val_sparse_categorical_accuracy did not improve from 0.81296\n",
      "Epoch 75/200\n",
      "43/43 [==============================] - 51s 1s/step - loss: 0.6565 - sparse_categorical_accuracy: 0.7293 - val_loss: 0.4885 - val_sparse_categorical_accuracy: 0.8060\n",
      "\n",
      "Epoch 00075: val_sparse_categorical_accuracy did not improve from 0.81296\n",
      "Epoch 76/200\n",
      "43/43 [==============================] - 51s 1s/step - loss: 0.6446 - sparse_categorical_accuracy: 0.7293 - val_loss: 0.4552 - val_sparse_categorical_accuracy: 0.8273\n",
      "\n",
      "Epoch 00076: val_sparse_categorical_accuracy improved from 0.81296 to 0.82731, saving model to ./models/age_best_model.h5\n",
      "Epoch 77/200\n",
      "43/43 [==============================] - 51s 1s/step - loss: 0.6166 - sparse_categorical_accuracy: 0.7419 - val_loss: 0.5305 - val_sparse_categorical_accuracy: 0.7889\n",
      "\n",
      "Epoch 00077: val_sparse_categorical_accuracy did not improve from 0.82731\n",
      "Epoch 78/200\n",
      "43/43 [==============================] - 49s 1s/step - loss: 0.6667 - sparse_categorical_accuracy: 0.7204 - val_loss: 0.5273 - val_sparse_categorical_accuracy: 0.7856\n",
      "\n",
      "Epoch 00078: val_sparse_categorical_accuracy did not improve from 0.82731\n",
      "Epoch 79/200\n",
      "43/43 [==============================] - 51s 1s/step - loss: 0.6405 - sparse_categorical_accuracy: 0.7337 - val_loss: 0.4744 - val_sparse_categorical_accuracy: 0.8106\n",
      "\n",
      "Epoch 00079: val_sparse_categorical_accuracy did not improve from 0.82731\n",
      "Epoch 80/200\n",
      "43/43 [==============================] - 51s 1s/step - loss: 0.6893 - sparse_categorical_accuracy: 0.7207 - val_loss: 0.4916 - val_sparse_categorical_accuracy: 0.8185\n",
      "\n",
      "Epoch 00080: val_sparse_categorical_accuracy did not improve from 0.82731\n",
      "Epoch 81/200\n",
      "43/43 [==============================] - 52s 1s/step - loss: 0.6434 - sparse_categorical_accuracy: 0.7326 - val_loss: 0.4880 - val_sparse_categorical_accuracy: 0.8019\n",
      "\n",
      "Epoch 00081: val_sparse_categorical_accuracy did not improve from 0.82731\n",
      "Epoch 82/200\n",
      "43/43 [==============================] - 51s 1s/step - loss: 0.6459 - sparse_categorical_accuracy: 0.7259 - val_loss: 0.5144 - val_sparse_categorical_accuracy: 0.7847\n",
      "\n",
      "Epoch 00082: val_sparse_categorical_accuracy did not improve from 0.82731\n",
      "Epoch 83/200\n",
      "43/43 [==============================] - 52s 1s/step - loss: 0.6468 - sparse_categorical_accuracy: 0.7370 - val_loss: 0.5183 - val_sparse_categorical_accuracy: 0.7981\n",
      "\n",
      "Epoch 00083: val_sparse_categorical_accuracy did not improve from 0.82731\n",
      "Epoch 84/200\n",
      "43/43 [==============================] - 52s 1s/step - loss: 0.7158 - sparse_categorical_accuracy: 0.7056 - val_loss: 0.6060 - val_sparse_categorical_accuracy: 0.7449\n",
      "\n",
      "Epoch 00084: val_sparse_categorical_accuracy did not improve from 0.82731\n",
      "Epoch 85/200\n",
      "43/43 [==============================] - 52s 1s/step - loss: 0.6648 - sparse_categorical_accuracy: 0.7326 - val_loss: 0.5260 - val_sparse_categorical_accuracy: 0.8088\n",
      "\n",
      "Epoch 00085: val_sparse_categorical_accuracy did not improve from 0.82731\n",
      "Epoch 86/200\n",
      "43/43 [==============================] - 52s 1s/step - loss: 0.6670 - sparse_categorical_accuracy: 0.7215 - val_loss: 0.5443 - val_sparse_categorical_accuracy: 0.7583\n",
      "\n",
      "Epoch 00086: val_sparse_categorical_accuracy did not improve from 0.82731\n",
      "Epoch 87/200\n",
      "43/43 [==============================] - 53s 1s/step - loss: 0.6972 - sparse_categorical_accuracy: 0.6948 - val_loss: 0.6092 - val_sparse_categorical_accuracy: 0.7440\n",
      "\n",
      "Epoch 00087: val_sparse_categorical_accuracy did not improve from 0.82731\n",
      "Epoch 88/200\n",
      "43/43 [==============================] - 51s 1s/step - loss: 0.6823 - sparse_categorical_accuracy: 0.7174 - val_loss: 0.4973 - val_sparse_categorical_accuracy: 0.8009\n",
      "\n",
      "Epoch 00088: val_sparse_categorical_accuracy did not improve from 0.82731\n",
      "Epoch 89/200\n",
      "43/43 [==============================] - 52s 1s/step - loss: 0.6948 - sparse_categorical_accuracy: 0.7144 - val_loss: 0.7358 - val_sparse_categorical_accuracy: 0.6731\n",
      "\n",
      "Epoch 00089: val_sparse_categorical_accuracy did not improve from 0.82731\n",
      "Epoch 90/200\n",
      "43/43 [==============================] - 50s 1s/step - loss: 0.7201 - sparse_categorical_accuracy: 0.6900 - val_loss: 0.7007 - val_sparse_categorical_accuracy: 0.7037\n",
      "\n",
      "Epoch 00090: val_sparse_categorical_accuracy did not improve from 0.82731\n",
      "Epoch 91/200\n",
      "43/43 [==============================] - 51s 1s/step - loss: 0.6880 - sparse_categorical_accuracy: 0.7159 - val_loss: 0.5119 - val_sparse_categorical_accuracy: 0.8065\n",
      "\n",
      "Epoch 00091: val_sparse_categorical_accuracy did not improve from 0.82731\n",
      "Epoch 92/200\n",
      "43/43 [==============================] - 50s 1s/step - loss: 0.6839 - sparse_categorical_accuracy: 0.7270 - val_loss: 0.5820 - val_sparse_categorical_accuracy: 0.7574\n",
      "\n",
      "Epoch 00092: val_sparse_categorical_accuracy did not improve from 0.82731\n",
      "Epoch 93/200\n",
      "43/43 [==============================] - 51s 1s/step - loss: 0.6421 - sparse_categorical_accuracy: 0.7326 - val_loss: 0.4621 - val_sparse_categorical_accuracy: 0.8245\n",
      "\n",
      "Epoch 00093: val_sparse_categorical_accuracy did not improve from 0.82731\n",
      "Epoch 94/200\n",
      "43/43 [==============================] - 50s 1s/step - loss: 0.6362 - sparse_categorical_accuracy: 0.7330 - val_loss: 0.5260 - val_sparse_categorical_accuracy: 0.7685\n",
      "\n",
      "Epoch 00094: val_sparse_categorical_accuracy did not improve from 0.82731\n",
      "Epoch 95/200\n",
      "43/43 [==============================] - 51s 1s/step - loss: 0.6700 - sparse_categorical_accuracy: 0.7263 - val_loss: 0.5405 - val_sparse_categorical_accuracy: 0.7718\n",
      "\n",
      "Epoch 00095: val_sparse_categorical_accuracy did not improve from 0.82731\n",
      "Epoch 96/200\n",
      "43/43 [==============================] - 49s 1s/step - loss: 0.6498 - sparse_categorical_accuracy: 0.7211 - val_loss: 0.5129 - val_sparse_categorical_accuracy: 0.7968\n",
      "\n",
      "Epoch 00096: val_sparse_categorical_accuracy did not improve from 0.82731\n",
      "Epoch 97/200\n",
      "43/43 [==============================] - 51s 1s/step - loss: 0.6375 - sparse_categorical_accuracy: 0.7337 - val_loss: 0.4913 - val_sparse_categorical_accuracy: 0.7894\n",
      "\n",
      "Epoch 00097: val_sparse_categorical_accuracy did not improve from 0.82731\n",
      "Epoch 98/200\n",
      "43/43 [==============================] - 51s 1s/step - loss: 0.6099 - sparse_categorical_accuracy: 0.7437 - val_loss: 0.4968 - val_sparse_categorical_accuracy: 0.8046\n",
      "\n",
      "Epoch 00098: val_sparse_categorical_accuracy did not improve from 0.82731\n",
      "Epoch 99/200\n",
      "43/43 [==============================] - 50s 1s/step - loss: 0.6268 - sparse_categorical_accuracy: 0.7504 - val_loss: 0.4701 - val_sparse_categorical_accuracy: 0.8241\n",
      "\n",
      "Epoch 00099: val_sparse_categorical_accuracy did not improve from 0.82731\n",
      "Epoch 100/200\n",
      "43/43 [==============================] - 50s 1s/step - loss: 0.6120 - sparse_categorical_accuracy: 0.7441 - val_loss: 0.4461 - val_sparse_categorical_accuracy: 0.8255\n",
      "\n",
      "Epoch 00100: val_sparse_categorical_accuracy did not improve from 0.82731\n",
      "Epoch 101/200\n",
      "43/43 [==============================] - 51s 1s/step - loss: 0.6952 - sparse_categorical_accuracy: 0.7174 - val_loss: 0.5462 - val_sparse_categorical_accuracy: 0.7731\n",
      "\n",
      "Epoch 00101: val_sparse_categorical_accuracy did not improve from 0.82731\n",
      "Epoch 102/200\n",
      "43/43 [==============================] - 51s 1s/step - loss: 0.6389 - sparse_categorical_accuracy: 0.7352 - val_loss: 0.4958 - val_sparse_categorical_accuracy: 0.8144\n",
      "\n",
      "Epoch 00102: val_sparse_categorical_accuracy did not improve from 0.82731\n",
      "Epoch 103/200\n",
      "43/43 [==============================] - 52s 1s/step - loss: 0.7015 - sparse_categorical_accuracy: 0.7137 - val_loss: 0.4923 - val_sparse_categorical_accuracy: 0.8097\n",
      "\n",
      "Epoch 00103: val_sparse_categorical_accuracy did not improve from 0.82731\n",
      "Epoch 104/200\n",
      "43/43 [==============================] - 49s 1s/step - loss: 0.6096 - sparse_categorical_accuracy: 0.7552 - val_loss: 0.4648 - val_sparse_categorical_accuracy: 0.8074\n",
      "\n",
      "Epoch 00104: val_sparse_categorical_accuracy did not improve from 0.82731\n",
      "Epoch 105/200\n",
      "43/43 [==============================] - 50s 1s/step - loss: 0.6302 - sparse_categorical_accuracy: 0.7385 - val_loss: 0.5425 - val_sparse_categorical_accuracy: 0.7463\n",
      "\n",
      "Epoch 00105: val_sparse_categorical_accuracy did not improve from 0.82731\n",
      "Epoch 106/200\n",
      "43/43 [==============================] - 51s 1s/step - loss: 0.6485 - sparse_categorical_accuracy: 0.7278 - val_loss: 0.4961 - val_sparse_categorical_accuracy: 0.7917\n",
      "\n",
      "Epoch 00106: val_sparse_categorical_accuracy did not improve from 0.82731\n",
      "Epoch 107/200\n",
      "43/43 [==============================] - 50s 1s/step - loss: 0.6244 - sparse_categorical_accuracy: 0.7422 - val_loss: 0.4595 - val_sparse_categorical_accuracy: 0.8301\n",
      "\n",
      "Epoch 00107: val_sparse_categorical_accuracy improved from 0.82731 to 0.83009, saving model to ./models/age_best_model.h5\n",
      "Epoch 108/200\n",
      "43/43 [==============================] - 51s 1s/step - loss: 0.6044 - sparse_categorical_accuracy: 0.7493 - val_loss: 0.4868 - val_sparse_categorical_accuracy: 0.7968\n",
      "\n",
      "Epoch 00108: val_sparse_categorical_accuracy did not improve from 0.83009\n",
      "Epoch 109/200\n",
      "43/43 [==============================] - 50s 1s/step - loss: 0.6255 - sparse_categorical_accuracy: 0.7389 - val_loss: 0.4807 - val_sparse_categorical_accuracy: 0.7986\n",
      "\n",
      "Epoch 00109: val_sparse_categorical_accuracy did not improve from 0.83009\n",
      "Epoch 110/200\n",
      "43/43 [==============================] - 51s 1s/step - loss: 0.6461 - sparse_categorical_accuracy: 0.7348 - val_loss: 0.4592 - val_sparse_categorical_accuracy: 0.8278\n",
      "\n",
      "Epoch 00110: val_sparse_categorical_accuracy did not improve from 0.83009\n",
      "Epoch 111/200\n",
      "43/43 [==============================] - 50s 1s/step - loss: 0.6051 - sparse_categorical_accuracy: 0.7604 - val_loss: 0.4412 - val_sparse_categorical_accuracy: 0.8218\n",
      "\n",
      "Epoch 00111: val_sparse_categorical_accuracy did not improve from 0.83009\n",
      "Epoch 112/200\n",
      "43/43 [==============================] - 51s 1s/step - loss: 0.6184 - sparse_categorical_accuracy: 0.7444 - val_loss: 0.4483 - val_sparse_categorical_accuracy: 0.8204\n",
      "\n",
      "Epoch 00112: val_sparse_categorical_accuracy did not improve from 0.83009\n",
      "Epoch 113/200\n",
      "43/43 [==============================] - 50s 1s/step - loss: 0.6420 - sparse_categorical_accuracy: 0.7448 - val_loss: 0.4363 - val_sparse_categorical_accuracy: 0.8375\n",
      "\n",
      "Epoch 00113: val_sparse_categorical_accuracy improved from 0.83009 to 0.83750, saving model to ./models/age_best_model.h5\n",
      "Epoch 114/200\n",
      "43/43 [==============================] - 50s 1s/step - loss: 0.6745 - sparse_categorical_accuracy: 0.7200 - val_loss: 0.5284 - val_sparse_categorical_accuracy: 0.8056\n",
      "\n",
      "Epoch 00114: val_sparse_categorical_accuracy did not improve from 0.83750\n",
      "Epoch 115/200\n",
      "43/43 [==============================] - 51s 1s/step - loss: 0.6010 - sparse_categorical_accuracy: 0.7519 - val_loss: 0.5258 - val_sparse_categorical_accuracy: 0.7870\n",
      "\n",
      "Epoch 00115: val_sparse_categorical_accuracy did not improve from 0.83750\n",
      "Epoch 116/200\n",
      "43/43 [==============================] - 50s 1s/step - loss: 0.6207 - sparse_categorical_accuracy: 0.7315 - val_loss: 0.4389 - val_sparse_categorical_accuracy: 0.8352\n",
      "\n",
      "Epoch 00116: val_sparse_categorical_accuracy did not improve from 0.83750\n",
      "Epoch 117/200\n",
      "43/43 [==============================] - 52s 1s/step - loss: 0.6344 - sparse_categorical_accuracy: 0.7359 - val_loss: 0.4649 - val_sparse_categorical_accuracy: 0.8213\n",
      "\n",
      "Epoch 00117: val_sparse_categorical_accuracy did not improve from 0.83750\n",
      "Epoch 118/200\n",
      "43/43 [==============================] - 51s 1s/step - loss: 0.6545 - sparse_categorical_accuracy: 0.7281 - val_loss: 0.4985 - val_sparse_categorical_accuracy: 0.7824\n",
      "\n",
      "Epoch 00118: val_sparse_categorical_accuracy did not improve from 0.83750\n",
      "Epoch 119/200\n",
      "43/43 [==============================] - 50s 1s/step - loss: 0.6345 - sparse_categorical_accuracy: 0.7296 - val_loss: 0.4564 - val_sparse_categorical_accuracy: 0.8255\n",
      "\n",
      "Epoch 00119: val_sparse_categorical_accuracy did not improve from 0.83750\n",
      "Epoch 120/200\n",
      "43/43 [==============================] - 49s 1s/step - loss: 0.5830 - sparse_categorical_accuracy: 0.7626 - val_loss: 0.4438 - val_sparse_categorical_accuracy: 0.8329\n",
      "\n",
      "Epoch 00120: val_sparse_categorical_accuracy did not improve from 0.83750\n",
      "Epoch 121/200\n",
      "43/43 [==============================] - 50s 1s/step - loss: 0.5578 - sparse_categorical_accuracy: 0.7811 - val_loss: 0.4000 - val_sparse_categorical_accuracy: 0.8505\n",
      "\n",
      "Epoch 00121: val_sparse_categorical_accuracy improved from 0.83750 to 0.85046, saving model to ./models/age_best_model.h5\n",
      "Epoch 122/200\n",
      "43/43 [==============================] - 50s 1s/step - loss: 0.5777 - sparse_categorical_accuracy: 0.7693 - val_loss: 0.4377 - val_sparse_categorical_accuracy: 0.8255\n",
      "\n",
      "Epoch 00122: val_sparse_categorical_accuracy did not improve from 0.85046\n",
      "Epoch 123/200\n",
      "43/43 [==============================] - 51s 1s/step - loss: 0.5847 - sparse_categorical_accuracy: 0.7556 - val_loss: 0.4842 - val_sparse_categorical_accuracy: 0.8218\n",
      "\n",
      "Epoch 00123: val_sparse_categorical_accuracy did not improve from 0.85046\n",
      "Epoch 124/200\n",
      "43/43 [==============================] - 52s 1s/step - loss: 0.6351 - sparse_categorical_accuracy: 0.7311 - val_loss: 0.4938 - val_sparse_categorical_accuracy: 0.8074\n",
      "\n",
      "Epoch 00124: val_sparse_categorical_accuracy did not improve from 0.85046\n",
      "Epoch 125/200\n",
      "43/43 [==============================] - 51s 1s/step - loss: 0.6197 - sparse_categorical_accuracy: 0.7537 - val_loss: 0.4921 - val_sparse_categorical_accuracy: 0.7977\n",
      "\n",
      "Epoch 00125: val_sparse_categorical_accuracy did not improve from 0.85046\n",
      "Epoch 126/200\n",
      "43/43 [==============================] - 50s 1s/step - loss: 0.6133 - sparse_categorical_accuracy: 0.7574 - val_loss: 0.5386 - val_sparse_categorical_accuracy: 0.7731\n",
      "\n",
      "Epoch 00126: val_sparse_categorical_accuracy did not improve from 0.85046\n",
      "Epoch 127/200\n",
      "43/43 [==============================] - 51s 1s/step - loss: 0.5774 - sparse_categorical_accuracy: 0.7711 - val_loss: 0.3713 - val_sparse_categorical_accuracy: 0.8667\n",
      "\n",
      "Epoch 00127: val_sparse_categorical_accuracy improved from 0.85046 to 0.86667, saving model to ./models/age_best_model.h5\n",
      "Epoch 128/200\n",
      "43/43 [==============================] - 50s 1s/step - loss: 0.5355 - sparse_categorical_accuracy: 0.7793 - val_loss: 0.4023 - val_sparse_categorical_accuracy: 0.8366\n",
      "\n",
      "Epoch 00128: val_sparse_categorical_accuracy did not improve from 0.86667\n",
      "Epoch 129/200\n",
      "43/43 [==============================] - 49s 1s/step - loss: 0.5846 - sparse_categorical_accuracy: 0.7644 - val_loss: 0.4746 - val_sparse_categorical_accuracy: 0.8181\n",
      "\n",
      "Epoch 00129: val_sparse_categorical_accuracy did not improve from 0.86667\n",
      "Epoch 130/200\n",
      "43/43 [==============================] - 50s 1s/step - loss: 0.5906 - sparse_categorical_accuracy: 0.7615 - val_loss: 0.4691 - val_sparse_categorical_accuracy: 0.7949\n",
      "\n",
      "Epoch 00130: val_sparse_categorical_accuracy did not improve from 0.86667\n",
      "Epoch 131/200\n",
      "43/43 [==============================] - 50s 1s/step - loss: 0.5994 - sparse_categorical_accuracy: 0.7615 - val_loss: 0.4457 - val_sparse_categorical_accuracy: 0.8046\n",
      "\n",
      "Epoch 00131: val_sparse_categorical_accuracy did not improve from 0.86667\n",
      "Epoch 132/200\n",
      "43/43 [==============================] - 51s 1s/step - loss: 0.5713 - sparse_categorical_accuracy: 0.7726 - val_loss: 0.4122 - val_sparse_categorical_accuracy: 0.8477\n",
      "\n",
      "Epoch 00132: val_sparse_categorical_accuracy did not improve from 0.86667\n",
      "Epoch 133/200\n",
      "43/43 [==============================] - 51s 1s/step - loss: 0.6353 - sparse_categorical_accuracy: 0.7400 - val_loss: 0.4978 - val_sparse_categorical_accuracy: 0.7898\n",
      "\n",
      "Epoch 00133: val_sparse_categorical_accuracy did not improve from 0.86667\n",
      "Epoch 134/200\n",
      "43/43 [==============================] - 52s 1s/step - loss: 0.6044 - sparse_categorical_accuracy: 0.7567 - val_loss: 0.3972 - val_sparse_categorical_accuracy: 0.8588\n",
      "\n",
      "Epoch 00134: val_sparse_categorical_accuracy did not improve from 0.86667\n",
      "Epoch 135/200\n",
      "43/43 [==============================] - 50s 1s/step - loss: 0.5609 - sparse_categorical_accuracy: 0.7770 - val_loss: 0.4582 - val_sparse_categorical_accuracy: 0.8218\n",
      "\n",
      "Epoch 00135: val_sparse_categorical_accuracy did not improve from 0.86667\n",
      "Epoch 136/200\n",
      "43/43 [==============================] - 50s 1s/step - loss: 0.6003 - sparse_categorical_accuracy: 0.7559 - val_loss: 0.4087 - val_sparse_categorical_accuracy: 0.8486\n",
      "\n",
      "Epoch 00136: val_sparse_categorical_accuracy did not improve from 0.86667\n",
      "Epoch 137/200\n",
      "43/43 [==============================] - 50s 1s/step - loss: 0.5341 - sparse_categorical_accuracy: 0.7844 - val_loss: 0.4041 - val_sparse_categorical_accuracy: 0.8593\n",
      "\n",
      "Epoch 00137: val_sparse_categorical_accuracy did not improve from 0.86667\n",
      "Epoch 138/200\n",
      "43/43 [==============================] - 51s 1s/step - loss: 0.5669 - sparse_categorical_accuracy: 0.7652 - val_loss: 0.3930 - val_sparse_categorical_accuracy: 0.8579\n",
      "\n",
      "Epoch 00138: val_sparse_categorical_accuracy did not improve from 0.86667\n",
      "Epoch 139/200\n",
      "43/43 [==============================] - 50s 1s/step - loss: 0.5729 - sparse_categorical_accuracy: 0.7570 - val_loss: 0.4019 - val_sparse_categorical_accuracy: 0.8301\n",
      "\n",
      "Epoch 00139: val_sparse_categorical_accuracy did not improve from 0.86667\n",
      "Epoch 140/200\n",
      "43/43 [==============================] - 51s 1s/step - loss: 0.5614 - sparse_categorical_accuracy: 0.7752 - val_loss: 0.4505 - val_sparse_categorical_accuracy: 0.8255\n",
      "\n",
      "Epoch 00140: val_sparse_categorical_accuracy did not improve from 0.86667\n",
      "Epoch 141/200\n",
      "43/43 [==============================] - 51s 1s/step - loss: 0.6008 - sparse_categorical_accuracy: 0.7685 - val_loss: 0.4273 - val_sparse_categorical_accuracy: 0.8366\n",
      "\n",
      "Epoch 00141: val_sparse_categorical_accuracy did not improve from 0.86667\n",
      "Epoch 142/200\n",
      "43/43 [==============================] - 51s 1s/step - loss: 0.5376 - sparse_categorical_accuracy: 0.7852 - val_loss: 0.3796 - val_sparse_categorical_accuracy: 0.8611\n",
      "\n",
      "Epoch 00142: val_sparse_categorical_accuracy did not improve from 0.86667\n",
      "Epoch 143/200\n",
      "43/43 [==============================] - 50s 1s/step - loss: 0.5680 - sparse_categorical_accuracy: 0.7807 - val_loss: 0.4785 - val_sparse_categorical_accuracy: 0.8014\n",
      "\n",
      "Epoch 00143: val_sparse_categorical_accuracy did not improve from 0.86667\n",
      "Epoch 144/200\n",
      "43/43 [==============================] - 51s 1s/step - loss: 0.6009 - sparse_categorical_accuracy: 0.7633 - val_loss: 0.4674 - val_sparse_categorical_accuracy: 0.8171\n",
      "\n",
      "Epoch 00144: val_sparse_categorical_accuracy did not improve from 0.86667\n",
      "Epoch 145/200\n",
      "43/43 [==============================] - 50s 1s/step - loss: 0.6063 - sparse_categorical_accuracy: 0.7504 - val_loss: 0.4778 - val_sparse_categorical_accuracy: 0.8227\n",
      "\n",
      "Epoch 00145: val_sparse_categorical_accuracy did not improve from 0.86667\n",
      "Epoch 146/200\n",
      "43/43 [==============================] - 51s 1s/step - loss: 0.7349 - sparse_categorical_accuracy: 0.6911 - val_loss: 0.3825 - val_sparse_categorical_accuracy: 0.8644\n",
      "\n",
      "Epoch 00146: val_sparse_categorical_accuracy did not improve from 0.86667\n",
      "Epoch 147/200\n",
      "43/43 [==============================] - 50s 1s/step - loss: 0.5484 - sparse_categorical_accuracy: 0.7737 - val_loss: 0.4048 - val_sparse_categorical_accuracy: 0.8454\n",
      "\n",
      "Epoch 00147: val_sparse_categorical_accuracy did not improve from 0.86667\n",
      "Epoch 148/200\n",
      "43/43 [==============================] - 51s 1s/step - loss: 0.6152 - sparse_categorical_accuracy: 0.7496 - val_loss: 0.3772 - val_sparse_categorical_accuracy: 0.8542\n",
      "\n",
      "Epoch 00148: val_sparse_categorical_accuracy did not improve from 0.86667\n",
      "Epoch 149/200\n",
      "43/43 [==============================] - 51s 1s/step - loss: 0.5637 - sparse_categorical_accuracy: 0.7719 - val_loss: 0.3696 - val_sparse_categorical_accuracy: 0.8681\n",
      "\n",
      "Epoch 00149: val_sparse_categorical_accuracy improved from 0.86667 to 0.86806, saving model to ./models/age_best_model.h5\n",
      "Epoch 150/200\n",
      "43/43 [==============================] - 51s 1s/step - loss: 0.5571 - sparse_categorical_accuracy: 0.7867 - val_loss: 0.3628 - val_sparse_categorical_accuracy: 0.8606\n",
      "\n",
      "Epoch 00150: val_sparse_categorical_accuracy did not improve from 0.86806\n",
      "Epoch 151/200\n",
      "43/43 [==============================] - 51s 1s/step - loss: 0.5095 - sparse_categorical_accuracy: 0.7967 - val_loss: 0.3525 - val_sparse_categorical_accuracy: 0.8704\n",
      "\n",
      "Epoch 00151: val_sparse_categorical_accuracy improved from 0.86806 to 0.87037, saving model to ./models/age_best_model.h5\n",
      "Epoch 152/200\n",
      "43/43 [==============================] - 50s 1s/step - loss: 0.5105 - sparse_categorical_accuracy: 0.7826 - val_loss: 0.3761 - val_sparse_categorical_accuracy: 0.8509\n",
      "\n",
      "Epoch 00152: val_sparse_categorical_accuracy did not improve from 0.87037\n",
      "Epoch 153/200\n",
      "43/43 [==============================] - 54s 1s/step - loss: 0.5075 - sparse_categorical_accuracy: 0.7937 - val_loss: 0.4747 - val_sparse_categorical_accuracy: 0.8204\n",
      "\n",
      "Epoch 00153: val_sparse_categorical_accuracy did not improve from 0.87037\n",
      "Epoch 154/200\n",
      "43/43 [==============================] - 50s 1s/step - loss: 0.5670 - sparse_categorical_accuracy: 0.7815 - val_loss: 0.3508 - val_sparse_categorical_accuracy: 0.8611\n",
      "\n",
      "Epoch 00154: val_sparse_categorical_accuracy did not improve from 0.87037\n",
      "Epoch 155/200\n",
      "43/43 [==============================] - 51s 1s/step - loss: 0.5347 - sparse_categorical_accuracy: 0.7937 - val_loss: 0.3567 - val_sparse_categorical_accuracy: 0.8551\n",
      "\n",
      "Epoch 00155: val_sparse_categorical_accuracy did not improve from 0.87037\n",
      "Epoch 156/200\n",
      "43/43 [==============================] - 51s 1s/step - loss: 0.5631 - sparse_categorical_accuracy: 0.7689 - val_loss: 0.3761 - val_sparse_categorical_accuracy: 0.8514\n",
      "\n",
      "Epoch 00156: val_sparse_categorical_accuracy did not improve from 0.87037\n",
      "Epoch 157/200\n",
      "43/43 [==============================] - 52s 1s/step - loss: 0.5537 - sparse_categorical_accuracy: 0.7778 - val_loss: 0.3785 - val_sparse_categorical_accuracy: 0.8454\n",
      "\n",
      "Epoch 00157: val_sparse_categorical_accuracy did not improve from 0.87037\n",
      "Epoch 158/200\n",
      "43/43 [==============================] - 50s 1s/step - loss: 0.5250 - sparse_categorical_accuracy: 0.7893 - val_loss: 0.3638 - val_sparse_categorical_accuracy: 0.8579\n",
      "\n",
      "Epoch 00158: val_sparse_categorical_accuracy did not improve from 0.87037\n",
      "Epoch 159/200\n",
      "43/43 [==============================] - 52s 1s/step - loss: 0.5379 - sparse_categorical_accuracy: 0.7867 - val_loss: 0.4727 - val_sparse_categorical_accuracy: 0.8060\n",
      "\n",
      "Epoch 00159: val_sparse_categorical_accuracy did not improve from 0.87037\n",
      "Epoch 160/200\n",
      "43/43 [==============================] - 49s 1s/step - loss: 0.5141 - sparse_categorical_accuracy: 0.7967 - val_loss: 0.3425 - val_sparse_categorical_accuracy: 0.8694\n",
      "\n",
      "Epoch 00160: val_sparse_categorical_accuracy did not improve from 0.87037\n",
      "Epoch 161/200\n",
      "43/43 [==============================] - 51s 1s/step - loss: 0.5014 - sparse_categorical_accuracy: 0.8081 - val_loss: 0.3639 - val_sparse_categorical_accuracy: 0.8644\n",
      "\n",
      "Epoch 00161: val_sparse_categorical_accuracy did not improve from 0.87037\n",
      "Epoch 162/200\n",
      "43/43 [==============================] - 50s 1s/step - loss: 0.5652 - sparse_categorical_accuracy: 0.7681 - val_loss: 0.3447 - val_sparse_categorical_accuracy: 0.8810\n",
      "\n",
      "Epoch 00162: val_sparse_categorical_accuracy improved from 0.87037 to 0.88102, saving model to ./models/age_best_model.h5\n",
      "Epoch 163/200\n",
      "43/43 [==============================] - 53s 1s/step - loss: 0.5346 - sparse_categorical_accuracy: 0.7863 - val_loss: 0.3589 - val_sparse_categorical_accuracy: 0.8657\n",
      "\n",
      "Epoch 00163: val_sparse_categorical_accuracy did not improve from 0.88102\n",
      "Epoch 164/200\n",
      "43/43 [==============================] - 51s 1s/step - loss: 0.5166 - sparse_categorical_accuracy: 0.7893 - val_loss: 0.5106 - val_sparse_categorical_accuracy: 0.7917\n",
      "\n",
      "Epoch 00164: val_sparse_categorical_accuracy did not improve from 0.88102\n",
      "Epoch 165/200\n",
      "43/43 [==============================] - 51s 1s/step - loss: 0.5400 - sparse_categorical_accuracy: 0.7744 - val_loss: 0.4127 - val_sparse_categorical_accuracy: 0.8361\n",
      "\n",
      "Epoch 00165: val_sparse_categorical_accuracy did not improve from 0.88102\n",
      "Epoch 166/200\n",
      "43/43 [==============================] - 51s 1s/step - loss: 0.5555 - sparse_categorical_accuracy: 0.7700 - val_loss: 0.4290 - val_sparse_categorical_accuracy: 0.8343\n",
      "\n",
      "Epoch 00166: val_sparse_categorical_accuracy did not improve from 0.88102\n",
      "Epoch 167/200\n",
      "43/43 [==============================] - 51s 1s/step - loss: 0.5348 - sparse_categorical_accuracy: 0.7863 - val_loss: 0.3679 - val_sparse_categorical_accuracy: 0.8625\n",
      "\n",
      "Epoch 00167: val_sparse_categorical_accuracy did not improve from 0.88102\n",
      "Epoch 168/200\n",
      "43/43 [==============================] - 51s 1s/step - loss: 0.5266 - sparse_categorical_accuracy: 0.7896 - val_loss: 0.3620 - val_sparse_categorical_accuracy: 0.8634\n",
      "\n",
      "Epoch 00168: val_sparse_categorical_accuracy did not improve from 0.88102\n",
      "Epoch 169/200\n",
      "43/43 [==============================] - 50s 1s/step - loss: 0.4619 - sparse_categorical_accuracy: 0.8152 - val_loss: 0.3500 - val_sparse_categorical_accuracy: 0.8630\n",
      "\n",
      "Epoch 00169: val_sparse_categorical_accuracy did not improve from 0.88102\n",
      "Epoch 170/200\n",
      "43/43 [==============================] - 51s 1s/step - loss: 0.5497 - sparse_categorical_accuracy: 0.7804 - val_loss: 0.3676 - val_sparse_categorical_accuracy: 0.8639\n",
      "\n",
      "Epoch 00170: val_sparse_categorical_accuracy did not improve from 0.88102\n",
      "Epoch 171/200\n",
      "43/43 [==============================] - 53s 1s/step - loss: 0.5183 - sparse_categorical_accuracy: 0.7911 - val_loss: 0.3399 - val_sparse_categorical_accuracy: 0.8819\n",
      "\n",
      "Epoch 00171: val_sparse_categorical_accuracy improved from 0.88102 to 0.88194, saving model to ./models/age_best_model.h5\n",
      "Epoch 172/200\n",
      "43/43 [==============================] - 53s 1s/step - loss: 0.5257 - sparse_categorical_accuracy: 0.7952 - val_loss: 0.3683 - val_sparse_categorical_accuracy: 0.8611\n",
      "\n",
      "Epoch 00172: val_sparse_categorical_accuracy did not improve from 0.88194\n",
      "Epoch 173/200\n",
      "43/43 [==============================] - 51s 1s/step - loss: 0.5140 - sparse_categorical_accuracy: 0.7885 - val_loss: 0.3734 - val_sparse_categorical_accuracy: 0.8491\n",
      "\n",
      "Epoch 00173: val_sparse_categorical_accuracy did not improve from 0.88194\n",
      "Epoch 174/200\n",
      "43/43 [==============================] - 52s 1s/step - loss: 0.4789 - sparse_categorical_accuracy: 0.8189 - val_loss: 0.3063 - val_sparse_categorical_accuracy: 0.8912\n",
      "\n",
      "Epoch 00174: val_sparse_categorical_accuracy improved from 0.88194 to 0.89120, saving model to ./models/age_best_model.h5\n",
      "Epoch 175/200\n",
      "43/43 [==============================] - 52s 1s/step - loss: 0.5123 - sparse_categorical_accuracy: 0.7900 - val_loss: 0.3491 - val_sparse_categorical_accuracy: 0.8741\n",
      "\n",
      "Epoch 00175: val_sparse_categorical_accuracy did not improve from 0.89120\n",
      "Epoch 176/200\n",
      "43/43 [==============================] - 50s 1s/step - loss: 0.5484 - sparse_categorical_accuracy: 0.7833 - val_loss: 0.3301 - val_sparse_categorical_accuracy: 0.8829\n",
      "\n",
      "Epoch 00176: val_sparse_categorical_accuracy did not improve from 0.89120\n",
      "Epoch 177/200\n",
      "43/43 [==============================] - 51s 1s/step - loss: 0.5816 - sparse_categorical_accuracy: 0.7659 - val_loss: 0.3474 - val_sparse_categorical_accuracy: 0.8810\n",
      "\n",
      "Epoch 00177: val_sparse_categorical_accuracy did not improve from 0.89120\n",
      "Epoch 178/200\n",
      "43/43 [==============================] - 51s 1s/step - loss: 0.4967 - sparse_categorical_accuracy: 0.8070 - val_loss: 0.3094 - val_sparse_categorical_accuracy: 0.8884\n",
      "\n",
      "Epoch 00178: val_sparse_categorical_accuracy did not improve from 0.89120\n",
      "Epoch 179/200\n",
      "43/43 [==============================] - 50s 1s/step - loss: 0.5317 - sparse_categorical_accuracy: 0.7919 - val_loss: 0.3270 - val_sparse_categorical_accuracy: 0.8870\n",
      "\n",
      "Epoch 00179: val_sparse_categorical_accuracy did not improve from 0.89120\n",
      "Epoch 180/200\n",
      "43/43 [==============================] - 49s 1s/step - loss: 0.5381 - sparse_categorical_accuracy: 0.7893 - val_loss: 0.3464 - val_sparse_categorical_accuracy: 0.8750\n",
      "\n",
      "Epoch 00180: val_sparse_categorical_accuracy did not improve from 0.89120\n",
      "Epoch 181/200\n",
      "43/43 [==============================] - 51s 1s/step - loss: 0.5144 - sparse_categorical_accuracy: 0.8030 - val_loss: 0.3421 - val_sparse_categorical_accuracy: 0.8782\n",
      "\n",
      "Epoch 00181: val_sparse_categorical_accuracy did not improve from 0.89120\n",
      "Epoch 182/200\n",
      "43/43 [==============================] - 50s 1s/step - loss: 0.5311 - sparse_categorical_accuracy: 0.7948 - val_loss: 0.4435 - val_sparse_categorical_accuracy: 0.8250\n",
      "\n",
      "Epoch 00182: val_sparse_categorical_accuracy did not improve from 0.89120\n",
      "Epoch 183/200\n",
      "43/43 [==============================] - 51s 1s/step - loss: 0.5404 - sparse_categorical_accuracy: 0.7874 - val_loss: 0.3065 - val_sparse_categorical_accuracy: 0.8903\n",
      "\n",
      "Epoch 00183: val_sparse_categorical_accuracy did not improve from 0.89120\n",
      "Epoch 184/200\n",
      "43/43 [==============================] - 50s 1s/step - loss: 0.5425 - sparse_categorical_accuracy: 0.7885 - val_loss: 0.3688 - val_sparse_categorical_accuracy: 0.8653\n",
      "\n",
      "Epoch 00184: val_sparse_categorical_accuracy did not improve from 0.89120\n",
      "Epoch 185/200\n",
      "43/43 [==============================] - 51s 1s/step - loss: 0.5342 - sparse_categorical_accuracy: 0.7770 - val_loss: 0.4225 - val_sparse_categorical_accuracy: 0.8083\n",
      "\n",
      "Epoch 00185: val_sparse_categorical_accuracy did not improve from 0.89120\n",
      "Epoch 186/200\n",
      "43/43 [==============================] - 50s 1s/step - loss: 0.5412 - sparse_categorical_accuracy: 0.7811 - val_loss: 0.3977 - val_sparse_categorical_accuracy: 0.8454\n",
      "\n",
      "Epoch 00186: val_sparse_categorical_accuracy did not improve from 0.89120\n",
      "Epoch 187/200\n",
      "43/43 [==============================] - 51s 1s/step - loss: 0.4771 - sparse_categorical_accuracy: 0.8107 - val_loss: 0.3940 - val_sparse_categorical_accuracy: 0.8542\n",
      "\n",
      "Epoch 00187: val_sparse_categorical_accuracy did not improve from 0.89120\n",
      "Epoch 188/200\n",
      "43/43 [==============================] - 49s 1s/step - loss: 0.5175 - sparse_categorical_accuracy: 0.8011 - val_loss: 0.2746 - val_sparse_categorical_accuracy: 0.8995\n",
      "\n",
      "Epoch 00188: val_sparse_categorical_accuracy improved from 0.89120 to 0.89954, saving model to ./models/age_best_model.h5\n",
      "Epoch 189/200\n",
      "43/43 [==============================] - 52s 1s/step - loss: 0.4821 - sparse_categorical_accuracy: 0.8122 - val_loss: 0.5051 - val_sparse_categorical_accuracy: 0.8046\n",
      "\n",
      "Epoch 00189: val_sparse_categorical_accuracy did not improve from 0.89954\n",
      "Epoch 190/200\n",
      "43/43 [==============================] - 49s 1s/step - loss: 0.4963 - sparse_categorical_accuracy: 0.8074 - val_loss: 0.3404 - val_sparse_categorical_accuracy: 0.8769\n",
      "\n",
      "Epoch 00190: val_sparse_categorical_accuracy did not improve from 0.89954\n",
      "Epoch 191/200\n",
      "43/43 [==============================] - 50s 1s/step - loss: 0.5241 - sparse_categorical_accuracy: 0.7904 - val_loss: 0.4453 - val_sparse_categorical_accuracy: 0.8218\n",
      "\n",
      "Epoch 00191: val_sparse_categorical_accuracy did not improve from 0.89954\n",
      "Epoch 192/200\n",
      "43/43 [==============================] - 49s 1s/step - loss: 0.4747 - sparse_categorical_accuracy: 0.8085 - val_loss: 0.3454 - val_sparse_categorical_accuracy: 0.8667\n",
      "\n",
      "Epoch 00192: val_sparse_categorical_accuracy did not improve from 0.89954\n",
      "Epoch 193/200\n",
      "43/43 [==============================] - 51s 1s/step - loss: 0.5019 - sparse_categorical_accuracy: 0.8033 - val_loss: 0.3070 - val_sparse_categorical_accuracy: 0.8875\n",
      "\n",
      "Epoch 00193: val_sparse_categorical_accuracy did not improve from 0.89954\n",
      "Epoch 194/200\n",
      "43/43 [==============================] - 49s 1s/step - loss: 0.4997 - sparse_categorical_accuracy: 0.8078 - val_loss: 0.4267 - val_sparse_categorical_accuracy: 0.8273\n",
      "\n",
      "Epoch 00194: val_sparse_categorical_accuracy did not improve from 0.89954\n",
      "Epoch 195/200\n",
      "43/43 [==============================] - 49s 1s/step - loss: 0.5107 - sparse_categorical_accuracy: 0.7974 - val_loss: 0.5244 - val_sparse_categorical_accuracy: 0.7917\n",
      "\n",
      "Epoch 00195: val_sparse_categorical_accuracy did not improve from 0.89954\n",
      "Epoch 196/200\n",
      "43/43 [==============================] - 49s 1s/step - loss: 0.5360 - sparse_categorical_accuracy: 0.7996 - val_loss: 0.3015 - val_sparse_categorical_accuracy: 0.8847\n",
      "\n",
      "Epoch 00196: val_sparse_categorical_accuracy did not improve from 0.89954\n",
      "Epoch 197/200\n",
      "43/43 [==============================] - 50s 1s/step - loss: 0.5492 - sparse_categorical_accuracy: 0.7826 - val_loss: 0.3587 - val_sparse_categorical_accuracy: 0.8792\n",
      "\n",
      "Epoch 00197: val_sparse_categorical_accuracy did not improve from 0.89954\n",
      "Epoch 198/200\n",
      "43/43 [==============================] - 50s 1s/step - loss: 0.5387 - sparse_categorical_accuracy: 0.8004 - val_loss: 0.3274 - val_sparse_categorical_accuracy: 0.8824\n",
      "\n",
      "Epoch 00198: val_sparse_categorical_accuracy did not improve from 0.89954\n",
      "Epoch 199/200\n",
      "43/43 [==============================] - 51s 1s/step - loss: 0.5026 - sparse_categorical_accuracy: 0.8000 - val_loss: 0.3468 - val_sparse_categorical_accuracy: 0.8690\n",
      "\n",
      "Epoch 00199: val_sparse_categorical_accuracy did not improve from 0.89954\n",
      "Epoch 200/200\n",
      "43/43 [==============================] - 50s 1s/step - loss: 0.4877 - sparse_categorical_accuracy: 0.8074 - val_loss: 0.2924 - val_sparse_categorical_accuracy: 0.9037\n",
      "\n",
      "Epoch 00200: val_sparse_categorical_accuracy improved from 0.89954 to 0.90370, saving model to ./models/age_best_model.h5\n"
     ]
    }
   ],
   "source": [
    "from keras import callbacks\n",
    "\n",
    "earlystopping = callbacks.EarlyStopping(monitor =\"val_loss\", \n",
    "                                        mode =\"min\", patience = 5, \n",
    "                                        restore_best_weights = True)\n",
    "\n",
    "history = model.fit(train_generator,\n",
    "                    epochs=NR_EPOCHS,\n",
    "                    validation_data=val_generator,\n",
    "                    callbacks = [tensorboard_callback, checkpoint]\n",
    "                    )\n"
   ]
  },
  {
   "cell_type": "markdown",
   "id": "1ee52abd",
   "metadata": {
    "papermill": {
     "duration": 1.500706,
     "end_time": "2022-09-12T16:32:14.056376",
     "exception": false,
     "start_time": "2022-09-12T16:32:12.555670",
     "status": "completed"
    },
    "tags": []
   },
   "source": [
    "### Plot Training and Validation Loss"
   ]
  },
  {
   "cell_type": "code",
   "execution_count": 21,
   "id": "7fb8e73e",
   "metadata": {
    "execution": {
     "iopub.execute_input": "2022-09-12T16:32:17.892356Z",
     "iopub.status.busy": "2022-09-12T16:32:17.891738Z",
     "iopub.status.idle": "2022-09-12T16:32:17.898785Z",
     "shell.execute_reply": "2022-09-12T16:32:17.897884Z"
    },
    "papermill": {
     "duration": 2.382959,
     "end_time": "2022-09-12T16:32:17.900735",
     "exception": false,
     "start_time": "2022-09-12T16:32:15.517776",
     "status": "completed"
    },
    "tags": []
   },
   "outputs": [
    {
     "data": {
      "text/plain": [
       "dict_keys(['loss', 'sparse_categorical_accuracy', 'val_loss', 'val_sparse_categorical_accuracy'])"
      ]
     },
     "execution_count": 21,
     "metadata": {},
     "output_type": "execute_result"
    }
   ],
   "source": [
    "# print keys \n",
    "history.history.keys()"
   ]
  },
  {
   "cell_type": "code",
   "execution_count": 22,
   "id": "98e39e75",
   "metadata": {
    "execution": {
     "iopub.execute_input": "2022-09-12T16:32:20.765793Z",
     "iopub.status.busy": "2022-09-12T16:32:20.765217Z",
     "iopub.status.idle": "2022-09-12T16:32:21.009380Z",
     "shell.execute_reply": "2022-09-12T16:32:21.008497Z"
    },
    "papermill": {
     "duration": 1.681995,
     "end_time": "2022-09-12T16:32:21.011458",
     "exception": false,
     "start_time": "2022-09-12T16:32:19.329463",
     "status": "completed"
    },
    "tags": []
   },
   "outputs": [
    {
     "data": {
      "image/png": "[encoded data removed]",
      "text/plain": [
       "<Figure size 432x288 with 1 Axes>"
      ]
     },
     "metadata": {
      "needs_background": "light"
     },
     "output_type": "display_data"
    }
   ],
   "source": [
    "loss_train = history.history['loss']\n",
    "loss_val = history.history['val_loss']\n",
    "epochs = range(NR_EPOCHS)\n",
    "plt.plot(epochs, loss_train, 'g', label='Training loss')\n",
    "plt.plot(epochs, loss_val, 'b', label='Validation loss')\n",
    "plt.title('Training and validation loss')\n",
    "plt.xlabel('Epochs')\n",
    "plt.ylabel('Loss')\n",
    "plt.legend()\n",
    "plt.show()"
   ]
  },
  {
   "cell_type": "code",
   "execution_count": 23,
   "id": "3ea1d7e1",
   "metadata": {
    "execution": {
     "iopub.execute_input": "2022-09-12T16:32:23.791474Z",
     "iopub.status.busy": "2022-09-12T16:32:23.790906Z",
     "iopub.status.idle": "2022-09-12T16:32:24.019311Z",
     "shell.execute_reply": "2022-09-12T16:32:24.018350Z"
    },
    "papermill": {
     "duration": 1.660989,
     "end_time": "2022-09-12T16:32:24.021333",
     "exception": false,
     "start_time": "2022-09-12T16:32:22.360344",
     "status": "completed"
    },
    "tags": []
   },
   "outputs": [
    {
     "data": {
      "image/png": "[encoded data removed]",
      "text/plain": [
       "<Figure size 432x288 with 1 Axes>"
      ]
     },
     "metadata": {
      "needs_background": "light"
     },
     "output_type": "display_data"
    }
   ],
   "source": [
    "loss_train = history.history['sparse_categorical_accuracy']\n",
    "loss_val = history.history['val_sparse_categorical_accuracy']\n",
    "epochs = range(NR_EPOCHS)\n",
    "plt.plot(epochs, loss_train, 'g', label='Training accuracy')\n",
    "plt.plot(epochs, loss_val, 'b', label='Validation accuracy')\n",
    "plt.title('Training and validation accuracy')\n",
    "plt.xlabel('Epochs')\n",
    "plt.ylabel('Accuracy')\n",
    "plt.legend()\n",
    "plt.show()"
   ]
  },
  {
   "cell_type": "markdown",
   "id": "700fa6d3",
   "metadata": {
    "papermill": {
     "duration": 1.45989,
     "end_time": "2022-09-12T16:32:26.956080",
     "exception": false,
     "start_time": "2022-09-12T16:32:25.496190",
     "status": "completed"
    },
    "tags": []
   },
   "source": [
    "### Load model and validate"
   ]
  },
  {
   "cell_type": "code",
   "execution_count": 24,
   "id": "b07473b9",
   "metadata": {
    "execution": {
     "iopub.execute_input": "2022-09-12T16:32:29.989670Z",
     "iopub.status.busy": "2022-09-12T16:32:29.989162Z",
     "iopub.status.idle": "2022-09-12T16:32:39.036956Z",
     "shell.execute_reply": "2022-09-12T16:32:39.035793Z"
    },
    "papermill": {
     "duration": 10.484565,
     "end_time": "2022-09-12T16:32:39.039185",
     "exception": false,
     "start_time": "2022-09-12T16:32:28.554620",
     "status": "completed"
    },
    "tags": []
   },
   "outputs": [
    {
     "name": "stdout",
     "output_type": "stream",
     "text": [
      "9/9 [==============================] - 5s 536ms/step - loss: 0.3115 - sparse_categorical_accuracy: 0.9000\n",
      "0.31154775619506836 0.8999999761581421\n"
     ]
    }
   ],
   "source": [
    "model_age = load_model(\"./models/age_best_model.h5\")\n",
    "loss, acc = model_age.evaluate(test_generator)\n",
    "print (loss, acc)"
   ]
  },
  {
   "cell_type": "markdown",
   "id": "7ba40e2f",
   "metadata": {
    "papermill": {
     "duration": 1.438765,
     "end_time": "2022-09-12T16:32:41.978143",
     "exception": false,
     "start_time": "2022-09-12T16:32:40.539378",
     "status": "completed"
    },
    "tags": []
   },
   "source": [
    "### Show sample results"
   ]
  },
  {
   "cell_type": "code",
   "execution_count": 25,
   "id": "74fe23d9",
   "metadata": {
    "execution": {
     "iopub.execute_input": "2022-09-12T16:32:44.776840Z",
     "iopub.status.busy": "2022-09-12T16:32:44.776263Z",
     "iopub.status.idle": "2022-09-12T16:32:49.268066Z",
     "shell.execute_reply": "2022-09-12T16:32:49.266919Z"
    },
    "papermill": {
     "duration": 5.935831,
     "end_time": "2022-09-12T16:32:49.270977",
     "exception": false,
     "start_time": "2022-09-12T16:32:43.335146",
     "status": "completed"
    },
    "tags": []
   },
   "outputs": [
    {
     "data": {
      "image/png": "[encoded data removed]",
      "text/plain": [
       "<Figure size 720x720 with 16 Axes>"
      ]
     },
     "metadata": {
      "needs_background": "light"
     },
     "output_type": "display_data"
    }
   ],
   "source": [
    "def show_faces(images, age=None, pred_age=None):\n",
    "    plt.figure(figsize=(10,10))\n",
    "    labels = {\"Age\": [pred_age, age]}\n",
    "    for i in range(16):\n",
    "        plt.subplot(4,4, i+1)\n",
    "        plt.axis('off')\n",
    "        #plt.xticks([])\n",
    "        #plt.yticks([])\n",
    "        #plt.grid(False)\n",
    "        plt.imshow(images[i])\n",
    "        \n",
    "        if pred_age[i] is None:\n",
    "            continue\n",
    "           \n",
    "            \n",
    "        real_age = int(age[i])\n",
    "        predicted_age = np.argmax(predicted[i])\n",
    "                \n",
    "                \n",
    "        plt.title(f\"Age Class: {age_dict[real_age]}\\n Predicted Age Class: {age_dict[predicted_age]}\", fontsize=8)\n",
    "            \n",
    "        plt.subplots_adjust(wspace=0.3)\n",
    "\n",
    "sample_validation_images, sample_validation_labels = next(test_generator)\n",
    "predicted = model_age.predict(sample_validation_images)\n",
    "show_faces(sample_validation_images, age=sample_validation_labels, pred_age=predicted)"
   ]
  },
  {
   "cell_type": "markdown",
   "id": "7001f653",
   "metadata": {
    "papermill": {
     "duration": 1.35944,
     "end_time": "2022-09-12T16:32:52.329576",
     "exception": false,
     "start_time": "2022-09-12T16:32:50.970136",
     "status": "completed"
    },
    "tags": []
   },
   "source": [
    "## Direct Age Estimation"
   ]
  },
  {
   "cell_type": "code",
   "execution_count": 26,
   "id": "3300ff0c",
   "metadata": {
    "execution": {
     "iopub.execute_input": "2022-09-12T16:32:55.362788Z",
     "iopub.status.busy": "2022-09-12T16:32:55.362185Z",
     "iopub.status.idle": "2022-09-12T16:32:55.367428Z",
     "shell.execute_reply": "2022-09-12T16:32:55.366367Z"
    },
    "papermill": {
     "duration": 1.496291,
     "end_time": "2022-09-12T16:32:55.369910",
     "exception": false,
     "start_time": "2022-09-12T16:32:53.873619",
     "status": "completed"
    },
    "tags": []
   },
   "outputs": [],
   "source": [
    "NR_EPOCHS = 60"
   ]
  },
  {
   "cell_type": "code",
   "execution_count": 27,
   "id": "2811d582",
   "metadata": {
    "execution": {
     "iopub.execute_input": "2022-09-12T16:32:58.201869Z",
     "iopub.status.busy": "2022-09-12T16:32:58.201303Z",
     "iopub.status.idle": "2022-09-12T16:32:58.208820Z",
     "shell.execute_reply": "2022-09-12T16:32:58.207861Z"
    },
    "papermill": {
     "duration": 1.393694,
     "end_time": "2022-09-12T16:32:58.211072",
     "exception": false,
     "start_time": "2022-09-12T16:32:56.817378",
     "status": "completed"
    },
    "tags": []
   },
   "outputs": [],
   "source": [
    "# reads image_path and returns decoded img \n",
    "def process_path(file_path, label):\n",
    "    #read file path\n",
    "    img = tf.io.read_file(file_path)\n",
    "    img = tf.image.decode_jpeg(img, channels=3)\n",
    "    #convert the values from 0-1\n",
    "    img = tf.image.convert_image_dtype(img, tf.float32)\n",
    "    # preprocess image for VGG16\n",
    "    img = preprocess_input(img)\n",
    "    img = tf.image.resize(img, IMAGE_SIZE)\n",
    "    return img, label"
   ]
  },
  {
   "cell_type": "code",
   "execution_count": 28,
   "id": "5dfd7027",
   "metadata": {
    "execution": {
     "iopub.execute_input": "2022-09-12T16:33:01.335566Z",
     "iopub.status.busy": "2022-09-12T16:33:01.335181Z",
     "iopub.status.idle": "2022-09-12T16:33:01.339751Z",
     "shell.execute_reply": "2022-09-12T16:33:01.338688Z"
    },
    "papermill": {
     "duration": 1.68791,
     "end_time": "2022-09-12T16:33:01.341961",
     "exception": false,
     "start_time": "2022-09-12T16:32:59.654051",
     "status": "completed"
    },
    "tags": []
   },
   "outputs": [],
   "source": [
    "BASE = \"./ds/output/\""
   ]
  },
  {
   "cell_type": "code",
   "execution_count": 29,
   "id": "7f4f4df8",
   "metadata": {
    "execution": {
     "iopub.execute_input": "2022-09-12T16:33:04.194944Z",
     "iopub.status.busy": "2022-09-12T16:33:04.193566Z",
     "iopub.status.idle": "2022-09-12T16:33:04.356743Z",
     "shell.execute_reply": "2022-09-12T16:33:04.355563Z"
    },
    "papermill": {
     "duration": 1.626859,
     "end_time": "2022-09-12T16:33:04.358860",
     "exception": false,
     "start_time": "2022-09-12T16:33:02.732001",
     "status": "completed"
    },
    "tags": []
   },
   "outputs": [
    {
     "name": "stdout",
     "output_type": "stream",
     "text": [
      "16000\n"
     ]
    },
    {
     "data": {
      "application/vnd.jupyter.widget-view+json": {
       "model_id": "a2c13661cf84485198f937473a1441cc",
       "version_major": 2,
       "version_minor": 0
      },
      "text/plain": [
       "  0%|          | 0/16000 [00:00<?, ?it/s]"
      ]
     },
     "metadata": {},
     "output_type": "display_data"
    },
    {
     "name": "stdout",
     "output_type": "stream",
     "text": [
      "Counter({'40-60': 3264, '60-80': 3246, '80+': 3184, '0-20': 3173, '20-40': 3133})\n"
     ]
    }
   ],
   "source": [
    "# read labels of image age, gender\n",
    "image_paths = []\n",
    "age_labels = []\n",
    "gender_labels =[]\n",
    "age_class = []\n",
    "print(len(os.listdir(BASE)))\n",
    "for filename in tqdm(os.listdir(BASE)):\n",
    "  image_path = os.path.join(BASE, filename)\n",
    "  #split filename to get labels\n",
    "  temp= filename.split('_')\n",
    "  #print(temp)\n",
    "  age = int(temp[2])\n",
    "  gender = int(temp[3])\n",
    "  image_paths.append(image_path)\n",
    "  age_labels.append(age)\n",
    "  gender_labels.append(gender)\n",
    "  age_class.append(age_to_class(age))\n",
    "\n",
    "names = []\n",
    "for path in image_paths:\n",
    "  temp = path.split('/')\n",
    "  #print(temp[3])\n",
    "  names.append(temp[3])\n",
    "\n",
    "#convert to dataframe\n",
    "aug_df = pd.DataFrame()\n",
    "aug_df['image'], aug_df['age'], aug_df['gender'], aug_df['age_class'], aug_df['name'] = image_paths, age_labels, gender_labels, age_class, names\n",
    "aug_df.head()\n",
    "aug_df\n",
    "\n",
    "age_verbose = [age_dict[int(age)] for age in aug_df['age_class']]\n",
    "\n",
    "print(Counter(age_verbose))\n",
    "\n"
   ]
  },
  {
   "cell_type": "markdown",
   "id": "dfe92d60",
   "metadata": {
    "papermill": {
     "duration": 1.459946,
     "end_time": "2022-09-12T16:33:07.282508",
     "exception": false,
     "start_time": "2022-09-12T16:33:05.822562",
     "status": "completed"
    },
    "tags": []
   },
   "source": [
    "### Split Dataset in Train, Validation and Test Dataset"
   ]
  },
  {
   "cell_type": "code",
   "execution_count": 30,
   "id": "aff37f59",
   "metadata": {
    "execution": {
     "iopub.execute_input": "2022-09-12T16:33:10.157550Z",
     "iopub.status.busy": "2022-09-12T16:33:10.157174Z",
     "iopub.status.idle": "2022-09-12T16:33:10.166336Z",
     "shell.execute_reply": "2022-09-12T16:33:10.165445Z"
    },
    "papermill": {
     "duration": 1.476426,
     "end_time": "2022-09-12T16:33:10.168363",
     "exception": false,
     "start_time": "2022-09-12T16:33:08.691937",
     "status": "completed"
    },
    "tags": []
   },
   "outputs": [],
   "source": [
    "training_data = aug_df\n",
    "val_data = df.sample(frac=0.8, random_state=25)\n",
    "testing_data = df.drop(val_data.index)"
   ]
  },
  {
   "cell_type": "code",
   "execution_count": 31,
   "id": "0e7f92ff",
   "metadata": {
    "execution": {
     "iopub.execute_input": "2022-09-12T16:33:13.260389Z",
     "iopub.status.busy": "2022-09-12T16:33:13.259974Z",
     "iopub.status.idle": "2022-09-12T16:33:13.268504Z",
     "shell.execute_reply": "2022-09-12T16:33:13.267579Z"
    },
    "papermill": {
     "duration": 1.57713,
     "end_time": "2022-09-12T16:33:13.270574",
     "exception": false,
     "start_time": "2022-09-12T16:33:11.693444",
     "status": "completed"
    },
    "tags": []
   },
   "outputs": [],
   "source": [
    "labels_train =  tf.keras.utils.to_categorical(training_data['age'], num_classes=117)\n",
    "labels_val =  tf.keras.utils.to_categorical(val_data['age'], num_classes=117)\n",
    "labels_test =  tf.keras.utils.to_categorical(testing_data['age'], num_classes=117) "
   ]
  },
  {
   "cell_type": "code",
   "execution_count": 32,
   "id": "6304bb75",
   "metadata": {
    "execution": {
     "iopub.execute_input": "2022-09-12T16:33:16.190003Z",
     "iopub.status.busy": "2022-09-12T16:33:16.189642Z",
     "iopub.status.idle": "2022-09-12T16:33:16.305868Z",
     "shell.execute_reply": "2022-09-12T16:33:16.304928Z"
    },
    "papermill": {
     "duration": 1.569759,
     "end_time": "2022-09-12T16:33:16.308631",
     "exception": false,
     "start_time": "2022-09-12T16:33:14.738872",
     "status": "completed"
    },
    "tags": []
   },
   "outputs": [],
   "source": [
    "train_dataset = tf.data.Dataset.from_tensor_slices((training_data['image'],labels_train))\n",
    "train_dataset = train_dataset.shuffle(len(training_data))\n",
    "train_dataset =train_dataset.map(process_path, num_parallel_calls=4)\n",
    "train_dataset = train_dataset.batch(64)\n",
    "\n",
    "\n",
    "val_dataset = tf.data.Dataset.from_tensor_slices((val_data['image'],labels_val))\n",
    "val_dataset = val_dataset.shuffle(len(val_data))\n",
    "val_dataset = val_dataset.map(process_path, num_parallel_calls=4)\n",
    "val_dataset = val_dataset.batch(64)\n",
    "\n",
    "test_dataset = tf.data.Dataset.from_tensor_slices((testing_data['image'],labels_test))\n",
    "test_dataset = test_dataset.shuffle(len(testing_data))\n",
    "test_dataset = test_dataset.map(process_path, num_parallel_calls=4)\n",
    "test_dataset = test_dataset.batch(64)"
   ]
  },
  {
   "cell_type": "markdown",
   "id": "59cecf31",
   "metadata": {
    "papermill": {
     "duration": 1.609733,
     "end_time": "2022-09-12T16:33:19.362637",
     "exception": false,
     "start_time": "2022-09-12T16:33:17.752904",
     "status": "completed"
    },
    "tags": []
   },
   "source": [
    "### Load and build model"
   ]
  },
  {
   "cell_type": "code",
   "execution_count": 33,
   "id": "f9b02e64",
   "metadata": {
    "execution": {
     "iopub.execute_input": "2022-09-12T16:33:22.543905Z",
     "iopub.status.busy": "2022-09-12T16:33:22.543357Z",
     "iopub.status.idle": "2022-09-12T16:33:23.152781Z",
     "shell.execute_reply": "2022-09-12T16:33:23.151683Z"
    },
    "papermill": {
     "duration": 2.102699,
     "end_time": "2022-09-12T16:33:23.155613",
     "exception": false,
     "start_time": "2022-09-12T16:33:21.052914",
     "status": "completed"
    },
    "tags": []
   },
   "outputs": [],
   "source": [
    "model2 = VGG16(input_shape=[224,224,3],weights='imagenet', include_top=False)\n",
    "\n",
    "for layer in model.layers:\n",
    "    layer.trainable=False"
   ]
  },
  {
   "cell_type": "code",
   "execution_count": 34,
   "id": "edafe03e",
   "metadata": {
    "execution": {
     "iopub.execute_input": "2022-09-12T16:33:25.999131Z",
     "iopub.status.busy": "2022-09-12T16:33:25.998134Z",
     "iopub.status.idle": "2022-09-12T16:33:26.031714Z",
     "shell.execute_reply": "2022-09-12T16:33:26.030608Z"
    },
    "papermill": {
     "duration": 1.51142,
     "end_time": "2022-09-12T16:33:26.034499",
     "exception": false,
     "start_time": "2022-09-12T16:33:24.523079",
     "status": "completed"
    },
    "tags": []
   },
   "outputs": [
    {
     "name": "stdout",
     "output_type": "stream",
     "text": [
      "Model: \"model_1\"\n",
      "_________________________________________________________________\n",
      "Layer (type)                 Output Shape              Param #   \n",
      "=================================================================\n",
      "input_2 (InputLayer)         [(None, 224, 224, 3)]     0         \n",
      "_________________________________________________________________\n",
      "block1_conv1 (Conv2D)        (None, 224, 224, 64)      1792      \n",
      "_________________________________________________________________\n",
      "block1_conv2 (Conv2D)        (None, 224, 224, 64)      36928     \n",
      "_________________________________________________________________\n",
      "block1_pool (MaxPooling2D)   (None, 112, 112, 64)      0         \n",
      "_________________________________________________________________\n",
      "block2_conv1 (Conv2D)        (None, 112, 112, 128)     73856     \n",
      "_________________________________________________________________\n",
      "block2_conv2 (Conv2D)        (None, 112, 112, 128)     147584    \n",
      "_________________________________________________________________\n",
      "block2_pool (MaxPooling2D)   (None, 56, 56, 128)       0         \n",
      "_________________________________________________________________\n",
      "block3_conv1 (Conv2D)        (None, 56, 56, 256)       295168    \n",
      "_________________________________________________________________\n",
      "block3_conv2 (Conv2D)        (None, 56, 56, 256)       590080    \n",
      "_________________________________________________________________\n",
      "block3_conv3 (Conv2D)        (None, 56, 56, 256)       590080    \n",
      "_________________________________________________________________\n",
      "block3_pool (MaxPooling2D)   (None, 28, 28, 256)       0         \n",
      "_________________________________________________________________\n",
      "block4_conv1 (Conv2D)        (None, 28, 28, 512)       1180160   \n",
      "_________________________________________________________________\n",
      "block4_conv2 (Conv2D)        (None, 28, 28, 512)       2359808   \n",
      "_________________________________________________________________\n",
      "block4_conv3 (Conv2D)        (None, 28, 28, 512)       2359808   \n",
      "_________________________________________________________________\n",
      "block4_pool (MaxPooling2D)   (None, 14, 14, 512)       0         \n",
      "_________________________________________________________________\n",
      "block5_conv1 (Conv2D)        (None, 14, 14, 512)       2359808   \n",
      "_________________________________________________________________\n",
      "block5_conv2 (Conv2D)        (None, 14, 14, 512)       2359808   \n",
      "_________________________________________________________________\n",
      "block5_conv3 (Conv2D)        (None, 14, 14, 512)       2359808   \n",
      "_________________________________________________________________\n",
      "block5_pool (MaxPooling2D)   (None, 7, 7, 512)         0         \n",
      "_________________________________________________________________\n",
      "flatten_1 (Flatten)          (None, 25088)             0         \n",
      "_________________________________________________________________\n",
      "dense_3 (Dense)              (None, 4096)              102764544 \n",
      "_________________________________________________________________\n",
      "dense_4 (Dense)              (None, 4096)              16781312  \n",
      "_________________________________________________________________\n",
      "dense_5 (Dense)              (None, 117)               479349    \n",
      "=================================================================\n",
      "Total params: 134,739,893\n",
      "Trainable params: 134,739,893\n",
      "Non-trainable params: 0\n",
      "_________________________________________________________________\n"
     ]
    }
   ],
   "source": [
    "x2 = Flatten()(model2.output)\n",
    "x2 = Dense(4096, activation='sigmoid')(x2)\n",
    "x2 = Dense(4096, activation='sigmoid')(x2)\n",
    "prediction2 = Dense(117, activation='softmax')(x2)\n",
    "model_direct = Model(inputs=model2.input, outputs=prediction2)\n",
    "model_direct.summary()\n",
    "\n"
   ]
  },
  {
   "cell_type": "code",
   "execution_count": 35,
   "id": "9ad6a6e2",
   "metadata": {
    "execution": {
     "iopub.execute_input": "2022-09-12T16:33:28.940900Z",
     "iopub.status.busy": "2022-09-12T16:33:28.940544Z",
     "iopub.status.idle": "2022-09-12T16:33:28.952512Z",
     "shell.execute_reply": "2022-09-12T16:33:28.951616Z"
    },
    "papermill": {
     "duration": 1.472447,
     "end_time": "2022-09-12T16:33:28.954615",
     "exception": false,
     "start_time": "2022-09-12T16:33:27.482168",
     "status": "completed"
    },
    "tags": []
   },
   "outputs": [],
   "source": [
    "# model_direct.compile(optimizer=tf.keras.optimizers.Adam(learning_rate=0.001),\n",
    "#               loss=tf.keras.metrics.SparseCategoricalCrossentropy(),\n",
    "#               metrics= tf.keras.metrics.MeanAbsoluteError())\n",
    "\n",
    "opt = tf.keras.optimizers.RMSprop(learning_rate=0.001, decay=1e-6)\n",
    "model_direct.compile(loss='categorical_crossentropy',\n",
    "              optimizer=opt,\n",
    "              metrics=['accuracy'])"
   ]
  },
  {
   "cell_type": "code",
   "execution_count": 36,
   "id": "a699efb4",
   "metadata": {
    "execution": {
     "iopub.execute_input": "2022-09-12T16:33:31.753862Z",
     "iopub.status.busy": "2022-09-12T16:33:31.753497Z",
     "iopub.status.idle": "2022-09-12T16:33:32.125477Z",
     "shell.execute_reply": "2022-09-12T16:33:32.124339Z"
    },
    "papermill": {
     "duration": 1.816279,
     "end_time": "2022-09-12T16:33:32.127666",
     "exception": false,
     "start_time": "2022-09-12T16:33:30.311387",
     "status": "completed"
    },
    "tags": []
   },
   "outputs": [
    {
     "name": "stderr",
     "output_type": "stream",
     "text": [
      "2022-09-12 16:33:31.756513: I tensorflow/core/profiler/lib/profiler_session.cc:131] Profiler session initializing.\n",
      "2022-09-12 16:33:31.762668: I tensorflow/core/profiler/lib/profiler_session.cc:146] Profiler session started.\n",
      "2022-09-12 16:33:31.989231: I tensorflow/core/profiler/lib/profiler_session.cc:164] Profiler session tear down.\n",
      "2022-09-12 16:33:31.989443: I tensorflow/core/profiler/internal/gpu/cupti_tracer.cc:1748] CUPTI activity buffer flushed\n"
     ]
    },
    {
     "data": {
      "text/plain": [
       "'../tblogs/direct_age_model_aug22-09-12_16-33'"
      ]
     },
     "execution_count": 36,
     "metadata": {},
     "output_type": "execute_result"
    }
   ],
   "source": [
    "\n",
    "DIRECT_PATH = \"./models/direct_age_aug_best_model.h5\"\n",
    "\n",
    "\n",
    "checkpoint = tf.keras.callbacks.ModelCheckpoint(DIRECT_PATH, \n",
    "                                                monitor='val_accuracy', \n",
    "                                                verbose=1, \n",
    "                                                save_best_only=True, \n",
    "                                                mode='max')\n",
    "\n",
    "import datetime\n",
    "log_dir = '../tblogs/direct_age_model_aug' + datetime.datetime.now().strftime('%y-%m-%d_%H-%M')\n",
    "tensorboard_callback = tf.keras.callbacks.TensorBoard(log_dir=log_dir, histogram_freq=0)\n",
    "\n",
    "log_dir"
   ]
  },
  {
   "cell_type": "code",
   "execution_count": 37,
   "id": "d0d762e3",
   "metadata": {
    "execution": {
     "iopub.execute_input": "2022-09-12T16:33:35.222930Z",
     "iopub.status.busy": "2022-09-12T16:33:35.222563Z",
     "iopub.status.idle": "2022-09-12T18:38:55.396211Z",
     "shell.execute_reply": "2022-09-12T18:38:55.395221Z"
    },
    "papermill": {
     "duration": 7524.031609,
     "end_time": "2022-09-12T18:38:57.710875",
     "exception": false,
     "start_time": "2022-09-12T16:33:33.679266",
     "status": "completed"
    },
    "tags": []
   },
   "outputs": [
    {
     "name": "stdout",
     "output_type": "stream",
     "text": [
      "Epoch 1/60\n",
      "  1/250 [..............................] - ETA: 18:30 - loss: 5.1255 - accuracy: 0.0000e+00"
     ]
    },
    {
     "name": "stderr",
     "output_type": "stream",
     "text": [
      "2022-09-12 16:33:39.797729: I tensorflow/core/profiler/lib/profiler_session.cc:131] Profiler session initializing.\n",
      "2022-09-12 16:33:39.797778: I tensorflow/core/profiler/lib/profiler_session.cc:146] Profiler session started.\n"
     ]
    },
    {
     "name": "stdout",
     "output_type": "stream",
     "text": [
      "  2/250 [..............................] - ETA: 2:36 - loss: 10.4800 - accuracy: 0.0000e+00"
     ]
    },
    {
     "name": "stderr",
     "output_type": "stream",
     "text": [
      "2022-09-12 16:33:40.548255: I tensorflow/core/profiler/lib/profiler_session.cc:66] Profiler session collecting data.\n",
      "2022-09-12 16:33:40.549776: I tensorflow/core/profiler/internal/gpu/cupti_tracer.cc:1748] CUPTI activity buffer flushed\n",
      "2022-09-12 16:33:40.688497: I tensorflow/core/profiler/internal/gpu/cupti_collector.cc:673]  GpuTracer has collected 609 callback api events and 606 activity events. \n",
      "2022-09-12 16:33:40.702907: I tensorflow/core/profiler/lib/profiler_session.cc:164] Profiler session tear down.\n",
      "2022-09-12 16:33:40.728379: I tensorflow/core/profiler/rpc/client/save_profile.cc:136] Creating directory: ../tblogs/direct_age_model_aug22-09-12_16-33/train/plugins/profile/2022_09_12_16_33_40\n",
      "\n",
      "2022-09-12 16:33:40.743039: I tensorflow/core/profiler/rpc/client/save_profile.cc:142] Dumped gzipped tool data for trace.json.gz to ../tblogs/direct_age_model_aug22-09-12_16-33/train/plugins/profile/2022_09_12_16_33_40/cbad18baf338.trace.json.gz\n",
      "2022-09-12 16:33:40.772324: I tensorflow/core/profiler/rpc/client/save_profile.cc:136] Creating directory: ../tblogs/direct_age_model_aug22-09-12_16-33/train/plugins/profile/2022_09_12_16_33_40\n",
      "\n",
      "2022-09-12 16:33:40.777667: I tensorflow/core/profiler/rpc/client/save_profile.cc:142] Dumped gzipped tool data for memory_profile.json.gz to ../tblogs/direct_age_model_aug22-09-12_16-33/train/plugins/profile/2022_09_12_16_33_40/cbad18baf338.memory_profile.json.gz\n",
      "2022-09-12 16:33:40.779401: I tensorflow/core/profiler/rpc/client/capture_profile.cc:251] Creating directory: ../tblogs/direct_age_model_aug22-09-12_16-33/train/plugins/profile/2022_09_12_16_33_40\n",
      "Dumped tool data for xplane.pb to ../tblogs/direct_age_model_aug22-09-12_16-33/train/plugins/profile/2022_09_12_16_33_40/cbad18baf338.xplane.pb\n",
      "Dumped tool data for overview_page.pb to ../tblogs/direct_age_model_aug22-09-12_16-33/train/plugins/profile/2022_09_12_16_33_40/cbad18baf338.overview_page.pb\n",
      "Dumped tool data for input_pipeline.pb to ../tblogs/direct_age_model_aug22-09-12_16-33/train/plugins/profile/2022_09_12_16_33_40/cbad18baf338.input_pipeline.pb\n",
      "Dumped tool data for tensorflow_stats.pb to ../tblogs/direct_age_model_aug22-09-12_16-33/train/plugins/profile/2022_09_12_16_33_40/cbad18baf338.tensorflow_stats.pb\n",
      "Dumped tool data for kernel_stats.pb to ../tblogs/direct_age_model_aug22-09-12_16-33/train/plugins/profile/2022_09_12_16_33_40/cbad18baf338.kernel_stats.pb\n",
      "\n"
     ]
    },
    {
     "name": "stdout",
     "output_type": "stream",
     "text": [
      "250/250 [==============================] - 117s 451ms/step - loss: 5.0586 - accuracy: 0.0245 - val_loss: 4.7506 - val_accuracy: 0.0074\n",
      "\n",
      "Epoch 00001: val_accuracy improved from -inf to 0.00741, saving model to ./models/direct_age_aug_best_model.h5\n",
      "Epoch 2/60\n",
      "250/250 [==============================] - 107s 428ms/step - loss: 4.8011 - accuracy: 0.0257 - val_loss: 4.8374 - val_accuracy: 0.0171\n",
      "\n",
      "Epoch 00002: val_accuracy improved from 0.00741 to 0.01713, saving model to ./models/direct_age_aug_best_model.h5\n",
      "Epoch 3/60\n",
      "250/250 [==============================] - 107s 428ms/step - loss: 4.7960 - accuracy: 0.0283 - val_loss: 4.7405 - val_accuracy: 0.0153\n",
      "\n",
      "Epoch 00003: val_accuracy did not improve from 0.01713\n",
      "Epoch 4/60\n",
      "250/250 [==============================] - 107s 428ms/step - loss: 4.7738 - accuracy: 0.0265 - val_loss: 4.8497 - val_accuracy: 0.0069\n",
      "\n",
      "Epoch 00004: val_accuracy did not improve from 0.01713\n",
      "Epoch 5/60\n",
      "250/250 [==============================] - 107s 427ms/step - loss: 4.7674 - accuracy: 0.0262 - val_loss: 4.7761 - val_accuracy: 0.0167\n",
      "\n",
      "Epoch 00005: val_accuracy did not improve from 0.01713\n",
      "Epoch 6/60\n",
      "250/250 [==============================] - 107s 428ms/step - loss: 4.7656 - accuracy: 0.0291 - val_loss: 4.6323 - val_accuracy: 0.0139\n",
      "\n",
      "Epoch 00006: val_accuracy did not improve from 0.01713\n",
      "Epoch 7/60\n",
      "250/250 [==============================] - 107s 427ms/step - loss: 4.7659 - accuracy: 0.0266 - val_loss: 4.7983 - val_accuracy: 0.0435\n",
      "\n",
      "Epoch 00007: val_accuracy improved from 0.01713 to 0.04352, saving model to ./models/direct_age_aug_best_model.h5\n",
      "Epoch 8/60\n",
      "250/250 [==============================] - 112s 448ms/step - loss: 4.7512 - accuracy: 0.0297 - val_loss: 4.6921 - val_accuracy: 0.0167\n",
      "\n",
      "Epoch 00008: val_accuracy did not improve from 0.04352\n",
      "Epoch 9/60\n",
      "250/250 [==============================] - 112s 448ms/step - loss: 4.7580 - accuracy: 0.0274 - val_loss: 4.7580 - val_accuracy: 0.0065\n",
      "\n",
      "Epoch 00009: val_accuracy did not improve from 0.04352\n",
      "Epoch 10/60\n",
      "250/250 [==============================] - 107s 427ms/step - loss: 4.7390 - accuracy: 0.0311 - val_loss: 4.6976 - val_accuracy: 0.0338\n",
      "\n",
      "Epoch 00010: val_accuracy did not improve from 0.04352\n",
      "Epoch 11/60\n",
      "250/250 [==============================] - 108s 431ms/step - loss: 4.7352 - accuracy: 0.0308 - val_loss: 4.7236 - val_accuracy: 0.0329\n",
      "\n",
      "Epoch 00011: val_accuracy did not improve from 0.04352\n",
      "Epoch 12/60\n",
      "250/250 [==============================] - 112s 448ms/step - loss: 4.7237 - accuracy: 0.0306 - val_loss: 4.6702 - val_accuracy: 0.0593\n",
      "\n",
      "Epoch 00012: val_accuracy improved from 0.04352 to 0.05926, saving model to ./models/direct_age_aug_best_model.h5\n",
      "Epoch 13/60\n",
      "250/250 [==============================] - 107s 428ms/step - loss: 4.7276 - accuracy: 0.0293 - val_loss: 4.7013 - val_accuracy: 0.0593\n",
      "\n",
      "Epoch 00013: val_accuracy did not improve from 0.05926\n",
      "Epoch 14/60\n",
      "250/250 [==============================] - 107s 428ms/step - loss: 4.7211 - accuracy: 0.0284 - val_loss: 4.6622 - val_accuracy: 0.0593\n",
      "\n",
      "Epoch 00014: val_accuracy did not improve from 0.05926\n",
      "Epoch 15/60\n",
      "250/250 [==============================] - 112s 448ms/step - loss: 4.7128 - accuracy: 0.0308 - val_loss: 4.5899 - val_accuracy: 0.0435\n",
      "\n",
      "Epoch 00015: val_accuracy did not improve from 0.05926\n",
      "Epoch 16/60\n",
      "250/250 [==============================] - 107s 428ms/step - loss: 4.7074 - accuracy: 0.0290 - val_loss: 4.7212 - val_accuracy: 0.0593\n",
      "\n",
      "Epoch 00016: val_accuracy did not improve from 0.05926\n",
      "Epoch 17/60\n",
      "250/250 [==============================] - 112s 448ms/step - loss: 4.6972 - accuracy: 0.0281 - val_loss: 4.7437 - val_accuracy: 0.0593\n",
      "\n",
      "Epoch 00017: val_accuracy did not improve from 0.05926\n",
      "Epoch 18/60\n",
      "250/250 [==============================] - 108s 430ms/step - loss: 4.6932 - accuracy: 0.0298 - val_loss: 4.6835 - val_accuracy: 0.0435\n",
      "\n",
      "Epoch 00018: val_accuracy did not improve from 0.05926\n",
      "Epoch 19/60\n",
      "250/250 [==============================] - 112s 448ms/step - loss: 4.6828 - accuracy: 0.0320 - val_loss: 4.6595 - val_accuracy: 0.0593\n",
      "\n",
      "Epoch 00019: val_accuracy did not improve from 0.05926\n",
      "Epoch 20/60\n",
      "250/250 [==============================] - 107s 428ms/step - loss: 4.6774 - accuracy: 0.0312 - val_loss: 4.6983 - val_accuracy: 0.0593\n",
      "\n",
      "Epoch 00020: val_accuracy did not improve from 0.05926\n",
      "Epoch 21/60\n",
      "250/250 [==============================] - 112s 449ms/step - loss: 4.6751 - accuracy: 0.0301 - val_loss: 4.6034 - val_accuracy: 0.0593\n",
      "\n",
      "Epoch 00021: val_accuracy did not improve from 0.05926\n",
      "Epoch 22/60\n",
      "250/250 [==============================] - 112s 449ms/step - loss: 4.6656 - accuracy: 0.0345 - val_loss: 4.6205 - val_accuracy: 0.0593\n",
      "\n",
      "Epoch 00022: val_accuracy did not improve from 0.05926\n",
      "Epoch 23/60\n",
      "250/250 [==============================] - 107s 428ms/step - loss: 4.6579 - accuracy: 0.0299 - val_loss: 4.6678 - val_accuracy: 0.0139\n",
      "\n",
      "Epoch 00023: val_accuracy did not improve from 0.05926\n",
      "Epoch 24/60\n",
      "250/250 [==============================] - 107s 429ms/step - loss: 4.6502 - accuracy: 0.0348 - val_loss: 4.6916 - val_accuracy: 0.0593\n",
      "\n",
      "Epoch 00024: val_accuracy did not improve from 0.05926\n",
      "Epoch 25/60\n",
      "250/250 [==============================] - 107s 426ms/step - loss: 4.6392 - accuracy: 0.0359 - val_loss: 4.5851 - val_accuracy: 0.0593\n",
      "\n",
      "Epoch 00025: val_accuracy did not improve from 0.05926\n",
      "Epoch 26/60\n",
      "250/250 [==============================] - 107s 427ms/step - loss: 4.6409 - accuracy: 0.0345 - val_loss: 4.5748 - val_accuracy: 0.0593\n",
      "\n",
      "Epoch 00026: val_accuracy did not improve from 0.05926\n",
      "Epoch 27/60\n",
      "250/250 [==============================] - 112s 449ms/step - loss: 4.6350 - accuracy: 0.0342 - val_loss: 4.5495 - val_accuracy: 0.0593\n",
      "\n",
      "Epoch 00027: val_accuracy did not improve from 0.05926\n",
      "Epoch 28/60\n",
      "250/250 [==============================] - 107s 428ms/step - loss: 4.6287 - accuracy: 0.0354 - val_loss: 4.5575 - val_accuracy: 0.0593\n",
      "\n",
      "Epoch 00028: val_accuracy did not improve from 0.05926\n",
      "Epoch 29/60\n",
      "250/250 [==============================] - 107s 428ms/step - loss: 4.6229 - accuracy: 0.0306 - val_loss: 4.6906 - val_accuracy: 0.0144\n",
      "\n",
      "Epoch 00029: val_accuracy did not improve from 0.05926\n",
      "Epoch 30/60\n",
      "250/250 [==============================] - 112s 448ms/step - loss: 4.6155 - accuracy: 0.0325 - val_loss: 4.6318 - val_accuracy: 0.0593\n",
      "\n",
      "Epoch 00030: val_accuracy did not improve from 0.05926\n",
      "Epoch 31/60\n",
      "250/250 [==============================] - 112s 448ms/step - loss: 4.6148 - accuracy: 0.0367 - val_loss: 4.5321 - val_accuracy: 0.0435\n",
      "\n",
      "Epoch 00031: val_accuracy did not improve from 0.05926\n",
      "Epoch 32/60\n",
      "250/250 [==============================] - 112s 449ms/step - loss: 4.6116 - accuracy: 0.0347 - val_loss: 4.6270 - val_accuracy: 0.0310\n",
      "\n",
      "Epoch 00032: val_accuracy did not improve from 0.05926\n",
      "Epoch 33/60\n",
      "250/250 [==============================] - 107s 427ms/step - loss: 4.6018 - accuracy: 0.0386 - val_loss: 4.6881 - val_accuracy: 0.0134\n",
      "\n",
      "Epoch 00033: val_accuracy did not improve from 0.05926\n",
      "Epoch 34/60\n",
      "250/250 [==============================] - 108s 431ms/step - loss: 4.5936 - accuracy: 0.0355 - val_loss: 4.5484 - val_accuracy: 0.0310\n",
      "\n",
      "Epoch 00034: val_accuracy did not improve from 0.05926\n",
      "Epoch 35/60\n",
      "250/250 [==============================] - 107s 428ms/step - loss: 4.5880 - accuracy: 0.0359 - val_loss: 4.5980 - val_accuracy: 0.0338\n",
      "\n",
      "Epoch 00035: val_accuracy did not improve from 0.05926\n",
      "Epoch 36/60\n",
      "250/250 [==============================] - 107s 427ms/step - loss: 4.5849 - accuracy: 0.0376 - val_loss: 4.5883 - val_accuracy: 0.0185\n",
      "\n",
      "Epoch 00036: val_accuracy did not improve from 0.05926\n",
      "Epoch 37/60\n",
      "250/250 [==============================] - 112s 448ms/step - loss: 4.5745 - accuracy: 0.0366 - val_loss: 4.5783 - val_accuracy: 0.0593\n",
      "\n",
      "Epoch 00037: val_accuracy did not improve from 0.05926\n",
      "Epoch 38/60\n",
      "250/250 [==============================] - 107s 428ms/step - loss: 4.5631 - accuracy: 0.0374 - val_loss: 4.5271 - val_accuracy: 0.0593\n",
      "\n",
      "Epoch 00038: val_accuracy did not improve from 0.05926\n",
      "Epoch 39/60\n",
      "250/250 [==============================] - 112s 448ms/step - loss: 4.5557 - accuracy: 0.0413 - val_loss: 4.6132 - val_accuracy: 0.0338\n",
      "\n",
      "Epoch 00039: val_accuracy did not improve from 0.05926\n",
      "Epoch 40/60\n",
      "250/250 [==============================] - 112s 448ms/step - loss: 4.5493 - accuracy: 0.0402 - val_loss: 4.5552 - val_accuracy: 0.0144\n",
      "\n",
      "Epoch 00040: val_accuracy did not improve from 0.05926\n",
      "Epoch 41/60\n",
      "250/250 [==============================] - 108s 430ms/step - loss: 4.5478 - accuracy: 0.0410 - val_loss: 4.5192 - val_accuracy: 0.0171\n",
      "\n",
      "Epoch 00041: val_accuracy did not improve from 0.05926\n",
      "Epoch 42/60\n",
      "250/250 [==============================] - 107s 426ms/step - loss: 4.5389 - accuracy: 0.0429 - val_loss: 4.4959 - val_accuracy: 0.0593\n",
      "\n",
      "Epoch 00042: val_accuracy did not improve from 0.05926\n",
      "Epoch 43/60\n",
      "250/250 [==============================] - 107s 428ms/step - loss: 4.5276 - accuracy: 0.0408 - val_loss: 4.5425 - val_accuracy: 0.0593\n",
      "\n",
      "Epoch 00043: val_accuracy did not improve from 0.05926\n",
      "Epoch 44/60\n",
      "250/250 [==============================] - 107s 428ms/step - loss: 4.5257 - accuracy: 0.0419 - val_loss: 4.4934 - val_accuracy: 0.0593\n",
      "\n",
      "Epoch 00044: val_accuracy did not improve from 0.05926\n",
      "Epoch 45/60\n",
      "250/250 [==============================] - 107s 426ms/step - loss: 4.5098 - accuracy: 0.0451 - val_loss: 4.5333 - val_accuracy: 0.0593\n",
      "\n",
      "Epoch 00045: val_accuracy did not improve from 0.05926\n",
      "Epoch 46/60\n",
      "250/250 [==============================] - 107s 428ms/step - loss: 4.5025 - accuracy: 0.0456 - val_loss: 4.5086 - val_accuracy: 0.0593\n",
      "\n",
      "Epoch 00046: val_accuracy did not improve from 0.05926\n",
      "Epoch 47/60\n",
      "250/250 [==============================] - 107s 427ms/step - loss: 4.4967 - accuracy: 0.0464 - val_loss: 4.4754 - val_accuracy: 0.0310\n",
      "\n",
      "Epoch 00047: val_accuracy did not improve from 0.05926\n",
      "Epoch 48/60\n",
      "250/250 [==============================] - 107s 428ms/step - loss: 4.4820 - accuracy: 0.0453 - val_loss: 4.4896 - val_accuracy: 0.0593\n",
      "\n",
      "Epoch 00048: val_accuracy did not improve from 0.05926\n",
      "Epoch 49/60\n",
      "250/250 [==============================] - 107s 428ms/step - loss: 4.4752 - accuracy: 0.0469 - val_loss: 4.4898 - val_accuracy: 0.0593\n",
      "\n",
      "Epoch 00049: val_accuracy did not improve from 0.05926\n",
      "Epoch 50/60\n",
      "250/250 [==============================] - 107s 428ms/step - loss: 4.4635 - accuracy: 0.0493 - val_loss: 4.4522 - val_accuracy: 0.0162\n",
      "\n",
      "Epoch 00050: val_accuracy did not improve from 0.05926\n",
      "Epoch 51/60\n",
      "250/250 [==============================] - 107s 428ms/step - loss: 4.4483 - accuracy: 0.0512 - val_loss: 4.4253 - val_accuracy: 0.0593\n",
      "\n",
      "Epoch 00051: val_accuracy did not improve from 0.05926\n",
      "Epoch 52/60\n",
      "250/250 [==============================] - 107s 428ms/step - loss: 4.4273 - accuracy: 0.0506 - val_loss: 4.4181 - val_accuracy: 0.0593\n",
      "\n",
      "Epoch 00052: val_accuracy did not improve from 0.05926\n",
      "Epoch 53/60\n",
      "250/250 [==============================] - 107s 428ms/step - loss: 4.4054 - accuracy: 0.0527 - val_loss: 4.3913 - val_accuracy: 0.0593\n",
      "\n",
      "Epoch 00053: val_accuracy did not improve from 0.05926\n",
      "Epoch 54/60\n",
      "250/250 [==============================] - 112s 448ms/step - loss: 4.3821 - accuracy: 0.0568 - val_loss: 4.3769 - val_accuracy: 0.0593\n",
      "\n",
      "Epoch 00054: val_accuracy did not improve from 0.05926\n",
      "Epoch 55/60\n",
      "250/250 [==============================] - 107s 428ms/step - loss: 4.3676 - accuracy: 0.0581 - val_loss: 4.3619 - val_accuracy: 0.0593\n",
      "\n",
      "Epoch 00055: val_accuracy did not improve from 0.05926\n",
      "Epoch 56/60\n",
      "250/250 [==============================] - 112s 448ms/step - loss: 4.3615 - accuracy: 0.0581 - val_loss: 4.3584 - val_accuracy: 0.0593\n",
      "\n",
      "Epoch 00056: val_accuracy did not improve from 0.05926\n",
      "Epoch 57/60\n",
      "250/250 [==============================] - 107s 427ms/step - loss: 4.3585 - accuracy: 0.0582 - val_loss: 4.3588 - val_accuracy: 0.0593\n",
      "\n",
      "Epoch 00057: val_accuracy did not improve from 0.05926\n",
      "Epoch 58/60\n",
      "250/250 [==============================] - 107s 427ms/step - loss: 4.3565 - accuracy: 0.0582 - val_loss: 4.3563 - val_accuracy: 0.0593\n",
      "\n",
      "Epoch 00058: val_accuracy did not improve from 0.05926\n",
      "Epoch 59/60\n",
      "250/250 [==============================] - 107s 426ms/step - loss: 4.3560 - accuracy: 0.0582 - val_loss: 4.3550 - val_accuracy: 0.0593\n",
      "\n",
      "Epoch 00059: val_accuracy did not improve from 0.05926\n",
      "Epoch 60/60\n",
      "250/250 [==============================] - 107s 425ms/step - loss: 4.3554 - accuracy: 0.0582 - val_loss: 4.3525 - val_accuracy: 0.0593\n",
      "\n",
      "Epoch 00060: val_accuracy did not improve from 0.05926\n"
     ]
    }
   ],
   "source": [
    "from keras import callbacks\n",
    "\n",
    "earlystopping = callbacks.EarlyStopping(monitor =\"val_loss\", \n",
    "                                        mode =\"min\", patience = 5, \n",
    "                                        restore_best_weights = True)\n",
    "\n",
    "history_direct = model_direct.fit(train_dataset,\n",
    "                    epochs=NR_EPOCHS,\n",
    "                    batch_size = 64,\n",
    "                    validation_data=val_dataset,\n",
    "                    callbacks = [tensorboard_callback, checkpoint]\n",
    "                    )\n"
   ]
  },
  {
   "cell_type": "markdown",
   "id": "0a499d2a",
   "metadata": {
    "papermill": {
     "duration": 2.256903,
     "end_time": "2022-09-12T18:39:03.063710",
     "exception": false,
     "start_time": "2022-09-12T18:39:00.806807",
     "status": "completed"
    },
    "tags": []
   },
   "source": [
    "### Plot Training and Validation Loss"
   ]
  },
  {
   "cell_type": "code",
   "execution_count": 38,
   "id": "3cbf37f2",
   "metadata": {
    "execution": {
     "iopub.execute_input": "2022-09-12T18:39:07.597868Z",
     "iopub.status.busy": "2022-09-12T18:39:07.597236Z",
     "iopub.status.idle": "2022-09-12T18:39:07.605267Z",
     "shell.execute_reply": "2022-09-12T18:39:07.604364Z"
    },
    "papermill": {
     "duration": 2.271986,
     "end_time": "2022-09-12T18:39:07.607297",
     "exception": false,
     "start_time": "2022-09-12T18:39:05.335311",
     "status": "completed"
    },
    "tags": []
   },
   "outputs": [
    {
     "data": {
      "text/plain": [
       "dict_keys(['loss', 'accuracy', 'val_loss', 'val_accuracy'])"
      ]
     },
     "execution_count": 38,
     "metadata": {},
     "output_type": "execute_result"
    }
   ],
   "source": [
    "history_direct.history.keys()"
   ]
  },
  {
   "cell_type": "code",
   "execution_count": 39,
   "id": "6dfb6038",
   "metadata": {
    "execution": {
     "iopub.execute_input": "2022-09-12T18:39:12.385420Z",
     "iopub.status.busy": "2022-09-12T18:39:12.384892Z",
     "iopub.status.idle": "2022-09-12T18:39:12.598027Z",
     "shell.execute_reply": "2022-09-12T18:39:12.597077Z"
    },
    "papermill": {
     "duration": 2.662822,
     "end_time": "2022-09-12T18:39:12.600135",
     "exception": false,
     "start_time": "2022-09-12T18:39:09.937313",
     "status": "completed"
    },
    "tags": []
   },
   "outputs": [
    {
     "data": {
      "image/png": "[encoded data removed]",
      "text/plain": [
       "<Figure size 432x288 with 1 Axes>"
      ]
     },
     "metadata": {
      "needs_background": "light"
     },
     "output_type": "display_data"
    }
   ],
   "source": [
    "loss_train_direct = history_direct.history['loss']\n",
    "loss_val_direct = history_direct.history['val_loss']\n",
    "epochs = range(NR_EPOCHS)\n",
    "plt.plot(epochs, loss_train_direct, 'g', label='Training loss')\n",
    "plt.plot(epochs, loss_val_direct, 'b', label='Validation loss')\n",
    "plt.title('Training and validation loss')\n",
    "plt.xlabel('Epochs')\n",
    "plt.ylabel('Loss')\n",
    "plt.legend()\n",
    "plt.show()"
   ]
  },
  {
   "cell_type": "code",
   "execution_count": 40,
   "id": "e872bc1a",
   "metadata": {
    "execution": {
     "iopub.execute_input": "2022-09-12T18:39:17.108378Z",
     "iopub.status.busy": "2022-09-12T18:39:17.107861Z",
     "iopub.status.idle": "2022-09-12T18:39:17.325283Z",
     "shell.execute_reply": "2022-09-12T18:39:17.324298Z"
    },
    "papermill": {
     "duration": 2.480911,
     "end_time": "2022-09-12T18:39:17.327468",
     "exception": false,
     "start_time": "2022-09-12T18:39:14.846557",
     "status": "completed"
    },
    "tags": []
   },
   "outputs": [
    {
     "data": {
      "image/png": "[encoded data removed]",
      "text/plain": [
       "<Figure size 432x288 with 1 Axes>"
      ]
     },
     "metadata": {
      "needs_background": "light"
     },
     "output_type": "display_data"
    }
   ],
   "source": [
    "loss_train_direct = history_direct.history['accuracy']\n",
    "loss_val_direct = history_direct.history['val_accuracy']\n",
    "epochs = range(NR_EPOCHS)\n",
    "plt.plot(epochs, loss_train_direct, 'g', label='Training accuracy')\n",
    "plt.plot(epochs, loss_val_direct, 'b', label='Validation accuracy')\n",
    "plt.title('Training and validation accuracy')\n",
    "plt.xlabel('Epochs')\n",
    "plt.ylabel('Accuracy')\n",
    "plt.legend()\n",
    "plt.show()"
   ]
  },
  {
   "cell_type": "code",
   "execution_count": 41,
   "id": "b473b6e9",
   "metadata": {
    "execution": {
     "iopub.execute_input": "2022-09-12T18:39:22.110519Z",
     "iopub.status.busy": "2022-09-12T18:39:22.109351Z",
     "iopub.status.idle": "2022-09-12T18:39:26.568467Z",
     "shell.execute_reply": "2022-09-12T18:39:26.567308Z"
    },
    "papermill": {
     "duration": 6.995051,
     "end_time": "2022-09-12T18:39:26.570475",
     "exception": false,
     "start_time": "2022-09-12T18:39:19.575424",
     "status": "completed"
    },
    "tags": []
   },
   "outputs": [
    {
     "name": "stdout",
     "output_type": "stream",
     "text": [
      "9/9 [==============================] - 2s 165ms/step - loss: 4.6746 - accuracy: 0.0500\n",
      "4.674610614776611 0.05000000074505806\n"
     ]
    }
   ],
   "source": [
    "from tensorflow.keras.models import load_model\n",
    "\n",
    "model_age_direct = load_model(\"./models/direct_age_aug_best_model.h5\")\n",
    "loss, acc = model_age_direct.evaluate(test_dataset)\n",
    "print(loss, acc)"
   ]
  }
 ],
 "metadata": {
  "kernelspec": {
   "display_name": "Python 3",
   "language": "python",
   "name": "python3"
  },
  "language_info": {
   "codemirror_mode": {
    "name": "ipython",
    "version": 3
   },
   "file_extension": ".py",
   "mimetype": "text/x-python",
   "name": "python",
   "nbconvert_exporter": "python",
   "pygments_lexer": "ipython3",
   "version": "3.7.12"
  },
  "papermill": {
   "default_parameters": {},
   "duration": 19444.678341,
   "end_time": "2022-09-12T18:39:32.224373",
   "environment_variables": {},
   "exception": null,
   "input_path": "__notebook__.ipynb",
   "output_path": "__notebook__.ipynb",
   "parameters": {},
   "start_time": "2022-09-12T13:15:27.546032",
   "version": "2.3.4"
  },
  "widgets": {
   "application/vnd.jupyter.widget-state+json": {
    "state": {
     "005f19b0631d4f368da58ca5a27b2ae7": {
      "model_module": "@jupyter-widgets/controls",
      "model_module_version": "1.5.0",
      "model_name": "HBoxModel",
      "state": {
       "_dom_classes": [],
       "_model_module": "@jupyter-widgets/controls",
       "_model_module_version": "1.5.0",
       "_model_name": "HBoxModel",
       "_view_count": null,
       "_view_module": "@jupyter-widgets/controls",
       "_view_module_version": "1.5.0",
       "_view_name": "HBoxView",
       "box_style": "",
       "children": [
        "IPY_MODEL_97827d1b7678496fbb881be8fe031aea",
        "IPY_MODEL_0e096e6db62c4b7e8cc242da2e156e93",
        "IPY_MODEL_34aae2673fb641408fc40eb43cc4494d"
       ],
       "layout": "IPY_MODEL_b5255bf024c04bbb80a00a032985b283"
      }
     },
     "0368c610338b441b89a8b605a2c9f309": {
      "model_module": "@jupyter-widgets/controls",
      "model_module_version": "1.5.0",
      "model_name": "HTMLModel",
      "state": {
       "_dom_classes": [],
       "_model_module": "@jupyter-widgets/controls",
       "_model_module_version": "1.5.0",
       "_model_name": "HTMLModel",
       "_view_count": null,
       "_view_module": "@jupyter-widgets/controls",
       "_view_module_version": "1.5.0",
       "_view_name": "HTMLView",
       "description": "",
       "description_tooltip": null,
       "layout": "IPY_MODEL_d9ef5098b0d74093bebade96b2261d4f",
       "placeholder": "​",
       "style": "IPY_MODEL_ee3a20dd9da043a39653a727aecf4645",
       "value": "100%"
      }
     },
     "0e096e6db62c4b7e8cc242da2e156e93": {
      "model_module": "@jupyter-widgets/controls",
      "model_module_version": "1.5.0",
      "model_name": "FloatProgressModel",
      "state": {
       "_dom_classes": [],
       "_model_module": "@jupyter-widgets/controls",
       "_model_module_version": "1.5.0",
       "_model_name": "FloatProgressModel",
       "_view_count": null,
       "_view_module": "@jupyter-widgets/controls",
       "_view_module_version": "1.5.0",
       "_view_name": "ProgressView",
       "bar_style": "success",
       "description": "",
       "description_tooltip": null,
       "layout": "IPY_MODEL_4a6e2ad2a2374499aa56cecd4856bc90",
       "max": 23708.0,
       "min": 0.0,
       "orientation": "horizontal",
       "style": "IPY_MODEL_a931a0e32bcc4291a8a06dfe86ca7e67",
       "value": 23708.0
      }
     },
     "14cb2c076e904bc99c01dcfca898ac10": {
      "model_module": "@jupyter-widgets/base",
      "model_module_version": "1.2.0",
      "model_name": "LayoutModel",
      "state": {
       "_model_module": "@jupyter-widgets/base",
       "_model_module_version": "1.2.0",
       "_model_name": "LayoutModel",
       "_view_count": null,
       "_view_module": "@jupyter-widgets/base",
       "_view_module_version": "1.2.0",
       "_view_name": "LayoutView",
       "align_content": null,
       "align_items": null,
       "align_self": null,
       "border": null,
       "bottom": null,
       "display": null,
       "flex": null,
       "flex_flow": null,
       "grid_area": null,
       "grid_auto_columns": null,
       "grid_auto_flow": null,
       "grid_auto_rows": null,
       "grid_column": null,
       "grid_gap": null,
       "grid_row": null,
       "grid_template_areas": null,
       "grid_template_columns": null,
       "grid_template_rows": null,
       "height": null,
       "justify_content": null,
       "justify_items": null,
       "left": null,
       "margin": null,
       "max_height": null,
       "max_width": null,
       "min_height": null,
       "min_width": null,
       "object_fit": null,
       "object_position": null,
       "order": null,
       "overflow": null,
       "overflow_x": null,
       "overflow_y": null,
       "padding": null,
       "right": null,
       "top": null,
       "visibility": null,
       "width": null
      }
     },
     "34aae2673fb641408fc40eb43cc4494d": {
      "model_module": "@jupyter-widgets/controls",
      "model_module_version": "1.5.0",
      "model_name": "HTMLModel",
      "state": {
       "_dom_classes": [],
       "_model_module": "@jupyter-widgets/controls",
       "_model_module_version": "1.5.0",
       "_model_name": "HTMLModel",
       "_view_count": null,
       "_view_module": "@jupyter-widgets/controls",
       "_view_module_version": "1.5.0",
       "_view_name": "HTMLView",
       "description": "",
       "description_tooltip": null,
       "layout": "IPY_MODEL_651493a4feb6497f904547f523e80624",
       "placeholder": "​",
       "style": "IPY_MODEL_abb2a2db6f2a42c5ae169f3466378711",
       "value": " 23708/23708 [00:00&lt;00:00, 221889.05it/s]"
      }
     },
     "3f8b55bd327a47bb9a1177f58cd912e3": {
      "model_module": "@jupyter-widgets/controls",
      "model_module_version": "1.5.0",
      "model_name": "DescriptionStyleModel",
      "state": {
       "_model_module": "@jupyter-widgets/controls",
       "_model_module_version": "1.5.0",
       "_model_name": "DescriptionStyleModel",
       "_view_count": null,
       "_view_module": "@jupyter-widgets/base",
       "_view_module_version": "1.2.0",
       "_view_name": "StyleView",
       "description_width": ""
      }
     },
     "4a6e2ad2a2374499aa56cecd4856bc90": {
      "model_module": "@jupyter-widgets/base",
      "model_module_version": "1.2.0",
      "model_name": "LayoutModel",
      "state": {
       "_model_module": "@jupyter-widgets/base",
       "_model_module_version": "1.2.0",
       "_model_name": "LayoutModel",
       "_view_count": null,
       "_view_module": "@jupyter-widgets/base",
       "_view_module_version": "1.2.0",
       "_view_name": "LayoutView",
       "align_content": null,
       "align_items": null,
       "align_self": null,
       "border": null,
       "bottom": null,
       "display": null,
       "flex": null,
       "flex_flow": null,
       "grid_area": null,
       "grid_auto_columns": null,
       "grid_auto_flow": null,
       "grid_auto_rows": null,
       "grid_column": null,
       "grid_gap": null,
       "grid_row": null,
       "grid_template_areas": null,
       "grid_template_columns": null,
       "grid_template_rows": null,
       "height": null,
       "justify_content": null,
       "justify_items": null,
       "left": null,
       "margin": null,
       "max_height": null,
       "max_width": null,
       "min_height": null,
       "min_width": null,
       "object_fit": null,
       "object_position": null,
       "order": null,
       "overflow": null,
       "overflow_x": null,
       "overflow_y": null,
       "padding": null,
       "right": null,
       "top": null,
       "visibility": null,
       "width": null
      }
     },
     "4c91cc0525b24c9f9194e2c88eeb85c9": {
      "model_module": "@jupyter-widgets/controls",
      "model_module_version": "1.5.0",
      "model_name": "HTMLModel",
      "state": {
       "_dom_classes": [],
       "_model_module": "@jupyter-widgets/controls",
       "_model_module_version": "1.5.0",
       "_model_name": "HTMLModel",
       "_view_count": null,
       "_view_module": "@jupyter-widgets/controls",
       "_view_module_version": "1.5.0",
       "_view_name": "HTMLView",
       "description": "",
       "description_tooltip": null,
       "layout": "IPY_MODEL_14cb2c076e904bc99c01dcfca898ac10",
       "placeholder": "​",
       "style": "IPY_MODEL_3f8b55bd327a47bb9a1177f58cd912e3",
       "value": " 16000/16000 [00:00&lt;00:00, 186192.15it/s]"
      }
     },
     "541fd63bd51247bcb23a73a8db9e7660": {
      "model_module": "@jupyter-widgets/controls",
      "model_module_version": "1.5.0",
      "model_name": "DescriptionStyleModel",
      "state": {
       "_model_module": "@jupyter-widgets/controls",
       "_model_module_version": "1.5.0",
       "_model_name": "DescriptionStyleModel",
       "_view_count": null,
       "_view_module": "@jupyter-widgets/base",
       "_view_module_version": "1.2.0",
       "_view_name": "StyleView",
       "description_width": ""
      }
     },
     "56917bee22f64df7bf3513696b9d1c3b": {
      "model_module": "@jupyter-widgets/controls",
      "model_module_version": "1.5.0",
      "model_name": "ProgressStyleModel",
      "state": {
       "_model_module": "@jupyter-widgets/controls",
       "_model_module_version": "1.5.0",
       "_model_name": "ProgressStyleModel",
       "_view_count": null,
       "_view_module": "@jupyter-widgets/base",
       "_view_module_version": "1.2.0",
       "_view_name": "StyleView",
       "bar_color": null,
       "description_width": ""
      }
     },
     "589255005c044ea28feeb3a8661ef36b": {
      "model_module": "@jupyter-widgets/base",
      "model_module_version": "1.2.0",
      "model_name": "LayoutModel",
      "state": {
       "_model_module": "@jupyter-widgets/base",
       "_model_module_version": "1.2.0",
       "_model_name": "LayoutModel",
       "_view_count": null,
       "_view_module": "@jupyter-widgets/base",
       "_view_module_version": "1.2.0",
       "_view_name": "LayoutView",
       "align_content": null,
       "align_items": null,
       "align_self": null,
       "border": null,
       "bottom": null,
       "display": null,
       "flex": null,
       "flex_flow": null,
       "grid_area": null,
       "grid_auto_columns": null,
       "grid_auto_flow": null,
       "grid_auto_rows": null,
       "grid_column": null,
       "grid_gap": null,
       "grid_row": null,
       "grid_template_areas": null,
       "grid_template_columns": null,
       "grid_template_rows": null,
       "height": null,
       "justify_content": null,
       "justify_items": null,
       "left": null,
       "margin": null,
       "max_height": null,
       "max_width": null,
       "min_height": null,
       "min_width": null,
       "object_fit": null,
       "object_position": null,
       "order": null,
       "overflow": null,
       "overflow_x": null,
       "overflow_y": null,
       "padding": null,
       "right": null,
       "top": null,
       "visibility": null,
       "width": null
      }
     },
     "5ee1a726759f4be68d97ccf5019e20f2": {
      "model_module": "@jupyter-widgets/controls",
      "model_module_version": "1.5.0",
      "model_name": "FloatProgressModel",
      "state": {
       "_dom_classes": [],
       "_model_module": "@jupyter-widgets/controls",
       "_model_module_version": "1.5.0",
       "_model_name": "FloatProgressModel",
       "_view_count": null,
       "_view_module": "@jupyter-widgets/controls",
       "_view_module_version": "1.5.0",
       "_view_name": "ProgressView",
       "bar_style": "success",
       "description": "",
       "description_tooltip": null,
       "layout": "IPY_MODEL_589255005c044ea28feeb3a8661ef36b",
       "max": 16000.0,
       "min": 0.0,
       "orientation": "horizontal",
       "style": "IPY_MODEL_56917bee22f64df7bf3513696b9d1c3b",
       "value": 16000.0
      }
     },
     "651493a4feb6497f904547f523e80624": {
      "model_module": "@jupyter-widgets/base",
      "model_module_version": "1.2.0",
      "model_name": "LayoutModel",
      "state": {
       "_model_module": "@jupyter-widgets/base",
       "_model_module_version": "1.2.0",
       "_model_name": "LayoutModel",
       "_view_count": null,
       "_view_module": "@jupyter-widgets/base",
       "_view_module_version": "1.2.0",
       "_view_name": "LayoutView",
       "align_content": null,
       "align_items": null,
       "align_self": null,
       "border": null,
       "bottom": null,
       "display": null,
       "flex": null,
       "flex_flow": null,
       "grid_area": null,
       "grid_auto_columns": null,
       "grid_auto_flow": null,
       "grid_auto_rows": null,
       "grid_column": null,
       "grid_gap": null,
       "grid_row": null,
       "grid_template_areas": null,
       "grid_template_columns": null,
       "grid_template_rows": null,
       "height": null,
       "justify_content": null,
       "justify_items": null,
       "left": null,
       "margin": null,
       "max_height": null,
       "max_width": null,
       "min_height": null,
       "min_width": null,
       "object_fit": null,
       "object_position": null,
       "order": null,
       "overflow": null,
       "overflow_x": null,
       "overflow_y": null,
       "padding": null,
       "right": null,
       "top": null,
       "visibility": null,
       "width": null
      }
     },
     "97827d1b7678496fbb881be8fe031aea": {
      "model_module": "@jupyter-widgets/controls",
      "model_module_version": "1.5.0",
      "model_name": "HTMLModel",
      "state": {
       "_dom_classes": [],
       "_model_module": "@jupyter-widgets/controls",
       "_model_module_version": "1.5.0",
       "_model_name": "HTMLModel",
       "_view_count": null,
       "_view_module": "@jupyter-widgets/controls",
       "_view_module_version": "1.5.0",
       "_view_name": "HTMLView",
       "description": "",
       "description_tooltip": null,
       "layout": "IPY_MODEL_ed3dbdd9edab4e6983e40e4f2379a77f",
       "placeholder": "​",
       "style": "IPY_MODEL_541fd63bd51247bcb23a73a8db9e7660",
       "value": "100%"
      }
     },
     "a2c13661cf84485198f937473a1441cc": {
      "model_module": "@jupyter-widgets/controls",
      "model_module_version": "1.5.0",
      "model_name": "HBoxModel",
      "state": {
       "_dom_classes": [],
       "_model_module": "@jupyter-widgets/controls",
       "_model_module_version": "1.5.0",
       "_model_name": "HBoxModel",
       "_view_count": null,
       "_view_module": "@jupyter-widgets/controls",
       "_view_module_version": "1.5.0",
       "_view_name": "HBoxView",
       "box_style": "",
       "children": [
        "IPY_MODEL_0368c610338b441b89a8b605a2c9f309",
        "IPY_MODEL_5ee1a726759f4be68d97ccf5019e20f2",
        "IPY_MODEL_4c91cc0525b24c9f9194e2c88eeb85c9"
       ],
       "layout": "IPY_MODEL_aba6c94f72cb4e3a966d11fdb8cd0893"
      }
     },
     "a931a0e32bcc4291a8a06dfe86ca7e67": {
      "model_module": "@jupyter-widgets/controls",
      "model_module_version": "1.5.0",
      "model_name": "ProgressStyleModel",
      "state": {
       "_model_module": "@jupyter-widgets/controls",
       "_model_module_version": "1.5.0",
       "_model_name": "ProgressStyleModel",
       "_view_count": null,
       "_view_module": "@jupyter-widgets/base",
       "_view_module_version": "1.2.0",
       "_view_name": "StyleView",
       "bar_color": null,
       "description_width": ""
      }
     },
     "aba6c94f72cb4e3a966d11fdb8cd0893": {
      "model_module": "@jupyter-widgets/base",
      "model_module_version": "1.2.0",
      "model_name": "LayoutModel",
      "state": {
       "_model_module": "@jupyter-widgets/base",
       "_model_module_version": "1.2.0",
       "_model_name": "LayoutModel",
       "_view_count": null,
       "_view_module": "@jupyter-widgets/base",
       "_view_module_version": "1.2.0",
       "_view_name": "LayoutView",
       "align_content": null,
       "align_items": null,
       "align_self": null,
       "border": null,
       "bottom": null,
       "display": null,
       "flex": null,
       "flex_flow": null,
       "grid_area": null,
       "grid_auto_columns": null,
       "grid_auto_flow": null,
       "grid_auto_rows": null,
       "grid_column": null,
       "grid_gap": null,
       "grid_row": null,
       "grid_template_areas": null,
       "grid_template_columns": null,
       "grid_template_rows": null,
       "height": null,
       "justify_content": null,
       "justify_items": null,
       "left": null,
       "margin": null,
       "max_height": null,
       "max_width": null,
       "min_height": null,
       "min_width": null,
       "object_fit": null,
       "object_position": null,
       "order": null,
       "overflow": null,
       "overflow_x": null,
       "overflow_y": null,
       "padding": null,
       "right": null,
       "top": null,
       "visibility": null,
       "width": null
      }
     },
     "abb2a2db6f2a42c5ae169f3466378711": {
      "model_module": "@jupyter-widgets/controls",
      "model_module_version": "1.5.0",
      "model_name": "DescriptionStyleModel",
      "state": {
       "_model_module": "@jupyter-widgets/controls",
       "_model_module_version": "1.5.0",
       "_model_name": "DescriptionStyleModel",
       "_view_count": null,
       "_view_module": "@jupyter-widgets/base",
       "_view_module_version": "1.2.0",
       "_view_name": "StyleView",
       "description_width": ""
      }
     },
     "b5255bf024c04bbb80a00a032985b283": {
      "model_module": "@jupyter-widgets/base",
      "model_module_version": "1.2.0",
      "model_name": "LayoutModel",
      "state": {
       "_model_module": "@jupyter-widgets/base",
       "_model_module_version": "1.2.0",
       "_model_name": "LayoutModel",
       "_view_count": null,
       "_view_module": "@jupyter-widgets/base",
       "_view_module_version": "1.2.0",
       "_view_name": "LayoutView",
       "align_content": null,
       "align_items": null,
       "align_self": null,
       "border": null,
       "bottom": null,
       "display": null,
       "flex": null,
       "flex_flow": null,
       "grid_area": null,
       "grid_auto_columns": null,
       "grid_auto_flow": null,
       "grid_auto_rows": null,
       "grid_column": null,
       "grid_gap": null,
       "grid_row": null,
       "grid_template_areas": null,
       "grid_template_columns": null,
       "grid_template_rows": null,
       "height": null,
       "justify_content": null,
       "justify_items": null,
       "left": null,
       "margin": null,
       "max_height": null,
       "max_width": null,
       "min_height": null,
       "min_width": null,
       "object_fit": null,
       "object_position": null,
       "order": null,
       "overflow": null,
       "overflow_x": null,
       "overflow_y": null,
       "padding": null,
       "right": null,
       "top": null,
       "visibility": null,
       "width": null
      }
     },
     "d9ef5098b0d74093bebade96b2261d4f": {
      "model_module": "@jupyter-widgets/base",
      "model_module_version": "1.2.0",
      "model_name": "LayoutModel",
      "state": {
       "_model_module": "@jupyter-widgets/base",
       "_model_module_version": "1.2.0",
       "_model_name": "LayoutModel",
       "_view_count": null,
       "_view_module": "@jupyter-widgets/base",
       "_view_module_version": "1.2.0",
       "_view_name": "LayoutView",
       "align_content": null,
       "align_items": null,
       "align_self": null,
       "border": null,
       "bottom": null,
       "display": null,
       "flex": null,
       "flex_flow": null,
       "grid_area": null,
       "grid_auto_columns": null,
       "grid_auto_flow": null,
       "grid_auto_rows": null,
       "grid_column": null,
       "grid_gap": null,
       "grid_row": null,
       "grid_template_areas": null,
       "grid_template_columns": null,
       "grid_template_rows": null,
       "height": null,
       "justify_content": null,
       "justify_items": null,
       "left": null,
       "margin": null,
       "max_height": null,
       "max_width": null,
       "min_height": null,
       "min_width": null,
       "object_fit": null,
       "object_position": null,
       "order": null,
       "overflow": null,
       "overflow_x": null,
       "overflow_y": null,
       "padding": null,
       "right": null,
       "top": null,
       "visibility": null,
       "width": null
      }
     },
     "ed3dbdd9edab4e6983e40e4f2379a77f": {
      "model_module": "@jupyter-widgets/base",
      "model_module_version": "1.2.0",
      "model_name": "LayoutModel",
      "state": {
       "_model_module": "@jupyter-widgets/base",
       "_model_module_version": "1.2.0",
       "_model_name": "LayoutModel",
       "_view_count": null,
       "_view_module": "@jupyter-widgets/base",
       "_view_module_version": "1.2.0",
       "_view_name": "LayoutView",
       "align_content": null,
       "align_items": null,
       "align_self": null,
       "border": null,
       "bottom": null,
       "display": null,
       "flex": null,
       "flex_flow": null,
       "grid_area": null,
       "grid_auto_columns": null,
       "grid_auto_flow": null,
       "grid_auto_rows": null,
       "grid_column": null,
       "grid_gap": null,
       "grid_row": null,
       "grid_template_areas": null,
       "grid_template_columns": null,
       "grid_template_rows": null,
       "height": null,
       "justify_content": null,
       "justify_items": null,
       "left": null,
       "margin": null,
       "max_height": null,
       "max_width": null,
       "min_height": null,
       "min_width": null,
       "object_fit": null,
       "object_position": null,
       "order": null,
       "overflow": null,
       "overflow_x": null,
       "overflow_y": null,
       "padding": null,
       "right": null,
       "top": null,
       "visibility": null,
       "width": null
      }
     },
     "ee3a20dd9da043a39653a727aecf4645": {
      "model_module": "@jupyter-widgets/controls",
      "model_module_version": "1.5.0",
      "model_name": "DescriptionStyleModel",
      "state": {
       "_model_module": "@jupyter-widgets/controls",
       "_model_module_version": "1.5.0",
       "_model_name": "DescriptionStyleModel",
       "_view_count": null,
       "_view_module": "@jupyter-widgets/base",
       "_view_module_version": "1.2.0",
       "_view_name": "StyleView",
       "description_width": ""
      }
     }
    },
    "version_major": 2,
    "version_minor": 0
   }
  }
 },
 "nbformat": 4,
 "nbformat_minor": 5
}
