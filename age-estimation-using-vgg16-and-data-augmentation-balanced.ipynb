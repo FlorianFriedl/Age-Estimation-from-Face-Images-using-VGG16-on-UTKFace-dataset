{
 "cells": [
  {
   "cell_type": "markdown",
   "id": "762b97fe",
   "metadata": {
    "papermill": {
     "duration": 0.011004,
     "end_time": "2022-10-15T17:48:14.862858",
     "exception": false,
     "start_time": "2022-10-15T17:48:14.851854",
     "status": "completed"
    },
    "tags": []
   },
   "source": [
    "# Age Estimation using VGG16 and Data Augmentation with Oversampling"
   ]
  },
  {
   "cell_type": "code",
   "execution_count": 1,
   "id": "b50fbf43",
   "metadata": {
    "execution": {
     "iopub.execute_input": "2022-10-15T17:48:14.884556Z",
     "iopub.status.busy": "2022-10-15T17:48:14.884036Z",
     "iopub.status.idle": "2022-10-15T17:48:20.731942Z",
     "shell.execute_reply": "2022-10-15T17:48:20.730922Z"
    },
    "id": "Ow9CX6i9bF7s",
    "papermill": {
     "duration": 5.862473,
     "end_time": "2022-10-15T17:48:20.735146",
     "exception": false,
     "start_time": "2022-10-15T17:48:14.872673",
     "status": "completed"
    },
    "tags": []
   },
   "outputs": [],
   "source": [
    "from keras.layers import Input, Lambda, Dense, Flatten\n",
    "from keras.models import Model\n",
    "from keras.applications.vgg16 import VGG16\n",
    "from keras.applications.vgg16 import preprocess_input\n",
    "from keras.preprocessing import image\n",
    "from keras.preprocessing.image import ImageDataGenerator\n",
    "from keras.models import Sequential\n",
    "from tensorflow.keras.models import load_model\n",
    "import numpy as np\n",
    "from glob import glob\n",
    "import matplotlib.pyplot as plt\n",
    "import tensorflow as tf\n",
    "from collections import Counter\n",
    "import warnings\n",
    "warnings.filterwarnings(\"ignore\", category=FutureWarning)\n",
    "from sklearn.utils import shuffle\n",
    "\n",
    "import pandas as pd\n",
    "import os\n",
    "import matplotlib.pyplot as plt\n",
    "import seaborn as sns\n",
    "\n",
    "from tqdm.notebook import tqdm\n",
    "\n",
    "%matplotlib inline\n",
    "\n",
    "from PIL import Image\n",
    "import shutil"
   ]
  },
  {
   "cell_type": "markdown",
   "id": "0d297719",
   "metadata": {
    "papermill": {
     "duration": 0.016114,
     "end_time": "2022-10-15T17:48:20.767646",
     "exception": false,
     "start_time": "2022-10-15T17:48:20.751532",
     "status": "completed"
    },
    "tags": []
   },
   "source": [
    "## Age estimation in age groups"
   ]
  },
  {
   "cell_type": "markdown",
   "id": "756b1297",
   "metadata": {
    "papermill": {
     "duration": 0.014243,
     "end_time": "2022-10-15T17:48:20.796411",
     "exception": false,
     "start_time": "2022-10-15T17:48:20.782168",
     "status": "completed"
    },
    "tags": []
   },
   "source": [
    "### Set image size and variables "
   ]
  },
  {
   "cell_type": "code",
   "execution_count": 2,
   "id": "adecc453",
   "metadata": {
    "execution": {
     "iopub.execute_input": "2022-10-15T17:48:20.828479Z",
     "iopub.status.busy": "2022-10-15T17:48:20.827683Z",
     "iopub.status.idle": "2022-10-15T17:48:20.833033Z",
     "shell.execute_reply": "2022-10-15T17:48:20.832216Z"
    },
    "id": "Cq39lS9tcKIC",
    "papermill": {
     "duration": 0.025729,
     "end_time": "2022-10-15T17:48:20.837039",
     "exception": false,
     "start_time": "2022-10-15T17:48:20.811310",
     "status": "completed"
    },
    "tags": []
   },
   "outputs": [],
   "source": [
    "IMAGE_SIZE = [224,224]\n",
    "TRAIN_TEST_SPLIT = 0.3\n",
    "BASE_DIR = '../input/utkface-new/UTKFace/'\n",
    "NR_EPOCHS = 200\n"
   ]
  },
  {
   "cell_type": "markdown",
   "id": "cdd2e01f",
   "metadata": {
    "papermill": {
     "duration": 0.014459,
     "end_time": "2022-10-15T17:48:20.866555",
     "exception": false,
     "start_time": "2022-10-15T17:48:20.852096",
     "status": "completed"
    },
    "tags": []
   },
   "source": [
    "### Define methods map direct age to classes"
   ]
  },
  {
   "cell_type": "code",
   "execution_count": 3,
   "id": "5b28b069",
   "metadata": {
    "execution": {
     "iopub.execute_input": "2022-10-15T17:48:20.899557Z",
     "iopub.status.busy": "2022-10-15T17:48:20.899201Z",
     "iopub.status.idle": "2022-10-15T17:48:20.908200Z",
     "shell.execute_reply": "2022-10-15T17:48:20.907291Z"
    },
    "papermill": {
     "duration": 0.028319,
     "end_time": "2022-10-15T17:48:20.910881",
     "exception": false,
     "start_time": "2022-10-15T17:48:20.882562",
     "status": "completed"
    },
    "tags": []
   },
   "outputs": [],
   "source": [
    "def age_to_class( age ):\n",
    "  age_class = None\n",
    "  # 0 (0-20)\n",
    "  if 0 <= age <= 20:\n",
    "    age_class = 0\n",
    "  # 1 (20-40)\n",
    "  if 20 < age <= 40:\n",
    "    age_class = 1\n",
    "  # 2 (40-60)\n",
    "  if 40 < age <= 60:\n",
    "    age_class = 2\n",
    "  # 3 (40-60)\n",
    "  if 60 < age <= 80:\n",
    "    age_class = 3\n",
    "  # 3 (80+)\n",
    "  if age > 80:\n",
    "    age_class = 4\n",
    "  return age_class\n",
    "\n",
    "# map age classes for age gaps\n",
    "age_dict = {0:'0-20', 1:'20-40',2:'40-60', 3:'60-80', 4:'80+'}\n",
    "\n",
    "def decode_age_label(age_id):\n",
    "  return age_dict[int(age_id)]"
   ]
  },
  {
   "cell_type": "markdown",
   "id": "69e6e26a",
   "metadata": {
    "papermill": {
     "duration": 0.01467,
     "end_time": "2022-10-15T17:48:20.941306",
     "exception": false,
     "start_time": "2022-10-15T17:48:20.926636",
     "status": "completed"
    },
    "tags": []
   },
   "source": [
    "### Read input dataset"
   ]
  },
  {
   "cell_type": "code",
   "execution_count": 4,
   "id": "00853396",
   "metadata": {
    "execution": {
     "iopub.execute_input": "2022-10-15T17:48:20.972219Z",
     "iopub.status.busy": "2022-10-15T17:48:20.971867Z",
     "iopub.status.idle": "2022-10-15T17:48:21.533511Z",
     "shell.execute_reply": "2022-10-15T17:48:21.532440Z"
    },
    "papermill": {
     "duration": 0.579246,
     "end_time": "2022-10-15T17:48:21.535597",
     "exception": false,
     "start_time": "2022-10-15T17:48:20.956351",
     "status": "completed"
    },
    "tags": []
   },
   "outputs": [
    {
     "data": {
      "application/vnd.jupyter.widget-view+json": {
       "model_id": "ef330f150a8a460fa44e28e7d0a97567",
       "version_major": 2,
       "version_minor": 0
      },
      "text/plain": [
       "  0%|          | 0/23708 [00:00<?, ?it/s]"
      ]
     },
     "metadata": {},
     "output_type": "display_data"
    },
    {
     "name": "stdout",
     "output_type": "stream",
     "text": [
      "Counter({'20-40': 12123, '0-20': 4877, '40-60': 4311, '60-80': 1857, '80+': 540})\n"
     ]
    }
   ],
   "source": [
    "# read labels of image age, gender\n",
    "image_paths = []\n",
    "age_labels = []\n",
    "gender_labels =[]\n",
    "age_class = []\n",
    "\n",
    "for filename in tqdm(os.listdir(BASE_DIR)):\n",
    "  #read image path\n",
    "  image_path = os.path.join(BASE_DIR, filename)\n",
    "  #split filename to extract labels\n",
    "  temp= filename.split('_')\n",
    "  age = int(temp[0])\n",
    "  gender = int(temp[1])\n",
    "  image_paths.append(image_path)\n",
    "  age_labels.append(age)\n",
    "  gender_labels.append(gender)\n",
    "  age_class.append(age_to_class(age))\n",
    "\n",
    "# extract name of file \n",
    "names = []\n",
    "for path in image_paths:\n",
    "  temp = path.split('/')\n",
    "  names.append(temp[4])\n",
    "\n",
    "#convert to dataframe\n",
    "df = pd.DataFrame()\n",
    "df['image'], df['age'], df['gender'], df['age_class'], df['name'] = image_paths, age_labels, gender_labels, age_class, names\n",
    "df.head()\n",
    "df\n",
    "\n",
    "# get and print the number of images in dataframe\n",
    "age_verbose = [age_dict[int(age)] for age in df['age_class']]\n",
    "\n",
    "print(Counter(age_verbose))\n",
    "\n"
   ]
  },
  {
   "cell_type": "markdown",
   "id": "2cb8a4d8",
   "metadata": {
    "papermill": {
     "duration": 0.009757,
     "end_time": "2022-10-15T17:48:21.555949",
     "exception": false,
     "start_time": "2022-10-15T17:48:21.546192",
     "status": "completed"
    },
    "tags": []
   },
   "source": [
    "### Shuffle and downsample dataset"
   ]
  },
  {
   "cell_type": "code",
   "execution_count": 5,
   "id": "861b5c2a",
   "metadata": {
    "execution": {
     "iopub.execute_input": "2022-10-15T17:48:21.576966Z",
     "iopub.status.busy": "2022-10-15T17:48:21.576649Z",
     "iopub.status.idle": "2022-10-15T17:48:21.588045Z",
     "shell.execute_reply": "2022-10-15T17:48:21.587156Z"
    },
    "papermill": {
     "duration": 0.024267,
     "end_time": "2022-10-15T17:48:21.589998",
     "exception": false,
     "start_time": "2022-10-15T17:48:21.565731",
     "status": "completed"
    },
    "tags": []
   },
   "outputs": [],
   "source": [
    "# shuffle dataset for downsampling\n",
    "df = shuffle(df)"
   ]
  },
  {
   "cell_type": "code",
   "execution_count": 6,
   "id": "247afba1",
   "metadata": {
    "execution": {
     "iopub.execute_input": "2022-10-15T17:48:21.610742Z",
     "iopub.status.busy": "2022-10-15T17:48:21.610465Z",
     "iopub.status.idle": "2022-10-15T17:48:21.623061Z",
     "shell.execute_reply": "2022-10-15T17:48:21.621838Z"
    },
    "papermill": {
     "duration": 0.025269,
     "end_time": "2022-10-15T17:48:21.625071",
     "exception": false,
     "start_time": "2022-10-15T17:48:21.599802",
     "status": "completed"
    },
    "tags": []
   },
   "outputs": [
    {
     "name": "stdout",
     "output_type": "stream",
     "text": [
      "Counter({'20-40': 540, '80+': 540, '0-20': 540, '40-60': 540, '60-80': 540})\n"
     ]
    }
   ],
   "source": [
    "# downsampling \n",
    "n = df['age_class'].value_counts().min()\n",
    "\n",
    "df = df.groupby('age_class').head(n)\n",
    "age_verbose_n = [age_dict[int(age)] for age in df['age_class']]\n",
    "\n",
    "\n",
    "print(Counter(age_verbose_n))"
   ]
  },
  {
   "cell_type": "code",
   "execution_count": 7,
   "id": "f4699abd",
   "metadata": {
    "execution": {
     "iopub.execute_input": "2022-10-15T17:48:21.646375Z",
     "iopub.status.busy": "2022-10-15T17:48:21.646110Z",
     "iopub.status.idle": "2022-10-15T17:48:21.663918Z",
     "shell.execute_reply": "2022-10-15T17:48:21.663045Z"
    },
    "papermill": {
     "duration": 0.030736,
     "end_time": "2022-10-15T17:48:21.666037",
     "exception": false,
     "start_time": "2022-10-15T17:48:21.635301",
     "status": "completed"
    },
    "tags": []
   },
   "outputs": [
    {
     "data": {
      "text/html": [
       "<div>\n",
       "<style scoped>\n",
       "    .dataframe tbody tr th:only-of-type {\n",
       "        vertical-align: middle;\n",
       "    }\n",
       "\n",
       "    .dataframe tbody tr th {\n",
       "        vertical-align: top;\n",
       "    }\n",
       "\n",
       "    .dataframe thead th {\n",
       "        text-align: right;\n",
       "    }\n",
       "</style>\n",
       "<table border=\"1\" class=\"dataframe\">\n",
       "  <thead>\n",
       "    <tr style=\"text-align: right;\">\n",
       "      <th></th>\n",
       "      <th>image</th>\n",
       "      <th>age</th>\n",
       "      <th>gender</th>\n",
       "      <th>age_class</th>\n",
       "      <th>name</th>\n",
       "    </tr>\n",
       "  </thead>\n",
       "  <tbody>\n",
       "    <tr>\n",
       "      <th>5142</th>\n",
       "      <td>../input/utkface-new/UTKFace/36_0_0_2017011720...</td>\n",
       "      <td>36</td>\n",
       "      <td>0</td>\n",
       "      <td>1</td>\n",
       "      <td>36_0_0_20170117202645622.jpg.chip.jpg</td>\n",
       "    </tr>\n",
       "    <tr>\n",
       "      <th>11481</th>\n",
       "      <td>../input/utkface-new/UTKFace/87_1_0_2017011018...</td>\n",
       "      <td>87</td>\n",
       "      <td>1</td>\n",
       "      <td>4</td>\n",
       "      <td>87_1_0_20170110181045529.jpg.chip.jpg</td>\n",
       "    </tr>\n",
       "    <tr>\n",
       "      <th>23207</th>\n",
       "      <td>../input/utkface-new/UTKFace/40_0_3_2017010421...</td>\n",
       "      <td>40</td>\n",
       "      <td>0</td>\n",
       "      <td>1</td>\n",
       "      <td>40_0_3_20170104214526773.jpg.chip.jpg</td>\n",
       "    </tr>\n",
       "    <tr>\n",
       "      <th>6563</th>\n",
       "      <td>../input/utkface-new/UTKFace/20_1_0_2017010320...</td>\n",
       "      <td>20</td>\n",
       "      <td>1</td>\n",
       "      <td>0</td>\n",
       "      <td>20_1_0_20170103201716816.jpg.chip.jpg</td>\n",
       "    </tr>\n",
       "    <tr>\n",
       "      <th>13664</th>\n",
       "      <td>../input/utkface-new/UTKFace/1_1_1_20170109194...</td>\n",
       "      <td>1</td>\n",
       "      <td>1</td>\n",
       "      <td>0</td>\n",
       "      <td>1_1_1_20170109194611993.jpg.chip.jpg</td>\n",
       "    </tr>\n",
       "    <tr>\n",
       "      <th>...</th>\n",
       "      <td>...</td>\n",
       "      <td>...</td>\n",
       "      <td>...</td>\n",
       "      <td>...</td>\n",
       "      <td>...</td>\n",
       "    </tr>\n",
       "    <tr>\n",
       "      <th>5679</th>\n",
       "      <td>../input/utkface-new/UTKFace/85_1_0_2017011018...</td>\n",
       "      <td>85</td>\n",
       "      <td>1</td>\n",
       "      <td>4</td>\n",
       "      <td>85_1_0_20170110182428223.jpg.chip.jpg</td>\n",
       "    </tr>\n",
       "    <tr>\n",
       "      <th>22366</th>\n",
       "      <td>../input/utkface-new/UTKFace/84_0_0_2017011121...</td>\n",
       "      <td>84</td>\n",
       "      <td>0</td>\n",
       "      <td>4</td>\n",
       "      <td>84_0_0_20170111211153326.jpg.chip.jpg</td>\n",
       "    </tr>\n",
       "    <tr>\n",
       "      <th>20949</th>\n",
       "      <td>../input/utkface-new/UTKFace/95_1_0_2017011717...</td>\n",
       "      <td>95</td>\n",
       "      <td>1</td>\n",
       "      <td>4</td>\n",
       "      <td>95_1_0_20170117174948948.jpg.chip.jpg</td>\n",
       "    </tr>\n",
       "    <tr>\n",
       "      <th>17044</th>\n",
       "      <td>../input/utkface-new/UTKFace/81_1_0_2017012013...</td>\n",
       "      <td>81</td>\n",
       "      <td>1</td>\n",
       "      <td>4</td>\n",
       "      <td>81_1_0_20170120134927295.jpg.chip.jpg</td>\n",
       "    </tr>\n",
       "    <tr>\n",
       "      <th>17894</th>\n",
       "      <td>../input/utkface-new/UTKFace/85_1_0_2017011017...</td>\n",
       "      <td>85</td>\n",
       "      <td>1</td>\n",
       "      <td>4</td>\n",
       "      <td>85_1_0_20170110175649821.jpg.chip.jpg</td>\n",
       "    </tr>\n",
       "  </tbody>\n",
       "</table>\n",
       "<p>2700 rows × 5 columns</p>\n",
       "</div>"
      ],
      "text/plain": [
       "                                                   image  age  gender  \\\n",
       "5142   ../input/utkface-new/UTKFace/36_0_0_2017011720...   36       0   \n",
       "11481  ../input/utkface-new/UTKFace/87_1_0_2017011018...   87       1   \n",
       "23207  ../input/utkface-new/UTKFace/40_0_3_2017010421...   40       0   \n",
       "6563   ../input/utkface-new/UTKFace/20_1_0_2017010320...   20       1   \n",
       "13664  ../input/utkface-new/UTKFace/1_1_1_20170109194...    1       1   \n",
       "...                                                  ...  ...     ...   \n",
       "5679   ../input/utkface-new/UTKFace/85_1_0_2017011018...   85       1   \n",
       "22366  ../input/utkface-new/UTKFace/84_0_0_2017011121...   84       0   \n",
       "20949  ../input/utkface-new/UTKFace/95_1_0_2017011717...   95       1   \n",
       "17044  ../input/utkface-new/UTKFace/81_1_0_2017012013...   81       1   \n",
       "17894  ../input/utkface-new/UTKFace/85_1_0_2017011017...   85       1   \n",
       "\n",
       "       age_class                                   name  \n",
       "5142           1  36_0_0_20170117202645622.jpg.chip.jpg  \n",
       "11481          4  87_1_0_20170110181045529.jpg.chip.jpg  \n",
       "23207          1  40_0_3_20170104214526773.jpg.chip.jpg  \n",
       "6563           0  20_1_0_20170103201716816.jpg.chip.jpg  \n",
       "13664          0   1_1_1_20170109194611993.jpg.chip.jpg  \n",
       "...          ...                                    ...  \n",
       "5679           4  85_1_0_20170110182428223.jpg.chip.jpg  \n",
       "22366          4  84_0_0_20170111211153326.jpg.chip.jpg  \n",
       "20949          4  95_1_0_20170117174948948.jpg.chip.jpg  \n",
       "17044          4  81_1_0_20170120134927295.jpg.chip.jpg  \n",
       "17894          4  85_1_0_20170110175649821.jpg.chip.jpg  \n",
       "\n",
       "[2700 rows x 5 columns]"
      ]
     },
     "execution_count": 7,
     "metadata": {},
     "output_type": "execute_result"
    }
   ],
   "source": [
    "# check dataframe\n",
    "df "
   ]
  },
  {
   "cell_type": "markdown",
   "id": "cf9b83b6",
   "metadata": {
    "papermill": {
     "duration": 0.010036,
     "end_time": "2022-10-15T17:48:21.686358",
     "exception": false,
     "start_time": "2022-10-15T17:48:21.676322",
     "status": "completed"
    },
    "tags": []
   },
   "source": [
    "### Data Augmentation"
   ]
  },
  {
   "cell_type": "code",
   "execution_count": 8,
   "id": "e847fed0",
   "metadata": {
    "execution": {
     "iopub.execute_input": "2022-10-15T17:48:21.707764Z",
     "iopub.status.busy": "2022-10-15T17:48:21.707506Z",
     "iopub.status.idle": "2022-10-15T17:48:21.711694Z",
     "shell.execute_reply": "2022-10-15T17:48:21.710843Z"
    },
    "papermill": {
     "duration": 0.017173,
     "end_time": "2022-10-15T17:48:21.713637",
     "exception": false,
     "start_time": "2022-10-15T17:48:21.696464",
     "status": "completed"
    },
    "tags": []
   },
   "outputs": [],
   "source": [
    "# create new folder for Data Augmentation\n",
    "os.mkdir('./ds')"
   ]
  },
  {
   "cell_type": "code",
   "execution_count": 9,
   "id": "b1134674",
   "metadata": {
    "execution": {
     "iopub.execute_input": "2022-10-15T17:48:21.735363Z",
     "iopub.status.busy": "2022-10-15T17:48:21.734614Z",
     "iopub.status.idle": "2022-10-15T17:48:37.835078Z",
     "shell.execute_reply": "2022-10-15T17:48:37.833914Z"
    },
    "papermill": {
     "duration": 16.113678,
     "end_time": "2022-10-15T17:48:37.837348",
     "exception": false,
     "start_time": "2022-10-15T17:48:21.723670",
     "status": "completed"
    },
    "tags": []
   },
   "outputs": [
    {
     "name": "stdout",
     "output_type": "stream",
     "text": [
      "finished copying images\n"
     ]
    }
   ],
   "source": [
    "# copy all images of the downsampled df\n",
    "image_list = df['image']\n",
    "name_list = df['name']\n",
    "source = '../input/utkface-new/'\n",
    "#dest =  '../ds/'\n",
    "dest = './ds/'\n",
    "\n",
    "for key, val in df.iterrows():\n",
    "    shutil.copyfile(val['image'], dest+val['name'])\n",
    "\n",
    "print(\"finished copying images\")"
   ]
  },
  {
   "cell_type": "code",
   "execution_count": 10,
   "id": "def023f4",
   "metadata": {
    "execution": {
     "iopub.execute_input": "2022-10-15T17:48:37.859916Z",
     "iopub.status.busy": "2022-10-15T17:48:37.859609Z",
     "iopub.status.idle": "2022-10-15T17:48:37.863554Z",
     "shell.execute_reply": "2022-10-15T17:48:37.862499Z"
    },
    "papermill": {
     "duration": 0.017514,
     "end_time": "2022-10-15T17:48:37.865833",
     "exception": false,
     "start_time": "2022-10-15T17:48:37.848319",
     "status": "completed"
    },
    "tags": []
   },
   "outputs": [],
   "source": [
    "#zip for better download\n",
    "#shutil.make_archive('new_ds', 'zip', dest)"
   ]
  },
  {
   "cell_type": "code",
   "execution_count": 11,
   "id": "12e7f7ae",
   "metadata": {
    "execution": {
     "iopub.execute_input": "2022-10-15T17:48:37.887649Z",
     "iopub.status.busy": "2022-10-15T17:48:37.887372Z",
     "iopub.status.idle": "2022-10-15T17:48:37.891354Z",
     "shell.execute_reply": "2022-10-15T17:48:37.890359Z"
    },
    "papermill": {
     "duration": 0.016905,
     "end_time": "2022-10-15T17:48:37.893274",
     "exception": false,
     "start_time": "2022-10-15T17:48:37.876369",
     "status": "completed"
    },
    "tags": []
   },
   "outputs": [],
   "source": [
    "# remove folder for new run\n",
    "#shutil.rmtree('./ds/output/')"
   ]
  },
  {
   "cell_type": "code",
   "execution_count": 12,
   "id": "034ce1dc",
   "metadata": {
    "execution": {
     "iopub.execute_input": "2022-10-15T17:48:37.914720Z",
     "iopub.status.busy": "2022-10-15T17:48:37.914461Z",
     "iopub.status.idle": "2022-10-15T17:52:08.970644Z",
     "shell.execute_reply": "2022-10-15T17:52:08.969573Z"
    },
    "papermill": {
     "duration": 211.404624,
     "end_time": "2022-10-15T17:52:09.308088",
     "exception": false,
     "start_time": "2022-10-15T17:48:37.903464",
     "status": "completed"
    },
    "tags": []
   },
   "outputs": [
    {
     "name": "stdout",
     "output_type": "stream",
     "text": [
      "Collecting Augmentor\r\n",
      "  Downloading Augmentor-0.2.10-py2.py3-none-any.whl (38 kB)\r\n",
      "Requirement already satisfied: Pillow>=5.2.0 in /opt/conda/lib/python3.7/site-packages (from Augmentor) (9.1.1)\r\n",
      "Requirement already satisfied: future>=0.16.0 in /opt/conda/lib/python3.7/site-packages (from Augmentor) (0.18.2)\r\n",
      "Requirement already satisfied: numpy>=1.11.0 in /opt/conda/lib/python3.7/site-packages (from Augmentor) (1.21.6)\r\n",
      "Requirement already satisfied: tqdm>=4.9.0 in /opt/conda/lib/python3.7/site-packages (from Augmentor) (4.64.0)\r\n",
      "Installing collected packages: Augmentor\r\n",
      "Successfully installed Augmentor-0.2.10\r\n",
      "\u001b[33mWARNING: Running pip as the 'root' user can result in broken permissions and conflicting behaviour with the system package manager. It is recommended to use a virtual environment instead: https://pip.pypa.io/warnings/venv\u001b[0m\u001b[33m\r\n",
      "\u001b[0mInitialised with 2700 image(s) found.\n",
      "Output directory set to ./ds/output."
     ]
    },
    {
     "name": "stderr",
     "output_type": "stream",
     "text": [
      "Processing <PIL.Image.Image image mode=RGB size=224x224 at 0x7F5E5D822E50>: 100%|██████████| 21000/21000 [03:19<00:00, 105.52 Samples/s]\n"
     ]
    }
   ],
   "source": [
    "# use augmentor to increase the number of images\n",
    "!pip install Augmentor\n",
    "import Augmentor as aug\n",
    "\n",
    "p = aug.Pipeline(\"./ds\")\n",
    "p.resize(1, 224, 224, resample_filter=\"ANTIALIAS\")\n",
    "p.flip_left_right(0.5)\n",
    "p.rotate(0.8, 5, 10)\n",
    "p.zoom(0.2, 0.9, 1.25)\n",
    "p.shear(0.1, 0.01, 0.01)\n",
    "p.sample(21000)"
   ]
  },
  {
   "cell_type": "code",
   "execution_count": 13,
   "id": "846322ef",
   "metadata": {
    "execution": {
     "iopub.execute_input": "2022-10-15T17:52:12.004691Z",
     "iopub.status.busy": "2022-10-15T17:52:12.004135Z",
     "iopub.status.idle": "2022-10-15T17:52:19.216132Z",
     "shell.execute_reply": "2022-10-15T17:52:19.215029Z"
    },
    "papermill": {
     "duration": 8.431464,
     "end_time": "2022-10-15T17:52:19.218686",
     "exception": false,
     "start_time": "2022-10-15T17:52:10.787222",
     "status": "completed"
    },
    "tags": []
   },
   "outputs": [
    {
     "data": {
      "text/plain": [
       "'/kaggle/working/new_ds.zip'"
      ]
     },
     "execution_count": 13,
     "metadata": {},
     "output_type": "execute_result"
    }
   ],
   "source": [
    "#zip for better download\n",
    "shutil.make_archive('new_ds', 'zip', dest)"
   ]
  },
  {
   "cell_type": "markdown",
   "id": "5a57341e",
   "metadata": {
    "papermill": {
     "duration": 1.464423,
     "end_time": "2022-10-15T17:52:21.904700",
     "exception": false,
     "start_time": "2022-10-15T17:52:20.440277",
     "status": "completed"
    },
    "tags": []
   },
   "source": [
    "### Split Dataset into validation and test set  "
   ]
  },
  {
   "cell_type": "code",
   "execution_count": 14,
   "id": "72737d96",
   "metadata": {
    "execution": {
     "iopub.execute_input": "2022-10-15T17:52:24.325938Z",
     "iopub.status.busy": "2022-10-15T17:52:24.324957Z",
     "iopub.status.idle": "2022-10-15T17:52:24.336361Z",
     "shell.execute_reply": "2022-10-15T17:52:24.335320Z"
    },
    "papermill": {
     "duration": 1.228716,
     "end_time": "2022-10-15T17:52:24.339452",
     "exception": false,
     "start_time": "2022-10-15T17:52:23.110736",
     "status": "completed"
    },
    "tags": []
   },
   "outputs": [
    {
     "name": "stdout",
     "output_type": "stream",
     "text": [
      "No. of training examples: 2160\n",
      "No. of testing examples: 540\n"
     ]
    }
   ],
   "source": [
    "val_data = df.sample(frac=0.8, random_state=25)\n",
    "testing_data = df.drop(val_data.index)\n",
    "\n",
    " \n",
    "print(f\"No. of training examples: {val_data.shape[0]}\")\n",
    "print(f\"No. of testing examples: {testing_data.shape[0]}\")\n",
    "\n",
    "#X = extract_features(training_data['image'])"
   ]
  },
  {
   "cell_type": "code",
   "execution_count": 15,
   "id": "7a9e77cb",
   "metadata": {
    "execution": {
     "iopub.execute_input": "2022-10-15T17:52:26.786003Z",
     "iopub.status.busy": "2022-10-15T17:52:26.784801Z",
     "iopub.status.idle": "2022-10-15T17:52:27.715613Z",
     "shell.execute_reply": "2022-10-15T17:52:27.714163Z"
    },
    "papermill": {
     "duration": 2.178048,
     "end_time": "2022-10-15T17:52:27.718468",
     "exception": false,
     "start_time": "2022-10-15T17:52:25.540420",
     "status": "completed"
    },
    "tags": []
   },
   "outputs": [
    {
     "name": "stdout",
     "output_type": "stream",
     "text": [
      "Found 2700 validated image filenames.\n",
      "Found 2160 validated image filenames.\n",
      "Found 540 validated image filenames.\n"
     ]
    }
   ],
   "source": [
    "from tensorflow.keras.preprocessing.image import ImageDataGenerator\n",
    "\n",
    "\n",
    "train_datagen = ImageDataGenerator(rescale=1./255,\n",
    "                               preprocessing_function=preprocess_input,\n",
    "                               rotation_range=15,\n",
    "                               width_shift_range=0.1,\n",
    "                               height_shift_range=0.1,\n",
    "                               shear_range=0.01,\n",
    "                               zoom_range=[0.9, 1.25],\n",
    "                               horizontal_flip=True,\n",
    "                               vertical_flip=False,\n",
    "                               fill_mode='reflect',\n",
    "                               data_format='channels_last',\n",
    "                               brightness_range=[0.5, 1.5])\n",
    "\n",
    "val_datagen = ImageDataGenerator(rescale=1./255,\n",
    "                                preprocessing_function=preprocess_input)\n",
    "\n",
    "\n",
    "CLASS_MODE = 'raw'\n",
    "BATCH_SIZE = 64\n",
    "BASE_DIR = '../input/utkface-new/UTKFace'\n",
    "\n",
    "train_generator = train_datagen.flow_from_dataframe(dataframe=df, \n",
    "                                                directory=BASE_DIR, \n",
    "                                                x_col='name', \n",
    "                                                y_col='age_class', \n",
    "                                                class_mode=CLASS_MODE,\n",
    "                                                batch_size=BATCH_SIZE, \n",
    "                                                shuffle=True, \n",
    "                                                target_size=IMAGE_SIZE)\n",
    "\n",
    "\n",
    "\n",
    "val_generator = val_datagen.flow_from_dataframe(dataframe=val_data, \n",
    "                                              directory=BASE_DIR, \n",
    "                                              x_col='name', \n",
    "                                              y_col='age_class', \n",
    "                                              class_mode=CLASS_MODE, \n",
    "                                              batch_size=BATCH_SIZE,\n",
    "                                              shuffle=False, \n",
    "                                              target_size=IMAGE_SIZE)\n",
    "\n",
    "test_generator = val_datagen.flow_from_dataframe(dataframe=testing_data, \n",
    "                                              directory=BASE_DIR, \n",
    "                                              x_col='name', \n",
    "                                              y_col='age_class', \n",
    "                                              class_mode=CLASS_MODE, \n",
    "                                              batch_size=BATCH_SIZE,\n",
    "                                              shuffle=False, \n",
    "                                              target_size=IMAGE_SIZE)\n"
   ]
  },
  {
   "cell_type": "code",
   "execution_count": 16,
   "id": "9dc79afe",
   "metadata": {
    "execution": {
     "iopub.execute_input": "2022-10-15T17:52:30.128119Z",
     "iopub.status.busy": "2022-10-15T17:52:30.127739Z",
     "iopub.status.idle": "2022-10-15T17:52:30.321415Z",
     "shell.execute_reply": "2022-10-15T17:52:30.320440Z"
    },
    "papermill": {
     "duration": 1.406129,
     "end_time": "2022-10-15T17:52:30.323810",
     "exception": false,
     "start_time": "2022-10-15T17:52:28.917681",
     "status": "completed"
    },
    "tags": []
   },
   "outputs": [
    {
     "name": "stderr",
     "output_type": "stream",
     "text": [
      "2022-10-15 17:52:30.134012: I tensorflow/core/profiler/lib/profiler_session.cc:131] Profiler session initializing.\n",
      "2022-10-15 17:52:30.134056: I tensorflow/core/profiler/lib/profiler_session.cc:146] Profiler session started.\n",
      "2022-10-15 17:52:30.184918: I tensorflow/core/profiler/internal/gpu/cupti_tracer.cc:1614] Profiler found 1 GPUs\n",
      "2022-10-15 17:52:30.216950: I tensorflow/core/profiler/lib/profiler_session.cc:164] Profiler session tear down.\n",
      "2022-10-15 17:52:30.217106: I tensorflow/core/profiler/internal/gpu/cupti_tracer.cc:1748] CUPTI activity buffer flushed\n"
     ]
    }
   ],
   "source": [
    "from pathlib import Path\n",
    "path = Path(\"./models\")\n",
    "path.mkdir(exist_ok=True)\n",
    "\n",
    "\n",
    "MODEL_PATH = \"./models/age_best_model.h5\"\n",
    "\n",
    "\n",
    "checkpoint = tf.keras.callbacks.ModelCheckpoint(MODEL_PATH, \n",
    "                                                monitor='val_sparse_categorical_accuracy', \n",
    "                                                verbose=1, \n",
    "                                                save_best_only=True, \n",
    "                                                mode='max')\n",
    "\n",
    "import datetime\n",
    "log_dir = '../tblogs/age_model_' + datetime.datetime.now().strftime('%y-%m-%d_%H-%M')\n",
    "tensorboard_callback = tf.keras.callbacks.TensorBoard(log_dir=log_dir, histogram_freq=0)\n",
    "\n"
   ]
  },
  {
   "cell_type": "markdown",
   "id": "cd89e76d",
   "metadata": {
    "papermill": {
     "duration": 1.431143,
     "end_time": "2022-10-15T17:52:32.988087",
     "exception": false,
     "start_time": "2022-10-15T17:52:31.556944",
     "status": "completed"
    },
    "tags": []
   },
   "source": [
    "### Build and load Model"
   ]
  },
  {
   "cell_type": "code",
   "execution_count": 17,
   "id": "76d78edf",
   "metadata": {
    "execution": {
     "iopub.execute_input": "2022-10-15T17:52:35.882819Z",
     "iopub.status.busy": "2022-10-15T17:52:35.882261Z",
     "iopub.status.idle": "2022-10-15T17:52:35.886923Z",
     "shell.execute_reply": "2022-10-15T17:52:35.886000Z"
    },
    "papermill": {
     "duration": 1.687047,
     "end_time": "2022-10-15T17:52:35.888929",
     "exception": false,
     "start_time": "2022-10-15T17:52:34.201882",
     "status": "completed"
    },
    "tags": []
   },
   "outputs": [],
   "source": [
    "# # detect and init the TPU\n",
    "# tpu = tf.distribute.cluster_resolver.TPUClusterResolver.connect()\n",
    "\n",
    "# # instantiate a distribution strategy\n",
    "# tpu_strategy = tf.distribute.experimental.TPUStrategy(tpu)"
   ]
  },
  {
   "cell_type": "code",
   "execution_count": 18,
   "id": "27e12905",
   "metadata": {
    "execution": {
     "iopub.execute_input": "2022-10-15T17:52:38.334697Z",
     "iopub.status.busy": "2022-10-15T17:52:38.334325Z",
     "iopub.status.idle": "2022-10-15T17:52:41.798976Z",
     "shell.execute_reply": "2022-10-15T17:52:41.797885Z"
    },
    "papermill": {
     "duration": 4.683693,
     "end_time": "2022-10-15T17:52:41.801297",
     "exception": false,
     "start_time": "2022-10-15T17:52:37.117604",
     "status": "completed"
    },
    "tags": []
   },
   "outputs": [
    {
     "name": "stderr",
     "output_type": "stream",
     "text": [
      "2022-10-15 17:52:38.374680: I tensorflow/stream_executor/cuda/cuda_gpu_executor.cc:937] successful NUMA node read from SysFS had negative value (-1), but there must be at least one NUMA node, so returning NUMA node zero\n",
      "2022-10-15 17:52:38.466181: I tensorflow/stream_executor/cuda/cuda_gpu_executor.cc:937] successful NUMA node read from SysFS had negative value (-1), but there must be at least one NUMA node, so returning NUMA node zero\n",
      "2022-10-15 17:52:38.467045: I tensorflow/stream_executor/cuda/cuda_gpu_executor.cc:937] successful NUMA node read from SysFS had negative value (-1), but there must be at least one NUMA node, so returning NUMA node zero\n",
      "2022-10-15 17:52:38.468081: I tensorflow/core/platform/cpu_feature_guard.cc:142] This TensorFlow binary is optimized with oneAPI Deep Neural Network Library (oneDNN) to use the following CPU instructions in performance-critical operations:  AVX2 AVX512F FMA\n",
      "To enable them in other operations, rebuild TensorFlow with the appropriate compiler flags.\n",
      "2022-10-15 17:52:38.468355: I tensorflow/stream_executor/cuda/cuda_gpu_executor.cc:937] successful NUMA node read from SysFS had negative value (-1), but there must be at least one NUMA node, so returning NUMA node zero\n",
      "2022-10-15 17:52:38.469048: I tensorflow/stream_executor/cuda/cuda_gpu_executor.cc:937] successful NUMA node read from SysFS had negative value (-1), but there must be at least one NUMA node, so returning NUMA node zero\n",
      "2022-10-15 17:52:38.469688: I tensorflow/stream_executor/cuda/cuda_gpu_executor.cc:937] successful NUMA node read from SysFS had negative value (-1), but there must be at least one NUMA node, so returning NUMA node zero\n",
      "2022-10-15 17:52:40.516246: I tensorflow/stream_executor/cuda/cuda_gpu_executor.cc:937] successful NUMA node read from SysFS had negative value (-1), but there must be at least one NUMA node, so returning NUMA node zero\n",
      "2022-10-15 17:52:40.517148: I tensorflow/stream_executor/cuda/cuda_gpu_executor.cc:937] successful NUMA node read from SysFS had negative value (-1), but there must be at least one NUMA node, so returning NUMA node zero\n",
      "2022-10-15 17:52:40.517847: I tensorflow/stream_executor/cuda/cuda_gpu_executor.cc:937] successful NUMA node read from SysFS had negative value (-1), but there must be at least one NUMA node, so returning NUMA node zero\n",
      "2022-10-15 17:52:40.518452: I tensorflow/core/common_runtime/gpu/gpu_device.cc:1510] Created device /job:localhost/replica:0/task:0/device:GPU:0 with 15401 MB memory:  -> device: 0, name: Tesla P100-PCIE-16GB, pci bus id: 0000:00:04.0, compute capability: 6.0\n"
     ]
    },
    {
     "name": "stdout",
     "output_type": "stream",
     "text": [
      "Downloading data from https://storage.googleapis.com/tensorflow/keras-applications/vgg16/vgg16_weights_tf_dim_ordering_tf_kernels_notop.h5\n",
      "58892288/58889256 [==============================] - 0s 0us/step\n",
      "58900480/58889256 [==============================] - 0s 0us/step\n"
     ]
    },
    {
     "data": {
      "text/plain": [
       "[<KerasTensor: shape=(None, 224, 224, 3) dtype=float32 (created by layer 'input_1')>]"
      ]
     },
     "execution_count": 18,
     "metadata": {},
     "output_type": "execute_result"
    }
   ],
   "source": [
    "# load VGG16 without the last 3 Dense layers, in order to train these new\n",
    "vgg = VGG16(input_shape=IMAGE_SIZE + [3], weights='imagenet', include_top=False)\n",
    "\n",
    "# check if input type is correct\n",
    "vgg.inputs"
   ]
  },
  {
   "cell_type": "code",
   "execution_count": 19,
   "id": "de77b58f",
   "metadata": {
    "execution": {
     "iopub.execute_input": "2022-10-15T17:52:44.488623Z",
     "iopub.status.busy": "2022-10-15T17:52:44.488269Z",
     "iopub.status.idle": "2022-10-15T17:52:44.532580Z",
     "shell.execute_reply": "2022-10-15T17:52:44.531509Z"
    },
    "papermill": {
     "duration": 1.515006,
     "end_time": "2022-10-15T17:52:44.534948",
     "exception": false,
     "start_time": "2022-10-15T17:52:43.019942",
     "status": "completed"
    },
    "tags": []
   },
   "outputs": [],
   "source": [
    "# all layers before are locked\n",
    "for layer in vgg.layers:\n",
    "  layer.trainable = False\n",
    "\n",
    "\n",
    "x = Flatten()(vgg.output)\n",
    "x = Dense(4096, activation='relu')(x)\n",
    "x = Dense(4096, activation='relu')(x)\n",
    "prediction = Dense(5, activation='softmax')(x)\n",
    "model = Model(inputs=vgg.input, outputs=prediction)\n",
    "    \n",
    "model.compile(optimizer=tf.keras.optimizers.Adam(learning_rate=0.001),\n",
    "              loss=tf.keras.losses.SparseCategoricalCrossentropy(),\n",
    "              metrics=[tf.keras.metrics.SparseCategoricalAccuracy()])\n",
    "\n",
    "# model.summary()\n",
    "#tf.keras.utils.plot_model( model , to_file='architecture.png' )\n",
    "\n",
    "\n",
    "\n",
    "# with tpu_strategy.scope():\n",
    "#     x = Flatten()(vgg.output)\n",
    "#     x = Dense(4096, activation='relu')(x)\n",
    "#     x = Dense(4096, activation='relu')(x)\n",
    "#     prediction = Dense(5, activation='softmax')(x)\n",
    "#     model = Model(inputs=vgg.input, outputs=prediction)\n",
    "    \n",
    "#     model.compile(optimizer=tf.keras.optimizers.Adam(learning_rate=0.001),\n",
    "#               loss=tf.keras.losses.SparseCategoricalCrossentropy(),\n",
    "#               metrics=[tf.keras.metrics.SparseCategoricalAccuracy()])"
   ]
  },
  {
   "cell_type": "code",
   "execution_count": 20,
   "id": "8ac26441",
   "metadata": {
    "execution": {
     "iopub.execute_input": "2022-10-15T17:52:47.122277Z",
     "iopub.status.busy": "2022-10-15T17:52:47.121897Z",
     "iopub.status.idle": "2022-10-15T20:49:09.592053Z",
     "shell.execute_reply": "2022-10-15T20:49:09.591041Z"
    },
    "papermill": {
     "duration": 10583.840814,
     "end_time": "2022-10-15T20:49:09.594552",
     "exception": false,
     "start_time": "2022-10-15T17:52:45.753738",
     "status": "completed"
    },
    "tags": []
   },
   "outputs": [
    {
     "name": "stderr",
     "output_type": "stream",
     "text": [
      "2022-10-15 17:52:48.153609: I tensorflow/compiler/mlir/mlir_graph_optimization_pass.cc:185] None of the MLIR Optimization Passes are enabled (registered 2)\n"
     ]
    },
    {
     "name": "stdout",
     "output_type": "stream",
     "text": [
      "Epoch 1/200\n"
     ]
    },
    {
     "name": "stderr",
     "output_type": "stream",
     "text": [
      "2022-10-15 17:52:50.494110: I tensorflow/stream_executor/cuda/cuda_dnn.cc:369] Loaded cuDNN version 8005\n"
     ]
    },
    {
     "name": "stdout",
     "output_type": "stream",
     "text": [
      " 1/43 [..............................] - ETA: 8:41 - loss: 1.5972 - sparse_categorical_accuracy: 0.2969"
     ]
    },
    {
     "name": "stderr",
     "output_type": "stream",
     "text": [
      "2022-10-15 17:53:00.618689: I tensorflow/core/profiler/lib/profiler_session.cc:131] Profiler session initializing.\n",
      "2022-10-15 17:53:00.618735: I tensorflow/core/profiler/lib/profiler_session.cc:146] Profiler session started.\n"
     ]
    },
    {
     "name": "stdout",
     "output_type": "stream",
     "text": [
      " 2/43 [>.............................] - ETA: 20s - loss: 16.7588 - sparse_categorical_accuracy: 0.2500"
     ]
    },
    {
     "name": "stderr",
     "output_type": "stream",
     "text": [
      "2022-10-15 17:53:01.094102: I tensorflow/core/profiler/lib/profiler_session.cc:66] Profiler session collecting data.\n",
      "2022-10-15 17:53:01.094878: I tensorflow/core/profiler/internal/gpu/cupti_tracer.cc:1748] CUPTI activity buffer flushed\n",
      "2022-10-15 17:53:01.236767: I tensorflow/core/profiler/internal/gpu/cupti_collector.cc:673]  GpuTracer has collected 145 callback api events and 142 activity events. \n",
      "2022-10-15 17:53:01.245300: I tensorflow/core/profiler/lib/profiler_session.cc:164] Profiler session tear down.\n",
      "2022-10-15 17:53:01.261350: I tensorflow/core/profiler/rpc/client/save_profile.cc:136] Creating directory: ../tblogs/age_model_22-10-15_17-52/train/plugins/profile/2022_10_15_17_53_01\n",
      "\n",
      "2022-10-15 17:53:01.267435: I tensorflow/core/profiler/rpc/client/save_profile.cc:142] Dumped gzipped tool data for trace.json.gz to ../tblogs/age_model_22-10-15_17-52/train/plugins/profile/2022_10_15_17_53_01/f4842c2a4057.trace.json.gz\n",
      "2022-10-15 17:53:01.288275: I tensorflow/core/profiler/rpc/client/save_profile.cc:136] Creating directory: ../tblogs/age_model_22-10-15_17-52/train/plugins/profile/2022_10_15_17_53_01\n",
      "\n",
      "2022-10-15 17:53:01.290903: I tensorflow/core/profiler/rpc/client/save_profile.cc:142] Dumped gzipped tool data for memory_profile.json.gz to ../tblogs/age_model_22-10-15_17-52/train/plugins/profile/2022_10_15_17_53_01/f4842c2a4057.memory_profile.json.gz\n",
      "2022-10-15 17:53:01.292104: I tensorflow/core/profiler/rpc/client/capture_profile.cc:251] Creating directory: ../tblogs/age_model_22-10-15_17-52/train/plugins/profile/2022_10_15_17_53_01\n",
      "Dumped tool data for xplane.pb to ../tblogs/age_model_22-10-15_17-52/train/plugins/profile/2022_10_15_17_53_01/f4842c2a4057.xplane.pb\n",
      "Dumped tool data for overview_page.pb to ../tblogs/age_model_22-10-15_17-52/train/plugins/profile/2022_10_15_17_53_01/f4842c2a4057.overview_page.pb\n",
      "Dumped tool data for input_pipeline.pb to ../tblogs/age_model_22-10-15_17-52/train/plugins/profile/2022_10_15_17_53_01/f4842c2a4057.input_pipeline.pb\n",
      "Dumped tool data for tensorflow_stats.pb to ../tblogs/age_model_22-10-15_17-52/train/plugins/profile/2022_10_15_17_53_01/f4842c2a4057.tensorflow_stats.pb\n",
      "Dumped tool data for kernel_stats.pb to ../tblogs/age_model_22-10-15_17-52/train/plugins/profile/2022_10_15_17_53_01/f4842c2a4057.kernel_stats.pb\n",
      "\n"
     ]
    },
    {
     "name": "stdout",
     "output_type": "stream",
     "text": [
      "43/43 [==============================] - 63s 1s/step - loss: 6.0431 - sparse_categorical_accuracy: 0.3819 - val_loss: 0.9773 - val_sparse_categorical_accuracy: 0.5935\n",
      "\n",
      "Epoch 00001: val_sparse_categorical_accuracy improved from -inf to 0.59352, saving model to ./models/age_best_model.h5\n",
      "Epoch 2/200\n",
      "43/43 [==============================] - 48s 1s/step - loss: 1.0614 - sparse_categorical_accuracy: 0.5289 - val_loss: 0.8932 - val_sparse_categorical_accuracy: 0.6449\n",
      "\n",
      "Epoch 00002: val_sparse_categorical_accuracy improved from 0.59352 to 0.64491, saving model to ./models/age_best_model.h5\n",
      "Epoch 3/200\n",
      "43/43 [==============================] - 49s 1s/step - loss: 1.0005 - sparse_categorical_accuracy: 0.5785 - val_loss: 0.8589 - val_sparse_categorical_accuracy: 0.6403\n",
      "\n",
      "Epoch 00003: val_sparse_categorical_accuracy did not improve from 0.64491\n",
      "Epoch 4/200\n",
      "43/43 [==============================] - 47s 1s/step - loss: 0.9163 - sparse_categorical_accuracy: 0.6230 - val_loss: 0.8134 - val_sparse_categorical_accuracy: 0.6528\n",
      "\n",
      "Epoch 00004: val_sparse_categorical_accuracy improved from 0.64491 to 0.65278, saving model to ./models/age_best_model.h5\n",
      "Epoch 5/200\n",
      "43/43 [==============================] - 48s 1s/step - loss: 0.8991 - sparse_categorical_accuracy: 0.6226 - val_loss: 0.7766 - val_sparse_categorical_accuracy: 0.6718\n",
      "\n",
      "Epoch 00005: val_sparse_categorical_accuracy improved from 0.65278 to 0.67176, saving model to ./models/age_best_model.h5\n",
      "Epoch 6/200\n",
      "43/43 [==============================] - 51s 1s/step - loss: 0.8661 - sparse_categorical_accuracy: 0.6285 - val_loss: 0.7702 - val_sparse_categorical_accuracy: 0.6824\n",
      "\n",
      "Epoch 00006: val_sparse_categorical_accuracy improved from 0.67176 to 0.68241, saving model to ./models/age_best_model.h5\n",
      "Epoch 7/200\n",
      "43/43 [==============================] - 48s 1s/step - loss: 0.8521 - sparse_categorical_accuracy: 0.6359 - val_loss: 0.6927 - val_sparse_categorical_accuracy: 0.7241\n",
      "\n",
      "Epoch 00007: val_sparse_categorical_accuracy improved from 0.68241 to 0.72407, saving model to ./models/age_best_model.h5\n",
      "Epoch 8/200\n",
      "43/43 [==============================] - 49s 1s/step - loss: 0.8357 - sparse_categorical_accuracy: 0.6341 - val_loss: 0.6900 - val_sparse_categorical_accuracy: 0.7199\n",
      "\n",
      "Epoch 00008: val_sparse_categorical_accuracy did not improve from 0.72407\n",
      "Epoch 9/200\n",
      "43/43 [==============================] - 49s 1s/step - loss: 0.8197 - sparse_categorical_accuracy: 0.6526 - val_loss: 0.6858 - val_sparse_categorical_accuracy: 0.7074\n",
      "\n",
      "Epoch 00009: val_sparse_categorical_accuracy did not improve from 0.72407\n",
      "Epoch 10/200\n",
      "43/43 [==============================] - 48s 1s/step - loss: 0.7869 - sparse_categorical_accuracy: 0.6711 - val_loss: 0.6389 - val_sparse_categorical_accuracy: 0.7431\n",
      "\n",
      "Epoch 00010: val_sparse_categorical_accuracy improved from 0.72407 to 0.74306, saving model to ./models/age_best_model.h5\n",
      "Epoch 11/200\n",
      "43/43 [==============================] - 49s 1s/step - loss: 0.7554 - sparse_categorical_accuracy: 0.6837 - val_loss: 0.6296 - val_sparse_categorical_accuracy: 0.7273\n",
      "\n",
      "Epoch 00011: val_sparse_categorical_accuracy did not improve from 0.74306\n",
      "Epoch 12/200\n",
      "43/43 [==============================] - 47s 1s/step - loss: 0.7866 - sparse_categorical_accuracy: 0.6663 - val_loss: 0.6548 - val_sparse_categorical_accuracy: 0.7213\n",
      "\n",
      "Epoch 00012: val_sparse_categorical_accuracy did not improve from 0.74306\n",
      "Epoch 13/200\n",
      "43/43 [==============================] - 47s 1s/step - loss: 0.7644 - sparse_categorical_accuracy: 0.6807 - val_loss: 0.5911 - val_sparse_categorical_accuracy: 0.7667\n",
      "\n",
      "Epoch 00013: val_sparse_categorical_accuracy improved from 0.74306 to 0.76667, saving model to ./models/age_best_model.h5\n",
      "Epoch 14/200\n",
      "43/43 [==============================] - 48s 1s/step - loss: 0.7206 - sparse_categorical_accuracy: 0.7041 - val_loss: 0.5680 - val_sparse_categorical_accuracy: 0.7611\n",
      "\n",
      "Epoch 00014: val_sparse_categorical_accuracy did not improve from 0.76667\n",
      "Epoch 15/200\n",
      "43/43 [==============================] - 49s 1s/step - loss: 0.7156 - sparse_categorical_accuracy: 0.6974 - val_loss: 0.5568 - val_sparse_categorical_accuracy: 0.7806\n",
      "\n",
      "Epoch 00015: val_sparse_categorical_accuracy improved from 0.76667 to 0.78056, saving model to ./models/age_best_model.h5\n",
      "Epoch 16/200\n",
      "43/43 [==============================] - 48s 1s/step - loss: 0.7156 - sparse_categorical_accuracy: 0.6993 - val_loss: 0.5373 - val_sparse_categorical_accuracy: 0.7755\n",
      "\n",
      "Epoch 00016: val_sparse_categorical_accuracy did not improve from 0.78056\n",
      "Epoch 17/200\n",
      "43/43 [==============================] - 49s 1s/step - loss: 0.6918 - sparse_categorical_accuracy: 0.7119 - val_loss: 0.5818 - val_sparse_categorical_accuracy: 0.7583\n",
      "\n",
      "Epoch 00017: val_sparse_categorical_accuracy did not improve from 0.78056\n",
      "Epoch 18/200\n",
      "43/43 [==============================] - 48s 1s/step - loss: 0.7284 - sparse_categorical_accuracy: 0.6967 - val_loss: 0.5607 - val_sparse_categorical_accuracy: 0.7620\n",
      "\n",
      "Epoch 00018: val_sparse_categorical_accuracy did not improve from 0.78056\n",
      "Epoch 19/200\n",
      "43/43 [==============================] - 52s 1s/step - loss: 0.6593 - sparse_categorical_accuracy: 0.7244 - val_loss: 0.5602 - val_sparse_categorical_accuracy: 0.7750\n",
      "\n",
      "Epoch 00019: val_sparse_categorical_accuracy did not improve from 0.78056\n",
      "Epoch 20/200\n",
      "43/43 [==============================] - 46s 1s/step - loss: 0.7030 - sparse_categorical_accuracy: 0.7037 - val_loss: 0.5248 - val_sparse_categorical_accuracy: 0.7912\n",
      "\n",
      "Epoch 00020: val_sparse_categorical_accuracy improved from 0.78056 to 0.79120, saving model to ./models/age_best_model.h5\n",
      "Epoch 21/200\n",
      "43/43 [==============================] - 48s 1s/step - loss: 0.6602 - sparse_categorical_accuracy: 0.7293 - val_loss: 0.5023 - val_sparse_categorical_accuracy: 0.8037\n",
      "\n",
      "Epoch 00021: val_sparse_categorical_accuracy improved from 0.79120 to 0.80370, saving model to ./models/age_best_model.h5\n",
      "Epoch 22/200\n",
      "43/43 [==============================] - 48s 1s/step - loss: 0.6842 - sparse_categorical_accuracy: 0.7133 - val_loss: 0.5386 - val_sparse_categorical_accuracy: 0.7829\n",
      "\n",
      "Epoch 00022: val_sparse_categorical_accuracy did not improve from 0.80370\n",
      "Epoch 23/200\n",
      "43/43 [==============================] - 49s 1s/step - loss: 0.6461 - sparse_categorical_accuracy: 0.7352 - val_loss: 0.4693 - val_sparse_categorical_accuracy: 0.8060\n",
      "\n",
      "Epoch 00023: val_sparse_categorical_accuracy improved from 0.80370 to 0.80602, saving model to ./models/age_best_model.h5\n",
      "Epoch 24/200\n",
      "43/43 [==============================] - 49s 1s/step - loss: 0.6610 - sparse_categorical_accuracy: 0.7226 - val_loss: 0.5746 - val_sparse_categorical_accuracy: 0.7593\n",
      "\n",
      "Epoch 00024: val_sparse_categorical_accuracy did not improve from 0.80602\n",
      "Epoch 25/200\n",
      "43/43 [==============================] - 49s 1s/step - loss: 0.6624 - sparse_categorical_accuracy: 0.7178 - val_loss: 0.5422 - val_sparse_categorical_accuracy: 0.7898\n",
      "\n",
      "Epoch 00025: val_sparse_categorical_accuracy did not improve from 0.80602\n",
      "Epoch 26/200\n",
      "43/43 [==============================] - 47s 1s/step - loss: 0.6538 - sparse_categorical_accuracy: 0.7252 - val_loss: 0.4740 - val_sparse_categorical_accuracy: 0.8102\n",
      "\n",
      "Epoch 00026: val_sparse_categorical_accuracy improved from 0.80602 to 0.81019, saving model to ./models/age_best_model.h5\n",
      "Epoch 27/200\n",
      "43/43 [==============================] - 49s 1s/step - loss: 0.6271 - sparse_categorical_accuracy: 0.7378 - val_loss: 0.5389 - val_sparse_categorical_accuracy: 0.7769\n",
      "\n",
      "Epoch 00027: val_sparse_categorical_accuracy did not improve from 0.81019\n",
      "Epoch 28/200\n",
      "43/43 [==============================] - 47s 1s/step - loss: 0.6600 - sparse_categorical_accuracy: 0.7304 - val_loss: 0.5336 - val_sparse_categorical_accuracy: 0.7704\n",
      "\n",
      "Epoch 00028: val_sparse_categorical_accuracy did not improve from 0.81019\n",
      "Epoch 29/200\n",
      "43/43 [==============================] - 48s 1s/step - loss: 0.6546 - sparse_categorical_accuracy: 0.7230 - val_loss: 0.4714 - val_sparse_categorical_accuracy: 0.8134\n",
      "\n",
      "Epoch 00029: val_sparse_categorical_accuracy improved from 0.81019 to 0.81343, saving model to ./models/age_best_model.h5\n",
      "Epoch 30/200\n",
      "43/43 [==============================] - 48s 1s/step - loss: 0.6852 - sparse_categorical_accuracy: 0.7141 - val_loss: 0.5063 - val_sparse_categorical_accuracy: 0.7907\n",
      "\n",
      "Epoch 00030: val_sparse_categorical_accuracy did not improve from 0.81343\n",
      "Epoch 31/200\n",
      "43/43 [==============================] - 49s 1s/step - loss: 0.6126 - sparse_categorical_accuracy: 0.7404 - val_loss: 0.4754 - val_sparse_categorical_accuracy: 0.7995\n",
      "\n",
      "Epoch 00031: val_sparse_categorical_accuracy did not improve from 0.81343\n",
      "Epoch 32/200\n",
      "43/43 [==============================] - 48s 1s/step - loss: 0.6085 - sparse_categorical_accuracy: 0.7563 - val_loss: 0.4422 - val_sparse_categorical_accuracy: 0.8310\n",
      "\n",
      "Epoch 00032: val_sparse_categorical_accuracy improved from 0.81343 to 0.83102, saving model to ./models/age_best_model.h5\n",
      "Epoch 33/200\n",
      "43/43 [==============================] - 49s 1s/step - loss: 0.6146 - sparse_categorical_accuracy: 0.7411 - val_loss: 0.4388 - val_sparse_categorical_accuracy: 0.8250\n",
      "\n",
      "Epoch 00033: val_sparse_categorical_accuracy did not improve from 0.83102\n",
      "Epoch 34/200\n",
      "43/43 [==============================] - 49s 1s/step - loss: 0.5857 - sparse_categorical_accuracy: 0.7570 - val_loss: 0.4062 - val_sparse_categorical_accuracy: 0.8370\n",
      "\n",
      "Epoch 00034: val_sparse_categorical_accuracy improved from 0.83102 to 0.83704, saving model to ./models/age_best_model.h5\n",
      "Epoch 35/200\n",
      "43/43 [==============================] - 48s 1s/step - loss: 0.5915 - sparse_categorical_accuracy: 0.7678 - val_loss: 0.4672 - val_sparse_categorical_accuracy: 0.8144\n",
      "\n",
      "Epoch 00035: val_sparse_categorical_accuracy did not improve from 0.83704\n",
      "Epoch 36/200\n",
      "43/43 [==============================] - 48s 1s/step - loss: 0.6173 - sparse_categorical_accuracy: 0.7467 - val_loss: 0.4406 - val_sparse_categorical_accuracy: 0.8241\n",
      "\n",
      "Epoch 00036: val_sparse_categorical_accuracy did not improve from 0.83704\n",
      "Epoch 37/200\n",
      "43/43 [==============================] - 50s 1s/step - loss: 0.5687 - sparse_categorical_accuracy: 0.7774 - val_loss: 0.4499 - val_sparse_categorical_accuracy: 0.8125\n",
      "\n",
      "Epoch 00037: val_sparse_categorical_accuracy did not improve from 0.83704\n",
      "Epoch 38/200\n",
      "43/43 [==============================] - 48s 1s/step - loss: 0.6015 - sparse_categorical_accuracy: 0.7530 - val_loss: 0.4225 - val_sparse_categorical_accuracy: 0.8287\n",
      "\n",
      "Epoch 00038: val_sparse_categorical_accuracy did not improve from 0.83704\n",
      "Epoch 39/200\n",
      "43/43 [==============================] - 47s 1s/step - loss: 0.5798 - sparse_categorical_accuracy: 0.7678 - val_loss: 0.3762 - val_sparse_categorical_accuracy: 0.8537\n",
      "\n",
      "Epoch 00039: val_sparse_categorical_accuracy improved from 0.83704 to 0.85370, saving model to ./models/age_best_model.h5\n",
      "Epoch 40/200\n",
      "43/43 [==============================] - 49s 1s/step - loss: 0.5850 - sparse_categorical_accuracy: 0.7637 - val_loss: 0.4211 - val_sparse_categorical_accuracy: 0.8245\n",
      "\n",
      "Epoch 00040: val_sparse_categorical_accuracy did not improve from 0.85370\n",
      "Epoch 41/200\n",
      "43/43 [==============================] - 50s 1s/step - loss: 0.5783 - sparse_categorical_accuracy: 0.7652 - val_loss: 0.4718 - val_sparse_categorical_accuracy: 0.7903\n",
      "\n",
      "Epoch 00041: val_sparse_categorical_accuracy did not improve from 0.85370\n",
      "Epoch 42/200\n",
      "43/43 [==============================] - 48s 1s/step - loss: 0.5702 - sparse_categorical_accuracy: 0.7626 - val_loss: 0.4051 - val_sparse_categorical_accuracy: 0.8463\n",
      "\n",
      "Epoch 00042: val_sparse_categorical_accuracy did not improve from 0.85370\n",
      "Epoch 43/200\n",
      "43/43 [==============================] - 48s 1s/step - loss: 0.5303 - sparse_categorical_accuracy: 0.7800 - val_loss: 0.4634 - val_sparse_categorical_accuracy: 0.8065\n",
      "\n",
      "Epoch 00043: val_sparse_categorical_accuracy did not improve from 0.85370\n",
      "Epoch 44/200\n",
      "43/43 [==============================] - 47s 1s/step - loss: 0.5610 - sparse_categorical_accuracy: 0.7659 - val_loss: 0.4693 - val_sparse_categorical_accuracy: 0.8051\n",
      "\n",
      "Epoch 00044: val_sparse_categorical_accuracy did not improve from 0.85370\n",
      "Epoch 45/200\n",
      "43/43 [==============================] - 46s 1s/step - loss: 0.5930 - sparse_categorical_accuracy: 0.7556 - val_loss: 0.4103 - val_sparse_categorical_accuracy: 0.8352\n",
      "\n",
      "Epoch 00045: val_sparse_categorical_accuracy did not improve from 0.85370\n",
      "Epoch 46/200\n",
      "43/43 [==============================] - 48s 1s/step - loss: 0.5297 - sparse_categorical_accuracy: 0.7837 - val_loss: 0.3729 - val_sparse_categorical_accuracy: 0.8528\n",
      "\n",
      "Epoch 00046: val_sparse_categorical_accuracy did not improve from 0.85370\n",
      "Epoch 47/200\n",
      "43/43 [==============================] - 48s 1s/step - loss: 0.5497 - sparse_categorical_accuracy: 0.7804 - val_loss: 0.3551 - val_sparse_categorical_accuracy: 0.8644\n",
      "\n",
      "Epoch 00047: val_sparse_categorical_accuracy improved from 0.85370 to 0.86435, saving model to ./models/age_best_model.h5\n",
      "Epoch 48/200\n",
      "43/43 [==============================] - 48s 1s/step - loss: 0.5361 - sparse_categorical_accuracy: 0.7830 - val_loss: 0.3651 - val_sparse_categorical_accuracy: 0.8569\n",
      "\n",
      "Epoch 00048: val_sparse_categorical_accuracy did not improve from 0.86435\n",
      "Epoch 49/200\n",
      "43/43 [==============================] - 48s 1s/step - loss: 0.5610 - sparse_categorical_accuracy: 0.7722 - val_loss: 0.3563 - val_sparse_categorical_accuracy: 0.8671\n",
      "\n",
      "Epoch 00049: val_sparse_categorical_accuracy improved from 0.86435 to 0.86713, saving model to ./models/age_best_model.h5\n",
      "Epoch 50/200\n",
      "43/43 [==============================] - 49s 1s/step - loss: 0.5137 - sparse_categorical_accuracy: 0.7878 - val_loss: 0.3665 - val_sparse_categorical_accuracy: 0.8519\n",
      "\n",
      "Epoch 00050: val_sparse_categorical_accuracy did not improve from 0.86713\n",
      "Epoch 51/200\n",
      "43/43 [==============================] - 49s 1s/step - loss: 0.5278 - sparse_categorical_accuracy: 0.7819 - val_loss: 0.3801 - val_sparse_categorical_accuracy: 0.8398\n",
      "\n",
      "Epoch 00051: val_sparse_categorical_accuracy did not improve from 0.86713\n",
      "Epoch 52/200\n",
      "43/43 [==============================] - 47s 1s/step - loss: 0.5282 - sparse_categorical_accuracy: 0.7859 - val_loss: 0.3793 - val_sparse_categorical_accuracy: 0.8389\n",
      "\n",
      "Epoch 00052: val_sparse_categorical_accuracy did not improve from 0.86713\n",
      "Epoch 53/200\n",
      "43/43 [==============================] - 49s 1s/step - loss: 0.4962 - sparse_categorical_accuracy: 0.8015 - val_loss: 0.3222 - val_sparse_categorical_accuracy: 0.8731\n",
      "\n",
      "Epoch 00053: val_sparse_categorical_accuracy improved from 0.86713 to 0.87315, saving model to ./models/age_best_model.h5\n",
      "Epoch 54/200\n",
      "43/43 [==============================] - 48s 1s/step - loss: 0.5628 - sparse_categorical_accuracy: 0.7670 - val_loss: 0.3706 - val_sparse_categorical_accuracy: 0.8505\n",
      "\n",
      "Epoch 00054: val_sparse_categorical_accuracy did not improve from 0.87315\n",
      "Epoch 55/200\n",
      "43/43 [==============================] - 48s 1s/step - loss: 0.5276 - sparse_categorical_accuracy: 0.7841 - val_loss: 0.4314 - val_sparse_categorical_accuracy: 0.8222\n",
      "\n",
      "Epoch 00055: val_sparse_categorical_accuracy did not improve from 0.87315\n",
      "Epoch 56/200\n",
      "43/43 [==============================] - 47s 1s/step - loss: 0.4932 - sparse_categorical_accuracy: 0.8037 - val_loss: 0.4271 - val_sparse_categorical_accuracy: 0.8157\n",
      "\n",
      "Epoch 00056: val_sparse_categorical_accuracy did not improve from 0.87315\n",
      "Epoch 57/200\n",
      "43/43 [==============================] - 48s 1s/step - loss: 0.5204 - sparse_categorical_accuracy: 0.7922 - val_loss: 0.3274 - val_sparse_categorical_accuracy: 0.8810\n",
      "\n",
      "Epoch 00057: val_sparse_categorical_accuracy improved from 0.87315 to 0.88102, saving model to ./models/age_best_model.h5\n",
      "Epoch 58/200\n",
      "43/43 [==============================] - 49s 1s/step - loss: 0.4853 - sparse_categorical_accuracy: 0.8041 - val_loss: 0.3265 - val_sparse_categorical_accuracy: 0.8704\n",
      "\n",
      "Epoch 00058: val_sparse_categorical_accuracy did not improve from 0.88102\n",
      "Epoch 59/200\n",
      "43/43 [==============================] - 49s 1s/step - loss: 0.5059 - sparse_categorical_accuracy: 0.7952 - val_loss: 0.3230 - val_sparse_categorical_accuracy: 0.8713\n",
      "\n",
      "Epoch 00059: val_sparse_categorical_accuracy did not improve from 0.88102\n",
      "Epoch 60/200\n",
      "43/43 [==============================] - 47s 1s/step - loss: 0.4883 - sparse_categorical_accuracy: 0.7985 - val_loss: 0.4639 - val_sparse_categorical_accuracy: 0.8106\n",
      "\n",
      "Epoch 00060: val_sparse_categorical_accuracy did not improve from 0.88102\n",
      "Epoch 61/200\n",
      "43/43 [==============================] - 48s 1s/step - loss: 0.5095 - sparse_categorical_accuracy: 0.7956 - val_loss: 0.3100 - val_sparse_categorical_accuracy: 0.8806\n",
      "\n",
      "Epoch 00061: val_sparse_categorical_accuracy did not improve from 0.88102\n",
      "Epoch 62/200\n",
      "43/43 [==============================] - 48s 1s/step - loss: 0.4634 - sparse_categorical_accuracy: 0.8115 - val_loss: 0.3357 - val_sparse_categorical_accuracy: 0.8602\n",
      "\n",
      "Epoch 00062: val_sparse_categorical_accuracy did not improve from 0.88102\n",
      "Epoch 63/200\n",
      "43/43 [==============================] - 47s 1s/step - loss: 0.5077 - sparse_categorical_accuracy: 0.7941 - val_loss: 0.2978 - val_sparse_categorical_accuracy: 0.8773\n",
      "\n",
      "Epoch 00063: val_sparse_categorical_accuracy did not improve from 0.88102\n",
      "Epoch 64/200\n",
      "43/43 [==============================] - 47s 1s/step - loss: 0.4751 - sparse_categorical_accuracy: 0.7996 - val_loss: 0.3121 - val_sparse_categorical_accuracy: 0.8792\n",
      "\n",
      "Epoch 00064: val_sparse_categorical_accuracy did not improve from 0.88102\n",
      "Epoch 65/200\n",
      "43/43 [==============================] - 48s 1s/step - loss: 0.4623 - sparse_categorical_accuracy: 0.8130 - val_loss: 0.3098 - val_sparse_categorical_accuracy: 0.8681\n",
      "\n",
      "Epoch 00065: val_sparse_categorical_accuracy did not improve from 0.88102\n",
      "Epoch 66/200\n",
      "43/43 [==============================] - 47s 1s/step - loss: 0.4607 - sparse_categorical_accuracy: 0.8170 - val_loss: 0.3997 - val_sparse_categorical_accuracy: 0.8259\n",
      "\n",
      "Epoch 00066: val_sparse_categorical_accuracy did not improve from 0.88102\n",
      "Epoch 67/200\n",
      "43/43 [==============================] - 47s 1s/step - loss: 0.5553 - sparse_categorical_accuracy: 0.7811 - val_loss: 0.2865 - val_sparse_categorical_accuracy: 0.8907\n",
      "\n",
      "Epoch 00067: val_sparse_categorical_accuracy improved from 0.88102 to 0.89074, saving model to ./models/age_best_model.h5\n",
      "Epoch 68/200\n",
      "43/43 [==============================] - 47s 1s/step - loss: 0.4674 - sparse_categorical_accuracy: 0.8111 - val_loss: 0.3019 - val_sparse_categorical_accuracy: 0.8815\n",
      "\n",
      "Epoch 00068: val_sparse_categorical_accuracy did not improve from 0.89074\n",
      "Epoch 69/200\n",
      "43/43 [==============================] - 47s 1s/step - loss: 0.4381 - sparse_categorical_accuracy: 0.8233 - val_loss: 0.3742 - val_sparse_categorical_accuracy: 0.8500\n",
      "\n",
      "Epoch 00069: val_sparse_categorical_accuracy did not improve from 0.89074\n",
      "Epoch 70/200\n",
      "43/43 [==============================] - 49s 1s/step - loss: 0.5500 - sparse_categorical_accuracy: 0.7693 - val_loss: 0.3955 - val_sparse_categorical_accuracy: 0.8426\n",
      "\n",
      "Epoch 00070: val_sparse_categorical_accuracy did not improve from 0.89074\n",
      "Epoch 71/200\n",
      "43/43 [==============================] - 46s 1s/step - loss: 0.4628 - sparse_categorical_accuracy: 0.8111 - val_loss: 0.2640 - val_sparse_categorical_accuracy: 0.9042\n",
      "\n",
      "Epoch 00071: val_sparse_categorical_accuracy improved from 0.89074 to 0.90417, saving model to ./models/age_best_model.h5\n",
      "Epoch 72/200\n",
      "43/43 [==============================] - 48s 1s/step - loss: 0.4339 - sparse_categorical_accuracy: 0.8241 - val_loss: 0.2842 - val_sparse_categorical_accuracy: 0.8949\n",
      "\n",
      "Epoch 00072: val_sparse_categorical_accuracy did not improve from 0.90417\n",
      "Epoch 73/200\n",
      "43/43 [==============================] - 48s 1s/step - loss: 0.4796 - sparse_categorical_accuracy: 0.8070 - val_loss: 0.3997 - val_sparse_categorical_accuracy: 0.8329\n",
      "\n",
      "Epoch 00073: val_sparse_categorical_accuracy did not improve from 0.90417\n",
      "Epoch 74/200\n",
      "43/43 [==============================] - 47s 1s/step - loss: 0.4861 - sparse_categorical_accuracy: 0.8015 - val_loss: 0.3653 - val_sparse_categorical_accuracy: 0.8532\n",
      "\n",
      "Epoch 00074: val_sparse_categorical_accuracy did not improve from 0.90417\n",
      "Epoch 75/200\n",
      "43/43 [==============================] - 47s 1s/step - loss: 0.4588 - sparse_categorical_accuracy: 0.8159 - val_loss: 0.3182 - val_sparse_categorical_accuracy: 0.8713\n",
      "\n",
      "Epoch 00075: val_sparse_categorical_accuracy did not improve from 0.90417\n",
      "Epoch 76/200\n",
      "43/43 [==============================] - 47s 1s/step - loss: 0.4759 - sparse_categorical_accuracy: 0.8119 - val_loss: 0.2877 - val_sparse_categorical_accuracy: 0.8921\n",
      "\n",
      "Epoch 00076: val_sparse_categorical_accuracy did not improve from 0.90417\n",
      "Epoch 77/200\n",
      "43/43 [==============================] - 51s 1s/step - loss: 0.4924 - sparse_categorical_accuracy: 0.8037 - val_loss: 0.3280 - val_sparse_categorical_accuracy: 0.8685\n",
      "\n",
      "Epoch 00077: val_sparse_categorical_accuracy did not improve from 0.90417\n",
      "Epoch 78/200\n",
      "43/43 [==============================] - 48s 1s/step - loss: 0.4607 - sparse_categorical_accuracy: 0.8093 - val_loss: 0.2646 - val_sparse_categorical_accuracy: 0.8986\n",
      "\n",
      "Epoch 00078: val_sparse_categorical_accuracy did not improve from 0.90417\n",
      "Epoch 79/200\n",
      "43/43 [==============================] - 49s 1s/step - loss: 0.4434 - sparse_categorical_accuracy: 0.8185 - val_loss: 0.2845 - val_sparse_categorical_accuracy: 0.8884\n",
      "\n",
      "Epoch 00079: val_sparse_categorical_accuracy did not improve from 0.90417\n",
      "Epoch 80/200\n",
      "43/43 [==============================] - 47s 1s/step - loss: 0.4789 - sparse_categorical_accuracy: 0.8096 - val_loss: 0.2969 - val_sparse_categorical_accuracy: 0.8792\n",
      "\n",
      "Epoch 00080: val_sparse_categorical_accuracy did not improve from 0.90417\n",
      "Epoch 81/200\n",
      "43/43 [==============================] - 49s 1s/step - loss: 0.4582 - sparse_categorical_accuracy: 0.8119 - val_loss: 0.2553 - val_sparse_categorical_accuracy: 0.9060\n",
      "\n",
      "Epoch 00081: val_sparse_categorical_accuracy improved from 0.90417 to 0.90602, saving model to ./models/age_best_model.h5\n",
      "Epoch 82/200\n",
      "43/43 [==============================] - 47s 1s/step - loss: 0.4332 - sparse_categorical_accuracy: 0.8270 - val_loss: 0.2922 - val_sparse_categorical_accuracy: 0.8796\n",
      "\n",
      "Epoch 00082: val_sparse_categorical_accuracy did not improve from 0.90602\n",
      "Epoch 83/200\n",
      "43/43 [==============================] - 47s 1s/step - loss: 0.4623 - sparse_categorical_accuracy: 0.8181 - val_loss: 0.3293 - val_sparse_categorical_accuracy: 0.8620\n",
      "\n",
      "Epoch 00083: val_sparse_categorical_accuracy did not improve from 0.90602\n",
      "Epoch 84/200\n",
      "43/43 [==============================] - 48s 1s/step - loss: 0.4989 - sparse_categorical_accuracy: 0.7922 - val_loss: 0.3317 - val_sparse_categorical_accuracy: 0.8880\n",
      "\n",
      "Epoch 00084: val_sparse_categorical_accuracy did not improve from 0.90602\n",
      "Epoch 85/200\n",
      "43/43 [==============================] - 47s 1s/step - loss: 0.4561 - sparse_categorical_accuracy: 0.8156 - val_loss: 0.2606 - val_sparse_categorical_accuracy: 0.9032\n",
      "\n",
      "Epoch 00085: val_sparse_categorical_accuracy did not improve from 0.90602\n",
      "Epoch 86/200\n",
      "43/43 [==============================] - 49s 1s/step - loss: 0.4464 - sparse_categorical_accuracy: 0.8226 - val_loss: 0.2552 - val_sparse_categorical_accuracy: 0.9028\n",
      "\n",
      "Epoch 00086: val_sparse_categorical_accuracy did not improve from 0.90602\n",
      "Epoch 87/200\n",
      "43/43 [==============================] - 48s 1s/step - loss: 0.4177 - sparse_categorical_accuracy: 0.8289 - val_loss: 0.2308 - val_sparse_categorical_accuracy: 0.9130\n",
      "\n",
      "Epoch 00087: val_sparse_categorical_accuracy improved from 0.90602 to 0.91296, saving model to ./models/age_best_model.h5\n",
      "Epoch 88/200\n",
      "43/43 [==============================] - 49s 1s/step - loss: 0.3990 - sparse_categorical_accuracy: 0.8356 - val_loss: 0.2200 - val_sparse_categorical_accuracy: 0.9162\n",
      "\n",
      "Epoch 00088: val_sparse_categorical_accuracy improved from 0.91296 to 0.91620, saving model to ./models/age_best_model.h5\n",
      "Epoch 89/200\n",
      "43/43 [==============================] - 48s 1s/step - loss: 0.4370 - sparse_categorical_accuracy: 0.8259 - val_loss: 0.2480 - val_sparse_categorical_accuracy: 0.9005\n",
      "\n",
      "Epoch 00089: val_sparse_categorical_accuracy did not improve from 0.91620\n",
      "Epoch 90/200\n",
      "43/43 [==============================] - 50s 1s/step - loss: 0.4548 - sparse_categorical_accuracy: 0.8174 - val_loss: 0.3282 - val_sparse_categorical_accuracy: 0.8620\n",
      "\n",
      "Epoch 00090: val_sparse_categorical_accuracy did not improve from 0.91620\n",
      "Epoch 91/200\n",
      "43/43 [==============================] - 47s 1s/step - loss: 0.4177 - sparse_categorical_accuracy: 0.8278 - val_loss: 0.2328 - val_sparse_categorical_accuracy: 0.9106\n",
      "\n",
      "Epoch 00091: val_sparse_categorical_accuracy did not improve from 0.91620\n",
      "Epoch 92/200\n",
      "43/43 [==============================] - 48s 1s/step - loss: 0.4026 - sparse_categorical_accuracy: 0.8415 - val_loss: 0.2898 - val_sparse_categorical_accuracy: 0.8856\n",
      "\n",
      "Epoch 00092: val_sparse_categorical_accuracy did not improve from 0.91620\n",
      "Epoch 93/200\n",
      "43/43 [==============================] - 48s 1s/step - loss: 0.4511 - sparse_categorical_accuracy: 0.8211 - val_loss: 0.2804 - val_sparse_categorical_accuracy: 0.8931\n",
      "\n",
      "Epoch 00093: val_sparse_categorical_accuracy did not improve from 0.91620\n",
      "Epoch 94/200\n",
      "43/43 [==============================] - 49s 1s/step - loss: 0.4211 - sparse_categorical_accuracy: 0.8344 - val_loss: 0.2836 - val_sparse_categorical_accuracy: 0.8963\n",
      "\n",
      "Epoch 00094: val_sparse_categorical_accuracy did not improve from 0.91620\n",
      "Epoch 95/200\n",
      "43/43 [==============================] - 48s 1s/step - loss: 0.4575 - sparse_categorical_accuracy: 0.8133 - val_loss: 0.2558 - val_sparse_categorical_accuracy: 0.9046\n",
      "\n",
      "Epoch 00095: val_sparse_categorical_accuracy did not improve from 0.91620\n",
      "Epoch 96/200\n",
      "43/43 [==============================] - 48s 1s/step - loss: 0.4184 - sparse_categorical_accuracy: 0.8359 - val_loss: 0.2256 - val_sparse_categorical_accuracy: 0.9125\n",
      "\n",
      "Epoch 00096: val_sparse_categorical_accuracy did not improve from 0.91620\n",
      "Epoch 97/200\n",
      "43/43 [==============================] - 48s 1s/step - loss: 0.3903 - sparse_categorical_accuracy: 0.8422 - val_loss: 0.2074 - val_sparse_categorical_accuracy: 0.9208\n",
      "\n",
      "Epoch 00097: val_sparse_categorical_accuracy improved from 0.91620 to 0.92083, saving model to ./models/age_best_model.h5\n",
      "Epoch 98/200\n",
      "43/43 [==============================] - 47s 1s/step - loss: 0.4355 - sparse_categorical_accuracy: 0.8200 - val_loss: 0.2962 - val_sparse_categorical_accuracy: 0.8736\n",
      "\n",
      "Epoch 00098: val_sparse_categorical_accuracy did not improve from 0.92083\n",
      "Epoch 99/200\n",
      "43/43 [==============================] - 47s 1s/step - loss: 0.4273 - sparse_categorical_accuracy: 0.8230 - val_loss: 0.3926 - val_sparse_categorical_accuracy: 0.8347\n",
      "\n",
      "Epoch 00099: val_sparse_categorical_accuracy did not improve from 0.92083\n",
      "Epoch 100/200\n",
      "43/43 [==============================] - 47s 1s/step - loss: 0.4255 - sparse_categorical_accuracy: 0.8252 - val_loss: 0.2704 - val_sparse_categorical_accuracy: 0.8940\n",
      "\n",
      "Epoch 00100: val_sparse_categorical_accuracy did not improve from 0.92083\n",
      "Epoch 101/200\n",
      "43/43 [==============================] - 49s 1s/step - loss: 0.4471 - sparse_categorical_accuracy: 0.8170 - val_loss: 0.2418 - val_sparse_categorical_accuracy: 0.9065\n",
      "\n",
      "Epoch 00101: val_sparse_categorical_accuracy did not improve from 0.92083\n",
      "Epoch 102/200\n",
      "43/43 [==============================] - 49s 1s/step - loss: 0.4138 - sparse_categorical_accuracy: 0.8326 - val_loss: 0.2451 - val_sparse_categorical_accuracy: 0.9014\n",
      "\n",
      "Epoch 00102: val_sparse_categorical_accuracy did not improve from 0.92083\n",
      "Epoch 103/200\n",
      "43/43 [==============================] - 49s 1s/step - loss: 0.4014 - sparse_categorical_accuracy: 0.8367 - val_loss: 0.2225 - val_sparse_categorical_accuracy: 0.9259\n",
      "\n",
      "Epoch 00103: val_sparse_categorical_accuracy improved from 0.92083 to 0.92593, saving model to ./models/age_best_model.h5\n",
      "Epoch 104/200\n",
      "43/43 [==============================] - 48s 1s/step - loss: 0.4664 - sparse_categorical_accuracy: 0.8241 - val_loss: 0.2834 - val_sparse_categorical_accuracy: 0.8847\n",
      "\n",
      "Epoch 00104: val_sparse_categorical_accuracy did not improve from 0.92593\n",
      "Epoch 105/200\n",
      "43/43 [==============================] - 48s 1s/step - loss: 0.3910 - sparse_categorical_accuracy: 0.8426 - val_loss: 0.2663 - val_sparse_categorical_accuracy: 0.8995\n",
      "\n",
      "Epoch 00105: val_sparse_categorical_accuracy did not improve from 0.92593\n",
      "Epoch 106/200\n",
      "43/43 [==============================] - 47s 1s/step - loss: 0.4509 - sparse_categorical_accuracy: 0.8211 - val_loss: 0.2940 - val_sparse_categorical_accuracy: 0.8796\n",
      "\n",
      "Epoch 00106: val_sparse_categorical_accuracy did not improve from 0.92593\n",
      "Epoch 107/200\n",
      "43/43 [==============================] - 47s 1s/step - loss: 0.4213 - sparse_categorical_accuracy: 0.8344 - val_loss: 0.2543 - val_sparse_categorical_accuracy: 0.9083\n",
      "\n",
      "Epoch 00107: val_sparse_categorical_accuracy did not improve from 0.92593\n",
      "Epoch 108/200\n",
      "43/43 [==============================] - 47s 1s/step - loss: 0.3947 - sparse_categorical_accuracy: 0.8426 - val_loss: 0.3045 - val_sparse_categorical_accuracy: 0.8694\n",
      "\n",
      "Epoch 00108: val_sparse_categorical_accuracy did not improve from 0.92593\n",
      "Epoch 109/200\n",
      "43/43 [==============================] - 48s 1s/step - loss: 0.3841 - sparse_categorical_accuracy: 0.8463 - val_loss: 0.2263 - val_sparse_categorical_accuracy: 0.9116\n",
      "\n",
      "Epoch 00109: val_sparse_categorical_accuracy did not improve from 0.92593\n",
      "Epoch 110/200\n",
      "43/43 [==============================] - 48s 1s/step - loss: 0.3876 - sparse_categorical_accuracy: 0.8463 - val_loss: 0.2227 - val_sparse_categorical_accuracy: 0.9264\n",
      "\n",
      "Epoch 00110: val_sparse_categorical_accuracy improved from 0.92593 to 0.92639, saving model to ./models/age_best_model.h5\n",
      "Epoch 111/200\n",
      "43/43 [==============================] - 49s 1s/step - loss: 0.3652 - sparse_categorical_accuracy: 0.8589 - val_loss: 0.2346 - val_sparse_categorical_accuracy: 0.9144\n",
      "\n",
      "Epoch 00111: val_sparse_categorical_accuracy did not improve from 0.92639\n",
      "Epoch 112/200\n",
      "43/43 [==============================] - 47s 1s/step - loss: 0.4066 - sparse_categorical_accuracy: 0.8370 - val_loss: 0.2153 - val_sparse_categorical_accuracy: 0.9255\n",
      "\n",
      "Epoch 00112: val_sparse_categorical_accuracy did not improve from 0.92639\n",
      "Epoch 113/200\n",
      "43/43 [==============================] - 48s 1s/step - loss: 0.3821 - sparse_categorical_accuracy: 0.8430 - val_loss: 0.2170 - val_sparse_categorical_accuracy: 0.9241\n",
      "\n",
      "Epoch 00113: val_sparse_categorical_accuracy did not improve from 0.92639\n",
      "Epoch 114/200\n",
      "43/43 [==============================] - 47s 1s/step - loss: 0.4130 - sparse_categorical_accuracy: 0.8374 - val_loss: 0.1964 - val_sparse_categorical_accuracy: 0.9255\n",
      "\n",
      "Epoch 00114: val_sparse_categorical_accuracy did not improve from 0.92639\n",
      "Epoch 115/200\n",
      "43/43 [==============================] - 46s 1s/step - loss: 0.3763 - sparse_categorical_accuracy: 0.8467 - val_loss: 0.2012 - val_sparse_categorical_accuracy: 0.9273\n",
      "\n",
      "Epoch 00115: val_sparse_categorical_accuracy improved from 0.92639 to 0.92731, saving model to ./models/age_best_model.h5\n",
      "Epoch 116/200\n",
      "43/43 [==============================] - 48s 1s/step - loss: 0.3809 - sparse_categorical_accuracy: 0.8559 - val_loss: 0.1956 - val_sparse_categorical_accuracy: 0.9222\n",
      "\n",
      "Epoch 00116: val_sparse_categorical_accuracy did not improve from 0.92731\n",
      "Epoch 117/200\n",
      "43/43 [==============================] - 47s 1s/step - loss: 0.3914 - sparse_categorical_accuracy: 0.8378 - val_loss: 0.2760 - val_sparse_categorical_accuracy: 0.8926\n",
      "\n",
      "Epoch 00117: val_sparse_categorical_accuracy did not improve from 0.92731\n",
      "Epoch 118/200\n",
      "43/43 [==============================] - 48s 1s/step - loss: 0.4188 - sparse_categorical_accuracy: 0.8374 - val_loss: 0.2176 - val_sparse_categorical_accuracy: 0.9213\n",
      "\n",
      "Epoch 00118: val_sparse_categorical_accuracy did not improve from 0.92731\n",
      "Epoch 119/200\n",
      "43/43 [==============================] - 48s 1s/step - loss: 0.3961 - sparse_categorical_accuracy: 0.8415 - val_loss: 0.1828 - val_sparse_categorical_accuracy: 0.9347\n",
      "\n",
      "Epoch 00119: val_sparse_categorical_accuracy improved from 0.92731 to 0.93472, saving model to ./models/age_best_model.h5\n",
      "Epoch 120/200\n",
      "43/43 [==============================] - 49s 1s/step - loss: 0.3803 - sparse_categorical_accuracy: 0.8448 - val_loss: 0.2236 - val_sparse_categorical_accuracy: 0.9153\n",
      "\n",
      "Epoch 00120: val_sparse_categorical_accuracy did not improve from 0.93472\n",
      "Epoch 121/200\n",
      "43/43 [==============================] - 48s 1s/step - loss: 0.3937 - sparse_categorical_accuracy: 0.8456 - val_loss: 0.1720 - val_sparse_categorical_accuracy: 0.9440\n",
      "\n",
      "Epoch 00121: val_sparse_categorical_accuracy improved from 0.93472 to 0.94398, saving model to ./models/age_best_model.h5\n",
      "Epoch 122/200\n",
      "43/43 [==============================] - 48s 1s/step - loss: 0.3561 - sparse_categorical_accuracy: 0.8570 - val_loss: 0.1825 - val_sparse_categorical_accuracy: 0.9338\n",
      "\n",
      "Epoch 00122: val_sparse_categorical_accuracy did not improve from 0.94398\n",
      "Epoch 123/200\n",
      "43/43 [==============================] - 46s 1s/step - loss: 0.3569 - sparse_categorical_accuracy: 0.8622 - val_loss: 0.1850 - val_sparse_categorical_accuracy: 0.9296\n",
      "\n",
      "Epoch 00123: val_sparse_categorical_accuracy did not improve from 0.94398\n",
      "Epoch 124/200\n",
      "43/43 [==============================] - 48s 1s/step - loss: 0.3480 - sparse_categorical_accuracy: 0.8626 - val_loss: 0.1687 - val_sparse_categorical_accuracy: 0.9417\n",
      "\n",
      "Epoch 00124: val_sparse_categorical_accuracy did not improve from 0.94398\n",
      "Epoch 125/200\n",
      "43/43 [==============================] - 49s 1s/step - loss: 0.3364 - sparse_categorical_accuracy: 0.8659 - val_loss: 0.1895 - val_sparse_categorical_accuracy: 0.9319\n",
      "\n",
      "Epoch 00125: val_sparse_categorical_accuracy did not improve from 0.94398\n",
      "Epoch 126/200\n",
      "43/43 [==============================] - 49s 1s/step - loss: 0.3762 - sparse_categorical_accuracy: 0.8489 - val_loss: 0.1710 - val_sparse_categorical_accuracy: 0.9361\n",
      "\n",
      "Epoch 00126: val_sparse_categorical_accuracy did not improve from 0.94398\n",
      "Epoch 127/200\n",
      "43/43 [==============================] - 48s 1s/step - loss: 0.3376 - sparse_categorical_accuracy: 0.8670 - val_loss: 0.1886 - val_sparse_categorical_accuracy: 0.9264\n",
      "\n",
      "Epoch 00127: val_sparse_categorical_accuracy did not improve from 0.94398\n",
      "Epoch 128/200\n",
      "43/43 [==============================] - 49s 1s/step - loss: 0.3195 - sparse_categorical_accuracy: 0.8730 - val_loss: 0.1888 - val_sparse_categorical_accuracy: 0.9292\n",
      "\n",
      "Epoch 00128: val_sparse_categorical_accuracy did not improve from 0.94398\n",
      "Epoch 129/200\n",
      "43/43 [==============================] - 48s 1s/step - loss: 0.3603 - sparse_categorical_accuracy: 0.8581 - val_loss: 0.2708 - val_sparse_categorical_accuracy: 0.8912\n",
      "\n",
      "Epoch 00129: val_sparse_categorical_accuracy did not improve from 0.94398\n",
      "Epoch 130/200\n",
      "43/43 [==============================] - 50s 1s/step - loss: 0.3766 - sparse_categorical_accuracy: 0.8496 - val_loss: 0.2483 - val_sparse_categorical_accuracy: 0.9056\n",
      "\n",
      "Epoch 00130: val_sparse_categorical_accuracy did not improve from 0.94398\n",
      "Epoch 131/200\n",
      "43/43 [==============================] - 46s 1s/step - loss: 0.3554 - sparse_categorical_accuracy: 0.8596 - val_loss: 0.2135 - val_sparse_categorical_accuracy: 0.9231\n",
      "\n",
      "Epoch 00131: val_sparse_categorical_accuracy did not improve from 0.94398\n",
      "Epoch 132/200\n",
      "43/43 [==============================] - 48s 1s/step - loss: 0.3563 - sparse_categorical_accuracy: 0.8593 - val_loss: 0.2338 - val_sparse_categorical_accuracy: 0.9065\n",
      "\n",
      "Epoch 00132: val_sparse_categorical_accuracy did not improve from 0.94398\n",
      "Epoch 133/200\n",
      "43/43 [==============================] - 49s 1s/step - loss: 0.3692 - sparse_categorical_accuracy: 0.8481 - val_loss: 0.2007 - val_sparse_categorical_accuracy: 0.9218\n",
      "\n",
      "Epoch 00133: val_sparse_categorical_accuracy did not improve from 0.94398\n",
      "Epoch 134/200\n",
      "43/43 [==============================] - 48s 1s/step - loss: 0.3540 - sparse_categorical_accuracy: 0.8637 - val_loss: 0.1557 - val_sparse_categorical_accuracy: 0.9495\n",
      "\n",
      "Epoch 00134: val_sparse_categorical_accuracy improved from 0.94398 to 0.94954, saving model to ./models/age_best_model.h5\n",
      "Epoch 135/200\n",
      "43/43 [==============================] - 49s 1s/step - loss: 0.3557 - sparse_categorical_accuracy: 0.8626 - val_loss: 0.1656 - val_sparse_categorical_accuracy: 0.9407\n",
      "\n",
      "Epoch 00135: val_sparse_categorical_accuracy did not improve from 0.94954\n",
      "Epoch 136/200\n",
      "43/43 [==============================] - 48s 1s/step - loss: 0.3413 - sparse_categorical_accuracy: 0.8648 - val_loss: 0.1653 - val_sparse_categorical_accuracy: 0.9412\n",
      "\n",
      "Epoch 00136: val_sparse_categorical_accuracy did not improve from 0.94954\n",
      "Epoch 137/200\n",
      "43/43 [==============================] - 49s 1s/step - loss: 0.3387 - sparse_categorical_accuracy: 0.8715 - val_loss: 0.2050 - val_sparse_categorical_accuracy: 0.9241\n",
      "\n",
      "Epoch 00137: val_sparse_categorical_accuracy did not improve from 0.94954\n",
      "Epoch 138/200\n",
      "43/43 [==============================] - 46s 1s/step - loss: 0.3341 - sparse_categorical_accuracy: 0.8681 - val_loss: 0.1705 - val_sparse_categorical_accuracy: 0.9380\n",
      "\n",
      "Epoch 00138: val_sparse_categorical_accuracy did not improve from 0.94954\n",
      "Epoch 139/200\n",
      "43/43 [==============================] - 47s 1s/step - loss: 0.4078 - sparse_categorical_accuracy: 0.8463 - val_loss: 0.1961 - val_sparse_categorical_accuracy: 0.9282\n",
      "\n",
      "Epoch 00139: val_sparse_categorical_accuracy did not improve from 0.94954\n",
      "Epoch 140/200\n",
      "43/43 [==============================] - 49s 1s/step - loss: 0.3489 - sparse_categorical_accuracy: 0.8641 - val_loss: 0.1831 - val_sparse_categorical_accuracy: 0.9310\n",
      "\n",
      "Epoch 00140: val_sparse_categorical_accuracy did not improve from 0.94954\n",
      "Epoch 141/200\n",
      "43/43 [==============================] - 47s 1s/step - loss: 0.3660 - sparse_categorical_accuracy: 0.8556 - val_loss: 0.1646 - val_sparse_categorical_accuracy: 0.9435\n",
      "\n",
      "Epoch 00141: val_sparse_categorical_accuracy did not improve from 0.94954\n",
      "Epoch 142/200\n",
      "43/43 [==============================] - 52s 1s/step - loss: 0.3432 - sparse_categorical_accuracy: 0.8652 - val_loss: 0.1681 - val_sparse_categorical_accuracy: 0.9403\n",
      "\n",
      "Epoch 00142: val_sparse_categorical_accuracy did not improve from 0.94954\n",
      "Epoch 143/200\n",
      "43/43 [==============================] - 47s 1s/step - loss: 0.3292 - sparse_categorical_accuracy: 0.8700 - val_loss: 0.1772 - val_sparse_categorical_accuracy: 0.9329\n",
      "\n",
      "Epoch 00143: val_sparse_categorical_accuracy did not improve from 0.94954\n",
      "Epoch 144/200\n",
      "43/43 [==============================] - 52s 1s/step - loss: 0.3208 - sparse_categorical_accuracy: 0.8752 - val_loss: 0.1538 - val_sparse_categorical_accuracy: 0.9380\n",
      "\n",
      "Epoch 00144: val_sparse_categorical_accuracy did not improve from 0.94954\n",
      "Epoch 145/200\n",
      "43/43 [==============================] - 48s 1s/step - loss: 0.3086 - sparse_categorical_accuracy: 0.8774 - val_loss: 0.1364 - val_sparse_categorical_accuracy: 0.9537\n",
      "\n",
      "Epoch 00145: val_sparse_categorical_accuracy improved from 0.94954 to 0.95370, saving model to ./models/age_best_model.h5\n",
      "Epoch 146/200\n",
      "43/43 [==============================] - 49s 1s/step - loss: 0.3188 - sparse_categorical_accuracy: 0.8774 - val_loss: 0.2120 - val_sparse_categorical_accuracy: 0.9199\n",
      "\n",
      "Epoch 00146: val_sparse_categorical_accuracy did not improve from 0.95370\n",
      "Epoch 147/200\n",
      "43/43 [==============================] - 48s 1s/step - loss: 0.3524 - sparse_categorical_accuracy: 0.8611 - val_loss: 0.2585 - val_sparse_categorical_accuracy: 0.8972\n",
      "\n",
      "Epoch 00147: val_sparse_categorical_accuracy did not improve from 0.95370\n",
      "Epoch 148/200\n",
      "43/43 [==============================] - 48s 1s/step - loss: 0.3651 - sparse_categorical_accuracy: 0.8563 - val_loss: 0.1545 - val_sparse_categorical_accuracy: 0.9389\n",
      "\n",
      "Epoch 00148: val_sparse_categorical_accuracy did not improve from 0.95370\n",
      "Epoch 149/200\n",
      "43/43 [==============================] - 47s 1s/step - loss: 0.3956 - sparse_categorical_accuracy: 0.8478 - val_loss: 0.2353 - val_sparse_categorical_accuracy: 0.9060\n",
      "\n",
      "Epoch 00149: val_sparse_categorical_accuracy did not improve from 0.95370\n",
      "Epoch 150/200\n",
      "43/43 [==============================] - 47s 1s/step - loss: 0.3383 - sparse_categorical_accuracy: 0.8700 - val_loss: 0.1730 - val_sparse_categorical_accuracy: 0.9370\n",
      "\n",
      "Epoch 00150: val_sparse_categorical_accuracy did not improve from 0.95370\n",
      "Epoch 151/200\n",
      "43/43 [==============================] - 50s 1s/step - loss: 0.3264 - sparse_categorical_accuracy: 0.8707 - val_loss: 0.1352 - val_sparse_categorical_accuracy: 0.9588\n",
      "\n",
      "Epoch 00151: val_sparse_categorical_accuracy improved from 0.95370 to 0.95880, saving model to ./models/age_best_model.h5\n",
      "Epoch 152/200\n",
      "43/43 [==============================] - 52s 1s/step - loss: 0.3195 - sparse_categorical_accuracy: 0.8733 - val_loss: 0.1757 - val_sparse_categorical_accuracy: 0.9310\n",
      "\n",
      "Epoch 00152: val_sparse_categorical_accuracy did not improve from 0.95880\n",
      "Epoch 153/200\n",
      "43/43 [==============================] - 48s 1s/step - loss: 0.3513 - sparse_categorical_accuracy: 0.8574 - val_loss: 0.1984 - val_sparse_categorical_accuracy: 0.9259\n",
      "\n",
      "Epoch 00153: val_sparse_categorical_accuracy did not improve from 0.95880\n",
      "Epoch 154/200\n",
      "43/43 [==============================] - 49s 1s/step - loss: 0.3688 - sparse_categorical_accuracy: 0.8548 - val_loss: 0.1760 - val_sparse_categorical_accuracy: 0.9389\n",
      "\n",
      "Epoch 00154: val_sparse_categorical_accuracy did not improve from 0.95880\n",
      "Epoch 155/200\n",
      "43/43 [==============================] - 47s 1s/step - loss: 0.3844 - sparse_categorical_accuracy: 0.8441 - val_loss: 0.1360 - val_sparse_categorical_accuracy: 0.9630\n",
      "\n",
      "Epoch 00155: val_sparse_categorical_accuracy improved from 0.95880 to 0.96296, saving model to ./models/age_best_model.h5\n",
      "Epoch 156/200\n",
      "43/43 [==============================] - 49s 1s/step - loss: 0.3241 - sparse_categorical_accuracy: 0.8752 - val_loss: 0.1327 - val_sparse_categorical_accuracy: 0.9551\n",
      "\n",
      "Epoch 00156: val_sparse_categorical_accuracy did not improve from 0.96296\n",
      "Epoch 157/200\n",
      "43/43 [==============================] - 47s 1s/step - loss: 0.3547 - sparse_categorical_accuracy: 0.8585 - val_loss: 0.1462 - val_sparse_categorical_accuracy: 0.9500\n",
      "\n",
      "Epoch 00157: val_sparse_categorical_accuracy did not improve from 0.96296\n",
      "Epoch 158/200\n",
      "43/43 [==============================] - 48s 1s/step - loss: 0.3340 - sparse_categorical_accuracy: 0.8707 - val_loss: 0.1693 - val_sparse_categorical_accuracy: 0.9389\n",
      "\n",
      "Epoch 00158: val_sparse_categorical_accuracy did not improve from 0.96296\n",
      "Epoch 159/200\n",
      "43/43 [==============================] - 47s 1s/step - loss: 0.3298 - sparse_categorical_accuracy: 0.8730 - val_loss: 0.1705 - val_sparse_categorical_accuracy: 0.9319\n",
      "\n",
      "Epoch 00159: val_sparse_categorical_accuracy did not improve from 0.96296\n",
      "Epoch 160/200\n",
      "43/43 [==============================] - 48s 1s/step - loss: 0.3365 - sparse_categorical_accuracy: 0.8656 - val_loss: 0.1641 - val_sparse_categorical_accuracy: 0.9384\n",
      "\n",
      "Epoch 00160: val_sparse_categorical_accuracy did not improve from 0.96296\n",
      "Epoch 161/200\n",
      "43/43 [==============================] - 50s 1s/step - loss: 0.3505 - sparse_categorical_accuracy: 0.8600 - val_loss: 0.1877 - val_sparse_categorical_accuracy: 0.9245\n",
      "\n",
      "Epoch 00161: val_sparse_categorical_accuracy did not improve from 0.96296\n",
      "Epoch 162/200\n",
      "43/43 [==============================] - 48s 1s/step - loss: 0.3309 - sparse_categorical_accuracy: 0.8696 - val_loss: 0.2033 - val_sparse_categorical_accuracy: 0.9231\n",
      "\n",
      "Epoch 00162: val_sparse_categorical_accuracy did not improve from 0.96296\n",
      "Epoch 163/200\n",
      "43/43 [==============================] - 48s 1s/step - loss: 0.3349 - sparse_categorical_accuracy: 0.8700 - val_loss: 0.1791 - val_sparse_categorical_accuracy: 0.9375\n",
      "\n",
      "Epoch 00163: val_sparse_categorical_accuracy did not improve from 0.96296\n",
      "Epoch 164/200\n",
      "43/43 [==============================] - 48s 1s/step - loss: 0.3119 - sparse_categorical_accuracy: 0.8770 - val_loss: 0.1376 - val_sparse_categorical_accuracy: 0.9514\n",
      "\n",
      "Epoch 00164: val_sparse_categorical_accuracy did not improve from 0.96296\n",
      "Epoch 165/200\n",
      "43/43 [==============================] - 47s 1s/step - loss: 0.3540 - sparse_categorical_accuracy: 0.8559 - val_loss: 0.1711 - val_sparse_categorical_accuracy: 0.9352\n",
      "\n",
      "Epoch 00165: val_sparse_categorical_accuracy did not improve from 0.96296\n",
      "Epoch 166/200\n",
      "43/43 [==============================] - 47s 1s/step - loss: 0.3411 - sparse_categorical_accuracy: 0.8659 - val_loss: 0.1449 - val_sparse_categorical_accuracy: 0.9454\n",
      "\n",
      "Epoch 00166: val_sparse_categorical_accuracy did not improve from 0.96296\n",
      "Epoch 167/200\n",
      "43/43 [==============================] - 47s 1s/step - loss: 0.3264 - sparse_categorical_accuracy: 0.8744 - val_loss: 0.1618 - val_sparse_categorical_accuracy: 0.9403\n",
      "\n",
      "Epoch 00167: val_sparse_categorical_accuracy did not improve from 0.96296\n",
      "Epoch 168/200\n",
      "43/43 [==============================] - 50s 1s/step - loss: 0.3299 - sparse_categorical_accuracy: 0.8778 - val_loss: 0.1522 - val_sparse_categorical_accuracy: 0.9458\n",
      "\n",
      "Epoch 00168: val_sparse_categorical_accuracy did not improve from 0.96296\n",
      "Epoch 169/200\n",
      "43/43 [==============================] - 48s 1s/step - loss: 0.3487 - sparse_categorical_accuracy: 0.8648 - val_loss: 0.1342 - val_sparse_categorical_accuracy: 0.9509\n",
      "\n",
      "Epoch 00169: val_sparse_categorical_accuracy did not improve from 0.96296\n",
      "Epoch 170/200\n",
      "43/43 [==============================] - 48s 1s/step - loss: 0.2937 - sparse_categorical_accuracy: 0.8911 - val_loss: 0.1274 - val_sparse_categorical_accuracy: 0.9542\n",
      "\n",
      "Epoch 00170: val_sparse_categorical_accuracy did not improve from 0.96296\n",
      "Epoch 171/200\n",
      "43/43 [==============================] - 47s 1s/step - loss: 0.3345 - sparse_categorical_accuracy: 0.8670 - val_loss: 0.1482 - val_sparse_categorical_accuracy: 0.9444\n",
      "\n",
      "Epoch 00171: val_sparse_categorical_accuracy did not improve from 0.96296\n",
      "Epoch 172/200\n",
      "43/43 [==============================] - 49s 1s/step - loss: 0.3167 - sparse_categorical_accuracy: 0.8667 - val_loss: 0.1327 - val_sparse_categorical_accuracy: 0.9551\n",
      "\n",
      "Epoch 00172: val_sparse_categorical_accuracy did not improve from 0.96296\n",
      "Epoch 173/200\n",
      "43/43 [==============================] - 49s 1s/step - loss: 0.2966 - sparse_categorical_accuracy: 0.8833 - val_loss: 0.1365 - val_sparse_categorical_accuracy: 0.9528\n",
      "\n",
      "Epoch 00173: val_sparse_categorical_accuracy did not improve from 0.96296\n",
      "Epoch 174/200\n",
      "43/43 [==============================] - 48s 1s/step - loss: 0.2969 - sparse_categorical_accuracy: 0.8833 - val_loss: 0.1659 - val_sparse_categorical_accuracy: 0.9435\n",
      "\n",
      "Epoch 00174: val_sparse_categorical_accuracy did not improve from 0.96296\n",
      "Epoch 175/200\n",
      "43/43 [==============================] - 48s 1s/step - loss: 0.3014 - sparse_categorical_accuracy: 0.8819 - val_loss: 0.1989 - val_sparse_categorical_accuracy: 0.9190\n",
      "\n",
      "Epoch 00175: val_sparse_categorical_accuracy did not improve from 0.96296\n",
      "Epoch 176/200\n",
      "43/43 [==============================] - 49s 1s/step - loss: 0.2988 - sparse_categorical_accuracy: 0.8870 - val_loss: 0.1567 - val_sparse_categorical_accuracy: 0.9481\n",
      "\n",
      "Epoch 00176: val_sparse_categorical_accuracy did not improve from 0.96296\n",
      "Epoch 177/200\n",
      "43/43 [==============================] - 49s 1s/step - loss: 0.3483 - sparse_categorical_accuracy: 0.8578 - val_loss: 0.1384 - val_sparse_categorical_accuracy: 0.9532\n",
      "\n",
      "Epoch 00177: val_sparse_categorical_accuracy did not improve from 0.96296\n",
      "Epoch 178/200\n",
      "43/43 [==============================] - 47s 1s/step - loss: 0.3569 - sparse_categorical_accuracy: 0.8648 - val_loss: 0.1663 - val_sparse_categorical_accuracy: 0.9407\n",
      "\n",
      "Epoch 00178: val_sparse_categorical_accuracy did not improve from 0.96296\n",
      "Epoch 179/200\n",
      "43/43 [==============================] - 49s 1s/step - loss: 0.3171 - sparse_categorical_accuracy: 0.8800 - val_loss: 0.1359 - val_sparse_categorical_accuracy: 0.9560\n",
      "\n",
      "Epoch 00179: val_sparse_categorical_accuracy did not improve from 0.96296\n",
      "Epoch 180/200\n",
      "43/43 [==============================] - 48s 1s/step - loss: 0.3221 - sparse_categorical_accuracy: 0.8700 - val_loss: 0.1384 - val_sparse_categorical_accuracy: 0.9523\n",
      "\n",
      "Epoch 00180: val_sparse_categorical_accuracy did not improve from 0.96296\n",
      "Epoch 181/200\n",
      "43/43 [==============================] - 48s 1s/step - loss: 0.3111 - sparse_categorical_accuracy: 0.8752 - val_loss: 0.1164 - val_sparse_categorical_accuracy: 0.9639\n",
      "\n",
      "Epoch 00181: val_sparse_categorical_accuracy improved from 0.96296 to 0.96389, saving model to ./models/age_best_model.h5\n",
      "Epoch 182/200\n",
      "43/43 [==============================] - 51s 1s/step - loss: 0.3140 - sparse_categorical_accuracy: 0.8752 - val_loss: 0.1407 - val_sparse_categorical_accuracy: 0.9454\n",
      "\n",
      "Epoch 00182: val_sparse_categorical_accuracy did not improve from 0.96389\n",
      "Epoch 183/200\n",
      "43/43 [==============================] - 48s 1s/step - loss: 0.3083 - sparse_categorical_accuracy: 0.8774 - val_loss: 0.1442 - val_sparse_categorical_accuracy: 0.9486\n",
      "\n",
      "Epoch 00183: val_sparse_categorical_accuracy did not improve from 0.96389\n",
      "Epoch 184/200\n",
      "43/43 [==============================] - 51s 1s/step - loss: 0.2908 - sparse_categorical_accuracy: 0.8889 - val_loss: 0.1293 - val_sparse_categorical_accuracy: 0.9542\n",
      "\n",
      "Epoch 00184: val_sparse_categorical_accuracy did not improve from 0.96389\n",
      "Epoch 185/200\n",
      "43/43 [==============================] - 49s 1s/step - loss: 0.3128 - sparse_categorical_accuracy: 0.8715 - val_loss: 0.1145 - val_sparse_categorical_accuracy: 0.9653\n",
      "\n",
      "Epoch 00185: val_sparse_categorical_accuracy improved from 0.96389 to 0.96528, saving model to ./models/age_best_model.h5\n",
      "Epoch 186/200\n",
      "43/43 [==============================] - 48s 1s/step - loss: 0.3074 - sparse_categorical_accuracy: 0.8778 - val_loss: 0.1093 - val_sparse_categorical_accuracy: 0.9681\n",
      "\n",
      "Epoch 00186: val_sparse_categorical_accuracy improved from 0.96528 to 0.96806, saving model to ./models/age_best_model.h5\n",
      "Epoch 187/200\n",
      "43/43 [==============================] - 48s 1s/step - loss: 0.2921 - sparse_categorical_accuracy: 0.8830 - val_loss: 0.1766 - val_sparse_categorical_accuracy: 0.9375\n",
      "\n",
      "Epoch 00187: val_sparse_categorical_accuracy did not improve from 0.96806\n",
      "Epoch 188/200\n",
      "43/43 [==============================] - 48s 1s/step - loss: 0.2972 - sparse_categorical_accuracy: 0.8833 - val_loss: 0.1150 - val_sparse_categorical_accuracy: 0.9685\n",
      "\n",
      "Epoch 00188: val_sparse_categorical_accuracy improved from 0.96806 to 0.96852, saving model to ./models/age_best_model.h5\n",
      "Epoch 189/200\n",
      "43/43 [==============================] - 50s 1s/step - loss: 0.2658 - sparse_categorical_accuracy: 0.8974 - val_loss: 0.1055 - val_sparse_categorical_accuracy: 0.9653\n",
      "\n",
      "Epoch 00189: val_sparse_categorical_accuracy did not improve from 0.96852\n",
      "Epoch 190/200\n",
      "43/43 [==============================] - 46s 1s/step - loss: 0.3256 - sparse_categorical_accuracy: 0.8626 - val_loss: 0.1263 - val_sparse_categorical_accuracy: 0.9588\n",
      "\n",
      "Epoch 00190: val_sparse_categorical_accuracy did not improve from 0.96852\n",
      "Epoch 191/200\n",
      "43/43 [==============================] - 48s 1s/step - loss: 0.2995 - sparse_categorical_accuracy: 0.8804 - val_loss: 0.1184 - val_sparse_categorical_accuracy: 0.9597\n",
      "\n",
      "Epoch 00191: val_sparse_categorical_accuracy did not improve from 0.96852\n",
      "Epoch 192/200\n",
      "43/43 [==============================] - 47s 1s/step - loss: 0.3060 - sparse_categorical_accuracy: 0.8733 - val_loss: 0.1383 - val_sparse_categorical_accuracy: 0.9486\n",
      "\n",
      "Epoch 00192: val_sparse_categorical_accuracy did not improve from 0.96852\n",
      "Epoch 193/200\n",
      "43/43 [==============================] - 48s 1s/step - loss: 0.3370 - sparse_categorical_accuracy: 0.8659 - val_loss: 0.1169 - val_sparse_categorical_accuracy: 0.9616\n",
      "\n",
      "Epoch 00193: val_sparse_categorical_accuracy did not improve from 0.96852\n",
      "Epoch 194/200\n",
      "43/43 [==============================] - 51s 1s/step - loss: 0.3170 - sparse_categorical_accuracy: 0.8748 - val_loss: 0.1093 - val_sparse_categorical_accuracy: 0.9644\n",
      "\n",
      "Epoch 00194: val_sparse_categorical_accuracy did not improve from 0.96852\n",
      "Epoch 195/200\n",
      "43/43 [==============================] - 48s 1s/step - loss: 0.2836 - sparse_categorical_accuracy: 0.8900 - val_loss: 0.1000 - val_sparse_categorical_accuracy: 0.9662\n",
      "\n",
      "Epoch 00195: val_sparse_categorical_accuracy did not improve from 0.96852\n",
      "Epoch 196/200\n",
      "43/43 [==============================] - 49s 1s/step - loss: 0.2947 - sparse_categorical_accuracy: 0.8800 - val_loss: 0.1119 - val_sparse_categorical_accuracy: 0.9681\n",
      "\n",
      "Epoch 00196: val_sparse_categorical_accuracy did not improve from 0.96852\n",
      "Epoch 197/200\n",
      "43/43 [==============================] - 47s 1s/step - loss: 0.2801 - sparse_categorical_accuracy: 0.8885 - val_loss: 0.1455 - val_sparse_categorical_accuracy: 0.9481\n",
      "\n",
      "Epoch 00197: val_sparse_categorical_accuracy did not improve from 0.96852\n",
      "Epoch 198/200\n",
      "43/43 [==============================] - 47s 1s/step - loss: 0.3245 - sparse_categorical_accuracy: 0.8719 - val_loss: 0.1360 - val_sparse_categorical_accuracy: 0.9514\n",
      "\n",
      "Epoch 00198: val_sparse_categorical_accuracy did not improve from 0.96852\n",
      "Epoch 199/200\n",
      "43/43 [==============================] - 48s 1s/step - loss: 0.2727 - sparse_categorical_accuracy: 0.8896 - val_loss: 0.1341 - val_sparse_categorical_accuracy: 0.9560\n",
      "\n",
      "Epoch 00199: val_sparse_categorical_accuracy did not improve from 0.96852\n",
      "Epoch 200/200\n",
      "43/43 [==============================] - 48s 1s/step - loss: 0.2654 - sparse_categorical_accuracy: 0.9000 - val_loss: 0.1031 - val_sparse_categorical_accuracy: 0.9667\n",
      "\n",
      "Epoch 00200: val_sparse_categorical_accuracy did not improve from 0.96852\n"
     ]
    }
   ],
   "source": [
    "from keras import callbacks\n",
    "\n",
    "earlystopping = callbacks.EarlyStopping(monitor =\"val_loss\", \n",
    "                                        mode =\"min\", patience = 5, \n",
    "                                        restore_best_weights = True)\n",
    "\n",
    "history = model.fit(train_generator,\n",
    "                    epochs=NR_EPOCHS,\n",
    "                    validation_data=val_generator,\n",
    "                    callbacks = [tensorboard_callback, checkpoint]\n",
    "                    )\n"
   ]
  },
  {
   "cell_type": "markdown",
   "id": "87ba2d99",
   "metadata": {
    "papermill": {
     "duration": 1.865486,
     "end_time": "2022-10-15T20:49:13.402685",
     "exception": false,
     "start_time": "2022-10-15T20:49:11.537199",
     "status": "completed"
    },
    "tags": []
   },
   "source": [
    "### Plot Training and Validation Loss"
   ]
  },
  {
   "cell_type": "code",
   "execution_count": 21,
   "id": "c5a1785f",
   "metadata": {
    "execution": {
     "iopub.execute_input": "2022-10-15T20:49:17.010390Z",
     "iopub.status.busy": "2022-10-15T20:49:17.010015Z",
     "iopub.status.idle": "2022-10-15T20:49:17.016685Z",
     "shell.execute_reply": "2022-10-15T20:49:17.015788Z"
    },
    "papermill": {
     "duration": 1.928752,
     "end_time": "2022-10-15T20:49:17.018653",
     "exception": false,
     "start_time": "2022-10-15T20:49:15.089901",
     "status": "completed"
    },
    "tags": []
   },
   "outputs": [
    {
     "data": {
      "text/plain": [
       "dict_keys(['loss', 'sparse_categorical_accuracy', 'val_loss', 'val_sparse_categorical_accuracy'])"
      ]
     },
     "execution_count": 21,
     "metadata": {},
     "output_type": "execute_result"
    }
   ],
   "source": [
    "# print keys \n",
    "history.history.keys()"
   ]
  },
  {
   "cell_type": "code",
   "execution_count": 22,
   "id": "5e746588",
   "metadata": {
    "execution": {
     "iopub.execute_input": "2022-10-15T20:49:20.410412Z",
     "iopub.status.busy": "2022-10-15T20:49:20.410056Z",
     "iopub.status.idle": "2022-10-15T20:49:20.644787Z",
     "shell.execute_reply": "2022-10-15T20:49:20.643890Z"
    },
    "papermill": {
     "duration": 1.93332,
     "end_time": "2022-10-15T20:49:20.647285",
     "exception": false,
     "start_time": "2022-10-15T20:49:18.713965",
     "status": "completed"
    },
    "tags": []
   },
   "outputs": [
    {
     "data": {
      "image/png": "[encoded data removed]",
      "text/plain": [
       "<Figure size 432x288 with 1 Axes>"
      ]
     },
     "metadata": {
      "needs_background": "light"
     },
     "output_type": "display_data"
    }
   ],
   "source": [
    "loss_train = history.history['loss']\n",
    "loss_val = history.history['val_loss']\n",
    "epochs = range(NR_EPOCHS)\n",
    "plt.plot(epochs, loss_train, 'g', label='Training loss')\n",
    "plt.plot(epochs, loss_val, 'b', label='Validation loss')\n",
    "plt.title('Training and validation loss')\n",
    "plt.xlabel('Epochs')\n",
    "plt.ylabel('Loss')\n",
    "plt.legend()\n",
    "plt.show()"
   ]
  },
  {
   "cell_type": "code",
   "execution_count": 23,
   "id": "319a2409",
   "metadata": {
    "execution": {
     "iopub.execute_input": "2022-10-15T20:49:24.053289Z",
     "iopub.status.busy": "2022-10-15T20:49:24.052199Z",
     "iopub.status.idle": "2022-10-15T20:49:24.263717Z",
     "shell.execute_reply": "2022-10-15T20:49:24.262845Z"
    },
    "papermill": {
     "duration": 1.914588,
     "end_time": "2022-10-15T20:49:24.265691",
     "exception": false,
     "start_time": "2022-10-15T20:49:22.351103",
     "status": "completed"
    },
    "tags": []
   },
   "outputs": [
    {
     "data": {
      "image/png": "[encoded data removed]",
      "text/plain": [
       "<Figure size 432x288 with 1 Axes>"
      ]
     },
     "metadata": {
      "needs_background": "light"
     },
     "output_type": "display_data"
    }
   ],
   "source": [
    "accuracy_train = history.history['sparse_categorical_accuracy']\n",
    "accuracy_val = history.history['val_sparse_categorical_accuracy']\n",
    "epochs = range(NR_EPOCHS)\n",
    "plt.plot(epochs, accuracy_train, 'g', label='Training accuracy')\n",
    "plt.plot(epochs, accuracy_val, 'b', label='Validation accuracy')\n",
    "plt.title('Training and validation accuracy')\n",
    "plt.xlabel('Epochs')\n",
    "plt.ylabel('Accuracy')\n",
    "plt.legend()\n",
    "plt.show()"
   ]
  },
  {
   "cell_type": "markdown",
   "id": "fc253f2d",
   "metadata": {
    "papermill": {
     "duration": 1.906969,
     "end_time": "2022-10-15T20:49:27.971761",
     "exception": false,
     "start_time": "2022-10-15T20:49:26.064792",
     "status": "completed"
    },
    "tags": []
   },
   "source": [
    "### Load model and validate"
   ]
  },
  {
   "cell_type": "code",
   "execution_count": 24,
   "id": "7ed89467",
   "metadata": {
    "execution": {
     "iopub.execute_input": "2022-10-15T20:49:31.408044Z",
     "iopub.status.busy": "2022-10-15T20:49:31.407657Z",
     "iopub.status.idle": "2022-10-15T20:49:40.279761Z",
     "shell.execute_reply": "2022-10-15T20:49:40.278426Z"
    },
    "papermill": {
     "duration": 10.603671,
     "end_time": "2022-10-15T20:49:40.281778",
     "exception": false,
     "start_time": "2022-10-15T20:49:29.678107",
     "status": "completed"
    },
    "tags": []
   },
   "outputs": [
    {
     "name": "stdout",
     "output_type": "stream",
     "text": [
      "9/9 [==============================] - 5s 523ms/step - loss: 0.1183 - sparse_categorical_accuracy: 0.9574\n",
      "0.1183130070567131 0.9574074149131775\n"
     ]
    }
   ],
   "source": [
    "model_age = load_model(\"./models/age_best_model.h5\")\n",
    "loss, acc = model_age.evaluate(test_generator)\n",
    "print (loss, acc)"
   ]
  },
  {
   "cell_type": "markdown",
   "id": "a3b5e2a8",
   "metadata": {
    "papermill": {
     "duration": 2.188772,
     "end_time": "2022-10-15T20:49:44.166482",
     "exception": false,
     "start_time": "2022-10-15T20:49:41.977710",
     "status": "completed"
    },
    "tags": []
   },
   "source": [
    "### Show sample results"
   ]
  },
  {
   "cell_type": "code",
   "execution_count": 25,
   "id": "eb1f9182",
   "metadata": {
    "execution": {
     "iopub.execute_input": "2022-10-15T20:49:47.607718Z",
     "iopub.status.busy": "2022-10-15T20:49:47.607044Z",
     "iopub.status.idle": "2022-10-15T20:49:53.950654Z",
     "shell.execute_reply": "2022-10-15T20:49:53.949821Z"
    },
    "papermill": {
     "duration": 8.064075,
     "end_time": "2022-10-15T20:49:53.955405",
     "exception": false,
     "start_time": "2022-10-15T20:49:45.891330",
     "status": "completed"
    },
    "tags": []
   },
   "outputs": [
    {
     "data": {
      "image/png": "[encoded data removed]",
      "text/plain": [
       "<Figure size 720x720 with 16 Axes>"
      ]
     },
     "metadata": {
      "needs_background": "light"
     },
     "output_type": "display_data"
    }
   ],
   "source": [
    "def show_faces(images, age=None, pred_age=None):\n",
    "    plt.figure(figsize=(10,10))\n",
    "    labels = {\"Age\": [pred_age, age]}\n",
    "    for i in range(16):\n",
    "        plt.subplot(4,4, i+1)\n",
    "        plt.axis('off')\n",
    "        #plt.xticks([])\n",
    "        #plt.yticks([])\n",
    "        #plt.grid(False)\n",
    "        plt.imshow(images[i])\n",
    "        \n",
    "        if pred_age[i] is None:\n",
    "            continue\n",
    "           \n",
    "            \n",
    "        real_age = int(age[i])\n",
    "        predicted_age = np.argmax(predicted[i])\n",
    "                \n",
    "                \n",
    "        plt.title(f\"Age Class: {age_dict[real_age]}\\n Predicted Age Class: {age_dict[predicted_age]}\", fontsize=8)\n",
    "            \n",
    "        plt.subplots_adjust(wspace=0.3)\n",
    "\n",
    "sample_validation_images, sample_validation_labels = next(test_generator)\n",
    "predicted = model_age.predict(sample_validation_images)\n",
    "show_faces(sample_validation_images, age=sample_validation_labels, pred_age=predicted)"
   ]
  },
  {
   "cell_type": "markdown",
   "id": "1bf96250",
   "metadata": {
    "papermill": {
     "duration": 1.614678,
     "end_time": "2022-10-15T20:49:57.284528",
     "exception": false,
     "start_time": "2022-10-15T20:49:55.669850",
     "status": "completed"
    },
    "tags": []
   },
   "source": [
    "## Direct Age Estimation"
   ]
  },
  {
   "cell_type": "code",
   "execution_count": 26,
   "id": "a9887938",
   "metadata": {
    "execution": {
     "iopub.execute_input": "2022-10-15T20:50:00.938904Z",
     "iopub.status.busy": "2022-10-15T20:50:00.938540Z",
     "iopub.status.idle": "2022-10-15T20:50:00.943000Z",
     "shell.execute_reply": "2022-10-15T20:50:00.942054Z"
    },
    "papermill": {
     "duration": 1.976942,
     "end_time": "2022-10-15T20:50:00.945348",
     "exception": false,
     "start_time": "2022-10-15T20:49:58.968406",
     "status": "completed"
    },
    "tags": []
   },
   "outputs": [],
   "source": [
    "NR_EPOCHS = 60"
   ]
  },
  {
   "cell_type": "code",
   "execution_count": 27,
   "id": "65d217ce",
   "metadata": {
    "execution": {
     "iopub.execute_input": "2022-10-15T20:50:04.359567Z",
     "iopub.status.busy": "2022-10-15T20:50:04.359169Z",
     "iopub.status.idle": "2022-10-15T20:50:04.365759Z",
     "shell.execute_reply": "2022-10-15T20:50:04.364646Z"
    },
    "papermill": {
     "duration": 1.726327,
     "end_time": "2022-10-15T20:50:04.368072",
     "exception": false,
     "start_time": "2022-10-15T20:50:02.641745",
     "status": "completed"
    },
    "tags": []
   },
   "outputs": [],
   "source": [
    "# reads image_path and returns decoded img \n",
    "def process_path(file_path, label):\n",
    "    #read file path\n",
    "    img = tf.io.read_file(file_path)\n",
    "    img = tf.image.decode_jpeg(img, channels=3)\n",
    "    #convert the values from 0-1\n",
    "    img = tf.image.convert_image_dtype(img, tf.float32)\n",
    "    # preprocess image for VGG16\n",
    "    img = preprocess_input(img)\n",
    "    img = tf.image.resize(img, IMAGE_SIZE)\n",
    "    return img, label"
   ]
  },
  {
   "cell_type": "code",
   "execution_count": 28,
   "id": "313521db",
   "metadata": {
    "execution": {
     "iopub.execute_input": "2022-10-15T20:50:07.898882Z",
     "iopub.status.busy": "2022-10-15T20:50:07.898510Z",
     "iopub.status.idle": "2022-10-15T20:50:07.903060Z",
     "shell.execute_reply": "2022-10-15T20:50:07.902043Z"
    },
    "papermill": {
     "duration": 1.741458,
     "end_time": "2022-10-15T20:50:07.905099",
     "exception": false,
     "start_time": "2022-10-15T20:50:06.163641",
     "status": "completed"
    },
    "tags": []
   },
   "outputs": [],
   "source": [
    "BASE = \"./ds/output/\""
   ]
  },
  {
   "cell_type": "code",
   "execution_count": 29,
   "id": "7f3fcddb",
   "metadata": {
    "execution": {
     "iopub.execute_input": "2022-10-15T20:50:11.471843Z",
     "iopub.status.busy": "2022-10-15T20:50:11.471489Z",
     "iopub.status.idle": "2022-10-15T20:50:11.719413Z",
     "shell.execute_reply": "2022-10-15T20:50:11.718507Z"
    },
    "papermill": {
     "duration": 2.139985,
     "end_time": "2022-10-15T20:50:11.721463",
     "exception": false,
     "start_time": "2022-10-15T20:50:09.581478",
     "status": "completed"
    },
    "tags": []
   },
   "outputs": [
    {
     "name": "stdout",
     "output_type": "stream",
     "text": [
      "21000\n"
     ]
    },
    {
     "data": {
      "application/vnd.jupyter.widget-view+json": {
       "model_id": "49d45c003eca4a9d918c996c8380eb36",
       "version_major": 2,
       "version_minor": 0
      },
      "text/plain": [
       "  0%|          | 0/21000 [00:00<?, ?it/s]"
      ]
     },
     "metadata": {},
     "output_type": "display_data"
    },
    {
     "name": "stdout",
     "output_type": "stream",
     "text": [
      "Counter({'0-20': 4303, '40-60': 4282, '60-80': 4199, '80+': 4154, '20-40': 4062})\n"
     ]
    }
   ],
   "source": [
    "# read labels of image age, gender\n",
    "image_paths = []\n",
    "age_labels = []\n",
    "gender_labels =[]\n",
    "age_class = []\n",
    "print(len(os.listdir(BASE)))\n",
    "for filename in tqdm(os.listdir(BASE)):\n",
    "  image_path = os.path.join(BASE, filename)\n",
    "  #split filename to get labels\n",
    "  temp= filename.split('_')\n",
    "  #print(temp)\n",
    "  age = int(temp[2])\n",
    "  gender = int(temp[3])\n",
    "  image_paths.append(image_path)\n",
    "  age_labels.append(age)\n",
    "  gender_labels.append(gender)\n",
    "  age_class.append(age_to_class(age))\n",
    "\n",
    "names = []\n",
    "for path in image_paths:\n",
    "  temp = path.split('/')\n",
    "  #print(temp[3])\n",
    "  names.append(temp[3])\n",
    "\n",
    "#convert to dataframe\n",
    "aug_df = pd.DataFrame()\n",
    "aug_df['image'], aug_df['age'], aug_df['gender'], aug_df['age_class'], aug_df['name'] = image_paths, age_labels, gender_labels, age_class, names\n",
    "aug_df.head()\n",
    "aug_df\n",
    "\n",
    "age_verbose = [age_dict[int(age)] for age in aug_df['age_class']]\n",
    "\n",
    "print(Counter(age_verbose))\n",
    "\n"
   ]
  },
  {
   "cell_type": "markdown",
   "id": "db6d9396",
   "metadata": {
    "papermill": {
     "duration": 2.121759,
     "end_time": "2022-10-15T20:50:15.537087",
     "exception": false,
     "start_time": "2022-10-15T20:50:13.415328",
     "status": "completed"
    },
    "tags": []
   },
   "source": [
    "### Split Dataset in Train, Validation and Test Dataset"
   ]
  },
  {
   "cell_type": "code",
   "execution_count": 30,
   "id": "f3d7d898",
   "metadata": {
    "execution": {
     "iopub.execute_input": "2022-10-15T20:50:18.935726Z",
     "iopub.status.busy": "2022-10-15T20:50:18.935359Z",
     "iopub.status.idle": "2022-10-15T20:50:18.943354Z",
     "shell.execute_reply": "2022-10-15T20:50:18.942500Z"
    },
    "papermill": {
     "duration": 1.700877,
     "end_time": "2022-10-15T20:50:18.945331",
     "exception": false,
     "start_time": "2022-10-15T20:50:17.244454",
     "status": "completed"
    },
    "tags": []
   },
   "outputs": [],
   "source": [
    "training_data = aug_df\n",
    "val_data = df.sample(frac=0.8, random_state=25)\n",
    "testing_data = df.drop(val_data.index)"
   ]
  },
  {
   "cell_type": "code",
   "execution_count": 31,
   "id": "e95b6ae7",
   "metadata": {
    "execution": {
     "iopub.execute_input": "2022-10-15T20:50:22.549009Z",
     "iopub.status.busy": "2022-10-15T20:50:22.548510Z",
     "iopub.status.idle": "2022-10-15T20:50:22.559867Z",
     "shell.execute_reply": "2022-10-15T20:50:22.559022Z"
    },
    "papermill": {
     "duration": 1.834114,
     "end_time": "2022-10-15T20:50:22.562347",
     "exception": false,
     "start_time": "2022-10-15T20:50:20.728233",
     "status": "completed"
    },
    "tags": []
   },
   "outputs": [],
   "source": [
    "labels_train =  tf.keras.utils.to_categorical(training_data['age'], num_classes=117)\n",
    "labels_val =  tf.keras.utils.to_categorical(val_data['age'], num_classes=117)\n",
    "labels_test =  tf.keras.utils.to_categorical(testing_data['age'], num_classes=117) "
   ]
  },
  {
   "cell_type": "code",
   "execution_count": 32,
   "id": "e024693b",
   "metadata": {
    "execution": {
     "iopub.execute_input": "2022-10-15T20:50:25.970948Z",
     "iopub.status.busy": "2022-10-15T20:50:25.970598Z",
     "iopub.status.idle": "2022-10-15T20:50:26.087644Z",
     "shell.execute_reply": "2022-10-15T20:50:26.086718Z"
    },
    "papermill": {
     "duration": 1.810549,
     "end_time": "2022-10-15T20:50:26.089800",
     "exception": false,
     "start_time": "2022-10-15T20:50:24.279251",
     "status": "completed"
    },
    "tags": []
   },
   "outputs": [],
   "source": [
    "train_dataset = tf.data.Dataset.from_tensor_slices((training_data['image'],labels_train))\n",
    "train_dataset = train_dataset.shuffle(len(training_data))\n",
    "train_dataset = train_dataset.map(process_path, num_parallel_calls=4)\n",
    "train_dataset = train_dataset.batch(64)\n",
    "\n",
    "\n",
    "val_dataset = tf.data.Dataset.from_tensor_slices((val_data['image'],labels_val))\n",
    "val_dataset = val_dataset.shuffle(len(val_data))\n",
    "val_dataset = val_dataset.map(process_path, num_parallel_calls=4)\n",
    "val_dataset = val_dataset.batch(64)\n",
    "\n",
    "test_dataset = tf.data.Dataset.from_tensor_slices((testing_data['image'],labels_test))\n",
    "test_dataset = test_dataset.shuffle(len(testing_data))\n",
    "test_dataset = test_dataset.map(process_path, num_parallel_calls=4)\n",
    "test_dataset = test_dataset.batch(64)"
   ]
  },
  {
   "cell_type": "markdown",
   "id": "aac2b338",
   "metadata": {
    "papermill": {
     "duration": 1.702117,
     "end_time": "2022-10-15T20:50:29.500574",
     "exception": false,
     "start_time": "2022-10-15T20:50:27.798457",
     "status": "completed"
    },
    "tags": []
   },
   "source": [
    "### Load and build model"
   ]
  },
  {
   "cell_type": "code",
   "execution_count": 33,
   "id": "8b183b99",
   "metadata": {
    "execution": {
     "iopub.execute_input": "2022-10-15T20:50:32.911642Z",
     "iopub.status.busy": "2022-10-15T20:50:32.911285Z",
     "iopub.status.idle": "2022-10-15T20:50:33.394071Z",
     "shell.execute_reply": "2022-10-15T20:50:33.391856Z"
    },
    "papermill": {
     "duration": 2.197724,
     "end_time": "2022-10-15T20:50:33.396943",
     "exception": false,
     "start_time": "2022-10-15T20:50:31.199219",
     "status": "completed"
    },
    "tags": []
   },
   "outputs": [],
   "source": [
    "model2 = VGG16(input_shape=IMAGE_SIZE + [3],weights='imagenet', include_top=False)\n",
    "\n",
    "for layer in model2.layers:\n",
    "    layer.trainable=False"
   ]
  },
  {
   "cell_type": "code",
   "execution_count": 34,
   "id": "de7c1142",
   "metadata": {
    "execution": {
     "iopub.execute_input": "2022-10-15T20:50:36.796455Z",
     "iopub.status.busy": "2022-10-15T20:50:36.796094Z",
     "iopub.status.idle": "2022-10-15T20:50:36.829726Z",
     "shell.execute_reply": "2022-10-15T20:50:36.828278Z"
    },
    "papermill": {
     "duration": 1.64822,
     "end_time": "2022-10-15T20:50:36.831830",
     "exception": false,
     "start_time": "2022-10-15T20:50:35.183610",
     "status": "completed"
    },
    "tags": []
   },
   "outputs": [
    {
     "name": "stdout",
     "output_type": "stream",
     "text": [
      "Model: \"model_1\"\n",
      "_________________________________________________________________\n",
      "Layer (type)                 Output Shape              Param #   \n",
      "=================================================================\n",
      "input_2 (InputLayer)         [(None, 224, 224, 3)]     0         \n",
      "_________________________________________________________________\n",
      "block1_conv1 (Conv2D)        (None, 224, 224, 64)      1792      \n",
      "_________________________________________________________________\n",
      "block1_conv2 (Conv2D)        (None, 224, 224, 64)      36928     \n",
      "_________________________________________________________________\n",
      "block1_pool (MaxPooling2D)   (None, 112, 112, 64)      0         \n",
      "_________________________________________________________________\n",
      "block2_conv1 (Conv2D)        (None, 112, 112, 128)     73856     \n",
      "_________________________________________________________________\n",
      "block2_conv2 (Conv2D)        (None, 112, 112, 128)     147584    \n",
      "_________________________________________________________________\n",
      "block2_pool (MaxPooling2D)   (None, 56, 56, 128)       0         \n",
      "_________________________________________________________________\n",
      "block3_conv1 (Conv2D)        (None, 56, 56, 256)       295168    \n",
      "_________________________________________________________________\n",
      "block3_conv2 (Conv2D)        (None, 56, 56, 256)       590080    \n",
      "_________________________________________________________________\n",
      "block3_conv3 (Conv2D)        (None, 56, 56, 256)       590080    \n",
      "_________________________________________________________________\n",
      "block3_pool (MaxPooling2D)   (None, 28, 28, 256)       0         \n",
      "_________________________________________________________________\n",
      "block4_conv1 (Conv2D)        (None, 28, 28, 512)       1180160   \n",
      "_________________________________________________________________\n",
      "block4_conv2 (Conv2D)        (None, 28, 28, 512)       2359808   \n",
      "_________________________________________________________________\n",
      "block4_conv3 (Conv2D)        (None, 28, 28, 512)       2359808   \n",
      "_________________________________________________________________\n",
      "block4_pool (MaxPooling2D)   (None, 14, 14, 512)       0         \n",
      "_________________________________________________________________\n",
      "block5_conv1 (Conv2D)        (None, 14, 14, 512)       2359808   \n",
      "_________________________________________________________________\n",
      "block5_conv2 (Conv2D)        (None, 14, 14, 512)       2359808   \n",
      "_________________________________________________________________\n",
      "block5_conv3 (Conv2D)        (None, 14, 14, 512)       2359808   \n",
      "_________________________________________________________________\n",
      "block5_pool (MaxPooling2D)   (None, 7, 7, 512)         0         \n",
      "_________________________________________________________________\n",
      "flatten_1 (Flatten)          (None, 25088)             0         \n",
      "_________________________________________________________________\n",
      "dense_3 (Dense)              (None, 4096)              102764544 \n",
      "_________________________________________________________________\n",
      "dense_4 (Dense)              (None, 4096)              16781312  \n",
      "_________________________________________________________________\n",
      "dense_5 (Dense)              (None, 117)               479349    \n",
      "=================================================================\n",
      "Total params: 134,739,893\n",
      "Trainable params: 120,025,205\n",
      "Non-trainable params: 14,714,688\n",
      "_________________________________________________________________\n"
     ]
    }
   ],
   "source": [
    "x2 = Flatten()(model2.output)\n",
    "x2 = Dense(4096, activation='relu')(x2)\n",
    "x2 = Dense(4096, activation='relu')(x2)\n",
    "prediction2 = Dense(117, activation='softmax')(x2)\n",
    "model_direct = Model(inputs=model2.input, outputs=prediction2)\n",
    "model_direct.summary()"
   ]
  },
  {
   "cell_type": "code",
   "execution_count": 35,
   "id": "a67594cc",
   "metadata": {
    "execution": {
     "iopub.execute_input": "2022-10-15T20:50:40.346197Z",
     "iopub.status.busy": "2022-10-15T20:50:40.345759Z",
     "iopub.status.idle": "2022-10-15T20:50:40.368865Z",
     "shell.execute_reply": "2022-10-15T20:50:40.368232Z"
    },
    "papermill": {
     "duration": 1.715466,
     "end_time": "2022-10-15T20:50:40.370720",
     "exception": false,
     "start_time": "2022-10-15T20:50:38.655254",
     "status": "completed"
    },
    "tags": []
   },
   "outputs": [],
   "source": [
    "model_direct.compile(optimizer=tf.keras.optimizers.Adam(learning_rate=0.001),\n",
    "              loss=tf.keras.losses.CategoricalCrossentropy(),\n",
    "              metrics=['accuracy'])"
   ]
  },
  {
   "cell_type": "code",
   "execution_count": 36,
   "id": "34f13f6b",
   "metadata": {
    "execution": {
     "iopub.execute_input": "2022-10-15T20:50:43.795650Z",
     "iopub.status.busy": "2022-10-15T20:50:43.795300Z",
     "iopub.status.idle": "2022-10-15T20:50:44.155761Z",
     "shell.execute_reply": "2022-10-15T20:50:44.152939Z"
    },
    "papermill": {
     "duration": 2.088607,
     "end_time": "2022-10-15T20:50:44.158051",
     "exception": false,
     "start_time": "2022-10-15T20:50:42.069444",
     "status": "completed"
    },
    "tags": []
   },
   "outputs": [
    {
     "name": "stderr",
     "output_type": "stream",
     "text": [
      "2022-10-15 20:50:43.798366: I tensorflow/core/profiler/lib/profiler_session.cc:131] Profiler session initializing.\n",
      "2022-10-15 20:50:43.798428: I tensorflow/core/profiler/lib/profiler_session.cc:146] Profiler session started.\n",
      "2022-10-15 20:50:43.995727: I tensorflow/core/profiler/lib/profiler_session.cc:164] Profiler session tear down.\n",
      "2022-10-15 20:50:43.995917: I tensorflow/core/profiler/internal/gpu/cupti_tracer.cc:1748] CUPTI activity buffer flushed\n"
     ]
    },
    {
     "data": {
      "text/plain": [
       "'../tblogs/direct_age_model_aug22-10-15_20-50'"
      ]
     },
     "execution_count": 36,
     "metadata": {},
     "output_type": "execute_result"
    }
   ],
   "source": [
    "\n",
    "DIRECT_PATH = \"./models/direct_age_aug_best_model.h5\"\n",
    "\n",
    "\n",
    "checkpoint = tf.keras.callbacks.ModelCheckpoint(DIRECT_PATH, \n",
    "                                                monitor='val_accuracy', \n",
    "                                                verbose=1, \n",
    "                                                save_best_only=True, \n",
    "                                                mode='max')\n",
    "\n",
    "import datetime\n",
    "log_dir = '../tblogs/direct_age_model_aug' + datetime.datetime.now().strftime('%y-%m-%d_%H-%M')\n",
    "tensorboard_callback = tf.keras.callbacks.TensorBoard(log_dir=log_dir, histogram_freq=0)\n",
    "\n",
    "log_dir"
   ]
  },
  {
   "cell_type": "code",
   "execution_count": 37,
   "id": "b9ffce90",
   "metadata": {
    "execution": {
     "iopub.execute_input": "2022-10-15T20:50:48.210585Z",
     "iopub.status.busy": "2022-10-15T20:50:48.210226Z",
     "iopub.status.idle": "2022-10-15T22:04:24.348519Z",
     "shell.execute_reply": "2022-10-15T22:04:24.347507Z"
    },
    "papermill": {
     "duration": 4418.267773,
     "end_time": "2022-10-15T22:04:24.351058",
     "exception": false,
     "start_time": "2022-10-15T20:50:46.083285",
     "status": "completed"
    },
    "tags": []
   },
   "outputs": [
    {
     "name": "stdout",
     "output_type": "stream",
     "text": [
      "Epoch 1/60\n",
      "  1/329 [..............................] - ETA: 5:02 - loss: 6.5155 - accuracy: 0.0000e+00"
     ]
    },
    {
     "name": "stderr",
     "output_type": "stream",
     "text": [
      "2022-10-15 20:50:49.225116: I tensorflow/core/profiler/lib/profiler_session.cc:131] Profiler session initializing.\n",
      "2022-10-15 20:50:49.225161: I tensorflow/core/profiler/lib/profiler_session.cc:146] Profiler session started.\n"
     ]
    },
    {
     "name": "stdout",
     "output_type": "stream",
     "text": [
      "  2/329 [..............................] - ETA: 1:55 - loss: 18.2290 - accuracy: 0.0156   "
     ]
    },
    {
     "name": "stderr",
     "output_type": "stream",
     "text": [
      "2022-10-15 20:50:49.667162: I tensorflow/core/profiler/lib/profiler_session.cc:66] Profiler session collecting data.\n",
      "2022-10-15 20:50:49.668004: I tensorflow/core/profiler/internal/gpu/cupti_tracer.cc:1748] CUPTI activity buffer flushed\n",
      "2022-10-15 20:50:49.800586: I tensorflow/core/profiler/internal/gpu/cupti_collector.cc:673]  GpuTracer has collected 144 callback api events and 141 activity events. \n",
      "2022-10-15 20:50:49.806419: I tensorflow/core/profiler/lib/profiler_session.cc:164] Profiler session tear down.\n",
      "2022-10-15 20:50:49.818695: I tensorflow/core/profiler/rpc/client/save_profile.cc:136] Creating directory: ../tblogs/direct_age_model_aug22-10-15_20-50/train/plugins/profile/2022_10_15_20_50_49\n",
      "\n",
      "2022-10-15 20:50:49.827334: I tensorflow/core/profiler/rpc/client/save_profile.cc:142] Dumped gzipped tool data for trace.json.gz to ../tblogs/direct_age_model_aug22-10-15_20-50/train/plugins/profile/2022_10_15_20_50_49/f4842c2a4057.trace.json.gz\n",
      "2022-10-15 20:50:49.836134: I tensorflow/core/profiler/rpc/client/save_profile.cc:136] Creating directory: ../tblogs/direct_age_model_aug22-10-15_20-50/train/plugins/profile/2022_10_15_20_50_49\n",
      "\n",
      "2022-10-15 20:50:49.837786: I tensorflow/core/profiler/rpc/client/save_profile.cc:142] Dumped gzipped tool data for memory_profile.json.gz to ../tblogs/direct_age_model_aug22-10-15_20-50/train/plugins/profile/2022_10_15_20_50_49/f4842c2a4057.memory_profile.json.gz\n",
      "2022-10-15 20:50:49.838526: I tensorflow/core/profiler/rpc/client/capture_profile.cc:251] Creating directory: ../tblogs/direct_age_model_aug22-10-15_20-50/train/plugins/profile/2022_10_15_20_50_49\n",
      "Dumped tool data for xplane.pb to ../tblogs/direct_age_model_aug22-10-15_20-50/train/plugins/profile/2022_10_15_20_50_49/f4842c2a4057.xplane.pb\n",
      "Dumped tool data for overview_page.pb to ../tblogs/direct_age_model_aug22-10-15_20-50/train/plugins/profile/2022_10_15_20_50_49/f4842c2a4057.overview_page.pb\n",
      "Dumped tool data for input_pipeline.pb to ../tblogs/direct_age_model_aug22-10-15_20-50/train/plugins/profile/2022_10_15_20_50_49/f4842c2a4057.input_pipeline.pb\n",
      "Dumped tool data for tensorflow_stats.pb to ../tblogs/direct_age_model_aug22-10-15_20-50/train/plugins/profile/2022_10_15_20_50_49/f4842c2a4057.tensorflow_stats.pb\n",
      "Dumped tool data for kernel_stats.pb to ../tblogs/direct_age_model_aug22-10-15_20-50/train/plugins/profile/2022_10_15_20_50_49/f4842c2a4057.kernel_stats.pb\n",
      "\n"
     ]
    },
    {
     "name": "stdout",
     "output_type": "stream",
     "text": [
      "329/329 [==============================] - 59s 176ms/step - loss: 4.9912 - accuracy: 0.0530 - val_loss: 4.3937 - val_accuracy: 0.0616\n",
      "\n",
      "Epoch 00001: val_accuracy improved from -inf to 0.06157, saving model to ./models/direct_age_aug_best_model.h5\n",
      "Epoch 2/60\n",
      "329/329 [==============================] - 54s 163ms/step - loss: 4.3757 - accuracy: 0.0568 - val_loss: 4.3677 - val_accuracy: 0.0616\n",
      "\n",
      "Epoch 00002: val_accuracy did not improve from 0.06157\n",
      "Epoch 3/60\n",
      "329/329 [==============================] - 54s 164ms/step - loss: 4.3697 - accuracy: 0.0568 - val_loss: 4.3636 - val_accuracy: 0.0616\n",
      "\n",
      "Epoch 00003: val_accuracy did not improve from 0.06157\n",
      "Epoch 4/60\n",
      "329/329 [==============================] - 54s 163ms/step - loss: 4.3646 - accuracy: 0.0568 - val_loss: 4.3603 - val_accuracy: 0.0616\n",
      "\n",
      "Epoch 00004: val_accuracy did not improve from 0.06157\n",
      "Epoch 5/60\n",
      "329/329 [==============================] - 54s 164ms/step - loss: 4.3637 - accuracy: 0.0568 - val_loss: 4.3613 - val_accuracy: 0.0616\n",
      "\n",
      "Epoch 00005: val_accuracy did not improve from 0.06157\n",
      "Epoch 6/60\n",
      "329/329 [==============================] - 53s 160ms/step - loss: 4.3629 - accuracy: 0.0568 - val_loss: 4.3597 - val_accuracy: 0.0616\n",
      "\n",
      "Epoch 00006: val_accuracy did not improve from 0.06157\n",
      "Epoch 7/60\n",
      "329/329 [==============================] - 53s 162ms/step - loss: 4.3630 - accuracy: 0.0568 - val_loss: 4.3586 - val_accuracy: 0.0616\n",
      "\n",
      "Epoch 00007: val_accuracy did not improve from 0.06157\n",
      "Epoch 8/60\n",
      "329/329 [==============================] - 53s 162ms/step - loss: 4.3624 - accuracy: 0.0568 - val_loss: 4.3587 - val_accuracy: 0.0616\n",
      "\n",
      "Epoch 00008: val_accuracy did not improve from 0.06157\n",
      "Epoch 9/60\n",
      "329/329 [==============================] - 54s 164ms/step - loss: 4.3628 - accuracy: 0.0568 - val_loss: 4.3592 - val_accuracy: 0.0616\n",
      "\n",
      "Epoch 00009: val_accuracy did not improve from 0.06157\n",
      "Epoch 10/60\n",
      "329/329 [==============================] - 55s 165ms/step - loss: 4.3620 - accuracy: 0.0568 - val_loss: 4.3580 - val_accuracy: 0.0616\n",
      "\n",
      "Epoch 00010: val_accuracy did not improve from 0.06157\n",
      "Epoch 11/60\n",
      "329/329 [==============================] - 54s 165ms/step - loss: 4.3613 - accuracy: 0.0568 - val_loss: 4.3589 - val_accuracy: 0.0616\n",
      "\n",
      "Epoch 00011: val_accuracy did not improve from 0.06157\n",
      "Epoch 12/60\n",
      "329/329 [==============================] - 53s 159ms/step - loss: 4.3617 - accuracy: 0.0568 - val_loss: 4.3595 - val_accuracy: 0.0616\n",
      "\n",
      "Epoch 00012: val_accuracy did not improve from 0.06157\n",
      "Epoch 13/60\n",
      "329/329 [==============================] - 55s 166ms/step - loss: 4.3613 - accuracy: 0.0568 - val_loss: 4.3601 - val_accuracy: 0.0616\n",
      "\n",
      "Epoch 00013: val_accuracy did not improve from 0.06157\n",
      "Epoch 14/60\n",
      "329/329 [==============================] - 55s 166ms/step - loss: 4.3613 - accuracy: 0.0568 - val_loss: 4.3585 - val_accuracy: 0.0616\n",
      "\n",
      "Epoch 00014: val_accuracy did not improve from 0.06157\n",
      "Epoch 15/60\n",
      "329/329 [==============================] - 52s 158ms/step - loss: 4.3616 - accuracy: 0.0568 - val_loss: 4.3595 - val_accuracy: 0.0616\n",
      "\n",
      "Epoch 00015: val_accuracy did not improve from 0.06157\n",
      "Epoch 16/60\n",
      "329/329 [==============================] - 55s 166ms/step - loss: 4.3615 - accuracy: 0.0568 - val_loss: 4.3580 - val_accuracy: 0.0616\n",
      "\n",
      "Epoch 00016: val_accuracy did not improve from 0.06157\n",
      "Epoch 17/60\n",
      "329/329 [==============================] - 54s 164ms/step - loss: 4.3608 - accuracy: 0.0568 - val_loss: 4.3589 - val_accuracy: 0.0616\n",
      "\n",
      "Epoch 00017: val_accuracy did not improve from 0.06157\n",
      "Epoch 18/60\n",
      "329/329 [==============================] - 53s 160ms/step - loss: 4.3604 - accuracy: 0.0568 - val_loss: 4.3583 - val_accuracy: 0.0616\n",
      "\n",
      "Epoch 00018: val_accuracy did not improve from 0.06157\n",
      "Epoch 19/60\n",
      "329/329 [==============================] - 55s 166ms/step - loss: 4.3610 - accuracy: 0.0568 - val_loss: 4.3579 - val_accuracy: 0.0616\n",
      "\n",
      "Epoch 00019: val_accuracy did not improve from 0.06157\n",
      "Epoch 20/60\n",
      "329/329 [==============================] - 54s 164ms/step - loss: 4.3604 - accuracy: 0.0568 - val_loss: 4.3577 - val_accuracy: 0.0616\n",
      "\n",
      "Epoch 00020: val_accuracy did not improve from 0.06157\n",
      "Epoch 21/60\n",
      "329/329 [==============================] - 55s 167ms/step - loss: 4.3600 - accuracy: 0.0568 - val_loss: 4.3580 - val_accuracy: 0.0616\n",
      "\n",
      "Epoch 00021: val_accuracy did not improve from 0.06157\n",
      "Epoch 22/60\n",
      "329/329 [==============================] - 53s 162ms/step - loss: 4.3601 - accuracy: 0.0568 - val_loss: 4.3582 - val_accuracy: 0.0616\n",
      "\n",
      "Epoch 00022: val_accuracy did not improve from 0.06157\n",
      "Epoch 23/60\n",
      "329/329 [==============================] - 55s 166ms/step - loss: 4.3602 - accuracy: 0.0568 - val_loss: 4.3575 - val_accuracy: 0.0616\n",
      "\n",
      "Epoch 00023: val_accuracy did not improve from 0.06157\n",
      "Epoch 24/60\n",
      "329/329 [==============================] - 55s 167ms/step - loss: 4.3597 - accuracy: 0.0568 - val_loss: 4.3573 - val_accuracy: 0.0616\n",
      "\n",
      "Epoch 00024: val_accuracy did not improve from 0.06157\n",
      "Epoch 25/60\n",
      "329/329 [==============================] - 55s 166ms/step - loss: 4.3594 - accuracy: 0.0568 - val_loss: 4.3572 - val_accuracy: 0.0616\n",
      "\n",
      "Epoch 00025: val_accuracy did not improve from 0.06157\n",
      "Epoch 26/60\n",
      "329/329 [==============================] - 55s 166ms/step - loss: 4.3597 - accuracy: 0.0568 - val_loss: 4.3574 - val_accuracy: 0.0616\n",
      "\n",
      "Epoch 00026: val_accuracy did not improve from 0.06157\n",
      "Epoch 27/60\n",
      "329/329 [==============================] - 55s 166ms/step - loss: 4.3591 - accuracy: 0.0568 - val_loss: 4.3573 - val_accuracy: 0.0616\n",
      "\n",
      "Epoch 00027: val_accuracy did not improve from 0.06157\n",
      "Epoch 28/60\n",
      "329/329 [==============================] - 54s 165ms/step - loss: 4.3594 - accuracy: 0.0568 - val_loss: 4.3569 - val_accuracy: 0.0616\n",
      "\n",
      "Epoch 00028: val_accuracy did not improve from 0.06157\n",
      "Epoch 29/60\n",
      "329/329 [==============================] - 55s 167ms/step - loss: 4.3592 - accuracy: 0.0568 - val_loss: 4.3584 - val_accuracy: 0.0616\n",
      "\n",
      "Epoch 00029: val_accuracy did not improve from 0.06157\n",
      "Epoch 30/60\n",
      "329/329 [==============================] - 55s 167ms/step - loss: 4.3587 - accuracy: 0.0568 - val_loss: 4.3577 - val_accuracy: 0.0616\n",
      "\n",
      "Epoch 00030: val_accuracy did not improve from 0.06157\n",
      "Epoch 31/60\n",
      "329/329 [==============================] - 55s 167ms/step - loss: 4.3592 - accuracy: 0.0568 - val_loss: 4.3577 - val_accuracy: 0.0616\n",
      "\n",
      "Epoch 00031: val_accuracy did not improve from 0.06157\n",
      "Epoch 32/60\n",
      "329/329 [==============================] - 53s 162ms/step - loss: 4.3591 - accuracy: 0.0568 - val_loss: 4.3572 - val_accuracy: 0.0616\n",
      "\n",
      "Epoch 00032: val_accuracy did not improve from 0.06157\n",
      "Epoch 33/60\n",
      "329/329 [==============================] - 55s 167ms/step - loss: 4.3591 - accuracy: 0.0568 - val_loss: 4.3582 - val_accuracy: 0.0616\n",
      "\n",
      "Epoch 00033: val_accuracy did not improve from 0.06157\n",
      "Epoch 34/60\n",
      "329/329 [==============================] - 55s 168ms/step - loss: 4.3589 - accuracy: 0.0568 - val_loss: 4.3573 - val_accuracy: 0.0616\n",
      "\n",
      "Epoch 00034: val_accuracy did not improve from 0.06157\n",
      "Epoch 35/60\n",
      "329/329 [==============================] - 58s 177ms/step - loss: 4.3586 - accuracy: 0.0568 - val_loss: 4.3572 - val_accuracy: 0.0616\n",
      "\n",
      "Epoch 00035: val_accuracy did not improve from 0.06157\n",
      "Epoch 36/60\n",
      "329/329 [==============================] - 53s 160ms/step - loss: 4.3589 - accuracy: 0.0568 - val_loss: 4.3570 - val_accuracy: 0.0616\n",
      "\n",
      "Epoch 00036: val_accuracy did not improve from 0.06157\n",
      "Epoch 37/60\n",
      "329/329 [==============================] - 53s 160ms/step - loss: 4.3586 - accuracy: 0.0568 - val_loss: 4.3570 - val_accuracy: 0.0616\n",
      "\n",
      "Epoch 00037: val_accuracy did not improve from 0.06157\n",
      "Epoch 38/60\n",
      "329/329 [==============================] - 53s 161ms/step - loss: 4.3582 - accuracy: 0.0568 - val_loss: 4.3579 - val_accuracy: 0.0616\n",
      "\n",
      "Epoch 00038: val_accuracy did not improve from 0.06157\n",
      "Epoch 39/60\n",
      "329/329 [==============================] - 54s 163ms/step - loss: 4.3586 - accuracy: 0.0568 - val_loss: 4.3563 - val_accuracy: 0.0616\n",
      "\n",
      "Epoch 00039: val_accuracy did not improve from 0.06157\n",
      "Epoch 40/60\n",
      "329/329 [==============================] - 53s 161ms/step - loss: 4.3583 - accuracy: 0.0568 - val_loss: 4.3566 - val_accuracy: 0.0616\n",
      "\n",
      "Epoch 00040: val_accuracy did not improve from 0.06157\n",
      "Epoch 41/60\n",
      "329/329 [==============================] - 53s 160ms/step - loss: 4.3583 - accuracy: 0.0568 - val_loss: 4.3562 - val_accuracy: 0.0616\n",
      "\n",
      "Epoch 00041: val_accuracy did not improve from 0.06157\n",
      "Epoch 42/60\n",
      "329/329 [==============================] - 53s 162ms/step - loss: 4.3583 - accuracy: 0.0568 - val_loss: 4.3566 - val_accuracy: 0.0616\n",
      "\n",
      "Epoch 00042: val_accuracy did not improve from 0.06157\n",
      "Epoch 43/60\n",
      "329/329 [==============================] - 53s 162ms/step - loss: 4.3580 - accuracy: 0.0568 - val_loss: 4.3570 - val_accuracy: 0.0616\n",
      "\n",
      "Epoch 00043: val_accuracy did not improve from 0.06157\n",
      "Epoch 44/60\n",
      "329/329 [==============================] - 51s 155ms/step - loss: 4.3580 - accuracy: 0.0568 - val_loss: 4.3571 - val_accuracy: 0.0616\n",
      "\n",
      "Epoch 00044: val_accuracy did not improve from 0.06157\n",
      "Epoch 45/60\n",
      "329/329 [==============================] - 53s 162ms/step - loss: 4.3582 - accuracy: 0.0568 - val_loss: 4.3562 - val_accuracy: 0.0616\n",
      "\n",
      "Epoch 00045: val_accuracy did not improve from 0.06157\n",
      "Epoch 46/60\n",
      "329/329 [==============================] - 53s 160ms/step - loss: 4.3582 - accuracy: 0.0568 - val_loss: 4.3566 - val_accuracy: 0.0616\n",
      "\n",
      "Epoch 00046: val_accuracy did not improve from 0.06157\n",
      "Epoch 47/60\n",
      "329/329 [==============================] - 54s 162ms/step - loss: 4.3582 - accuracy: 0.0568 - val_loss: 4.3579 - val_accuracy: 0.0616\n",
      "\n",
      "Epoch 00047: val_accuracy did not improve from 0.06157\n",
      "Epoch 48/60\n",
      "329/329 [==============================] - 53s 162ms/step - loss: 4.3580 - accuracy: 0.0568 - val_loss: 4.3571 - val_accuracy: 0.0616\n",
      "\n",
      "Epoch 00048: val_accuracy did not improve from 0.06157\n",
      "Epoch 49/60\n",
      "329/329 [==============================] - 53s 161ms/step - loss: 4.3582 - accuracy: 0.0568 - val_loss: 4.3573 - val_accuracy: 0.0616\n",
      "\n",
      "Epoch 00049: val_accuracy did not improve from 0.06157\n",
      "Epoch 50/60\n",
      "329/329 [==============================] - 54s 163ms/step - loss: 4.3581 - accuracy: 0.0568 - val_loss: 4.3568 - val_accuracy: 0.0616\n",
      "\n",
      "Epoch 00050: val_accuracy did not improve from 0.06157\n",
      "Epoch 51/60\n",
      "329/329 [==============================] - 58s 177ms/step - loss: 4.3581 - accuracy: 0.0568 - val_loss: 4.3573 - val_accuracy: 0.0616\n",
      "\n",
      "Epoch 00051: val_accuracy did not improve from 0.06157\n",
      "Epoch 52/60\n",
      "329/329 [==============================] - 53s 162ms/step - loss: 4.3578 - accuracy: 0.0568 - val_loss: 4.3583 - val_accuracy: 0.0616\n",
      "\n",
      "Epoch 00052: val_accuracy did not improve from 0.06157\n",
      "Epoch 53/60\n",
      "329/329 [==============================] - 53s 162ms/step - loss: 4.3579 - accuracy: 0.0568 - val_loss: 4.3571 - val_accuracy: 0.0616\n",
      "\n",
      "Epoch 00053: val_accuracy did not improve from 0.06157\n",
      "Epoch 54/60\n",
      "329/329 [==============================] - 53s 161ms/step - loss: 4.3579 - accuracy: 0.0568 - val_loss: 4.3567 - val_accuracy: 0.0616\n",
      "\n",
      "Epoch 00054: val_accuracy did not improve from 0.06157\n",
      "Epoch 55/60\n",
      "329/329 [==============================] - 54s 164ms/step - loss: 4.3579 - accuracy: 0.0568 - val_loss: 4.3565 - val_accuracy: 0.0616\n",
      "\n",
      "Epoch 00055: val_accuracy did not improve from 0.06157\n",
      "Epoch 56/60\n",
      "329/329 [==============================] - 58s 177ms/step - loss: 4.3580 - accuracy: 0.0568 - val_loss: 4.3563 - val_accuracy: 0.0616\n",
      "\n",
      "Epoch 00056: val_accuracy did not improve from 0.06157\n",
      "Epoch 57/60\n",
      "329/329 [==============================] - 54s 163ms/step - loss: 4.3579 - accuracy: 0.0568 - val_loss: 4.3573 - val_accuracy: 0.0616\n",
      "\n",
      "Epoch 00057: val_accuracy did not improve from 0.06157\n",
      "Epoch 58/60\n",
      "329/329 [==============================] - 53s 161ms/step - loss: 4.3582 - accuracy: 0.0568 - val_loss: 4.3567 - val_accuracy: 0.0616\n",
      "\n",
      "Epoch 00058: val_accuracy did not improve from 0.06157\n",
      "Epoch 59/60\n",
      "329/329 [==============================] - 54s 163ms/step - loss: 4.3576 - accuracy: 0.0568 - val_loss: 4.3576 - val_accuracy: 0.0616\n",
      "\n",
      "Epoch 00059: val_accuracy did not improve from 0.06157\n",
      "Epoch 60/60\n",
      "329/329 [==============================] - 53s 162ms/step - loss: 4.3577 - accuracy: 0.0568 - val_loss: 4.3566 - val_accuracy: 0.0616\n",
      "\n",
      "Epoch 00060: val_accuracy did not improve from 0.06157\n"
     ]
    }
   ],
   "source": [
    "from keras import callbacks\n",
    "\n",
    "earlystopping = callbacks.EarlyStopping(monitor =\"val_loss\", \n",
    "                                        mode =\"min\", patience = 5, \n",
    "                                        restore_best_weights = True)\n",
    "\n",
    "history_direct = model_direct.fit(train_dataset,\n",
    "                    epochs=NR_EPOCHS,\n",
    "                    batch_size = 64,\n",
    "                    validation_data=val_dataset,\n",
    "                    callbacks = [tensorboard_callback, checkpoint]\n",
    "                    )\n"
   ]
  },
  {
   "cell_type": "markdown",
   "id": "3616eede",
   "metadata": {
    "papermill": {
     "duration": 2.808554,
     "end_time": "2022-10-15T22:04:30.195819",
     "exception": false,
     "start_time": "2022-10-15T22:04:27.387265",
     "status": "completed"
    },
    "tags": []
   },
   "source": [
    "### Plot Training and Validation Loss"
   ]
  },
  {
   "cell_type": "code",
   "execution_count": 38,
   "id": "8b8b4ab7",
   "metadata": {
    "execution": {
     "iopub.execute_input": "2022-10-15T22:04:35.779326Z",
     "iopub.status.busy": "2022-10-15T22:04:35.778935Z",
     "iopub.status.idle": "2022-10-15T22:04:35.785152Z",
     "shell.execute_reply": "2022-10-15T22:04:35.784253Z"
    },
    "papermill": {
     "duration": 2.799809,
     "end_time": "2022-10-15T22:04:35.787203",
     "exception": false,
     "start_time": "2022-10-15T22:04:32.987394",
     "status": "completed"
    },
    "tags": []
   },
   "outputs": [
    {
     "data": {
      "text/plain": [
       "dict_keys(['loss', 'accuracy', 'val_loss', 'val_accuracy'])"
      ]
     },
     "execution_count": 38,
     "metadata": {},
     "output_type": "execute_result"
    }
   ],
   "source": [
    "history_direct.history.keys()"
   ]
  },
  {
   "cell_type": "code",
   "execution_count": 39,
   "id": "c12f4bec",
   "metadata": {
    "execution": {
     "iopub.execute_input": "2022-10-15T22:04:41.615098Z",
     "iopub.status.busy": "2022-10-15T22:04:41.614717Z",
     "iopub.status.idle": "2022-10-15T22:04:41.817847Z",
     "shell.execute_reply": "2022-10-15T22:04:41.816919Z"
    },
    "papermill": {
     "duration": 3.011774,
     "end_time": "2022-10-15T22:04:41.820063",
     "exception": false,
     "start_time": "2022-10-15T22:04:38.808289",
     "status": "completed"
    },
    "tags": []
   },
   "outputs": [
    {
     "data": {
      "image/png": "[encoded data removed]",
      "text/plain": [
       "<Figure size 432x288 with 1 Axes>"
      ]
     },
     "metadata": {
      "needs_background": "light"
     },
     "output_type": "display_data"
    }
   ],
   "source": [
    "loss_train_direct = history_direct.history['loss']\n",
    "loss_val_direct = history_direct.history['val_loss']\n",
    "epochs = range(NR_EPOCHS)\n",
    "plt.plot(epochs, loss_train_direct, 'g', label='Training loss')\n",
    "plt.plot(epochs, loss_val_direct, 'b', label='Validation loss')\n",
    "plt.title('Training and validation loss')\n",
    "plt.xlabel('Epochs')\n",
    "plt.ylabel('Loss')\n",
    "plt.legend()\n",
    "plt.show()"
   ]
  },
  {
   "cell_type": "code",
   "execution_count": 40,
   "id": "44f9b934",
   "metadata": {
    "execution": {
     "iopub.execute_input": "2022-10-15T22:04:47.848764Z",
     "iopub.status.busy": "2022-10-15T22:04:47.848402Z",
     "iopub.status.idle": "2022-10-15T22:04:48.053441Z",
     "shell.execute_reply": "2022-10-15T22:04:48.052411Z"
    },
    "papermill": {
     "duration": 3.037351,
     "end_time": "2022-10-15T22:04:48.059554",
     "exception": false,
     "start_time": "2022-10-15T22:04:45.022203",
     "status": "completed"
    },
    "tags": []
   },
   "outputs": [
    {
     "data": {
      "image/png": "[encoded data removed]",
      "text/plain": [
       "<Figure size 432x288 with 1 Axes>"
      ]
     },
     "metadata": {
      "needs_background": "light"
     },
     "output_type": "display_data"
    }
   ],
   "source": [
    "accuracy_direct = history_direct.history['accuracy']\n",
    "accuracy_val_direct = history_direct.history['val_accuracy']\n",
    "epochs = range(NR_EPOCHS)\n",
    "plt.plot(epochs, accuracy_direct, 'g', label='Training accuracy')\n",
    "plt.plot(epochs, accuracy_val_direct, 'b', label='Validation accuracy')\n",
    "plt.title('Training and validation accuracy')\n",
    "plt.xlabel('Epochs')\n",
    "plt.ylabel('Accuracy')\n",
    "plt.legend()\n",
    "plt.show()"
   ]
  },
  {
   "cell_type": "code",
   "execution_count": 41,
   "id": "4a69fae5",
   "metadata": {
    "execution": {
     "iopub.execute_input": "2022-10-15T22:04:53.992578Z",
     "iopub.status.busy": "2022-10-15T22:04:53.992161Z",
     "iopub.status.idle": "2022-10-15T22:04:59.685770Z",
     "shell.execute_reply": "2022-10-15T22:04:59.684656Z"
    },
    "papermill": {
     "duration": 8.517705,
     "end_time": "2022-10-15T22:04:59.688117",
     "exception": false,
     "start_time": "2022-10-15T22:04:51.170412",
     "status": "completed"
    },
    "tags": []
   },
   "outputs": [
    {
     "name": "stdout",
     "output_type": "stream",
     "text": [
      "9/9 [==============================] - 2s 165ms/step - loss: 4.4062 - accuracy: 0.0407\n",
      "4.406243324279785 0.040740739554166794\n"
     ]
    }
   ],
   "source": [
    "from tensorflow.keras.models import load_model\n",
    "\n",
    "model_age_direct = load_model(\"./models/direct_age_aug_best_model.h5\")\n",
    "loss, acc = model_age_direct.evaluate(test_dataset)\n",
    "print(loss, acc)"
   ]
  }
 ],
 "metadata": {
  "kernelspec": {
   "display_name": "Python 3",
   "language": "python",
   "name": "python3"
  },
  "language_info": {
   "codemirror_mode": {
    "name": "ipython",
    "version": 3
   },
   "file_extension": ".py",
   "mimetype": "text/x-python",
   "name": "python",
   "nbconvert_exporter": "python",
   "pygments_lexer": "ipython3",
   "version": "3.7.12"
  },
  "papermill": {
   "default_parameters": {},
   "duration": 15418.170772,
   "end_time": "2022-10-15T22:05:05.487080",
   "environment_variables": {},
   "exception": null,
   "input_path": "__notebook__.ipynb",
   "output_path": "__notebook__.ipynb",
   "parameters": {},
   "start_time": "2022-10-15T17:48:07.316308",
   "version": "2.3.4"
  },
  "widgets": {
   "application/vnd.jupyter.widget-state+json": {
    "state": {
     "09f290023326445e831c14f748423d3d": {
      "model_module": "@jupyter-widgets/base",
      "model_module_version": "1.2.0",
      "model_name": "LayoutModel",
      "state": {
       "_model_module": "@jupyter-widgets/base",
       "_model_module_version": "1.2.0",
       "_model_name": "LayoutModel",
       "_view_count": null,
       "_view_module": "@jupyter-widgets/base",
       "_view_module_version": "1.2.0",
       "_view_name": "LayoutView",
       "align_content": null,
       "align_items": null,
       "align_self": null,
       "border": null,
       "bottom": null,
       "display": null,
       "flex": null,
       "flex_flow": null,
       "grid_area": null,
       "grid_auto_columns": null,
       "grid_auto_flow": null,
       "grid_auto_rows": null,
       "grid_column": null,
       "grid_gap": null,
       "grid_row": null,
       "grid_template_areas": null,
       "grid_template_columns": null,
       "grid_template_rows": null,
       "height": null,
       "justify_content": null,
       "justify_items": null,
       "left": null,
       "margin": null,
       "max_height": null,
       "max_width": null,
       "min_height": null,
       "min_width": null,
       "object_fit": null,
       "object_position": null,
       "order": null,
       "overflow": null,
       "overflow_x": null,
       "overflow_y": null,
       "padding": null,
       "right": null,
       "top": null,
       "visibility": null,
       "width": null
      }
     },
     "147148aa1afa499ca8bc36c90092db17": {
      "model_module": "@jupyter-widgets/controls",
      "model_module_version": "1.5.0",
      "model_name": "HTMLModel",
      "state": {
       "_dom_classes": [],
       "_model_module": "@jupyter-widgets/controls",
       "_model_module_version": "1.5.0",
       "_model_name": "HTMLModel",
       "_view_count": null,
       "_view_module": "@jupyter-widgets/controls",
       "_view_module_version": "1.5.0",
       "_view_name": "HTMLView",
       "description": "",
       "description_tooltip": null,
       "layout": "IPY_MODEL_e97dacb2ed6e4cec956cc4c039aa2c94",
       "placeholder": "​",
       "style": "IPY_MODEL_fa414dc793e84fcea5ccf724395015a7",
       "value": " 21000/21000 [00:00&lt;00:00, 106708.99it/s]"
      }
     },
     "15122d0eea7f4cd38384d7184fa381b6": {
      "model_module": "@jupyter-widgets/base",
      "model_module_version": "1.2.0",
      "model_name": "LayoutModel",
      "state": {
       "_model_module": "@jupyter-widgets/base",
       "_model_module_version": "1.2.0",
       "_model_name": "LayoutModel",
       "_view_count": null,
       "_view_module": "@jupyter-widgets/base",
       "_view_module_version": "1.2.0",
       "_view_name": "LayoutView",
       "align_content": null,
       "align_items": null,
       "align_self": null,
       "border": null,
       "bottom": null,
       "display": null,
       "flex": null,
       "flex_flow": null,
       "grid_area": null,
       "grid_auto_columns": null,
       "grid_auto_flow": null,
       "grid_auto_rows": null,
       "grid_column": null,
       "grid_gap": null,
       "grid_row": null,
       "grid_template_areas": null,
       "grid_template_columns": null,
       "grid_template_rows": null,
       "height": null,
       "justify_content": null,
       "justify_items": null,
       "left": null,
       "margin": null,
       "max_height": null,
       "max_width": null,
       "min_height": null,
       "min_width": null,
       "object_fit": null,
       "object_position": null,
       "order": null,
       "overflow": null,
       "overflow_x": null,
       "overflow_y": null,
       "padding": null,
       "right": null,
       "top": null,
       "visibility": null,
       "width": null
      }
     },
     "18e3b3ccc2dd4f4c802aae8b0968a793": {
      "model_module": "@jupyter-widgets/base",
      "model_module_version": "1.2.0",
      "model_name": "LayoutModel",
      "state": {
       "_model_module": "@jupyter-widgets/base",
       "_model_module_version": "1.2.0",
       "_model_name": "LayoutModel",
       "_view_count": null,
       "_view_module": "@jupyter-widgets/base",
       "_view_module_version": "1.2.0",
       "_view_name": "LayoutView",
       "align_content": null,
       "align_items": null,
       "align_self": null,
       "border": null,
       "bottom": null,
       "display": null,
       "flex": null,
       "flex_flow": null,
       "grid_area": null,
       "grid_auto_columns": null,
       "grid_auto_flow": null,
       "grid_auto_rows": null,
       "grid_column": null,
       "grid_gap": null,
       "grid_row": null,
       "grid_template_areas": null,
       "grid_template_columns": null,
       "grid_template_rows": null,
       "height": null,
       "justify_content": null,
       "justify_items": null,
       "left": null,
       "margin": null,
       "max_height": null,
       "max_width": null,
       "min_height": null,
       "min_width": null,
       "object_fit": null,
       "object_position": null,
       "order": null,
       "overflow": null,
       "overflow_x": null,
       "overflow_y": null,
       "padding": null,
       "right": null,
       "top": null,
       "visibility": null,
       "width": null
      }
     },
     "2aaf5928162d4456852f2225d1493eda": {
      "model_module": "@jupyter-widgets/controls",
      "model_module_version": "1.5.0",
      "model_name": "FloatProgressModel",
      "state": {
       "_dom_classes": [],
       "_model_module": "@jupyter-widgets/controls",
       "_model_module_version": "1.5.0",
       "_model_name": "FloatProgressModel",
       "_view_count": null,
       "_view_module": "@jupyter-widgets/controls",
       "_view_module_version": "1.5.0",
       "_view_name": "ProgressView",
       "bar_style": "success",
       "description": "",
       "description_tooltip": null,
       "layout": "IPY_MODEL_494bff4fb1254703aebb14b409e11e79",
       "max": 21000.0,
       "min": 0.0,
       "orientation": "horizontal",
       "style": "IPY_MODEL_ac21b195e6e84d21b643641cc895639d",
       "value": 21000.0
      }
     },
     "2f1cce2bf086454eb694e36cb3476bea": {
      "model_module": "@jupyter-widgets/controls",
      "model_module_version": "1.5.0",
      "model_name": "HTMLModel",
      "state": {
       "_dom_classes": [],
       "_model_module": "@jupyter-widgets/controls",
       "_model_module_version": "1.5.0",
       "_model_name": "HTMLModel",
       "_view_count": null,
       "_view_module": "@jupyter-widgets/controls",
       "_view_module_version": "1.5.0",
       "_view_name": "HTMLView",
       "description": "",
       "description_tooltip": null,
       "layout": "IPY_MODEL_18e3b3ccc2dd4f4c802aae8b0968a793",
       "placeholder": "​",
       "style": "IPY_MODEL_ae8c67c99c0a41ebb75e7930f9e3bc97",
       "value": " 23708/23708 [00:00&lt;00:00, 226794.26it/s]"
      }
     },
     "45f63f11a2d34099997e9cf3eb6cf10d": {
      "model_module": "@jupyter-widgets/base",
      "model_module_version": "1.2.0",
      "model_name": "LayoutModel",
      "state": {
       "_model_module": "@jupyter-widgets/base",
       "_model_module_version": "1.2.0",
       "_model_name": "LayoutModel",
       "_view_count": null,
       "_view_module": "@jupyter-widgets/base",
       "_view_module_version": "1.2.0",
       "_view_name": "LayoutView",
       "align_content": null,
       "align_items": null,
       "align_self": null,
       "border": null,
       "bottom": null,
       "display": null,
       "flex": null,
       "flex_flow": null,
       "grid_area": null,
       "grid_auto_columns": null,
       "grid_auto_flow": null,
       "grid_auto_rows": null,
       "grid_column": null,
       "grid_gap": null,
       "grid_row": null,
       "grid_template_areas": null,
       "grid_template_columns": null,
       "grid_template_rows": null,
       "height": null,
       "justify_content": null,
       "justify_items": null,
       "left": null,
       "margin": null,
       "max_height": null,
       "max_width": null,
       "min_height": null,
       "min_width": null,
       "object_fit": null,
       "object_position": null,
       "order": null,
       "overflow": null,
       "overflow_x": null,
       "overflow_y": null,
       "padding": null,
       "right": null,
       "top": null,
       "visibility": null,
       "width": null
      }
     },
     "494bff4fb1254703aebb14b409e11e79": {
      "model_module": "@jupyter-widgets/base",
      "model_module_version": "1.2.0",
      "model_name": "LayoutModel",
      "state": {
       "_model_module": "@jupyter-widgets/base",
       "_model_module_version": "1.2.0",
       "_model_name": "LayoutModel",
       "_view_count": null,
       "_view_module": "@jupyter-widgets/base",
       "_view_module_version": "1.2.0",
       "_view_name": "LayoutView",
       "align_content": null,
       "align_items": null,
       "align_self": null,
       "border": null,
       "bottom": null,
       "display": null,
       "flex": null,
       "flex_flow": null,
       "grid_area": null,
       "grid_auto_columns": null,
       "grid_auto_flow": null,
       "grid_auto_rows": null,
       "grid_column": null,
       "grid_gap": null,
       "grid_row": null,
       "grid_template_areas": null,
       "grid_template_columns": null,
       "grid_template_rows": null,
       "height": null,
       "justify_content": null,
       "justify_items": null,
       "left": null,
       "margin": null,
       "max_height": null,
       "max_width": null,
       "min_height": null,
       "min_width": null,
       "object_fit": null,
       "object_position": null,
       "order": null,
       "overflow": null,
       "overflow_x": null,
       "overflow_y": null,
       "padding": null,
       "right": null,
       "top": null,
       "visibility": null,
       "width": null
      }
     },
     "49d45c003eca4a9d918c996c8380eb36": {
      "model_module": "@jupyter-widgets/controls",
      "model_module_version": "1.5.0",
      "model_name": "HBoxModel",
      "state": {
       "_dom_classes": [],
       "_model_module": "@jupyter-widgets/controls",
       "_model_module_version": "1.5.0",
       "_model_name": "HBoxModel",
       "_view_count": null,
       "_view_module": "@jupyter-widgets/controls",
       "_view_module_version": "1.5.0",
       "_view_name": "HBoxView",
       "box_style": "",
       "children": [
        "IPY_MODEL_c4b9878b260949f7b8b4fe48668a5f24",
        "IPY_MODEL_2aaf5928162d4456852f2225d1493eda",
        "IPY_MODEL_147148aa1afa499ca8bc36c90092db17"
       ],
       "layout": "IPY_MODEL_15122d0eea7f4cd38384d7184fa381b6"
      }
     },
     "57b1a5599ab544c59f0cb47f1cc3cb9a": {
      "model_module": "@jupyter-widgets/controls",
      "model_module_version": "1.5.0",
      "model_name": "ProgressStyleModel",
      "state": {
       "_model_module": "@jupyter-widgets/controls",
       "_model_module_version": "1.5.0",
       "_model_name": "ProgressStyleModel",
       "_view_count": null,
       "_view_module": "@jupyter-widgets/base",
       "_view_module_version": "1.2.0",
       "_view_name": "StyleView",
       "bar_color": null,
       "description_width": ""
      }
     },
     "66009bd08773407c81fd469712fd0907": {
      "model_module": "@jupyter-widgets/base",
      "model_module_version": "1.2.0",
      "model_name": "LayoutModel",
      "state": {
       "_model_module": "@jupyter-widgets/base",
       "_model_module_version": "1.2.0",
       "_model_name": "LayoutModel",
       "_view_count": null,
       "_view_module": "@jupyter-widgets/base",
       "_view_module_version": "1.2.0",
       "_view_name": "LayoutView",
       "align_content": null,
       "align_items": null,
       "align_self": null,
       "border": null,
       "bottom": null,
       "display": null,
       "flex": null,
       "flex_flow": null,
       "grid_area": null,
       "grid_auto_columns": null,
       "grid_auto_flow": null,
       "grid_auto_rows": null,
       "grid_column": null,
       "grid_gap": null,
       "grid_row": null,
       "grid_template_areas": null,
       "grid_template_columns": null,
       "grid_template_rows": null,
       "height": null,
       "justify_content": null,
       "justify_items": null,
       "left": null,
       "margin": null,
       "max_height": null,
       "max_width": null,
       "min_height": null,
       "min_width": null,
       "object_fit": null,
       "object_position": null,
       "order": null,
       "overflow": null,
       "overflow_x": null,
       "overflow_y": null,
       "padding": null,
       "right": null,
       "top": null,
       "visibility": null,
       "width": null
      }
     },
     "85f98b67ad544fd2a12f2c257cbe486d": {
      "model_module": "@jupyter-widgets/controls",
      "model_module_version": "1.5.0",
      "model_name": "DescriptionStyleModel",
      "state": {
       "_model_module": "@jupyter-widgets/controls",
       "_model_module_version": "1.5.0",
       "_model_name": "DescriptionStyleModel",
       "_view_count": null,
       "_view_module": "@jupyter-widgets/base",
       "_view_module_version": "1.2.0",
       "_view_name": "StyleView",
       "description_width": ""
      }
     },
     "a700e75eda8b4c829824b3e39cbf9401": {
      "model_module": "@jupyter-widgets/base",
      "model_module_version": "1.2.0",
      "model_name": "LayoutModel",
      "state": {
       "_model_module": "@jupyter-widgets/base",
       "_model_module_version": "1.2.0",
       "_model_name": "LayoutModel",
       "_view_count": null,
       "_view_module": "@jupyter-widgets/base",
       "_view_module_version": "1.2.0",
       "_view_name": "LayoutView",
       "align_content": null,
       "align_items": null,
       "align_self": null,
       "border": null,
       "bottom": null,
       "display": null,
       "flex": null,
       "flex_flow": null,
       "grid_area": null,
       "grid_auto_columns": null,
       "grid_auto_flow": null,
       "grid_auto_rows": null,
       "grid_column": null,
       "grid_gap": null,
       "grid_row": null,
       "grid_template_areas": null,
       "grid_template_columns": null,
       "grid_template_rows": null,
       "height": null,
       "justify_content": null,
       "justify_items": null,
       "left": null,
       "margin": null,
       "max_height": null,
       "max_width": null,
       "min_height": null,
       "min_width": null,
       "object_fit": null,
       "object_position": null,
       "order": null,
       "overflow": null,
       "overflow_x": null,
       "overflow_y": null,
       "padding": null,
       "right": null,
       "top": null,
       "visibility": null,
       "width": null
      }
     },
     "aadc4df9845446c3874a4f2462a43c10": {
      "model_module": "@jupyter-widgets/controls",
      "model_module_version": "1.5.0",
      "model_name": "FloatProgressModel",
      "state": {
       "_dom_classes": [],
       "_model_module": "@jupyter-widgets/controls",
       "_model_module_version": "1.5.0",
       "_model_name": "FloatProgressModel",
       "_view_count": null,
       "_view_module": "@jupyter-widgets/controls",
       "_view_module_version": "1.5.0",
       "_view_name": "ProgressView",
       "bar_style": "success",
       "description": "",
       "description_tooltip": null,
       "layout": "IPY_MODEL_09f290023326445e831c14f748423d3d",
       "max": 23708.0,
       "min": 0.0,
       "orientation": "horizontal",
       "style": "IPY_MODEL_57b1a5599ab544c59f0cb47f1cc3cb9a",
       "value": 23708.0
      }
     },
     "ac21b195e6e84d21b643641cc895639d": {
      "model_module": "@jupyter-widgets/controls",
      "model_module_version": "1.5.0",
      "model_name": "ProgressStyleModel",
      "state": {
       "_model_module": "@jupyter-widgets/controls",
       "_model_module_version": "1.5.0",
       "_model_name": "ProgressStyleModel",
       "_view_count": null,
       "_view_module": "@jupyter-widgets/base",
       "_view_module_version": "1.2.0",
       "_view_name": "StyleView",
       "bar_color": null,
       "description_width": ""
      }
     },
     "ae8c67c99c0a41ebb75e7930f9e3bc97": {
      "model_module": "@jupyter-widgets/controls",
      "model_module_version": "1.5.0",
      "model_name": "DescriptionStyleModel",
      "state": {
       "_model_module": "@jupyter-widgets/controls",
       "_model_module_version": "1.5.0",
       "_model_name": "DescriptionStyleModel",
       "_view_count": null,
       "_view_module": "@jupyter-widgets/base",
       "_view_module_version": "1.2.0",
       "_view_name": "StyleView",
       "description_width": ""
      }
     },
     "c4b9878b260949f7b8b4fe48668a5f24": {
      "model_module": "@jupyter-widgets/controls",
      "model_module_version": "1.5.0",
      "model_name": "HTMLModel",
      "state": {
       "_dom_classes": [],
       "_model_module": "@jupyter-widgets/controls",
       "_model_module_version": "1.5.0",
       "_model_name": "HTMLModel",
       "_view_count": null,
       "_view_module": "@jupyter-widgets/controls",
       "_view_module_version": "1.5.0",
       "_view_name": "HTMLView",
       "description": "",
       "description_tooltip": null,
       "layout": "IPY_MODEL_66009bd08773407c81fd469712fd0907",
       "placeholder": "​",
       "style": "IPY_MODEL_f8c9b9dc09854dae9238b083dcd5767c",
       "value": "100%"
      }
     },
     "e97dacb2ed6e4cec956cc4c039aa2c94": {
      "model_module": "@jupyter-widgets/base",
      "model_module_version": "1.2.0",
      "model_name": "LayoutModel",
      "state": {
       "_model_module": "@jupyter-widgets/base",
       "_model_module_version": "1.2.0",
       "_model_name": "LayoutModel",
       "_view_count": null,
       "_view_module": "@jupyter-widgets/base",
       "_view_module_version": "1.2.0",
       "_view_name": "LayoutView",
       "align_content": null,
       "align_items": null,
       "align_self": null,
       "border": null,
       "bottom": null,
       "display": null,
       "flex": null,
       "flex_flow": null,
       "grid_area": null,
       "grid_auto_columns": null,
       "grid_auto_flow": null,
       "grid_auto_rows": null,
       "grid_column": null,
       "grid_gap": null,
       "grid_row": null,
       "grid_template_areas": null,
       "grid_template_columns": null,
       "grid_template_rows": null,
       "height": null,
       "justify_content": null,
       "justify_items": null,
       "left": null,
       "margin": null,
       "max_height": null,
       "max_width": null,
       "min_height": null,
       "min_width": null,
       "object_fit": null,
       "object_position": null,
       "order": null,
       "overflow": null,
       "overflow_x": null,
       "overflow_y": null,
       "padding": null,
       "right": null,
       "top": null,
       "visibility": null,
       "width": null
      }
     },
     "eda304600bff41aab00208773f5b7091": {
      "model_module": "@jupyter-widgets/controls",
      "model_module_version": "1.5.0",
      "model_name": "HTMLModel",
      "state": {
       "_dom_classes": [],
       "_model_module": "@jupyter-widgets/controls",
       "_model_module_version": "1.5.0",
       "_model_name": "HTMLModel",
       "_view_count": null,
       "_view_module": "@jupyter-widgets/controls",
       "_view_module_version": "1.5.0",
       "_view_name": "HTMLView",
       "description": "",
       "description_tooltip": null,
       "layout": "IPY_MODEL_45f63f11a2d34099997e9cf3eb6cf10d",
       "placeholder": "​",
       "style": "IPY_MODEL_85f98b67ad544fd2a12f2c257cbe486d",
       "value": "100%"
      }
     },
     "ef330f150a8a460fa44e28e7d0a97567": {
      "model_module": "@jupyter-widgets/controls",
      "model_module_version": "1.5.0",
      "model_name": "HBoxModel",
      "state": {
       "_dom_classes": [],
       "_model_module": "@jupyter-widgets/controls",
       "_model_module_version": "1.5.0",
       "_model_name": "HBoxModel",
       "_view_count": null,
       "_view_module": "@jupyter-widgets/controls",
       "_view_module_version": "1.5.0",
       "_view_name": "HBoxView",
       "box_style": "",
       "children": [
        "IPY_MODEL_eda304600bff41aab00208773f5b7091",
        "IPY_MODEL_aadc4df9845446c3874a4f2462a43c10",
        "IPY_MODEL_2f1cce2bf086454eb694e36cb3476bea"
       ],
       "layout": "IPY_MODEL_a700e75eda8b4c829824b3e39cbf9401"
      }
     },
     "f8c9b9dc09854dae9238b083dcd5767c": {
      "model_module": "@jupyter-widgets/controls",
      "model_module_version": "1.5.0",
      "model_name": "DescriptionStyleModel",
      "state": {
       "_model_module": "@jupyter-widgets/controls",
       "_model_module_version": "1.5.0",
       "_model_name": "DescriptionStyleModel",
       "_view_count": null,
       "_view_module": "@jupyter-widgets/base",
       "_view_module_version": "1.2.0",
       "_view_name": "StyleView",
       "description_width": ""
      }
     },
     "fa414dc793e84fcea5ccf724395015a7": {
      "model_module": "@jupyter-widgets/controls",
      "model_module_version": "1.5.0",
      "model_name": "DescriptionStyleModel",
      "state": {
       "_model_module": "@jupyter-widgets/controls",
       "_model_module_version": "1.5.0",
       "_model_name": "DescriptionStyleModel",
       "_view_count": null,
       "_view_module": "@jupyter-widgets/base",
       "_view_module_version": "1.2.0",
       "_view_name": "StyleView",
       "description_width": ""
      }
     }
    },
    "version_major": 2,
    "version_minor": 0
   }
  }
 },
 "nbformat": 4,
 "nbformat_minor": 5
}
