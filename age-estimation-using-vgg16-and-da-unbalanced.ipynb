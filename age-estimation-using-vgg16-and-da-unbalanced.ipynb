{
 "cells": [
  {
   "cell_type": "markdown",
   "id": "67a977df",
   "metadata": {
    "papermill": {
     "duration": 0.019962,
     "end_time": "2022-10-13T22:18:19.165510",
     "exception": false,
     "start_time": "2022-10-13T22:18:19.145548",
     "status": "completed"
    },
    "tags": []
   },
   "source": [
    "# Age Estimation using VGG16 and Data Augmentation with an unbalanced Dataset"
   ]
  },
  {
   "cell_type": "code",
   "execution_count": 1,
   "id": "2d1c6d95",
   "metadata": {
    "execution": {
     "iopub.execute_input": "2022-10-13T22:18:19.198937Z",
     "iopub.status.busy": "2022-10-13T22:18:19.198086Z",
     "iopub.status.idle": "2022-10-13T22:18:25.080721Z",
     "shell.execute_reply": "2022-10-13T22:18:25.079779Z"
    },
    "id": "Ow9CX6i9bF7s",
    "papermill": {
     "duration": 5.900628,
     "end_time": "2022-10-13T22:18:25.083613",
     "exception": false,
     "start_time": "2022-10-13T22:18:19.182985",
     "status": "completed"
    },
    "tags": []
   },
   "outputs": [],
   "source": [
    "from keras.layers import Input, Lambda, Dense, Flatten\n",
    "from keras.models import Model\n",
    "from keras.applications.vgg16 import VGG16\n",
    "from keras.applications.vgg16 import preprocess_input\n",
    "from keras.preprocessing import image\n",
    "from keras.preprocessing.image import ImageDataGenerator\n",
    "from keras.models import Sequential\n",
    "from tensorflow.keras.models import load_model\n",
    "import numpy as np\n",
    "from glob import glob\n",
    "import matplotlib.pyplot as plt\n",
    "import tensorflow as tf\n",
    "from collections import Counter\n",
    "import warnings\n",
    "warnings.filterwarnings(\"ignore\", category=FutureWarning)\n",
    "from sklearn.utils import shuffle\n",
    "\n",
    "import pandas as pd\n",
    "import os\n",
    "import matplotlib.pyplot as plt\n",
    "import seaborn as sns\n",
    "\n",
    "from tqdm.notebook import tqdm\n",
    "\n",
    "%matplotlib inline\n",
    "\n",
    "from PIL import Image\n",
    "import shutil"
   ]
  },
  {
   "cell_type": "markdown",
   "id": "43fcd975",
   "metadata": {
    "papermill": {
     "duration": 0.010679,
     "end_time": "2022-10-13T22:18:25.104616",
     "exception": false,
     "start_time": "2022-10-13T22:18:25.093937",
     "status": "completed"
    },
    "tags": []
   },
   "source": [
    "## Age estimation in age groups"
   ]
  },
  {
   "cell_type": "markdown",
   "id": "41c320ed",
   "metadata": {
    "papermill": {
     "duration": 0.009126,
     "end_time": "2022-10-13T22:18:25.123121",
     "exception": false,
     "start_time": "2022-10-13T22:18:25.113995",
     "status": "completed"
    },
    "tags": []
   },
   "source": [
    "### Set image size and variables "
   ]
  },
  {
   "cell_type": "code",
   "execution_count": 2,
   "id": "fcc636b8",
   "metadata": {
    "execution": {
     "iopub.execute_input": "2022-10-13T22:18:25.144320Z",
     "iopub.status.busy": "2022-10-13T22:18:25.143078Z",
     "iopub.status.idle": "2022-10-13T22:18:25.148350Z",
     "shell.execute_reply": "2022-10-13T22:18:25.147511Z"
    },
    "id": "Cq39lS9tcKIC",
    "papermill": {
     "duration": 0.017833,
     "end_time": "2022-10-13T22:18:25.150297",
     "exception": false,
     "start_time": "2022-10-13T22:18:25.132464",
     "status": "completed"
    },
    "tags": []
   },
   "outputs": [],
   "source": [
    "IMAGE_SIZE = [224,224]\n",
    "TRAIN_TEST_SPLIT = 0.3\n",
    "BASE_DIR = '../input/utkface-new/UTKFace/'\n",
    "NR_EPOCHS = 30"
   ]
  },
  {
   "cell_type": "markdown",
   "id": "a7e89d4e",
   "metadata": {
    "papermill": {
     "duration": 0.009335,
     "end_time": "2022-10-13T22:18:25.169099",
     "exception": false,
     "start_time": "2022-10-13T22:18:25.159764",
     "status": "completed"
    },
    "tags": []
   },
   "source": [
    "### Define methods map direct age to classes"
   ]
  },
  {
   "cell_type": "code",
   "execution_count": 3,
   "id": "fd03410c",
   "metadata": {
    "execution": {
     "iopub.execute_input": "2022-10-13T22:18:25.189900Z",
     "iopub.status.busy": "2022-10-13T22:18:25.188976Z",
     "iopub.status.idle": "2022-10-13T22:18:25.195823Z",
     "shell.execute_reply": "2022-10-13T22:18:25.194987Z"
    },
    "papermill": {
     "duration": 0.01907,
     "end_time": "2022-10-13T22:18:25.197613",
     "exception": false,
     "start_time": "2022-10-13T22:18:25.178543",
     "status": "completed"
    },
    "tags": []
   },
   "outputs": [],
   "source": [
    "def age_to_class( age ):\n",
    "  age_class = None\n",
    "  # 0 (0-20)\n",
    "  if 0 <= age <= 20:\n",
    "    age_class = 0\n",
    "  # 1 (20-40)\n",
    "  if 20 < age <= 40:\n",
    "    age_class = 1\n",
    "  # 2 (40-60)\n",
    "  if 40 < age <= 60:\n",
    "    age_class = 2\n",
    "  # 3 (40-60)\n",
    "  if 60 < age <= 80:\n",
    "    age_class = 3\n",
    "  # 3 (80+)\n",
    "  if age > 80:\n",
    "    age_class = 4\n",
    "  return age_class\n",
    "\n",
    "# map age classes for age gaps\n",
    "age_dict = {0:'0-20', 1:'20-40',2:'40-60', 3:'60-80', 4:'80+'}\n",
    "\n",
    "def decode_age_label(age_id):\n",
    "  return age_dict[int(age_id)]"
   ]
  },
  {
   "cell_type": "markdown",
   "id": "08264618",
   "metadata": {
    "papermill": {
     "duration": 0.009277,
     "end_time": "2022-10-13T22:18:25.216482",
     "exception": false,
     "start_time": "2022-10-13T22:18:25.207205",
     "status": "completed"
    },
    "tags": []
   },
   "source": [
    "### Read input dataset"
   ]
  },
  {
   "cell_type": "code",
   "execution_count": 4,
   "id": "b6aed9c4",
   "metadata": {
    "execution": {
     "iopub.execute_input": "2022-10-13T22:18:25.236477Z",
     "iopub.status.busy": "2022-10-13T22:18:25.236182Z",
     "iopub.status.idle": "2022-10-13T22:18:25.921569Z",
     "shell.execute_reply": "2022-10-13T22:18:25.920725Z"
    },
    "papermill": {
     "duration": 0.698287,
     "end_time": "2022-10-13T22:18:25.924157",
     "exception": false,
     "start_time": "2022-10-13T22:18:25.225870",
     "status": "completed"
    },
    "tags": []
   },
   "outputs": [
    {
     "data": {
      "application/vnd.jupyter.widget-view+json": {
       "model_id": "a1f5d59bf8344d8ba66dd0c9206412ed",
       "version_major": 2,
       "version_minor": 0
      },
      "text/plain": [
       "  0%|          | 0/23708 [00:00<?, ?it/s]"
      ]
     },
     "metadata": {},
     "output_type": "display_data"
    },
    {
     "name": "stdout",
     "output_type": "stream",
     "text": [
      "Counter({'20-40': 12123, '0-20': 4877, '40-60': 4311, '60-80': 1857, '80+': 540})\n"
     ]
    }
   ],
   "source": [
    "# read labels of image age, gender\n",
    "image_paths = []\n",
    "age_labels = []\n",
    "gender_labels =[]\n",
    "age_class = []\n",
    "\n",
    "for filename in tqdm(os.listdir(BASE_DIR)):\n",
    "  #read image path\n",
    "  image_path = os.path.join(BASE_DIR, filename)\n",
    "  #split filename to extract labels\n",
    "  temp= filename.split('_')\n",
    "  age = int(temp[0])\n",
    "  gender = int(temp[1])\n",
    "  image_paths.append(image_path)\n",
    "  age_labels.append(age)\n",
    "  gender_labels.append(gender)\n",
    "  age_class.append(age_to_class(age))\n",
    "\n",
    "# extract name of file \n",
    "names = []\n",
    "for path in image_paths:\n",
    "  temp = path.split('/')\n",
    "  names.append(temp[4])\n",
    "\n",
    "#convert to dataframe\n",
    "df = pd.DataFrame()\n",
    "df['image'], df['age'], df['gender'], df['age_class'], df['name'] = image_paths, age_labels, gender_labels, age_class, names\n",
    "df.head()\n",
    "df\n",
    "\n",
    "# get and print the number of images in dataframe\n",
    "age_verbose = [age_dict[int(age)] for age in df['age_class']]\n",
    "\n",
    "print(Counter(age_verbose))\n",
    "\n"
   ]
  },
  {
   "cell_type": "markdown",
   "id": "a95b1d08",
   "metadata": {
    "papermill": {
     "duration": 0.014232,
     "end_time": "2022-10-13T22:18:25.954186",
     "exception": false,
     "start_time": "2022-10-13T22:18:25.939954",
     "status": "completed"
    },
    "tags": []
   },
   "source": [
    "### Shuffle dataset"
   ]
  },
  {
   "cell_type": "code",
   "execution_count": 5,
   "id": "4189ac3a",
   "metadata": {
    "execution": {
     "iopub.execute_input": "2022-10-13T22:18:25.984536Z",
     "iopub.status.busy": "2022-10-13T22:18:25.984150Z",
     "iopub.status.idle": "2022-10-13T22:18:25.997057Z",
     "shell.execute_reply": "2022-10-13T22:18:25.996192Z"
    },
    "papermill": {
     "duration": 0.031221,
     "end_time": "2022-10-13T22:18:25.999810",
     "exception": false,
     "start_time": "2022-10-13T22:18:25.968589",
     "status": "completed"
    },
    "tags": []
   },
   "outputs": [],
   "source": [
    "# shuffle dataset for downsampling\n",
    "df = shuffle(df)"
   ]
  },
  {
   "cell_type": "code",
   "execution_count": 6,
   "id": "05d4b8e9",
   "metadata": {
    "execution": {
     "iopub.execute_input": "2022-10-13T22:18:26.031351Z",
     "iopub.status.busy": "2022-10-13T22:18:26.031003Z",
     "iopub.status.idle": "2022-10-13T22:18:26.053640Z",
     "shell.execute_reply": "2022-10-13T22:18:26.052841Z"
    },
    "papermill": {
     "duration": 0.040866,
     "end_time": "2022-10-13T22:18:26.056087",
     "exception": false,
     "start_time": "2022-10-13T22:18:26.015221",
     "status": "completed"
    },
    "tags": []
   },
   "outputs": [
    {
     "data": {
      "text/html": [
       "<div>\n",
       "<style scoped>\n",
       "    .dataframe tbody tr th:only-of-type {\n",
       "        vertical-align: middle;\n",
       "    }\n",
       "\n",
       "    .dataframe tbody tr th {\n",
       "        vertical-align: top;\n",
       "    }\n",
       "\n",
       "    .dataframe thead th {\n",
       "        text-align: right;\n",
       "    }\n",
       "</style>\n",
       "<table border=\"1\" class=\"dataframe\">\n",
       "  <thead>\n",
       "    <tr style=\"text-align: right;\">\n",
       "      <th></th>\n",
       "      <th>image</th>\n",
       "      <th>age</th>\n",
       "      <th>gender</th>\n",
       "      <th>age_class</th>\n",
       "      <th>name</th>\n",
       "    </tr>\n",
       "  </thead>\n",
       "  <tbody>\n",
       "    <tr>\n",
       "      <th>5337</th>\n",
       "      <td>../input/utkface-new/UTKFace/10_1_3_2017010920...</td>\n",
       "      <td>10</td>\n",
       "      <td>1</td>\n",
       "      <td>0</td>\n",
       "      <td>10_1_3_20170109205323078.jpg.chip.jpg</td>\n",
       "    </tr>\n",
       "    <tr>\n",
       "      <th>15695</th>\n",
       "      <td>../input/utkface-new/UTKFace/26_1_3_2017010422...</td>\n",
       "      <td>26</td>\n",
       "      <td>1</td>\n",
       "      <td>1</td>\n",
       "      <td>26_1_3_20170104222855375.jpg.chip.jpg</td>\n",
       "    </tr>\n",
       "    <tr>\n",
       "      <th>13842</th>\n",
       "      <td>../input/utkface-new/UTKFace/68_0_3_2017011717...</td>\n",
       "      <td>68</td>\n",
       "      <td>0</td>\n",
       "      <td>3</td>\n",
       "      <td>68_0_3_20170117172636569.jpg.chip.jpg</td>\n",
       "    </tr>\n",
       "    <tr>\n",
       "      <th>3891</th>\n",
       "      <td>../input/utkface-new/UTKFace/1_1_2_20161219161...</td>\n",
       "      <td>1</td>\n",
       "      <td>1</td>\n",
       "      <td>0</td>\n",
       "      <td>1_1_2_20161219161757030.jpg.chip.jpg</td>\n",
       "    </tr>\n",
       "    <tr>\n",
       "      <th>19403</th>\n",
       "      <td>../input/utkface-new/UTKFace/44_0_0_2017011318...</td>\n",
       "      <td>44</td>\n",
       "      <td>0</td>\n",
       "      <td>2</td>\n",
       "      <td>44_0_0_20170113184633535.jpg.chip.jpg</td>\n",
       "    </tr>\n",
       "    <tr>\n",
       "      <th>...</th>\n",
       "      <td>...</td>\n",
       "      <td>...</td>\n",
       "      <td>...</td>\n",
       "      <td>...</td>\n",
       "      <td>...</td>\n",
       "    </tr>\n",
       "    <tr>\n",
       "      <th>23410</th>\n",
       "      <td>../input/utkface-new/UTKFace/30_1_3_2017011919...</td>\n",
       "      <td>30</td>\n",
       "      <td>1</td>\n",
       "      <td>1</td>\n",
       "      <td>30_1_3_20170119195850724.jpg.chip.jpg</td>\n",
       "    </tr>\n",
       "    <tr>\n",
       "      <th>13403</th>\n",
       "      <td>../input/utkface-new/UTKFace/45_0_1_2017011614...</td>\n",
       "      <td>45</td>\n",
       "      <td>0</td>\n",
       "      <td>2</td>\n",
       "      <td>45_0_1_20170116142935103.jpg.chip.jpg</td>\n",
       "    </tr>\n",
       "    <tr>\n",
       "      <th>15566</th>\n",
       "      <td>../input/utkface-new/UTKFace/35_0_1_2017011717...</td>\n",
       "      <td>35</td>\n",
       "      <td>0</td>\n",
       "      <td>1</td>\n",
       "      <td>35_0_1_20170117172007523.jpg.chip.jpg</td>\n",
       "    </tr>\n",
       "    <tr>\n",
       "      <th>21938</th>\n",
       "      <td>../input/utkface-new/UTKFace/25_0_1_2017011719...</td>\n",
       "      <td>25</td>\n",
       "      <td>0</td>\n",
       "      <td>1</td>\n",
       "      <td>25_0_1_20170117195010460.jpg.chip.jpg</td>\n",
       "    </tr>\n",
       "    <tr>\n",
       "      <th>7680</th>\n",
       "      <td>../input/utkface-new/UTKFace/52_0_2_2017010418...</td>\n",
       "      <td>52</td>\n",
       "      <td>0</td>\n",
       "      <td>2</td>\n",
       "      <td>52_0_2_20170104184032470.jpg.chip.jpg</td>\n",
       "    </tr>\n",
       "  </tbody>\n",
       "</table>\n",
       "<p>23708 rows × 5 columns</p>\n",
       "</div>"
      ],
      "text/plain": [
       "                                                   image  age  gender  \\\n",
       "5337   ../input/utkface-new/UTKFace/10_1_3_2017010920...   10       1   \n",
       "15695  ../input/utkface-new/UTKFace/26_1_3_2017010422...   26       1   \n",
       "13842  ../input/utkface-new/UTKFace/68_0_3_2017011717...   68       0   \n",
       "3891   ../input/utkface-new/UTKFace/1_1_2_20161219161...    1       1   \n",
       "19403  ../input/utkface-new/UTKFace/44_0_0_2017011318...   44       0   \n",
       "...                                                  ...  ...     ...   \n",
       "23410  ../input/utkface-new/UTKFace/30_1_3_2017011919...   30       1   \n",
       "13403  ../input/utkface-new/UTKFace/45_0_1_2017011614...   45       0   \n",
       "15566  ../input/utkface-new/UTKFace/35_0_1_2017011717...   35       0   \n",
       "21938  ../input/utkface-new/UTKFace/25_0_1_2017011719...   25       0   \n",
       "7680   ../input/utkface-new/UTKFace/52_0_2_2017010418...   52       0   \n",
       "\n",
       "       age_class                                   name  \n",
       "5337           0  10_1_3_20170109205323078.jpg.chip.jpg  \n",
       "15695          1  26_1_3_20170104222855375.jpg.chip.jpg  \n",
       "13842          3  68_0_3_20170117172636569.jpg.chip.jpg  \n",
       "3891           0   1_1_2_20161219161757030.jpg.chip.jpg  \n",
       "19403          2  44_0_0_20170113184633535.jpg.chip.jpg  \n",
       "...          ...                                    ...  \n",
       "23410          1  30_1_3_20170119195850724.jpg.chip.jpg  \n",
       "13403          2  45_0_1_20170116142935103.jpg.chip.jpg  \n",
       "15566          1  35_0_1_20170117172007523.jpg.chip.jpg  \n",
       "21938          1  25_0_1_20170117195010460.jpg.chip.jpg  \n",
       "7680           2  52_0_2_20170104184032470.jpg.chip.jpg  \n",
       "\n",
       "[23708 rows x 5 columns]"
      ]
     },
     "execution_count": 6,
     "metadata": {},
     "output_type": "execute_result"
    }
   ],
   "source": [
    "# check dataframe\n",
    "df "
   ]
  },
  {
   "cell_type": "markdown",
   "id": "209b3b8c",
   "metadata": {
    "papermill": {
     "duration": 0.015247,
     "end_time": "2022-10-13T22:18:26.086795",
     "exception": false,
     "start_time": "2022-10-13T22:18:26.071548",
     "status": "completed"
    },
    "tags": []
   },
   "source": [
    "### Data Augmentation"
   ]
  },
  {
   "cell_type": "code",
   "execution_count": 7,
   "id": "a6f47123",
   "metadata": {
    "execution": {
     "iopub.execute_input": "2022-10-13T22:18:26.119339Z",
     "iopub.status.busy": "2022-10-13T22:18:26.118962Z",
     "iopub.status.idle": "2022-10-13T22:18:26.123628Z",
     "shell.execute_reply": "2022-10-13T22:18:26.122815Z"
    },
    "papermill": {
     "duration": 0.026067,
     "end_time": "2022-10-13T22:18:26.127909",
     "exception": false,
     "start_time": "2022-10-13T22:18:26.101842",
     "status": "completed"
    },
    "tags": []
   },
   "outputs": [],
   "source": [
    "# create new folder for Data Augmentation\n",
    "os.mkdir('./ds')"
   ]
  },
  {
   "cell_type": "code",
   "execution_count": 8,
   "id": "70ffc66c",
   "metadata": {
    "execution": {
     "iopub.execute_input": "2022-10-13T22:18:26.161112Z",
     "iopub.status.busy": "2022-10-13T22:18:26.160761Z",
     "iopub.status.idle": "2022-10-13T22:20:48.599155Z",
     "shell.execute_reply": "2022-10-13T22:20:48.598187Z"
    },
    "papermill": {
     "duration": 142.467443,
     "end_time": "2022-10-13T22:20:48.611252",
     "exception": false,
     "start_time": "2022-10-13T22:18:26.143809",
     "status": "completed"
    },
    "tags": []
   },
   "outputs": [
    {
     "name": "stdout",
     "output_type": "stream",
     "text": [
      "finished copying images\n"
     ]
    }
   ],
   "source": [
    "# copy all images of the downsampled df\n",
    "image_list = df['image']\n",
    "name_list = df['name']\n",
    "source = '../input/utkface-new/'\n",
    "#dest =  '../ds/'\n",
    "dest = './ds/'\n",
    "\n",
    "for key, val in df.iterrows():\n",
    "    shutil.copyfile(val['image'], dest+val['name'])\n",
    "\n",
    "print(\"finished copying images\")"
   ]
  },
  {
   "cell_type": "code",
   "execution_count": 9,
   "id": "5719b138",
   "metadata": {
    "execution": {
     "iopub.execute_input": "2022-10-13T22:20:48.633850Z",
     "iopub.status.busy": "2022-10-13T22:20:48.632188Z",
     "iopub.status.idle": "2022-10-13T22:20:48.637180Z",
     "shell.execute_reply": "2022-10-13T22:20:48.636102Z"
    },
    "papermill": {
     "duration": 0.018213,
     "end_time": "2022-10-13T22:20:48.639331",
     "exception": false,
     "start_time": "2022-10-13T22:20:48.621118",
     "status": "completed"
    },
    "tags": []
   },
   "outputs": [],
   "source": [
    "#zip for better download\n",
    "#shutil.make_archive('new_ds', 'zip', dest)"
   ]
  },
  {
   "cell_type": "code",
   "execution_count": 10,
   "id": "0832b45f",
   "metadata": {
    "execution": {
     "iopub.execute_input": "2022-10-13T22:20:48.660701Z",
     "iopub.status.busy": "2022-10-13T22:20:48.660404Z",
     "iopub.status.idle": "2022-10-13T22:20:48.664470Z",
     "shell.execute_reply": "2022-10-13T22:20:48.663410Z"
    },
    "papermill": {
     "duration": 0.016861,
     "end_time": "2022-10-13T22:20:48.666549",
     "exception": false,
     "start_time": "2022-10-13T22:20:48.649688",
     "status": "completed"
    },
    "tags": []
   },
   "outputs": [],
   "source": [
    "# remove folder for new run\n",
    "#shutil.rmtree('./ds/output/')"
   ]
  },
  {
   "cell_type": "code",
   "execution_count": 11,
   "id": "4071c394",
   "metadata": {
    "execution": {
     "iopub.execute_input": "2022-10-13T22:20:48.688104Z",
     "iopub.status.busy": "2022-10-13T22:20:48.687511Z",
     "iopub.status.idle": "2022-10-13T22:29:50.599489Z",
     "shell.execute_reply": "2022-10-13T22:29:50.598563Z"
    },
    "papermill": {
     "duration": 541.92556,
     "end_time": "2022-10-13T22:29:50.602263",
     "exception": false,
     "start_time": "2022-10-13T22:20:48.676703",
     "status": "completed"
    },
    "tags": []
   },
   "outputs": [
    {
     "name": "stdout",
     "output_type": "stream",
     "text": [
      "Collecting Augmentor\r\n",
      "  Downloading Augmentor-0.2.10-py2.py3-none-any.whl (38 kB)\r\n",
      "Requirement already satisfied: numpy>=1.11.0 in /opt/conda/lib/python3.7/site-packages (from Augmentor) (1.21.6)\r\n",
      "Requirement already satisfied: tqdm>=4.9.0 in /opt/conda/lib/python3.7/site-packages (from Augmentor) (4.64.0)\r\n",
      "Requirement already satisfied: Pillow>=5.2.0 in /opt/conda/lib/python3.7/site-packages (from Augmentor) (9.1.1)\r\n",
      "Requirement already satisfied: future>=0.16.0 in /opt/conda/lib/python3.7/site-packages (from Augmentor) (0.18.2)\r\n",
      "Installing collected packages: Augmentor\r\n",
      "Successfully installed Augmentor-0.2.10\r\n",
      "\u001b[33mWARNING: Running pip as the 'root' user can result in broken permissions and conflicting behaviour with the system package manager. It is recommended to use a virtual environment instead: https://pip.pypa.io/warnings/venv\u001b[0m\u001b[33m\r\n",
      "\u001b[0mInitialised with 23708 image(s) found.\n",
      "Output directory set to ./ds/output."
     ]
    },
    {
     "name": "stderr",
     "output_type": "stream",
     "text": [
      "Processing <PIL.Image.Image image mode=RGB size=224x224 at 0x7FF21877B550>: 100%|██████████| 55000/55000 [08:47<00:00, 104.29 Samples/s]\n"
     ]
    }
   ],
   "source": [
    "# use augmentor to increase the number of images\n",
    "!pip install Augmentor\n",
    "import Augmentor as aug\n",
    "\n",
    "p = aug.Pipeline(\"./ds\")\n",
    "p.resize(1, 224, 224, resample_filter=\"ANTIALIAS\")\n",
    "p.flip_left_right(0.5)\n",
    "p.rotate(0.8, 5, 10)\n",
    "p.zoom(0.2, 0.9, 1.25)\n",
    "p.shear(0.1, 0.01, 0.01)\n",
    "p.sample(55000)"
   ]
  },
  {
   "cell_type": "code",
   "execution_count": 12,
   "id": "749c250e",
   "metadata": {
    "execution": {
     "iopub.execute_input": "2022-10-13T22:29:57.853790Z",
     "iopub.status.busy": "2022-10-13T22:29:57.853197Z",
     "iopub.status.idle": "2022-10-13T22:30:21.063247Z",
     "shell.execute_reply": "2022-10-13T22:30:21.062326Z"
    },
    "papermill": {
     "duration": 27.086864,
     "end_time": "2022-10-13T22:30:21.065401",
     "exception": false,
     "start_time": "2022-10-13T22:29:53.978537",
     "status": "completed"
    },
    "tags": []
   },
   "outputs": [
    {
     "data": {
      "text/plain": [
       "'/kaggle/working/new_ds.zip'"
      ]
     },
     "execution_count": 12,
     "metadata": {},
     "output_type": "execute_result"
    }
   ],
   "source": [
    "#zip for better download\n",
    "shutil.make_archive('new_ds', 'zip', dest)"
   ]
  },
  {
   "cell_type": "markdown",
   "id": "ff793178",
   "metadata": {
    "papermill": {
     "duration": 4.270629,
     "end_time": "2022-10-13T22:30:28.705761",
     "exception": false,
     "start_time": "2022-10-13T22:30:24.435132",
     "status": "completed"
    },
    "tags": []
   },
   "source": [
    "### Split Dataset into validation and test set  "
   ]
  },
  {
   "cell_type": "code",
   "execution_count": 13,
   "id": "45669328",
   "metadata": {
    "execution": {
     "iopub.execute_input": "2022-10-13T22:30:35.209937Z",
     "iopub.status.busy": "2022-10-13T22:30:35.209520Z",
     "iopub.status.idle": "2022-10-13T22:30:35.231521Z",
     "shell.execute_reply": "2022-10-13T22:30:35.230549Z"
    },
    "papermill": {
     "duration": 3.272004,
     "end_time": "2022-10-13T22:30:35.233872",
     "exception": false,
     "start_time": "2022-10-13T22:30:31.961868",
     "status": "completed"
    },
    "tags": []
   },
   "outputs": [
    {
     "name": "stdout",
     "output_type": "stream",
     "text": [
      "No. of training examples: 18966\n",
      "No. of testing examples: 4742\n"
     ]
    }
   ],
   "source": [
    "val_data = df.sample(frac=0.8, random_state=25)\n",
    "testing_data = df.drop(val_data.index)\n",
    "\n",
    " \n",
    "print(f\"No. of training examples: {val_data.shape[0]}\")\n",
    "print(f\"No. of testing examples: {testing_data.shape[0]}\")\n",
    "\n",
    "#X = extract_features(training_data['image'])"
   ]
  },
  {
   "cell_type": "code",
   "execution_count": 14,
   "id": "e0982831",
   "metadata": {
    "execution": {
     "iopub.execute_input": "2022-10-13T22:30:41.864743Z",
     "iopub.status.busy": "2022-10-13T22:30:41.864176Z",
     "iopub.status.idle": "2022-10-13T22:30:57.620395Z",
     "shell.execute_reply": "2022-10-13T22:30:57.619374Z"
    },
    "papermill": {
     "duration": 18.924277,
     "end_time": "2022-10-13T22:30:57.622413",
     "exception": false,
     "start_time": "2022-10-13T22:30:38.698136",
     "status": "completed"
    },
    "tags": []
   },
   "outputs": [
    {
     "name": "stdout",
     "output_type": "stream",
     "text": [
      "Found 23708 validated image filenames.\n",
      "Found 18966 validated image filenames.\n",
      "Found 4742 validated image filenames.\n"
     ]
    }
   ],
   "source": [
    "from tensorflow.keras.preprocessing.image import ImageDataGenerator\n",
    "\n",
    "\n",
    "train_datagen = ImageDataGenerator(rescale=1./255,\n",
    "                               preprocessing_function=preprocess_input,\n",
    "                               rotation_range=15,\n",
    "                               width_shift_range=0.1,\n",
    "                               height_shift_range=0.1,\n",
    "                               shear_range=0.01,\n",
    "                               zoom_range=[0.9, 1.25],\n",
    "                               horizontal_flip=True,\n",
    "                               vertical_flip=False,\n",
    "                               fill_mode='reflect',\n",
    "                               data_format='channels_last',\n",
    "                               brightness_range=[0.5, 1.5])\n",
    "\n",
    "val_datagen = ImageDataGenerator(rescale=1./255,\n",
    "                                preprocessing_function=preprocess_input)\n",
    "\n",
    "\n",
    "CLASS_MODE = 'raw'\n",
    "BATCH_SIZE = 64\n",
    "BASE_DIR = '../input/utkface-new/UTKFace'\n",
    "\n",
    "train_generator = train_datagen.flow_from_dataframe(dataframe=df, \n",
    "                                                directory=BASE_DIR, \n",
    "                                                x_col='name', \n",
    "                                                y_col='age_class', \n",
    "                                                class_mode=CLASS_MODE,\n",
    "                                                batch_size=BATCH_SIZE, \n",
    "                                                shuffle=True, \n",
    "                                                target_size=IMAGE_SIZE)\n",
    "\n",
    "\n",
    "\n",
    "val_generator = val_datagen.flow_from_dataframe(dataframe=val_data, \n",
    "                                              directory=BASE_DIR, \n",
    "                                              x_col='name', \n",
    "                                              y_col='age_class', \n",
    "                                              class_mode=CLASS_MODE, \n",
    "                                              batch_size=BATCH_SIZE,\n",
    "                                              shuffle=False, \n",
    "                                              target_size=IMAGE_SIZE)\n",
    "\n",
    "test_generator = val_datagen.flow_from_dataframe(dataframe=testing_data, \n",
    "                                              directory=BASE_DIR, \n",
    "                                              x_col='name', \n",
    "                                              y_col='age_class', \n",
    "                                              class_mode=CLASS_MODE, \n",
    "                                              batch_size=BATCH_SIZE,\n",
    "                                              shuffle=False, \n",
    "                                              target_size=IMAGE_SIZE)\n"
   ]
  },
  {
   "cell_type": "code",
   "execution_count": 15,
   "id": "497e9216",
   "metadata": {
    "execution": {
     "iopub.execute_input": "2022-10-13T22:31:04.786376Z",
     "iopub.status.busy": "2022-10-13T22:31:04.785963Z",
     "iopub.status.idle": "2022-10-13T22:31:04.998025Z",
     "shell.execute_reply": "2022-10-13T22:31:04.997112Z"
    },
    "papermill": {
     "duration": 3.47712,
     "end_time": "2022-10-13T22:31:05.001081",
     "exception": false,
     "start_time": "2022-10-13T22:31:01.523961",
     "status": "completed"
    },
    "tags": []
   },
   "outputs": [
    {
     "name": "stderr",
     "output_type": "stream",
     "text": [
      "2022-10-13 22:31:04.794142: I tensorflow/core/profiler/lib/profiler_session.cc:131] Profiler session initializing.\n",
      "2022-10-13 22:31:04.794189: I tensorflow/core/profiler/lib/profiler_session.cc:146] Profiler session started.\n",
      "2022-10-13 22:31:04.857753: I tensorflow/core/profiler/internal/gpu/cupti_tracer.cc:1614] Profiler found 1 GPUs\n",
      "2022-10-13 22:31:04.893311: I tensorflow/core/profiler/lib/profiler_session.cc:164] Profiler session tear down.\n",
      "2022-10-13 22:31:04.893479: I tensorflow/core/profiler/internal/gpu/cupti_tracer.cc:1748] CUPTI activity buffer flushed\n"
     ]
    }
   ],
   "source": [
    "from pathlib import Path\n",
    "path = Path(\"./models\")\n",
    "path.mkdir(exist_ok=True)\n",
    "\n",
    "\n",
    "MODEL_PATH = \"./models/age_best_model.h5\"\n",
    "\n",
    "\n",
    "checkpoint = tf.keras.callbacks.ModelCheckpoint(MODEL_PATH, \n",
    "                                                monitor='val_sparse_categorical_accuracy', \n",
    "                                                verbose=1, \n",
    "                                                save_best_only=True, \n",
    "                                                mode='max')\n",
    "\n",
    "import datetime\n",
    "log_dir = '../tblogs/age_model_' + datetime.datetime.now().strftime('%y-%m-%d_%H-%M')\n",
    "tensorboard_callback = tf.keras.callbacks.TensorBoard(log_dir=log_dir, histogram_freq=0)\n",
    "\n"
   ]
  },
  {
   "cell_type": "markdown",
   "id": "7419c932",
   "metadata": {
    "papermill": {
     "duration": 3.343592,
     "end_time": "2022-10-13T22:31:11.597138",
     "exception": false,
     "start_time": "2022-10-13T22:31:08.253546",
     "status": "completed"
    },
    "tags": []
   },
   "source": [
    "### Build and load Model"
   ]
  },
  {
   "cell_type": "code",
   "execution_count": 16,
   "id": "c2ee0472",
   "metadata": {
    "execution": {
     "iopub.execute_input": "2022-10-13T22:31:18.101380Z",
     "iopub.status.busy": "2022-10-13T22:31:18.101034Z",
     "iopub.status.idle": "2022-10-13T22:31:18.105351Z",
     "shell.execute_reply": "2022-10-13T22:31:18.104384Z"
    },
    "papermill": {
     "duration": 3.260844,
     "end_time": "2022-10-13T22:31:18.107462",
     "exception": false,
     "start_time": "2022-10-13T22:31:14.846618",
     "status": "completed"
    },
    "tags": []
   },
   "outputs": [],
   "source": [
    "# # detect and init the TPU\n",
    "# tpu = tf.distribute.cluster_resolver.TPUClusterResolver.connect()\n",
    "\n",
    "# # instantiate a distribution strategy\n",
    "# tpu_strategy = tf.distribute.experimental.TPUStrategy(tpu)"
   ]
  },
  {
   "cell_type": "code",
   "execution_count": 17,
   "id": "ed2a2f9a",
   "metadata": {
    "execution": {
     "iopub.execute_input": "2022-10-13T22:31:24.782014Z",
     "iopub.status.busy": "2022-10-13T22:31:24.781642Z",
     "iopub.status.idle": "2022-10-13T22:31:28.251658Z",
     "shell.execute_reply": "2022-10-13T22:31:28.250625Z"
    },
    "papermill": {
     "duration": 6.948602,
     "end_time": "2022-10-13T22:31:28.253855",
     "exception": false,
     "start_time": "2022-10-13T22:31:21.305253",
     "status": "completed"
    },
    "tags": []
   },
   "outputs": [
    {
     "name": "stderr",
     "output_type": "stream",
     "text": [
      "2022-10-13 22:31:24.828531: I tensorflow/stream_executor/cuda/cuda_gpu_executor.cc:937] successful NUMA node read from SysFS had negative value (-1), but there must be at least one NUMA node, so returning NUMA node zero\n",
      "2022-10-13 22:31:24.923632: I tensorflow/stream_executor/cuda/cuda_gpu_executor.cc:937] successful NUMA node read from SysFS had negative value (-1), but there must be at least one NUMA node, so returning NUMA node zero\n",
      "2022-10-13 22:31:24.924532: I tensorflow/stream_executor/cuda/cuda_gpu_executor.cc:937] successful NUMA node read from SysFS had negative value (-1), but there must be at least one NUMA node, so returning NUMA node zero\n",
      "2022-10-13 22:31:24.926011: I tensorflow/core/platform/cpu_feature_guard.cc:142] This TensorFlow binary is optimized with oneAPI Deep Neural Network Library (oneDNN) to use the following CPU instructions in performance-critical operations:  AVX2 AVX512F FMA\n",
      "To enable them in other operations, rebuild TensorFlow with the appropriate compiler flags.\n",
      "2022-10-13 22:31:24.926278: I tensorflow/stream_executor/cuda/cuda_gpu_executor.cc:937] successful NUMA node read from SysFS had negative value (-1), but there must be at least one NUMA node, so returning NUMA node zero\n",
      "2022-10-13 22:31:24.926969: I tensorflow/stream_executor/cuda/cuda_gpu_executor.cc:937] successful NUMA node read from SysFS had negative value (-1), but there must be at least one NUMA node, so returning NUMA node zero\n",
      "2022-10-13 22:31:24.927598: I tensorflow/stream_executor/cuda/cuda_gpu_executor.cc:937] successful NUMA node read from SysFS had negative value (-1), but there must be at least one NUMA node, so returning NUMA node zero\n",
      "2022-10-13 22:31:27.065042: I tensorflow/stream_executor/cuda/cuda_gpu_executor.cc:937] successful NUMA node read from SysFS had negative value (-1), but there must be at least one NUMA node, so returning NUMA node zero\n",
      "2022-10-13 22:31:27.065862: I tensorflow/stream_executor/cuda/cuda_gpu_executor.cc:937] successful NUMA node read from SysFS had negative value (-1), but there must be at least one NUMA node, so returning NUMA node zero\n",
      "2022-10-13 22:31:27.066521: I tensorflow/stream_executor/cuda/cuda_gpu_executor.cc:937] successful NUMA node read from SysFS had negative value (-1), but there must be at least one NUMA node, so returning NUMA node zero\n",
      "2022-10-13 22:31:27.067118: I tensorflow/core/common_runtime/gpu/gpu_device.cc:1510] Created device /job:localhost/replica:0/task:0/device:GPU:0 with 15401 MB memory:  -> device: 0, name: Tesla P100-PCIE-16GB, pci bus id: 0000:00:04.0, compute capability: 6.0\n"
     ]
    },
    {
     "name": "stdout",
     "output_type": "stream",
     "text": [
      "Downloading data from https://storage.googleapis.com/tensorflow/keras-applications/vgg16/vgg16_weights_tf_dim_ordering_tf_kernels_notop.h5\n",
      "58892288/58889256 [==============================] - 0s 0us/step\n",
      "58900480/58889256 [==============================] - 0s 0us/step\n"
     ]
    },
    {
     "data": {
      "text/plain": [
       "[<KerasTensor: shape=(None, 224, 224, 3) dtype=float32 (created by layer 'input_1')>]"
      ]
     },
     "execution_count": 17,
     "metadata": {},
     "output_type": "execute_result"
    }
   ],
   "source": [
    "# load VGG16 without the last 3 Dense layers, in order to train these new\n",
    "vgg = VGG16(input_shape=IMAGE_SIZE + [3], weights='imagenet', include_top=False)\n",
    "\n",
    "# check if input type is correct\n",
    "vgg.inputs"
   ]
  },
  {
   "cell_type": "code",
   "execution_count": 18,
   "id": "d7aa49dc",
   "metadata": {
    "execution": {
     "iopub.execute_input": "2022-10-13T22:31:35.541578Z",
     "iopub.status.busy": "2022-10-13T22:31:35.541223Z",
     "iopub.status.idle": "2022-10-13T22:31:35.584133Z",
     "shell.execute_reply": "2022-10-13T22:31:35.583229Z"
    },
    "papermill": {
     "duration": 3.460809,
     "end_time": "2022-10-13T22:31:35.586348",
     "exception": false,
     "start_time": "2022-10-13T22:31:32.125539",
     "status": "completed"
    },
    "tags": []
   },
   "outputs": [],
   "source": [
    "# all layers before are locked\n",
    "for layer in vgg.layers:\n",
    "  layer.trainable = False\n",
    "\n",
    "\n",
    "x = Flatten()(vgg.output)\n",
    "x = Dense(4096, activation='relu')(x)\n",
    "x = Dense(4096, activation='relu')(x)\n",
    "prediction = Dense(5, activation='softmax')(x)\n",
    "model = Model(inputs=vgg.input, outputs=prediction)\n",
    "    \n",
    "model.compile(optimizer=tf.keras.optimizers.Adam(learning_rate=0.001),\n",
    "              loss=tf.keras.losses.SparseCategoricalCrossentropy(),\n",
    "              metrics=[tf.keras.metrics.SparseCategoricalAccuracy()])\n",
    "\n",
    "# model.summary()\n",
    "#tf.keras.utils.plot_model( model , to_file='architecture.png' )\n",
    "\n",
    "\n",
    "\n",
    "# with tpu_strategy.scope():\n",
    "#     x = Flatten()(vgg.output)\n",
    "#     x = Dense(4096, activation='relu')(x)\n",
    "#     x = Dense(4096, activation='relu')(x)\n",
    "#     prediction = Dense(5, activation='softmax')(x)\n",
    "#     model = Model(inputs=vgg.input, outputs=prediction)\n",
    "    \n",
    "#     model.compile(optimizer=tf.keras.optimizers.Adam(learning_rate=0.001),\n",
    "#               loss=tf.keras.losses.SparseCategoricalCrossentropy(),\n",
    "#               metrics=[tf.keras.metrics.SparseCategoricalAccuracy()])"
   ]
  },
  {
   "cell_type": "code",
   "execution_count": 19,
   "id": "87974d8a",
   "metadata": {
    "execution": {
     "iopub.execute_input": "2022-10-13T22:31:42.075603Z",
     "iopub.status.busy": "2022-10-13T22:31:42.075257Z",
     "iopub.status.idle": "2022-10-14T02:09:04.457612Z",
     "shell.execute_reply": "2022-10-14T02:09:04.455974Z"
    },
    "papermill": {
     "duration": 13045.604904,
     "end_time": "2022-10-14T02:09:04.461111",
     "exception": false,
     "start_time": "2022-10-13T22:31:38.856207",
     "status": "completed"
    },
    "tags": []
   },
   "outputs": [
    {
     "name": "stderr",
     "output_type": "stream",
     "text": [
      "2022-10-13 22:31:43.044000: I tensorflow/compiler/mlir/mlir_graph_optimization_pass.cc:185] None of the MLIR Optimization Passes are enabled (registered 2)\n"
     ]
    },
    {
     "name": "stdout",
     "output_type": "stream",
     "text": [
      "Epoch 1/30\n"
     ]
    },
    {
     "name": "stderr",
     "output_type": "stream",
     "text": [
      "2022-10-13 22:31:45.747129: I tensorflow/stream_executor/cuda/cuda_dnn.cc:369] Loaded cuDNN version 8005\n"
     ]
    },
    {
     "name": "stdout",
     "output_type": "stream",
     "text": [
      "  1/371 [..............................] - ETA: 1:19:13 - loss: 1.7967 - sparse_categorical_accuracy: 0.0781"
     ]
    },
    {
     "name": "stderr",
     "output_type": "stream",
     "text": [
      "2022-10-13 22:31:55.946968: I tensorflow/core/profiler/lib/profiler_session.cc:131] Profiler session initializing.\n",
      "2022-10-13 22:31:55.947010: I tensorflow/core/profiler/lib/profiler_session.cc:146] Profiler session started.\n"
     ]
    },
    {
     "name": "stdout",
     "output_type": "stream",
     "text": [
      "  2/371 [..............................] - ETA: 3:00 - loss: 59.2755 - sparse_categorical_accuracy: 0.2578  "
     ]
    },
    {
     "name": "stderr",
     "output_type": "stream",
     "text": [
      "2022-10-13 22:31:56.418645: I tensorflow/core/profiler/lib/profiler_session.cc:66] Profiler session collecting data.\n",
      "2022-10-13 22:31:56.419211: I tensorflow/core/profiler/internal/gpu/cupti_tracer.cc:1748] CUPTI activity buffer flushed\n",
      "2022-10-13 22:31:56.561454: I tensorflow/core/profiler/internal/gpu/cupti_collector.cc:673]  GpuTracer has collected 145 callback api events and 142 activity events. \n",
      "2022-10-13 22:31:56.569170: I tensorflow/core/profiler/lib/profiler_session.cc:164] Profiler session tear down.\n",
      "2022-10-13 22:31:56.584182: I tensorflow/core/profiler/rpc/client/save_profile.cc:136] Creating directory: ../tblogs/age_model_22-10-13_22-31/train/plugins/profile/2022_10_13_22_31_56\n",
      "\n",
      "2022-10-13 22:31:56.588336: I tensorflow/core/profiler/rpc/client/save_profile.cc:142] Dumped gzipped tool data for trace.json.gz to ../tblogs/age_model_22-10-13_22-31/train/plugins/profile/2022_10_13_22_31_56/825804f94e2b.trace.json.gz\n",
      "2022-10-13 22:31:56.609534: I tensorflow/core/profiler/rpc/client/save_profile.cc:136] Creating directory: ../tblogs/age_model_22-10-13_22-31/train/plugins/profile/2022_10_13_22_31_56\n",
      "\n",
      "2022-10-13 22:31:56.611796: I tensorflow/core/profiler/rpc/client/save_profile.cc:142] Dumped gzipped tool data for memory_profile.json.gz to ../tblogs/age_model_22-10-13_22-31/train/plugins/profile/2022_10_13_22_31_56/825804f94e2b.memory_profile.json.gz\n",
      "2022-10-13 22:31:56.612651: I tensorflow/core/profiler/rpc/client/capture_profile.cc:251] Creating directory: ../tblogs/age_model_22-10-13_22-31/train/plugins/profile/2022_10_13_22_31_56\n",
      "Dumped tool data for xplane.pb to ../tblogs/age_model_22-10-13_22-31/train/plugins/profile/2022_10_13_22_31_56/825804f94e2b.xplane.pb\n",
      "Dumped tool data for overview_page.pb to ../tblogs/age_model_22-10-13_22-31/train/plugins/profile/2022_10_13_22_31_56/825804f94e2b.overview_page.pb\n",
      "Dumped tool data for input_pipeline.pb to ../tblogs/age_model_22-10-13_22-31/train/plugins/profile/2022_10_13_22_31_56/825804f94e2b.input_pipeline.pb\n",
      "Dumped tool data for tensorflow_stats.pb to ../tblogs/age_model_22-10-13_22-31/train/plugins/profile/2022_10_13_22_31_56/825804f94e2b.tensorflow_stats.pb\n",
      "Dumped tool data for kernel_stats.pb to ../tblogs/age_model_22-10-13_22-31/train/plugins/profile/2022_10_13_22_31_56/825804f94e2b.kernel_stats.pb\n",
      "\n"
     ]
    },
    {
     "name": "stdout",
     "output_type": "stream",
     "text": [
      "371/371 [==============================] - 436s 1s/step - loss: 1.2765 - sparse_categorical_accuracy: 0.6516 - val_loss: 0.6856 - val_sparse_categorical_accuracy: 0.7281\n",
      "\n",
      "Epoch 00001: val_sparse_categorical_accuracy improved from -inf to 0.72815, saving model to ./models/age_best_model.h5\n",
      "Epoch 2/30\n",
      "371/371 [==============================] - 431s 1s/step - loss: 0.7414 - sparse_categorical_accuracy: 0.7031 - val_loss: 0.6284 - val_sparse_categorical_accuracy: 0.7516\n",
      "\n",
      "Epoch 00002: val_sparse_categorical_accuracy improved from 0.72815 to 0.75156, saving model to ./models/age_best_model.h5\n",
      "Epoch 3/30\n",
      "371/371 [==============================] - 434s 1s/step - loss: 0.7195 - sparse_categorical_accuracy: 0.7093 - val_loss: 0.6354 - val_sparse_categorical_accuracy: 0.7486\n",
      "\n",
      "Epoch 00003: val_sparse_categorical_accuracy did not improve from 0.75156\n",
      "Epoch 4/30\n",
      "371/371 [==============================] - 419s 1s/step - loss: 0.7032 - sparse_categorical_accuracy: 0.7195 - val_loss: 0.6342 - val_sparse_categorical_accuracy: 0.7454\n",
      "\n",
      "Epoch 00004: val_sparse_categorical_accuracy did not improve from 0.75156\n",
      "Epoch 5/30\n",
      "371/371 [==============================] - 423s 1s/step - loss: 0.6768 - sparse_categorical_accuracy: 0.7283 - val_loss: 0.6062 - val_sparse_categorical_accuracy: 0.7586\n",
      "\n",
      "Epoch 00005: val_sparse_categorical_accuracy improved from 0.75156 to 0.75862, saving model to ./models/age_best_model.h5\n",
      "Epoch 6/30\n",
      "371/371 [==============================] - 433s 1s/step - loss: 0.6725 - sparse_categorical_accuracy: 0.7327 - val_loss: 0.5922 - val_sparse_categorical_accuracy: 0.7683\n",
      "\n",
      "Epoch 00006: val_sparse_categorical_accuracy improved from 0.75862 to 0.76827, saving model to ./models/age_best_model.h5\n",
      "Epoch 7/30\n",
      "371/371 [==============================] - 430s 1s/step - loss: 0.6589 - sparse_categorical_accuracy: 0.7363 - val_loss: 0.5860 - val_sparse_categorical_accuracy: 0.7682\n",
      "\n",
      "Epoch 00007: val_sparse_categorical_accuracy did not improve from 0.76827\n",
      "Epoch 8/30\n",
      "371/371 [==============================] - 433s 1s/step - loss: 0.6627 - sparse_categorical_accuracy: 0.7356 - val_loss: 0.5647 - val_sparse_categorical_accuracy: 0.7762\n",
      "\n",
      "Epoch 00008: val_sparse_categorical_accuracy improved from 0.76827 to 0.77623, saving model to ./models/age_best_model.h5\n",
      "Epoch 9/30\n",
      "371/371 [==============================] - 432s 1s/step - loss: 0.6478 - sparse_categorical_accuracy: 0.7415 - val_loss: 0.5668 - val_sparse_categorical_accuracy: 0.7705\n",
      "\n",
      "Epoch 00009: val_sparse_categorical_accuracy did not improve from 0.77623\n",
      "Epoch 10/30\n",
      "371/371 [==============================] - 435s 1s/step - loss: 0.6421 - sparse_categorical_accuracy: 0.7433 - val_loss: 0.5646 - val_sparse_categorical_accuracy: 0.7739\n",
      "\n",
      "Epoch 00010: val_sparse_categorical_accuracy did not improve from 0.77623\n",
      "Epoch 11/30\n",
      "371/371 [==============================] - 436s 1s/step - loss: 0.6333 - sparse_categorical_accuracy: 0.7457 - val_loss: 0.5378 - val_sparse_categorical_accuracy: 0.7852\n",
      "\n",
      "Epoch 00011: val_sparse_categorical_accuracy improved from 0.77623 to 0.78519, saving model to ./models/age_best_model.h5\n",
      "Epoch 12/30\n",
      "371/371 [==============================] - 421s 1s/step - loss: 0.6317 - sparse_categorical_accuracy: 0.7467 - val_loss: 0.5656 - val_sparse_categorical_accuracy: 0.7696\n",
      "\n",
      "Epoch 00012: val_sparse_categorical_accuracy did not improve from 0.78519\n",
      "Epoch 13/30\n",
      "371/371 [==============================] - 431s 1s/step - loss: 0.6235 - sparse_categorical_accuracy: 0.7481 - val_loss: 0.5736 - val_sparse_categorical_accuracy: 0.7649\n",
      "\n",
      "Epoch 00013: val_sparse_categorical_accuracy did not improve from 0.78519\n",
      "Epoch 14/30\n",
      "371/371 [==============================] - 439s 1s/step - loss: 0.6274 - sparse_categorical_accuracy: 0.7463 - val_loss: 0.5238 - val_sparse_categorical_accuracy: 0.7892\n",
      "\n",
      "Epoch 00014: val_sparse_categorical_accuracy improved from 0.78519 to 0.78920, saving model to ./models/age_best_model.h5\n",
      "Epoch 15/30\n",
      "371/371 [==============================] - 434s 1s/step - loss: 0.6110 - sparse_categorical_accuracy: 0.7523 - val_loss: 0.5361 - val_sparse_categorical_accuracy: 0.7828\n",
      "\n",
      "Epoch 00015: val_sparse_categorical_accuracy did not improve from 0.78920\n",
      "Epoch 16/30\n",
      "371/371 [==============================] - 432s 1s/step - loss: 0.6179 - sparse_categorical_accuracy: 0.7502 - val_loss: 0.5509 - val_sparse_categorical_accuracy: 0.7772\n",
      "\n",
      "Epoch 00016: val_sparse_categorical_accuracy did not improve from 0.78920\n",
      "Epoch 17/30\n",
      "371/371 [==============================] - 421s 1s/step - loss: 0.6126 - sparse_categorical_accuracy: 0.7527 - val_loss: 0.5229 - val_sparse_categorical_accuracy: 0.7889\n",
      "\n",
      "Epoch 00017: val_sparse_categorical_accuracy did not improve from 0.78920\n",
      "Epoch 18/30\n",
      "371/371 [==============================] - 434s 1s/step - loss: 0.6103 - sparse_categorical_accuracy: 0.7529 - val_loss: 0.5666 - val_sparse_categorical_accuracy: 0.7651\n",
      "\n",
      "Epoch 00018: val_sparse_categorical_accuracy did not improve from 0.78920\n",
      "Epoch 19/30\n",
      "371/371 [==============================] - 417s 1s/step - loss: 0.6037 - sparse_categorical_accuracy: 0.7561 - val_loss: 0.5584 - val_sparse_categorical_accuracy: 0.7748\n",
      "\n",
      "Epoch 00019: val_sparse_categorical_accuracy did not improve from 0.78920\n",
      "Epoch 20/30\n",
      "371/371 [==============================] - 406s 1s/step - loss: 0.5984 - sparse_categorical_accuracy: 0.7553 - val_loss: 0.5096 - val_sparse_categorical_accuracy: 0.7947\n",
      "\n",
      "Epoch 00020: val_sparse_categorical_accuracy improved from 0.78920 to 0.79474, saving model to ./models/age_best_model.h5\n",
      "Epoch 21/30\n",
      "371/371 [==============================] - 411s 1s/step - loss: 0.5996 - sparse_categorical_accuracy: 0.7590 - val_loss: 0.5191 - val_sparse_categorical_accuracy: 0.7916\n",
      "\n",
      "Epoch 00021: val_sparse_categorical_accuracy did not improve from 0.79474\n",
      "Epoch 22/30\n",
      "371/371 [==============================] - 422s 1s/step - loss: 0.5912 - sparse_categorical_accuracy: 0.7617 - val_loss: 0.4984 - val_sparse_categorical_accuracy: 0.7995\n",
      "\n",
      "Epoch 00022: val_sparse_categorical_accuracy improved from 0.79474 to 0.79954, saving model to ./models/age_best_model.h5\n",
      "Epoch 23/30\n",
      "371/371 [==============================] - 423s 1s/step - loss: 0.5908 - sparse_categorical_accuracy: 0.7616 - val_loss: 0.5038 - val_sparse_categorical_accuracy: 0.7969\n",
      "\n",
      "Epoch 00023: val_sparse_categorical_accuracy did not improve from 0.79954\n",
      "Epoch 24/30\n",
      "371/371 [==============================] - 422s 1s/step - loss: 0.5888 - sparse_categorical_accuracy: 0.7657 - val_loss: 0.5017 - val_sparse_categorical_accuracy: 0.8000\n",
      "\n",
      "Epoch 00024: val_sparse_categorical_accuracy improved from 0.79954 to 0.80001, saving model to ./models/age_best_model.h5\n",
      "Epoch 25/30\n",
      "371/371 [==============================] - 423s 1s/step - loss: 0.5887 - sparse_categorical_accuracy: 0.7635 - val_loss: 0.5144 - val_sparse_categorical_accuracy: 0.7904\n",
      "\n",
      "Epoch 00025: val_sparse_categorical_accuracy did not improve from 0.80001\n",
      "Epoch 26/30\n",
      "371/371 [==============================] - 419s 1s/step - loss: 0.5829 - sparse_categorical_accuracy: 0.7654 - val_loss: 0.4872 - val_sparse_categorical_accuracy: 0.8049\n",
      "\n",
      "Epoch 00026: val_sparse_categorical_accuracy improved from 0.80001 to 0.80491, saving model to ./models/age_best_model.h5\n",
      "Epoch 27/30\n",
      "371/371 [==============================] - 422s 1s/step - loss: 0.5767 - sparse_categorical_accuracy: 0.7692 - val_loss: 0.5139 - val_sparse_categorical_accuracy: 0.7977\n",
      "\n",
      "Epoch 00027: val_sparse_categorical_accuracy did not improve from 0.80491\n",
      "Epoch 28/30\n",
      "371/371 [==============================] - 423s 1s/step - loss: 0.5835 - sparse_categorical_accuracy: 0.7628 - val_loss: 0.4824 - val_sparse_categorical_accuracy: 0.8076\n",
      "\n",
      "Epoch 00028: val_sparse_categorical_accuracy improved from 0.80491 to 0.80755, saving model to ./models/age_best_model.h5\n",
      "Epoch 29/30\n",
      "371/371 [==============================] - 435s 1s/step - loss: 0.5735 - sparse_categorical_accuracy: 0.7681 - val_loss: 0.4890 - val_sparse_categorical_accuracy: 0.8038\n",
      "\n",
      "Epoch 00029: val_sparse_categorical_accuracy did not improve from 0.80755\n",
      "Epoch 30/30\n",
      "371/371 [==============================] - 426s 1s/step - loss: 0.5734 - sparse_categorical_accuracy: 0.7708 - val_loss: 0.4788 - val_sparse_categorical_accuracy: 0.8084\n",
      "\n",
      "Epoch 00030: val_sparse_categorical_accuracy improved from 0.80755 to 0.80845, saving model to ./models/age_best_model.h5\n"
     ]
    }
   ],
   "source": [
    "from keras import callbacks\n",
    "\n",
    "earlystopping = callbacks.EarlyStopping(monitor =\"val_loss\", \n",
    "                                        mode =\"min\", patience = 5, \n",
    "                                        restore_best_weights = True)\n",
    "\n",
    "history = model.fit(train_generator,\n",
    "                    epochs=NR_EPOCHS,\n",
    "                    validation_data=val_generator,\n",
    "                    callbacks = [tensorboard_callback, checkpoint]\n",
    "                    )\n"
   ]
  },
  {
   "cell_type": "markdown",
   "id": "b665aa52",
   "metadata": {
    "papermill": {
     "duration": 4.066272,
     "end_time": "2022-10-14T02:09:12.323920",
     "exception": false,
     "start_time": "2022-10-14T02:09:08.257648",
     "status": "completed"
    },
    "tags": []
   },
   "source": [
    "### Plot Training and Validation Loss"
   ]
  },
  {
   "cell_type": "code",
   "execution_count": 20,
   "id": "c7aae094",
   "metadata": {
    "execution": {
     "iopub.execute_input": "2022-10-14T02:09:20.012029Z",
     "iopub.status.busy": "2022-10-14T02:09:20.011641Z",
     "iopub.status.idle": "2022-10-14T02:09:20.018057Z",
     "shell.execute_reply": "2022-10-14T02:09:20.017129Z"
    },
    "papermill": {
     "duration": 3.948707,
     "end_time": "2022-10-14T02:09:20.020442",
     "exception": false,
     "start_time": "2022-10-14T02:09:16.071735",
     "status": "completed"
    },
    "tags": []
   },
   "outputs": [
    {
     "data": {
      "text/plain": [
       "dict_keys(['loss', 'sparse_categorical_accuracy', 'val_loss', 'val_sparse_categorical_accuracy'])"
      ]
     },
     "execution_count": 20,
     "metadata": {},
     "output_type": "execute_result"
    }
   ],
   "source": [
    "# print keys \n",
    "history.history.keys()"
   ]
  },
  {
   "cell_type": "code",
   "execution_count": 21,
   "id": "b5511a9a",
   "metadata": {
    "execution": {
     "iopub.execute_input": "2022-10-14T02:09:28.129842Z",
     "iopub.status.busy": "2022-10-14T02:09:28.129435Z",
     "iopub.status.idle": "2022-10-14T02:09:28.357450Z",
     "shell.execute_reply": "2022-10-14T02:09:28.356576Z"
    },
    "papermill": {
     "duration": 4.435879,
     "end_time": "2022-10-14T02:09:28.359590",
     "exception": false,
     "start_time": "2022-10-14T02:09:23.923711",
     "status": "completed"
    },
    "tags": []
   },
   "outputs": [
    {
     "data": {
      "image/png": "[encoded data removed]",
      "text/plain": [
       "<Figure size 432x288 with 1 Axes>"
      ]
     },
     "metadata": {
      "needs_background": "light"
     },
     "output_type": "display_data"
    }
   ],
   "source": [
    "loss_train = history.history['loss']\n",
    "loss_val = history.history['val_loss']\n",
    "epochs = range(NR_EPOCHS)\n",
    "plt.plot(epochs, loss_train, 'g', label='Training loss')\n",
    "plt.plot(epochs, loss_val, 'b', label='Validation loss')\n",
    "plt.title('Training and validation loss')\n",
    "plt.xlabel('Epochs')\n",
    "plt.ylabel('Loss')\n",
    "plt.legend()\n",
    "plt.show()"
   ]
  },
  {
   "cell_type": "code",
   "execution_count": 22,
   "id": "eb8cee31",
   "metadata": {
    "execution": {
     "iopub.execute_input": "2022-10-14T02:09:36.172327Z",
     "iopub.status.busy": "2022-10-14T02:09:36.171964Z",
     "iopub.status.idle": "2022-10-14T02:09:36.386438Z",
     "shell.execute_reply": "2022-10-14T02:09:36.385575Z"
    },
    "papermill": {
     "duration": 3.963729,
     "end_time": "2022-10-14T02:09:36.388360",
     "exception": false,
     "start_time": "2022-10-14T02:09:32.424631",
     "status": "completed"
    },
    "tags": []
   },
   "outputs": [
    {
     "data": {
      "image/png": "[encoded data removed]",
      "text/plain": [
       "<Figure size 432x288 with 1 Axes>"
      ]
     },
     "metadata": {
      "needs_background": "light"
     },
     "output_type": "display_data"
    }
   ],
   "source": [
    "loss_train = history.history['sparse_categorical_accuracy']\n",
    "loss_val = history.history['val_sparse_categorical_accuracy']\n",
    "epochs = range(NR_EPOCHS)\n",
    "plt.plot(epochs, loss_train, 'g', label='Training accuracy')\n",
    "plt.plot(epochs, loss_val, 'b', label='Validation accuracy')\n",
    "plt.title('Training and validation accuracy')\n",
    "plt.xlabel('Epochs')\n",
    "plt.ylabel('Accuracy')\n",
    "plt.legend()\n",
    "plt.show()"
   ]
  },
  {
   "cell_type": "markdown",
   "id": "dc06d711",
   "metadata": {
    "papermill": {
     "duration": 3.979421,
     "end_time": "2022-10-14T02:09:44.228233",
     "exception": false,
     "start_time": "2022-10-14T02:09:40.248812",
     "status": "completed"
    },
    "tags": []
   },
   "source": [
    "### Load model and validate"
   ]
  },
  {
   "cell_type": "code",
   "execution_count": 23,
   "id": "298a75e3",
   "metadata": {
    "execution": {
     "iopub.execute_input": "2022-10-14T02:09:51.816223Z",
     "iopub.status.busy": "2022-10-14T02:09:51.815850Z",
     "iopub.status.idle": "2022-10-14T02:10:14.580138Z",
     "shell.execute_reply": "2022-10-14T02:10:14.579066Z"
    },
    "papermill": {
     "duration": 26.594607,
     "end_time": "2022-10-14T02:10:14.582289",
     "exception": false,
     "start_time": "2022-10-14T02:09:47.987682",
     "status": "completed"
    },
    "tags": []
   },
   "outputs": [
    {
     "name": "stdout",
     "output_type": "stream",
     "text": [
      "75/75 [==============================] - 19s 245ms/step - loss: 0.4805 - sparse_categorical_accuracy: 0.8049\n",
      "0.4804902672767639 0.8049346208572388\n"
     ]
    }
   ],
   "source": [
    "model_age = load_model(\"./models/age_best_model.h5\")\n",
    "loss, acc = model_age.evaluate(test_generator)\n",
    "print (loss, acc)"
   ]
  },
  {
   "cell_type": "markdown",
   "id": "de411040",
   "metadata": {
    "papermill": {
     "duration": 3.869857,
     "end_time": "2022-10-14T02:10:22.510844",
     "exception": false,
     "start_time": "2022-10-14T02:10:18.640987",
     "status": "completed"
    },
    "tags": []
   },
   "source": [
    "### Show sample results"
   ]
  },
  {
   "cell_type": "code",
   "execution_count": 24,
   "id": "433482de",
   "metadata": {
    "execution": {
     "iopub.execute_input": "2022-10-14T02:10:30.744528Z",
     "iopub.status.busy": "2022-10-14T02:10:30.744151Z",
     "iopub.status.idle": "2022-10-14T02:10:35.069198Z",
     "shell.execute_reply": "2022-10-14T02:10:35.068352Z"
    },
    "papermill": {
     "duration": 8.757984,
     "end_time": "2022-10-14T02:10:35.071397",
     "exception": false,
     "start_time": "2022-10-14T02:10:26.313413",
     "status": "completed"
    },
    "tags": []
   },
   "outputs": [
    {
     "data": {
      "image/png": "[encoded data removed]",
      "text/plain": [
       "<Figure size 720x720 with 16 Axes>"
      ]
     },
     "metadata": {
      "needs_background": "light"
     },
     "output_type": "display_data"
    }
   ],
   "source": [
    "def show_faces(images, age=None, pred_age=None):\n",
    "    plt.figure(figsize=(10,10))\n",
    "    labels = {\"Age\": [pred_age, age]}\n",
    "    for i in range(16):\n",
    "        plt.subplot(4,4, i+1)\n",
    "        plt.axis('off')\n",
    "        #plt.xticks([])\n",
    "        #plt.yticks([])\n",
    "        #plt.grid(False)\n",
    "        plt.imshow(images[i])\n",
    "        \n",
    "        if pred_age[i] is None:\n",
    "            continue\n",
    "           \n",
    "            \n",
    "        real_age = int(age[i])\n",
    "        predicted_age = np.argmax(predicted[i])\n",
    "                \n",
    "                \n",
    "        plt.title(f\"Age Class: {age_dict[real_age]}\\n Predicted Age Class: {age_dict[predicted_age]}\", fontsize=8)\n",
    "            \n",
    "        plt.subplots_adjust(wspace=0.3)\n",
    "\n",
    "sample_validation_images, sample_validation_labels = next(test_generator)\n",
    "predicted = model_age.predict(sample_validation_images)\n",
    "show_faces(sample_validation_images, age=sample_validation_labels, pred_age=predicted)"
   ]
  },
  {
   "cell_type": "markdown",
   "id": "a002a848",
   "metadata": {
    "papermill": {
     "duration": 3.726945,
     "end_time": "2022-10-14T02:10:42.960365",
     "exception": false,
     "start_time": "2022-10-14T02:10:39.233420",
     "status": "completed"
    },
    "tags": []
   },
   "source": [
    "## Direct Age Estimation"
   ]
  },
  {
   "cell_type": "code",
   "execution_count": 25,
   "id": "f1dc6df9",
   "metadata": {
    "execution": {
     "iopub.execute_input": "2022-10-14T02:10:50.789144Z",
     "iopub.status.busy": "2022-10-14T02:10:50.788783Z",
     "iopub.status.idle": "2022-10-14T02:10:50.793439Z",
     "shell.execute_reply": "2022-10-14T02:10:50.792429Z"
    },
    "papermill": {
     "duration": 3.997651,
     "end_time": "2022-10-14T02:10:50.795422",
     "exception": false,
     "start_time": "2022-10-14T02:10:46.797771",
     "status": "completed"
    },
    "tags": []
   },
   "outputs": [],
   "source": [
    "NR_EPOCHS = 30"
   ]
  },
  {
   "cell_type": "code",
   "execution_count": 26,
   "id": "3cfc1d4b",
   "metadata": {
    "execution": {
     "iopub.execute_input": "2022-10-14T02:10:58.407812Z",
     "iopub.status.busy": "2022-10-14T02:10:58.407428Z",
     "iopub.status.idle": "2022-10-14T02:10:58.413116Z",
     "shell.execute_reply": "2022-10-14T02:10:58.412188Z"
    },
    "papermill": {
     "duration": 3.880653,
     "end_time": "2022-10-14T02:10:58.415041",
     "exception": false,
     "start_time": "2022-10-14T02:10:54.534388",
     "status": "completed"
    },
    "tags": []
   },
   "outputs": [],
   "source": [
    "# reads image_path and returns decoded img \n",
    "def process_path(file_path, label):\n",
    "    #read file path\n",
    "    img = tf.io.read_file(file_path)\n",
    "    img = tf.image.decode_jpeg(img, channels=3)\n",
    "    #convert the values from 0-1\n",
    "    img = tf.image.convert_image_dtype(img, tf.float32)\n",
    "    # preprocess image for VGG16\n",
    "    img = preprocess_input(img)\n",
    "    img = tf.image.resize(img, IMAGE_SIZE)\n",
    "    return img, label"
   ]
  },
  {
   "cell_type": "code",
   "execution_count": 27,
   "id": "13bc6ecd",
   "metadata": {
    "execution": {
     "iopub.execute_input": "2022-10-14T02:11:06.484527Z",
     "iopub.status.busy": "2022-10-14T02:11:06.484125Z",
     "iopub.status.idle": "2022-10-14T02:11:06.488992Z",
     "shell.execute_reply": "2022-10-14T02:11:06.487936Z"
    },
    "papermill": {
     "duration": 3.72622,
     "end_time": "2022-10-14T02:11:06.491308",
     "exception": false,
     "start_time": "2022-10-14T02:11:02.765088",
     "status": "completed"
    },
    "tags": []
   },
   "outputs": [],
   "source": [
    "BASE = \"./ds/output/\""
   ]
  },
  {
   "cell_type": "code",
   "execution_count": 28,
   "id": "4fe18fb4",
   "metadata": {
    "execution": {
     "iopub.execute_input": "2022-10-14T02:11:14.428732Z",
     "iopub.status.busy": "2022-10-14T02:11:14.428353Z",
     "iopub.status.idle": "2022-10-14T02:11:14.832237Z",
     "shell.execute_reply": "2022-10-14T02:11:14.831117Z"
    },
    "papermill": {
     "duration": 4.409842,
     "end_time": "2022-10-14T02:11:14.834596",
     "exception": false,
     "start_time": "2022-10-14T02:11:10.424754",
     "status": "completed"
    },
    "tags": []
   },
   "outputs": [
    {
     "name": "stdout",
     "output_type": "stream",
     "text": [
      "55000\n"
     ]
    },
    {
     "data": {
      "application/vnd.jupyter.widget-view+json": {
       "model_id": "4beb7193e37d42a8bf802b0c904b7ea1",
       "version_major": 2,
       "version_minor": 0
      },
      "text/plain": [
       "  0%|          | 0/55000 [00:00<?, ?it/s]"
      ]
     },
     "metadata": {},
     "output_type": "display_data"
    },
    {
     "name": "stdout",
     "output_type": "stream",
     "text": [
      "Counter({'20-40': 28155, '0-20': 11370, '40-60': 9990, '60-80': 4280, '80+': 1205})\n"
     ]
    }
   ],
   "source": [
    "# read labels of image age, gender\n",
    "image_paths = []\n",
    "age_labels = []\n",
    "gender_labels =[]\n",
    "age_class = []\n",
    "print(len(os.listdir(BASE)))\n",
    "for filename in tqdm(os.listdir(BASE)):\n",
    "  image_path = os.path.join(BASE, filename)\n",
    "  #split filename to get labels\n",
    "  temp= filename.split('_')\n",
    "  #print(temp)\n",
    "  age = int(temp[2])\n",
    "  gender = int(temp[3])\n",
    "  image_paths.append(image_path)\n",
    "  age_labels.append(age)\n",
    "  gender_labels.append(gender)\n",
    "  age_class.append(age_to_class(age))\n",
    "\n",
    "names = []\n",
    "for path in image_paths:\n",
    "  temp = path.split('/')\n",
    "  #print(temp[3])\n",
    "  names.append(temp[3])\n",
    "\n",
    "#convert to dataframe\n",
    "aug_df = pd.DataFrame()\n",
    "aug_df['image'], aug_df['age'], aug_df['gender'], aug_df['age_class'], aug_df['name'] = image_paths, age_labels, gender_labels, age_class, names\n",
    "aug_df.head()\n",
    "aug_df\n",
    "\n",
    "age_verbose = [age_dict[int(age)] for age in aug_df['age_class']]\n",
    "\n",
    "print(Counter(age_verbose))\n",
    "\n"
   ]
  },
  {
   "cell_type": "markdown",
   "id": "3acadfc2",
   "metadata": {
    "papermill": {
     "duration": 4.0684,
     "end_time": "2022-10-14T02:11:22.677398",
     "exception": false,
     "start_time": "2022-10-14T02:11:18.608998",
     "status": "completed"
    },
    "tags": []
   },
   "source": [
    "### Split Dataset in Train, Validation and Test Dataset"
   ]
  },
  {
   "cell_type": "code",
   "execution_count": 29,
   "id": "7e59897b",
   "metadata": {
    "execution": {
     "iopub.execute_input": "2022-10-14T02:11:30.211297Z",
     "iopub.status.busy": "2022-10-14T02:11:30.210887Z",
     "iopub.status.idle": "2022-10-14T02:11:30.225239Z",
     "shell.execute_reply": "2022-10-14T02:11:30.224370Z"
    },
    "papermill": {
     "duration": 3.816792,
     "end_time": "2022-10-14T02:11:30.227268",
     "exception": false,
     "start_time": "2022-10-14T02:11:26.410476",
     "status": "completed"
    },
    "tags": []
   },
   "outputs": [],
   "source": [
    "training_data = aug_df\n",
    "val_data = df.sample(frac=0.8, random_state=25)\n",
    "testing_data = df.drop(val_data.index)"
   ]
  },
  {
   "cell_type": "code",
   "execution_count": 30,
   "id": "9a137d7c",
   "metadata": {
    "execution": {
     "iopub.execute_input": "2022-10-14T02:11:38.633654Z",
     "iopub.status.busy": "2022-10-14T02:11:38.633297Z",
     "iopub.status.idle": "2022-10-14T02:11:38.647239Z",
     "shell.execute_reply": "2022-10-14T02:11:38.646313Z"
    },
    "papermill": {
     "duration": 3.811962,
     "end_time": "2022-10-14T02:11:38.649448",
     "exception": false,
     "start_time": "2022-10-14T02:11:34.837486",
     "status": "completed"
    },
    "tags": []
   },
   "outputs": [],
   "source": [
    "labels_train =  tf.keras.utils.to_categorical(training_data['age'], num_classes=117)\n",
    "labels_val =  tf.keras.utils.to_categorical(val_data['age'], num_classes=117)\n",
    "labels_test =  tf.keras.utils.to_categorical(testing_data['age'], num_classes=117) "
   ]
  },
  {
   "cell_type": "code",
   "execution_count": 31,
   "id": "4c9265e4",
   "metadata": {
    "execution": {
     "iopub.execute_input": "2022-10-14T02:11:46.586053Z",
     "iopub.status.busy": "2022-10-14T02:11:46.585635Z",
     "iopub.status.idle": "2022-10-14T02:11:46.733449Z",
     "shell.execute_reply": "2022-10-14T02:11:46.732447Z"
    },
    "papermill": {
     "duration": 4.301089,
     "end_time": "2022-10-14T02:11:46.735595",
     "exception": false,
     "start_time": "2022-10-14T02:11:42.434506",
     "status": "completed"
    },
    "tags": []
   },
   "outputs": [],
   "source": [
    "train_dataset = tf.data.Dataset.from_tensor_slices((training_data['image'],labels_train))\n",
    "train_dataset = train_dataset.shuffle(len(training_data))\n",
    "train_dataset =train_dataset.map(process_path, num_parallel_calls=4)\n",
    "train_dataset = train_dataset.batch(64)\n",
    "\n",
    "\n",
    "val_dataset = tf.data.Dataset.from_tensor_slices((val_data['image'],labels_val))\n",
    "val_dataset = val_dataset.shuffle(len(val_data))\n",
    "val_dataset = val_dataset.map(process_path, num_parallel_calls=4)\n",
    "val_dataset = val_dataset.batch(64)\n",
    "\n",
    "test_dataset = tf.data.Dataset.from_tensor_slices((testing_data['image'],labels_test))\n",
    "test_dataset = test_dataset.shuffle(len(testing_data))\n",
    "test_dataset = test_dataset.map(process_path, num_parallel_calls=4)\n",
    "test_dataset = test_dataset.batch(64)"
   ]
  },
  {
   "cell_type": "markdown",
   "id": "7d2e404b",
   "metadata": {
    "papermill": {
     "duration": 3.809608,
     "end_time": "2022-10-14T02:11:54.439261",
     "exception": false,
     "start_time": "2022-10-14T02:11:50.629653",
     "status": "completed"
    },
    "tags": []
   },
   "source": [
    "### Load and build model"
   ]
  },
  {
   "cell_type": "code",
   "execution_count": 32,
   "id": "85bd55d7",
   "metadata": {
    "execution": {
     "iopub.execute_input": "2022-10-14T02:12:02.205472Z",
     "iopub.status.busy": "2022-10-14T02:12:02.205106Z",
     "iopub.status.idle": "2022-10-14T02:12:02.471220Z",
     "shell.execute_reply": "2022-10-14T02:12:02.470237Z"
    },
    "papermill": {
     "duration": 4.126178,
     "end_time": "2022-10-14T02:12:02.473557",
     "exception": false,
     "start_time": "2022-10-14T02:11:58.347379",
     "status": "completed"
    },
    "tags": []
   },
   "outputs": [],
   "source": [
    "model2 = VGG16(input_shape=[224,224,3],weights='imagenet', include_top=False)\n",
    "\n",
    "for layer in model.layers:\n",
    "    layer.trainable=False"
   ]
  },
  {
   "cell_type": "code",
   "execution_count": 33,
   "id": "2159dc43",
   "metadata": {
    "execution": {
     "iopub.execute_input": "2022-10-14T02:12:10.706979Z",
     "iopub.status.busy": "2022-10-14T02:12:10.706594Z",
     "iopub.status.idle": "2022-10-14T02:12:10.740286Z",
     "shell.execute_reply": "2022-10-14T02:12:10.738981Z"
    },
    "papermill": {
     "duration": 3.819308,
     "end_time": "2022-10-14T02:12:10.742269",
     "exception": false,
     "start_time": "2022-10-14T02:12:06.922961",
     "status": "completed"
    },
    "tags": []
   },
   "outputs": [
    {
     "name": "stdout",
     "output_type": "stream",
     "text": [
      "Model: \"model_1\"\n",
      "_________________________________________________________________\n",
      "Layer (type)                 Output Shape              Param #   \n",
      "=================================================================\n",
      "input_2 (InputLayer)         [(None, 224, 224, 3)]     0         \n",
      "_________________________________________________________________\n",
      "block1_conv1 (Conv2D)        (None, 224, 224, 64)      1792      \n",
      "_________________________________________________________________\n",
      "block1_conv2 (Conv2D)        (None, 224, 224, 64)      36928     \n",
      "_________________________________________________________________\n",
      "block1_pool (MaxPooling2D)   (None, 112, 112, 64)      0         \n",
      "_________________________________________________________________\n",
      "block2_conv1 (Conv2D)        (None, 112, 112, 128)     73856     \n",
      "_________________________________________________________________\n",
      "block2_conv2 (Conv2D)        (None, 112, 112, 128)     147584    \n",
      "_________________________________________________________________\n",
      "block2_pool (MaxPooling2D)   (None, 56, 56, 128)       0         \n",
      "_________________________________________________________________\n",
      "block3_conv1 (Conv2D)        (None, 56, 56, 256)       295168    \n",
      "_________________________________________________________________\n",
      "block3_conv2 (Conv2D)        (None, 56, 56, 256)       590080    \n",
      "_________________________________________________________________\n",
      "block3_conv3 (Conv2D)        (None, 56, 56, 256)       590080    \n",
      "_________________________________________________________________\n",
      "block3_pool (MaxPooling2D)   (None, 28, 28, 256)       0         \n",
      "_________________________________________________________________\n",
      "block4_conv1 (Conv2D)        (None, 28, 28, 512)       1180160   \n",
      "_________________________________________________________________\n",
      "block4_conv2 (Conv2D)        (None, 28, 28, 512)       2359808   \n",
      "_________________________________________________________________\n",
      "block4_conv3 (Conv2D)        (None, 28, 28, 512)       2359808   \n",
      "_________________________________________________________________\n",
      "block4_pool (MaxPooling2D)   (None, 14, 14, 512)       0         \n",
      "_________________________________________________________________\n",
      "block5_conv1 (Conv2D)        (None, 14, 14, 512)       2359808   \n",
      "_________________________________________________________________\n",
      "block5_conv2 (Conv2D)        (None, 14, 14, 512)       2359808   \n",
      "_________________________________________________________________\n",
      "block5_conv3 (Conv2D)        (None, 14, 14, 512)       2359808   \n",
      "_________________________________________________________________\n",
      "block5_pool (MaxPooling2D)   (None, 7, 7, 512)         0         \n",
      "_________________________________________________________________\n",
      "flatten_1 (Flatten)          (None, 25088)             0         \n",
      "_________________________________________________________________\n",
      "dense_3 (Dense)              (None, 4096)              102764544 \n",
      "_________________________________________________________________\n",
      "dense_4 (Dense)              (None, 4096)              16781312  \n",
      "_________________________________________________________________\n",
      "dense_5 (Dense)              (None, 117)               479349    \n",
      "=================================================================\n",
      "Total params: 134,739,893\n",
      "Trainable params: 134,739,893\n",
      "Non-trainable params: 0\n",
      "_________________________________________________________________\n"
     ]
    }
   ],
   "source": [
    "x2 = Flatten()(model2.output)\n",
    "x2 = Dense(4096, activation='relu')(x2)\n",
    "x2 = Dense(4096, activation='relu')(x2)\n",
    "prediction2 = Dense(117, activation='softmax')(x2)\n",
    "model_direct = Model(inputs=model2.input, outputs=prediction2)\n",
    "model_direct.summary()\n",
    "\n"
   ]
  },
  {
   "cell_type": "code",
   "execution_count": 34,
   "id": "bad0f80b",
   "metadata": {
    "execution": {
     "iopub.execute_input": "2022-10-14T02:12:18.678830Z",
     "iopub.status.busy": "2022-10-14T02:12:18.678439Z",
     "iopub.status.idle": "2022-10-14T02:12:18.689243Z",
     "shell.execute_reply": "2022-10-14T02:12:18.688400Z"
    },
    "papermill": {
     "duration": 4.129704,
     "end_time": "2022-10-14T02:12:18.691243",
     "exception": false,
     "start_time": "2022-10-14T02:12:14.561539",
     "status": "completed"
    },
    "tags": []
   },
   "outputs": [],
   "source": [
    "model_direct.compile(optimizer=tf.keras.optimizers.Adam(learning_rate=0.001),\n",
    "              loss=tf.keras.losses.CategoricalCrossentropy(),\n",
    "              metrics=['accuracy'])"
   ]
  },
  {
   "cell_type": "code",
   "execution_count": 35,
   "id": "3e9b035c",
   "metadata": {
    "execution": {
     "iopub.execute_input": "2022-10-14T02:12:26.229215Z",
     "iopub.status.busy": "2022-10-14T02:12:26.228843Z",
     "iopub.status.idle": "2022-10-14T02:12:26.606850Z",
     "shell.execute_reply": "2022-10-14T02:12:26.605732Z"
    },
    "papermill": {
     "duration": 4.164588,
     "end_time": "2022-10-14T02:12:26.608705",
     "exception": false,
     "start_time": "2022-10-14T02:12:22.444117",
     "status": "completed"
    },
    "tags": []
   },
   "outputs": [
    {
     "name": "stderr",
     "output_type": "stream",
     "text": [
      "2022-10-14 02:12:26.231751: I tensorflow/core/profiler/lib/profiler_session.cc:131] Profiler session initializing.\n",
      "2022-10-14 02:12:26.231803: I tensorflow/core/profiler/lib/profiler_session.cc:146] Profiler session started.\n",
      "2022-10-14 02:12:26.474654: I tensorflow/core/profiler/lib/profiler_session.cc:164] Profiler session tear down.\n",
      "2022-10-14 02:12:26.474843: I tensorflow/core/profiler/internal/gpu/cupti_tracer.cc:1748] CUPTI activity buffer flushed\n"
     ]
    },
    {
     "data": {
      "text/plain": [
       "'../tblogs/direct_age_model_aug22-10-14_02-12'"
      ]
     },
     "execution_count": 35,
     "metadata": {},
     "output_type": "execute_result"
    }
   ],
   "source": [
    "\n",
    "DIRECT_PATH = \"./models/direct_age_aug_best_model.h5\"\n",
    "\n",
    "\n",
    "checkpoint = tf.keras.callbacks.ModelCheckpoint(DIRECT_PATH, \n",
    "                                                monitor='val_accuracy', \n",
    "                                                verbose=1, \n",
    "                                                save_best_only=True, \n",
    "                                                mode='max')\n",
    "\n",
    "import datetime\n",
    "log_dir = '../tblogs/direct_age_model_aug' + datetime.datetime.now().strftime('%y-%m-%d_%H-%M')\n",
    "tensorboard_callback = tf.keras.callbacks.TensorBoard(log_dir=log_dir, histogram_freq=0)\n",
    "\n",
    "log_dir"
   ]
  },
  {
   "cell_type": "code",
   "execution_count": 36,
   "id": "65b8caa9",
   "metadata": {
    "execution": {
     "iopub.execute_input": "2022-10-14T02:12:34.375101Z",
     "iopub.status.busy": "2022-10-14T02:12:34.374736Z",
     "iopub.status.idle": "2022-10-14T05:40:39.359502Z",
     "shell.execute_reply": "2022-10-14T05:40:39.358363Z"
    },
    "papermill": {
     "duration": 12488.712694,
     "end_time": "2022-10-14T05:40:39.361762",
     "exception": false,
     "start_time": "2022-10-14T02:12:30.649068",
     "status": "completed"
    },
    "tags": []
   },
   "outputs": [
    {
     "name": "stdout",
     "output_type": "stream",
     "text": [
      "Epoch 1/30\n",
      "  1/860 [..............................] - ETA: 59:00 - loss: 5.9837 - accuracy: 0.0000e+00"
     ]
    },
    {
     "name": "stderr",
     "output_type": "stream",
     "text": [
      "2022-10-14 02:12:38.610598: I tensorflow/core/profiler/lib/profiler_session.cc:131] Profiler session initializing.\n",
      "2022-10-14 02:12:38.610647: I tensorflow/core/profiler/lib/profiler_session.cc:146] Profiler session started.\n"
     ]
    },
    {
     "name": "stdout",
     "output_type": "stream",
     "text": [
      "  2/860 [..............................] - ETA: 9:18 - loss: 13.3306 - accuracy: 0.0391    "
     ]
    },
    {
     "name": "stderr",
     "output_type": "stream",
     "text": [
      "2022-10-14 02:12:39.315541: I tensorflow/core/profiler/lib/profiler_session.cc:66] Profiler session collecting data.\n",
      "2022-10-14 02:12:39.316433: I tensorflow/core/profiler/internal/gpu/cupti_tracer.cc:1748] CUPTI activity buffer flushed\n",
      "2022-10-14 02:12:39.449107: I tensorflow/core/profiler/internal/gpu/cupti_collector.cc:673]  GpuTracer has collected 352 callback api events and 349 activity events. \n",
      "2022-10-14 02:12:39.459175: I tensorflow/core/profiler/lib/profiler_session.cc:164] Profiler session tear down.\n",
      "2022-10-14 02:12:39.472702: I tensorflow/core/profiler/rpc/client/save_profile.cc:136] Creating directory: ../tblogs/direct_age_model_aug22-10-14_02-12/train/plugins/profile/2022_10_14_02_12_39\n",
      "\n",
      "2022-10-14 02:12:39.482684: I tensorflow/core/profiler/rpc/client/save_profile.cc:142] Dumped gzipped tool data for trace.json.gz to ../tblogs/direct_age_model_aug22-10-14_02-12/train/plugins/profile/2022_10_14_02_12_39/825804f94e2b.trace.json.gz\n",
      "2022-10-14 02:12:39.498396: I tensorflow/core/profiler/rpc/client/save_profile.cc:136] Creating directory: ../tblogs/direct_age_model_aug22-10-14_02-12/train/plugins/profile/2022_10_14_02_12_39\n",
      "\n",
      "2022-10-14 02:12:39.501643: I tensorflow/core/profiler/rpc/client/save_profile.cc:142] Dumped gzipped tool data for memory_profile.json.gz to ../tblogs/direct_age_model_aug22-10-14_02-12/train/plugins/profile/2022_10_14_02_12_39/825804f94e2b.memory_profile.json.gz\n",
      "2022-10-14 02:12:39.502627: I tensorflow/core/profiler/rpc/client/capture_profile.cc:251] Creating directory: ../tblogs/direct_age_model_aug22-10-14_02-12/train/plugins/profile/2022_10_14_02_12_39\n",
      "Dumped tool data for xplane.pb to ../tblogs/direct_age_model_aug22-10-14_02-12/train/plugins/profile/2022_10_14_02_12_39/825804f94e2b.xplane.pb\n",
      "Dumped tool data for overview_page.pb to ../tblogs/direct_age_model_aug22-10-14_02-12/train/plugins/profile/2022_10_14_02_12_39/825804f94e2b.overview_page.pb\n",
      "Dumped tool data for input_pipeline.pb to ../tblogs/direct_age_model_aug22-10-14_02-12/train/plugins/profile/2022_10_14_02_12_39/825804f94e2b.input_pipeline.pb\n",
      "Dumped tool data for tensorflow_stats.pb to ../tblogs/direct_age_model_aug22-10-14_02-12/train/plugins/profile/2022_10_14_02_12_39/825804f94e2b.tensorflow_stats.pb\n",
      "Dumped tool data for kernel_stats.pb to ../tblogs/direct_age_model_aug22-10-14_02-12/train/plugins/profile/2022_10_14_02_12_39/825804f94e2b.kernel_stats.pb\n",
      "\n"
     ]
    },
    {
     "name": "stdout",
     "output_type": "stream",
     "text": [
      "860/860 [==============================] - 428s 493ms/step - loss: 4.2223 - accuracy: 0.0901 - val_loss: 4.0813 - val_accuracy: 0.0923\n",
      "\n",
      "Epoch 00001: val_accuracy improved from -inf to 0.09232, saving model to ./models/direct_age_aug_best_model.h5\n",
      "Epoch 2/30\n",
      "860/860 [==============================] - 382s 444ms/step - loss: 4.0768 - accuracy: 0.0916 - val_loss: 4.0740 - val_accuracy: 0.0923\n",
      "\n",
      "Epoch 00002: val_accuracy did not improve from 0.09232\n",
      "Epoch 3/30\n",
      "860/860 [==============================] - 421s 489ms/step - loss: 4.0739 - accuracy: 0.0916 - val_loss: 4.0754 - val_accuracy: 0.0923\n",
      "\n",
      "Epoch 00003: val_accuracy did not improve from 0.09232\n",
      "Epoch 4/30\n",
      "860/860 [==============================] - 420s 489ms/step - loss: 4.0732 - accuracy: 0.0916 - val_loss: 4.0727 - val_accuracy: 0.0923\n",
      "\n",
      "Epoch 00004: val_accuracy did not improve from 0.09232\n",
      "Epoch 5/30\n",
      "860/860 [==============================] - 380s 441ms/step - loss: 4.0722 - accuracy: 0.0916 - val_loss: 4.0725 - val_accuracy: 0.0923\n",
      "\n",
      "Epoch 00005: val_accuracy did not improve from 0.09232\n",
      "Epoch 6/30\n",
      "860/860 [==============================] - 380s 442ms/step - loss: 4.0714 - accuracy: 0.0916 - val_loss: 4.0724 - val_accuracy: 0.0923\n",
      "\n",
      "Epoch 00006: val_accuracy did not improve from 0.09232\n",
      "Epoch 7/30\n",
      "860/860 [==============================] - 381s 443ms/step - loss: 4.0705 - accuracy: 0.0916 - val_loss: 4.0723 - val_accuracy: 0.0923\n",
      "\n",
      "Epoch 00007: val_accuracy did not improve from 0.09232\n",
      "Epoch 8/30\n",
      "860/860 [==============================] - 420s 489ms/step - loss: 4.0703 - accuracy: 0.0916 - val_loss: 4.0714 - val_accuracy: 0.0923\n",
      "\n",
      "Epoch 00008: val_accuracy did not improve from 0.09232\n",
      "Epoch 9/30\n",
      "860/860 [==============================] - 421s 489ms/step - loss: 4.0701 - accuracy: 0.0916 - val_loss: 4.0738 - val_accuracy: 0.0923\n",
      "\n",
      "Epoch 00009: val_accuracy did not improve from 0.09232\n",
      "Epoch 10/30\n",
      "860/860 [==============================] - 421s 489ms/step - loss: 4.0695 - accuracy: 0.0916 - val_loss: 4.0717 - val_accuracy: 0.0923\n",
      "\n",
      "Epoch 00010: val_accuracy did not improve from 0.09232\n",
      "Epoch 11/30\n",
      "860/860 [==============================] - 421s 489ms/step - loss: 4.0695 - accuracy: 0.0916 - val_loss: 4.0704 - val_accuracy: 0.0923\n",
      "\n",
      "Epoch 00011: val_accuracy did not improve from 0.09232\n",
      "Epoch 12/30\n",
      "860/860 [==============================] - 421s 489ms/step - loss: 4.0689 - accuracy: 0.0916 - val_loss: 4.0710 - val_accuracy: 0.0923\n",
      "\n",
      "Epoch 00012: val_accuracy did not improve from 0.09232\n",
      "Epoch 13/30\n",
      "860/860 [==============================] - 421s 489ms/step - loss: 4.0688 - accuracy: 0.0916 - val_loss: 4.0697 - val_accuracy: 0.0923\n",
      "\n",
      "Epoch 00013: val_accuracy did not improve from 0.09232\n",
      "Epoch 14/30\n",
      "860/860 [==============================] - 380s 442ms/step - loss: 4.0686 - accuracy: 0.0916 - val_loss: 4.0692 - val_accuracy: 0.0923\n",
      "\n",
      "Epoch 00014: val_accuracy did not improve from 0.09232\n",
      "Epoch 15/30\n",
      "860/860 [==============================] - 421s 489ms/step - loss: 4.0687 - accuracy: 0.0916 - val_loss: 4.0692 - val_accuracy: 0.0923\n",
      "\n",
      "Epoch 00015: val_accuracy did not improve from 0.09232\n",
      "Epoch 16/30\n",
      "860/860 [==============================] - 381s 443ms/step - loss: 4.0681 - accuracy: 0.0916 - val_loss: 4.0704 - val_accuracy: 0.0923\n",
      "\n",
      "Epoch 00016: val_accuracy did not improve from 0.09232\n",
      "Epoch 17/30\n",
      "860/860 [==============================] - 421s 490ms/step - loss: 4.0682 - accuracy: 0.0916 - val_loss: 4.0698 - val_accuracy: 0.0923\n",
      "\n",
      "Epoch 00017: val_accuracy did not improve from 0.09232\n",
      "Epoch 18/30\n",
      "860/860 [==============================] - 421s 489ms/step - loss: 4.0680 - accuracy: 0.0916 - val_loss: 4.0686 - val_accuracy: 0.0923\n",
      "\n",
      "Epoch 00018: val_accuracy did not improve from 0.09232\n",
      "Epoch 19/30\n",
      "860/860 [==============================] - 421s 489ms/step - loss: 4.0679 - accuracy: 0.0916 - val_loss: 4.0694 - val_accuracy: 0.0923\n",
      "\n",
      "Epoch 00019: val_accuracy did not improve from 0.09232\n",
      "Epoch 20/30\n",
      "860/860 [==============================] - 421s 489ms/step - loss: 4.0679 - accuracy: 0.0916 - val_loss: 4.0692 - val_accuracy: 0.0923\n",
      "\n",
      "Epoch 00020: val_accuracy did not improve from 0.09232\n",
      "Epoch 21/30\n",
      "860/860 [==============================] - 421s 489ms/step - loss: 4.0679 - accuracy: 0.0916 - val_loss: 4.0686 - val_accuracy: 0.0923\n",
      "\n",
      "Epoch 00021: val_accuracy did not improve from 0.09232\n",
      "Epoch 22/30\n",
      "860/860 [==============================] - 381s 442ms/step - loss: 4.0678 - accuracy: 0.0916 - val_loss: 4.0695 - val_accuracy: 0.0923\n",
      "\n",
      "Epoch 00022: val_accuracy did not improve from 0.09232\n",
      "Epoch 23/30\n",
      "860/860 [==============================] - 383s 446ms/step - loss: 4.0677 - accuracy: 0.0916 - val_loss: 4.0692 - val_accuracy: 0.0923\n",
      "\n",
      "Epoch 00023: val_accuracy did not improve from 0.09232\n",
      "Epoch 24/30\n",
      "860/860 [==============================] - 382s 444ms/step - loss: 4.0677 - accuracy: 0.0916 - val_loss: 4.0685 - val_accuracy: 0.0923\n",
      "\n",
      "Epoch 00024: val_accuracy did not improve from 0.09232\n",
      "Epoch 25/30\n",
      "860/860 [==============================] - 421s 489ms/step - loss: 4.0676 - accuracy: 0.0916 - val_loss: 4.0683 - val_accuracy: 0.0923\n",
      "\n",
      "Epoch 00025: val_accuracy did not improve from 0.09232\n",
      "Epoch 26/30\n",
      "860/860 [==============================] - 421s 489ms/step - loss: 4.0676 - accuracy: 0.0916 - val_loss: 4.0690 - val_accuracy: 0.0923\n",
      "\n",
      "Epoch 00026: val_accuracy did not improve from 0.09232\n",
      "Epoch 27/30\n",
      "860/860 [==============================] - 421s 489ms/step - loss: 4.0677 - accuracy: 0.0916 - val_loss: 4.0683 - val_accuracy: 0.0923\n",
      "\n",
      "Epoch 00027: val_accuracy did not improve from 0.09232\n",
      "Epoch 28/30\n",
      "860/860 [==============================] - 381s 443ms/step - loss: 4.0674 - accuracy: 0.0916 - val_loss: 4.0684 - val_accuracy: 0.0923\n",
      "\n",
      "Epoch 00028: val_accuracy did not improve from 0.09232\n",
      "Epoch 29/30\n",
      "860/860 [==============================] - 381s 442ms/step - loss: 4.0674 - accuracy: 0.0916 - val_loss: 4.0687 - val_accuracy: 0.0923\n",
      "\n",
      "Epoch 00029: val_accuracy did not improve from 0.09232\n",
      "Epoch 30/30\n",
      "860/860 [==============================] - 382s 444ms/step - loss: 4.0674 - accuracy: 0.0916 - val_loss: 4.0681 - val_accuracy: 0.0923\n",
      "\n",
      "Epoch 00030: val_accuracy did not improve from 0.09232\n"
     ]
    }
   ],
   "source": [
    "from keras import callbacks\n",
    "\n",
    "earlystopping = callbacks.EarlyStopping(monitor =\"val_loss\", \n",
    "                                        mode =\"min\", patience = 5, \n",
    "                                        restore_best_weights = True)\n",
    "\n",
    "history_direct = model_direct.fit(train_dataset,\n",
    "                    epochs=NR_EPOCHS,\n",
    "                    batch_size = 64,\n",
    "                    validation_data=val_dataset,\n",
    "                    callbacks = [tensorboard_callback, checkpoint]\n",
    "                    )\n"
   ]
  },
  {
   "cell_type": "markdown",
   "id": "70d527b4",
   "metadata": {
    "papermill": {
     "duration": 5.312649,
     "end_time": "2022-10-14T05:40:50.065024",
     "exception": false,
     "start_time": "2022-10-14T05:40:44.752375",
     "status": "completed"
    },
    "tags": []
   },
   "source": [
    "### Plot Training and Validation Loss"
   ]
  },
  {
   "cell_type": "code",
   "execution_count": 37,
   "id": "6ee01a03",
   "metadata": {
    "execution": {
     "iopub.execute_input": "2022-10-14T05:41:00.742616Z",
     "iopub.status.busy": "2022-10-14T05:41:00.742254Z",
     "iopub.status.idle": "2022-10-14T05:41:00.748849Z",
     "shell.execute_reply": "2022-10-14T05:41:00.747916Z"
    },
    "papermill": {
     "duration": 5.113041,
     "end_time": "2022-10-14T05:41:00.751444",
     "exception": false,
     "start_time": "2022-10-14T05:40:55.638403",
     "status": "completed"
    },
    "tags": []
   },
   "outputs": [
    {
     "data": {
      "text/plain": [
       "dict_keys(['loss', 'accuracy', 'val_loss', 'val_accuracy'])"
      ]
     },
     "execution_count": 37,
     "metadata": {},
     "output_type": "execute_result"
    }
   ],
   "source": [
    "history_direct.history.keys()"
   ]
  },
  {
   "cell_type": "code",
   "execution_count": 38,
   "id": "7ad0eef5",
   "metadata": {
    "execution": {
     "iopub.execute_input": "2022-10-14T05:41:11.830040Z",
     "iopub.status.busy": "2022-10-14T05:41:11.829654Z",
     "iopub.status.idle": "2022-10-14T05:41:12.035889Z",
     "shell.execute_reply": "2022-10-14T05:41:12.034944Z"
    },
    "papermill": {
     "duration": 5.477818,
     "end_time": "2022-10-14T05:41:12.038148",
     "exception": false,
     "start_time": "2022-10-14T05:41:06.560330",
     "status": "completed"
    },
    "tags": []
   },
   "outputs": [
    {
     "data": {
      "image/png": "[encoded data removed]",
      "text/plain": [
       "<Figure size 432x288 with 1 Axes>"
      ]
     },
     "metadata": {
      "needs_background": "light"
     },
     "output_type": "display_data"
    }
   ],
   "source": [
    "loss_train_direct = history_direct.history['loss']\n",
    "loss_val_direct = history_direct.history['val_loss']\n",
    "epochs = range(NR_EPOCHS)\n",
    "plt.plot(epochs, loss_train_direct, 'g', label='Training loss')\n",
    "plt.plot(epochs, loss_val_direct, 'b', label='Validation loss')\n",
    "plt.title('Training and validation loss')\n",
    "plt.xlabel('Epochs')\n",
    "plt.ylabel('Loss')\n",
    "plt.legend()\n",
    "plt.show()"
   ]
  },
  {
   "cell_type": "code",
   "execution_count": 39,
   "id": "9d3f528c",
   "metadata": {
    "execution": {
     "iopub.execute_input": "2022-10-14T05:41:22.729189Z",
     "iopub.status.busy": "2022-10-14T05:41:22.728825Z",
     "iopub.status.idle": "2022-10-14T05:41:22.925583Z",
     "shell.execute_reply": "2022-10-14T05:41:22.924601Z"
    },
    "papermill": {
     "duration": 5.359086,
     "end_time": "2022-10-14T05:41:22.927782",
     "exception": false,
     "start_time": "2022-10-14T05:41:17.568696",
     "status": "completed"
    },
    "tags": []
   },
   "outputs": [
    {
     "data": {
      "image/png": "[encoded data removed]",
      "text/plain": [
       "<Figure size 432x288 with 1 Axes>"
      ]
     },
     "metadata": {
      "needs_background": "light"
     },
     "output_type": "display_data"
    }
   ],
   "source": [
    "accuracy_direct = history_direct.history['accuracy']\n",
    "accuracy_val_direct = history_direct.history['val_accuracy']\n",
    "epochs = range(NR_EPOCHS)\n",
    "plt.plot(epochs, accuracy_direct, 'g', label='Training accuracy')\n",
    "plt.plot(epochs, accuracy_val_direct, 'b', label='Validation accuracy')\n",
    "plt.title('Training and validation accuracy')\n",
    "plt.xlabel('Epochs')\n",
    "plt.ylabel('Accuracy')\n",
    "plt.legend()\n",
    "plt.show()"
   ]
  },
  {
   "cell_type": "code",
   "execution_count": 40,
   "id": "4afc32cb",
   "metadata": {
    "execution": {
     "iopub.execute_input": "2022-10-14T05:41:34.072450Z",
     "iopub.status.busy": "2022-10-14T05:41:34.072087Z",
     "iopub.status.idle": "2022-10-14T05:41:51.722493Z",
     "shell.execute_reply": "2022-10-14T05:41:51.721327Z"
    },
    "papermill": {
     "duration": 23.414929,
     "end_time": "2022-10-14T05:41:51.724511",
     "exception": false,
     "start_time": "2022-10-14T05:41:28.309582",
     "status": "completed"
    },
    "tags": []
   },
   "outputs": [
    {
     "name": "stdout",
     "output_type": "stream",
     "text": [
      "75/75 [==============================] - 13s 163ms/step - loss: 4.0729 - accuracy: 0.0941\n",
      "4.072911262512207 0.09405314177274704\n"
     ]
    }
   ],
   "source": [
    "from tensorflow.keras.models import load_model\n",
    "\n",
    "model_age_direct = load_model(\"./models/direct_age_aug_best_model.h5\")\n",
    "loss, acc = model_age_direct.evaluate(test_dataset)\n",
    "print(loss, acc)"
   ]
  }
 ],
 "metadata": {
  "kernelspec": {
   "display_name": "Python 3",
   "language": "python",
   "name": "python3"
  },
  "language_info": {
   "codemirror_mode": {
    "name": "ipython",
    "version": 3
   },
   "file_extension": ".py",
   "mimetype": "text/x-python",
   "name": "python",
   "nbconvert_exporter": "python",
   "pygments_lexer": "ipython3",
   "version": "3.7.12"
  },
  "papermill": {
   "default_parameters": {},
   "duration": 26628.30782,
   "end_time": "2022-10-14T05:41:59.884951",
   "environment_variables": {},
   "exception": null,
   "input_path": "__notebook__.ipynb",
   "output_path": "__notebook__.ipynb",
   "parameters": {},
   "start_time": "2022-10-13T22:18:11.577131",
   "version": "2.3.4"
  },
  "widgets": {
   "application/vnd.jupyter.widget-state+json": {
    "state": {
     "143e2c96b6ad45f292bd60f8db8ac9fc": {
      "model_module": "@jupyter-widgets/base",
      "model_module_version": "1.2.0",
      "model_name": "LayoutModel",
      "state": {
       "_model_module": "@jupyter-widgets/base",
       "_model_module_version": "1.2.0",
       "_model_name": "LayoutModel",
       "_view_count": null,
       "_view_module": "@jupyter-widgets/base",
       "_view_module_version": "1.2.0",
       "_view_name": "LayoutView",
       "align_content": null,
       "align_items": null,
       "align_self": null,
       "border": null,
       "bottom": null,
       "display": null,
       "flex": null,
       "flex_flow": null,
       "grid_area": null,
       "grid_auto_columns": null,
       "grid_auto_flow": null,
       "grid_auto_rows": null,
       "grid_column": null,
       "grid_gap": null,
       "grid_row": null,
       "grid_template_areas": null,
       "grid_template_columns": null,
       "grid_template_rows": null,
       "height": null,
       "justify_content": null,
       "justify_items": null,
       "left": null,
       "margin": null,
       "max_height": null,
       "max_width": null,
       "min_height": null,
       "min_width": null,
       "object_fit": null,
       "object_position": null,
       "order": null,
       "overflow": null,
       "overflow_x": null,
       "overflow_y": null,
       "padding": null,
       "right": null,
       "top": null,
       "visibility": null,
       "width": null
      }
     },
     "14a76e1bd7a74985bbcdbd7f252bc611": {
      "model_module": "@jupyter-widgets/controls",
      "model_module_version": "1.5.0",
      "model_name": "DescriptionStyleModel",
      "state": {
       "_model_module": "@jupyter-widgets/controls",
       "_model_module_version": "1.5.0",
       "_model_name": "DescriptionStyleModel",
       "_view_count": null,
       "_view_module": "@jupyter-widgets/base",
       "_view_module_version": "1.2.0",
       "_view_name": "StyleView",
       "description_width": ""
      }
     },
     "183a517395cc4ca289251308afc37062": {
      "model_module": "@jupyter-widgets/base",
      "model_module_version": "1.2.0",
      "model_name": "LayoutModel",
      "state": {
       "_model_module": "@jupyter-widgets/base",
       "_model_module_version": "1.2.0",
       "_model_name": "LayoutModel",
       "_view_count": null,
       "_view_module": "@jupyter-widgets/base",
       "_view_module_version": "1.2.0",
       "_view_name": "LayoutView",
       "align_content": null,
       "align_items": null,
       "align_self": null,
       "border": null,
       "bottom": null,
       "display": null,
       "flex": null,
       "flex_flow": null,
       "grid_area": null,
       "grid_auto_columns": null,
       "grid_auto_flow": null,
       "grid_auto_rows": null,
       "grid_column": null,
       "grid_gap": null,
       "grid_row": null,
       "grid_template_areas": null,
       "grid_template_columns": null,
       "grid_template_rows": null,
       "height": null,
       "justify_content": null,
       "justify_items": null,
       "left": null,
       "margin": null,
       "max_height": null,
       "max_width": null,
       "min_height": null,
       "min_width": null,
       "object_fit": null,
       "object_position": null,
       "order": null,
       "overflow": null,
       "overflow_x": null,
       "overflow_y": null,
       "padding": null,
       "right": null,
       "top": null,
       "visibility": null,
       "width": null
      }
     },
     "2bdfaedaf0fd4e84bd066ad44b367ee8": {
      "model_module": "@jupyter-widgets/controls",
      "model_module_version": "1.5.0",
      "model_name": "ProgressStyleModel",
      "state": {
       "_model_module": "@jupyter-widgets/controls",
       "_model_module_version": "1.5.0",
       "_model_name": "ProgressStyleModel",
       "_view_count": null,
       "_view_module": "@jupyter-widgets/base",
       "_view_module_version": "1.2.0",
       "_view_name": "StyleView",
       "bar_color": null,
       "description_width": ""
      }
     },
     "470521e302a4480e8c1062f612a335ac": {
      "model_module": "@jupyter-widgets/base",
      "model_module_version": "1.2.0",
      "model_name": "LayoutModel",
      "state": {
       "_model_module": "@jupyter-widgets/base",
       "_model_module_version": "1.2.0",
       "_model_name": "LayoutModel",
       "_view_count": null,
       "_view_module": "@jupyter-widgets/base",
       "_view_module_version": "1.2.0",
       "_view_name": "LayoutView",
       "align_content": null,
       "align_items": null,
       "align_self": null,
       "border": null,
       "bottom": null,
       "display": null,
       "flex": null,
       "flex_flow": null,
       "grid_area": null,
       "grid_auto_columns": null,
       "grid_auto_flow": null,
       "grid_auto_rows": null,
       "grid_column": null,
       "grid_gap": null,
       "grid_row": null,
       "grid_template_areas": null,
       "grid_template_columns": null,
       "grid_template_rows": null,
       "height": null,
       "justify_content": null,
       "justify_items": null,
       "left": null,
       "margin": null,
       "max_height": null,
       "max_width": null,
       "min_height": null,
       "min_width": null,
       "object_fit": null,
       "object_position": null,
       "order": null,
       "overflow": null,
       "overflow_x": null,
       "overflow_y": null,
       "padding": null,
       "right": null,
       "top": null,
       "visibility": null,
       "width": null
      }
     },
     "4beb7193e37d42a8bf802b0c904b7ea1": {
      "model_module": "@jupyter-widgets/controls",
      "model_module_version": "1.5.0",
      "model_name": "HBoxModel",
      "state": {
       "_dom_classes": [],
       "_model_module": "@jupyter-widgets/controls",
       "_model_module_version": "1.5.0",
       "_model_name": "HBoxModel",
       "_view_count": null,
       "_view_module": "@jupyter-widgets/controls",
       "_view_module_version": "1.5.0",
       "_view_name": "HBoxView",
       "box_style": "",
       "children": [
        "IPY_MODEL_83e5166ef34446b2808696a0045d1b36",
        "IPY_MODEL_7c2d50fe7fd546b484286e3b23b7dc6f",
        "IPY_MODEL_963a94613f214020860862cfc762980a"
       ],
       "layout": "IPY_MODEL_470521e302a4480e8c1062f612a335ac"
      }
     },
     "6894d66eefdc45a9bfecd12983b78419": {
      "model_module": "@jupyter-widgets/base",
      "model_module_version": "1.2.0",
      "model_name": "LayoutModel",
      "state": {
       "_model_module": "@jupyter-widgets/base",
       "_model_module_version": "1.2.0",
       "_model_name": "LayoutModel",
       "_view_count": null,
       "_view_module": "@jupyter-widgets/base",
       "_view_module_version": "1.2.0",
       "_view_name": "LayoutView",
       "align_content": null,
       "align_items": null,
       "align_self": null,
       "border": null,
       "bottom": null,
       "display": null,
       "flex": null,
       "flex_flow": null,
       "grid_area": null,
       "grid_auto_columns": null,
       "grid_auto_flow": null,
       "grid_auto_rows": null,
       "grid_column": null,
       "grid_gap": null,
       "grid_row": null,
       "grid_template_areas": null,
       "grid_template_columns": null,
       "grid_template_rows": null,
       "height": null,
       "justify_content": null,
       "justify_items": null,
       "left": null,
       "margin": null,
       "max_height": null,
       "max_width": null,
       "min_height": null,
       "min_width": null,
       "object_fit": null,
       "object_position": null,
       "order": null,
       "overflow": null,
       "overflow_x": null,
       "overflow_y": null,
       "padding": null,
       "right": null,
       "top": null,
       "visibility": null,
       "width": null
      }
     },
     "70f3c2897ade4f8cbc9f1e8d91e020fd": {
      "model_module": "@jupyter-widgets/base",
      "model_module_version": "1.2.0",
      "model_name": "LayoutModel",
      "state": {
       "_model_module": "@jupyter-widgets/base",
       "_model_module_version": "1.2.0",
       "_model_name": "LayoutModel",
       "_view_count": null,
       "_view_module": "@jupyter-widgets/base",
       "_view_module_version": "1.2.0",
       "_view_name": "LayoutView",
       "align_content": null,
       "align_items": null,
       "align_self": null,
       "border": null,
       "bottom": null,
       "display": null,
       "flex": null,
       "flex_flow": null,
       "grid_area": null,
       "grid_auto_columns": null,
       "grid_auto_flow": null,
       "grid_auto_rows": null,
       "grid_column": null,
       "grid_gap": null,
       "grid_row": null,
       "grid_template_areas": null,
       "grid_template_columns": null,
       "grid_template_rows": null,
       "height": null,
       "justify_content": null,
       "justify_items": null,
       "left": null,
       "margin": null,
       "max_height": null,
       "max_width": null,
       "min_height": null,
       "min_width": null,
       "object_fit": null,
       "object_position": null,
       "order": null,
       "overflow": null,
       "overflow_x": null,
       "overflow_y": null,
       "padding": null,
       "right": null,
       "top": null,
       "visibility": null,
       "width": null
      }
     },
     "77b291cbbe1f433fb9c3dad4596cea83": {
      "model_module": "@jupyter-widgets/base",
      "model_module_version": "1.2.0",
      "model_name": "LayoutModel",
      "state": {
       "_model_module": "@jupyter-widgets/base",
       "_model_module_version": "1.2.0",
       "_model_name": "LayoutModel",
       "_view_count": null,
       "_view_module": "@jupyter-widgets/base",
       "_view_module_version": "1.2.0",
       "_view_name": "LayoutView",
       "align_content": null,
       "align_items": null,
       "align_self": null,
       "border": null,
       "bottom": null,
       "display": null,
       "flex": null,
       "flex_flow": null,
       "grid_area": null,
       "grid_auto_columns": null,
       "grid_auto_flow": null,
       "grid_auto_rows": null,
       "grid_column": null,
       "grid_gap": null,
       "grid_row": null,
       "grid_template_areas": null,
       "grid_template_columns": null,
       "grid_template_rows": null,
       "height": null,
       "justify_content": null,
       "justify_items": null,
       "left": null,
       "margin": null,
       "max_height": null,
       "max_width": null,
       "min_height": null,
       "min_width": null,
       "object_fit": null,
       "object_position": null,
       "order": null,
       "overflow": null,
       "overflow_x": null,
       "overflow_y": null,
       "padding": null,
       "right": null,
       "top": null,
       "visibility": null,
       "width": null
      }
     },
     "7c2d50fe7fd546b484286e3b23b7dc6f": {
      "model_module": "@jupyter-widgets/controls",
      "model_module_version": "1.5.0",
      "model_name": "FloatProgressModel",
      "state": {
       "_dom_classes": [],
       "_model_module": "@jupyter-widgets/controls",
       "_model_module_version": "1.5.0",
       "_model_name": "FloatProgressModel",
       "_view_count": null,
       "_view_module": "@jupyter-widgets/controls",
       "_view_module_version": "1.5.0",
       "_view_name": "ProgressView",
       "bar_style": "success",
       "description": "",
       "description_tooltip": null,
       "layout": "IPY_MODEL_6894d66eefdc45a9bfecd12983b78419",
       "max": 55000.0,
       "min": 0.0,
       "orientation": "horizontal",
       "style": "IPY_MODEL_cadba6c3a2194a7983a55867870d9a74",
       "value": 55000.0
      }
     },
     "7cb7287476b9485f9a50b7a3735a6345": {
      "model_module": "@jupyter-widgets/controls",
      "model_module_version": "1.5.0",
      "model_name": "DescriptionStyleModel",
      "state": {
       "_model_module": "@jupyter-widgets/controls",
       "_model_module_version": "1.5.0",
       "_model_name": "DescriptionStyleModel",
       "_view_count": null,
       "_view_module": "@jupyter-widgets/base",
       "_view_module_version": "1.2.0",
       "_view_name": "StyleView",
       "description_width": ""
      }
     },
     "83e5166ef34446b2808696a0045d1b36": {
      "model_module": "@jupyter-widgets/controls",
      "model_module_version": "1.5.0",
      "model_name": "HTMLModel",
      "state": {
       "_dom_classes": [],
       "_model_module": "@jupyter-widgets/controls",
       "_model_module_version": "1.5.0",
       "_model_name": "HTMLModel",
       "_view_count": null,
       "_view_module": "@jupyter-widgets/controls",
       "_view_module_version": "1.5.0",
       "_view_name": "HTMLView",
       "description": "",
       "description_tooltip": null,
       "layout": "IPY_MODEL_93ee5fed76d24889b07b401b622018ea",
       "placeholder": "​",
       "style": "IPY_MODEL_14a76e1bd7a74985bbcdbd7f252bc611",
       "value": "100%"
      }
     },
     "93ee5fed76d24889b07b401b622018ea": {
      "model_module": "@jupyter-widgets/base",
      "model_module_version": "1.2.0",
      "model_name": "LayoutModel",
      "state": {
       "_model_module": "@jupyter-widgets/base",
       "_model_module_version": "1.2.0",
       "_model_name": "LayoutModel",
       "_view_count": null,
       "_view_module": "@jupyter-widgets/base",
       "_view_module_version": "1.2.0",
       "_view_name": "LayoutView",
       "align_content": null,
       "align_items": null,
       "align_self": null,
       "border": null,
       "bottom": null,
       "display": null,
       "flex": null,
       "flex_flow": null,
       "grid_area": null,
       "grid_auto_columns": null,
       "grid_auto_flow": null,
       "grid_auto_rows": null,
       "grid_column": null,
       "grid_gap": null,
       "grid_row": null,
       "grid_template_areas": null,
       "grid_template_columns": null,
       "grid_template_rows": null,
       "height": null,
       "justify_content": null,
       "justify_items": null,
       "left": null,
       "margin": null,
       "max_height": null,
       "max_width": null,
       "min_height": null,
       "min_width": null,
       "object_fit": null,
       "object_position": null,
       "order": null,
       "overflow": null,
       "overflow_x": null,
       "overflow_y": null,
       "padding": null,
       "right": null,
       "top": null,
       "visibility": null,
       "width": null
      }
     },
     "963a94613f214020860862cfc762980a": {
      "model_module": "@jupyter-widgets/controls",
      "model_module_version": "1.5.0",
      "model_name": "HTMLModel",
      "state": {
       "_dom_classes": [],
       "_model_module": "@jupyter-widgets/controls",
       "_model_module_version": "1.5.0",
       "_model_name": "HTMLModel",
       "_view_count": null,
       "_view_module": "@jupyter-widgets/controls",
       "_view_module_version": "1.5.0",
       "_view_name": "HTMLView",
       "description": "",
       "description_tooltip": null,
       "layout": "IPY_MODEL_143e2c96b6ad45f292bd60f8db8ac9fc",
       "placeholder": "​",
       "style": "IPY_MODEL_c928c1dc9663490eab08123bc5cf1e77",
       "value": " 55000/55000 [00:00&lt;00:00, 251039.04it/s]"
      }
     },
     "9880c560484f46c28797d451a6f8c459": {
      "model_module": "@jupyter-widgets/controls",
      "model_module_version": "1.5.0",
      "model_name": "HTMLModel",
      "state": {
       "_dom_classes": [],
       "_model_module": "@jupyter-widgets/controls",
       "_model_module_version": "1.5.0",
       "_model_name": "HTMLModel",
       "_view_count": null,
       "_view_module": "@jupyter-widgets/controls",
       "_view_module_version": "1.5.0",
       "_view_name": "HTMLView",
       "description": "",
       "description_tooltip": null,
       "layout": "IPY_MODEL_fa496425175e493aa044de0cdcbb2793",
       "placeholder": "​",
       "style": "IPY_MODEL_bdf2992b92274659905dfedbb4a3c81c",
       "value": " 23708/23708 [00:00&lt;00:00, 104404.92it/s]"
      }
     },
     "a1f5d59bf8344d8ba66dd0c9206412ed": {
      "model_module": "@jupyter-widgets/controls",
      "model_module_version": "1.5.0",
      "model_name": "HBoxModel",
      "state": {
       "_dom_classes": [],
       "_model_module": "@jupyter-widgets/controls",
       "_model_module_version": "1.5.0",
       "_model_name": "HBoxModel",
       "_view_count": null,
       "_view_module": "@jupyter-widgets/controls",
       "_view_module_version": "1.5.0",
       "_view_name": "HBoxView",
       "box_style": "",
       "children": [
        "IPY_MODEL_c65a2ac593924bbbb5efd6f3673ff048",
        "IPY_MODEL_c46ee02a9af84069ae33e1a35200051e",
        "IPY_MODEL_9880c560484f46c28797d451a6f8c459"
       ],
       "layout": "IPY_MODEL_183a517395cc4ca289251308afc37062"
      }
     },
     "bdf2992b92274659905dfedbb4a3c81c": {
      "model_module": "@jupyter-widgets/controls",
      "model_module_version": "1.5.0",
      "model_name": "DescriptionStyleModel",
      "state": {
       "_model_module": "@jupyter-widgets/controls",
       "_model_module_version": "1.5.0",
       "_model_name": "DescriptionStyleModel",
       "_view_count": null,
       "_view_module": "@jupyter-widgets/base",
       "_view_module_version": "1.2.0",
       "_view_name": "StyleView",
       "description_width": ""
      }
     },
     "c46ee02a9af84069ae33e1a35200051e": {
      "model_module": "@jupyter-widgets/controls",
      "model_module_version": "1.5.0",
      "model_name": "FloatProgressModel",
      "state": {
       "_dom_classes": [],
       "_model_module": "@jupyter-widgets/controls",
       "_model_module_version": "1.5.0",
       "_model_name": "FloatProgressModel",
       "_view_count": null,
       "_view_module": "@jupyter-widgets/controls",
       "_view_module_version": "1.5.0",
       "_view_name": "ProgressView",
       "bar_style": "success",
       "description": "",
       "description_tooltip": null,
       "layout": "IPY_MODEL_77b291cbbe1f433fb9c3dad4596cea83",
       "max": 23708.0,
       "min": 0.0,
       "orientation": "horizontal",
       "style": "IPY_MODEL_2bdfaedaf0fd4e84bd066ad44b367ee8",
       "value": 23708.0
      }
     },
     "c65a2ac593924bbbb5efd6f3673ff048": {
      "model_module": "@jupyter-widgets/controls",
      "model_module_version": "1.5.0",
      "model_name": "HTMLModel",
      "state": {
       "_dom_classes": [],
       "_model_module": "@jupyter-widgets/controls",
       "_model_module_version": "1.5.0",
       "_model_name": "HTMLModel",
       "_view_count": null,
       "_view_module": "@jupyter-widgets/controls",
       "_view_module_version": "1.5.0",
       "_view_name": "HTMLView",
       "description": "",
       "description_tooltip": null,
       "layout": "IPY_MODEL_70f3c2897ade4f8cbc9f1e8d91e020fd",
       "placeholder": "​",
       "style": "IPY_MODEL_7cb7287476b9485f9a50b7a3735a6345",
       "value": "100%"
      }
     },
     "c928c1dc9663490eab08123bc5cf1e77": {
      "model_module": "@jupyter-widgets/controls",
      "model_module_version": "1.5.0",
      "model_name": "DescriptionStyleModel",
      "state": {
       "_model_module": "@jupyter-widgets/controls",
       "_model_module_version": "1.5.0",
       "_model_name": "DescriptionStyleModel",
       "_view_count": null,
       "_view_module": "@jupyter-widgets/base",
       "_view_module_version": "1.2.0",
       "_view_name": "StyleView",
       "description_width": ""
      }
     },
     "cadba6c3a2194a7983a55867870d9a74": {
      "model_module": "@jupyter-widgets/controls",
      "model_module_version": "1.5.0",
      "model_name": "ProgressStyleModel",
      "state": {
       "_model_module": "@jupyter-widgets/controls",
       "_model_module_version": "1.5.0",
       "_model_name": "ProgressStyleModel",
       "_view_count": null,
       "_view_module": "@jupyter-widgets/base",
       "_view_module_version": "1.2.0",
       "_view_name": "StyleView",
       "bar_color": null,
       "description_width": ""
      }
     },
     "fa496425175e493aa044de0cdcbb2793": {
      "model_module": "@jupyter-widgets/base",
      "model_module_version": "1.2.0",
      "model_name": "LayoutModel",
      "state": {
       "_model_module": "@jupyter-widgets/base",
       "_model_module_version": "1.2.0",
       "_model_name": "LayoutModel",
       "_view_count": null,
       "_view_module": "@jupyter-widgets/base",
       "_view_module_version": "1.2.0",
       "_view_name": "LayoutView",
       "align_content": null,
       "align_items": null,
       "align_self": null,
       "border": null,
       "bottom": null,
       "display": null,
       "flex": null,
       "flex_flow": null,
       "grid_area": null,
       "grid_auto_columns": null,
       "grid_auto_flow": null,
       "grid_auto_rows": null,
       "grid_column": null,
       "grid_gap": null,
       "grid_row": null,
       "grid_template_areas": null,
       "grid_template_columns": null,
       "grid_template_rows": null,
       "height": null,
       "justify_content": null,
       "justify_items": null,
       "left": null,
       "margin": null,
       "max_height": null,
       "max_width": null,
       "min_height": null,
       "min_width": null,
       "object_fit": null,
       "object_position": null,
       "order": null,
       "overflow": null,
       "overflow_x": null,
       "overflow_y": null,
       "padding": null,
       "right": null,
       "top": null,
       "visibility": null,
       "width": null
      }
     }
    },
    "version_major": 2,
    "version_minor": 0
   }
  }
 },
 "nbformat": 4,
 "nbformat_minor": 5
}
